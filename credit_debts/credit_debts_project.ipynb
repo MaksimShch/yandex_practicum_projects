{
 "cells": [
  {
   "cell_type": "markdown",
   "id": "c09975de",
   "metadata": {
    "deletable": false,
    "editable": false,
    "id": "c81daeeb"
   },
   "source": [
    "# Исследование надежности заемщиков\n"
   ]
  },
  {
   "cell_type": "markdown",
   "id": "056f91ce",
   "metadata": {},
   "source": [
    "**Цель исследования** - ответить на следующие вопросы заказчика (кредитный отдел банка):\n",
    "\n",
    "- Есть ли зависимость между количеством детей у клиента и возвратом кредита в срок?\n",
    "- Есть ли зависимость между семейным положением клиентом и возвратом кредита в срок?\n",
    "- Есть ли зависимость между уровнем дохода клиента и возвратом кредита в срок?\n",
    "- Как разные цели кредита влияют на его возврат в срок?"
   ]
  },
  {
   "cell_type": "markdown",
   "id": "a70d47c5",
   "metadata": {},
   "source": [
    "**Ход исследования:**\n",
    "\n",
    "Данные о клиентах необходимо получить из файла /datasets/data.csv. О качестве данных ничего не известно. Поэтому перед проверкой гипотез понадобится обзор данных.\n",
    "\n",
    "Необходимо проверить данные на ошибки и оцените их влияние на исследование. Затем, на этапе предобработки выполняется исправление самых критичных ошибок в данных, которые могут влиять на результат исследования.\n",
    "\n",
    "Таким образом, исследование пройдёт в три этапа:\n",
    "\n",
    "Обзор данных.\n",
    "Предобработка данных.\n",
    "Ответ на вопросы исследования."
   ]
  },
  {
   "cell_type": "markdown",
   "id": "04a7db11",
   "metadata": {
    "deletable": false,
    "editable": false,
    "id": "827c20bf"
   },
   "source": [
    "Во второй части проекта вы выполните шаги 3 и 4. Их вручную проверит ревьюер.\n",
    "Чтобы вам не пришлось писать код заново для шагов 1 и 2, мы добавили авторские решения в ячейки с кодом. \n",
    "\n"
   ]
  },
  {
   "cell_type": "markdown",
   "id": "6a4f22e9",
   "metadata": {
    "deletable": false,
    "editable": false,
    "id": "744d7639"
   },
   "source": [
    "## Откройте таблицу и изучите общую информацию о данных"
   ]
  },
  {
   "cell_type": "markdown",
   "id": "5f021630",
   "metadata": {
    "deletable": false,
    "editable": false,
    "id": "e7a14c31"
   },
   "source": [
    "**Задание 1. Импортируйте библиотеку pandas. Считайте данные из csv-файла в датафрейм и сохраните в переменную `data`. Путь к файлу:**\n",
    "\n",
    "`/datasets/data.csv`"
   ]
  },
  {
   "cell_type": "code",
   "execution_count": 1,
   "id": "6c4c23f2",
   "metadata": {
    "deletable": false,
    "id": "7bcf75c9"
   },
   "outputs": [],
   "source": [
    "import pandas as pd\n",
    "import matplotlib.pyplot as plt \n",
    "\n",
    "try:\n",
    "    data = pd.read_csv('/datasets/data.csv')\n",
    "except:\n",
    "    data = pd.read_csv('https://code.s3.yandex.net/datasets/data.csv')"
   ]
  },
  {
   "cell_type": "markdown",
   "id": "4bd687b0",
   "metadata": {
    "deletable": false,
    "editable": false,
    "id": "b8038fe3"
   },
   "source": [
    "**Задание 2. Выведите первые 20 строчек датафрейма `data` на экран.**"
   ]
  },
  {
   "cell_type": "code",
   "execution_count": 2,
   "id": "d2b62586",
   "metadata": {
    "deletable": false,
    "id": "2a7cab99",
    "outputId": "1a8f3ef2-d323-4ec2-ddf7-89670b5944c4",
    "scrolled": false
   },
   "outputs": [
    {
     "data": {
      "text/html": [
       "<div>\n",
       "<style scoped>\n",
       "    .dataframe tbody tr th:only-of-type {\n",
       "        vertical-align: middle;\n",
       "    }\n",
       "\n",
       "    .dataframe tbody tr th {\n",
       "        vertical-align: top;\n",
       "    }\n",
       "\n",
       "    .dataframe thead th {\n",
       "        text-align: right;\n",
       "    }\n",
       "</style>\n",
       "<table border=\"1\" class=\"dataframe\">\n",
       "  <thead>\n",
       "    <tr style=\"text-align: right;\">\n",
       "      <th></th>\n",
       "      <th>children</th>\n",
       "      <th>days_employed</th>\n",
       "      <th>dob_years</th>\n",
       "      <th>education</th>\n",
       "      <th>education_id</th>\n",
       "      <th>family_status</th>\n",
       "      <th>family_status_id</th>\n",
       "      <th>gender</th>\n",
       "      <th>income_type</th>\n",
       "      <th>debt</th>\n",
       "      <th>total_income</th>\n",
       "      <th>purpose</th>\n",
       "    </tr>\n",
       "  </thead>\n",
       "  <tbody>\n",
       "    <tr>\n",
       "      <th>0</th>\n",
       "      <td>1</td>\n",
       "      <td>-8437.673028</td>\n",
       "      <td>42</td>\n",
       "      <td>высшее</td>\n",
       "      <td>0</td>\n",
       "      <td>женат / замужем</td>\n",
       "      <td>0</td>\n",
       "      <td>F</td>\n",
       "      <td>сотрудник</td>\n",
       "      <td>0</td>\n",
       "      <td>253875.639453</td>\n",
       "      <td>покупка жилья</td>\n",
       "    </tr>\n",
       "    <tr>\n",
       "      <th>1</th>\n",
       "      <td>1</td>\n",
       "      <td>-4024.803754</td>\n",
       "      <td>36</td>\n",
       "      <td>среднее</td>\n",
       "      <td>1</td>\n",
       "      <td>женат / замужем</td>\n",
       "      <td>0</td>\n",
       "      <td>F</td>\n",
       "      <td>сотрудник</td>\n",
       "      <td>0</td>\n",
       "      <td>112080.014102</td>\n",
       "      <td>приобретение автомобиля</td>\n",
       "    </tr>\n",
       "    <tr>\n",
       "      <th>2</th>\n",
       "      <td>0</td>\n",
       "      <td>-5623.422610</td>\n",
       "      <td>33</td>\n",
       "      <td>Среднее</td>\n",
       "      <td>1</td>\n",
       "      <td>женат / замужем</td>\n",
       "      <td>0</td>\n",
       "      <td>M</td>\n",
       "      <td>сотрудник</td>\n",
       "      <td>0</td>\n",
       "      <td>145885.952297</td>\n",
       "      <td>покупка жилья</td>\n",
       "    </tr>\n",
       "    <tr>\n",
       "      <th>3</th>\n",
       "      <td>3</td>\n",
       "      <td>-4124.747207</td>\n",
       "      <td>32</td>\n",
       "      <td>среднее</td>\n",
       "      <td>1</td>\n",
       "      <td>женат / замужем</td>\n",
       "      <td>0</td>\n",
       "      <td>M</td>\n",
       "      <td>сотрудник</td>\n",
       "      <td>0</td>\n",
       "      <td>267628.550329</td>\n",
       "      <td>дополнительное образование</td>\n",
       "    </tr>\n",
       "    <tr>\n",
       "      <th>4</th>\n",
       "      <td>0</td>\n",
       "      <td>340266.072047</td>\n",
       "      <td>53</td>\n",
       "      <td>среднее</td>\n",
       "      <td>1</td>\n",
       "      <td>гражданский брак</td>\n",
       "      <td>1</td>\n",
       "      <td>F</td>\n",
       "      <td>пенсионер</td>\n",
       "      <td>0</td>\n",
       "      <td>158616.077870</td>\n",
       "      <td>сыграть свадьбу</td>\n",
       "    </tr>\n",
       "    <tr>\n",
       "      <th>5</th>\n",
       "      <td>0</td>\n",
       "      <td>-926.185831</td>\n",
       "      <td>27</td>\n",
       "      <td>высшее</td>\n",
       "      <td>0</td>\n",
       "      <td>гражданский брак</td>\n",
       "      <td>1</td>\n",
       "      <td>M</td>\n",
       "      <td>компаньон</td>\n",
       "      <td>0</td>\n",
       "      <td>255763.565419</td>\n",
       "      <td>покупка жилья</td>\n",
       "    </tr>\n",
       "    <tr>\n",
       "      <th>6</th>\n",
       "      <td>0</td>\n",
       "      <td>-2879.202052</td>\n",
       "      <td>43</td>\n",
       "      <td>высшее</td>\n",
       "      <td>0</td>\n",
       "      <td>женат / замужем</td>\n",
       "      <td>0</td>\n",
       "      <td>F</td>\n",
       "      <td>компаньон</td>\n",
       "      <td>0</td>\n",
       "      <td>240525.971920</td>\n",
       "      <td>операции с жильем</td>\n",
       "    </tr>\n",
       "    <tr>\n",
       "      <th>7</th>\n",
       "      <td>0</td>\n",
       "      <td>-152.779569</td>\n",
       "      <td>50</td>\n",
       "      <td>СРЕДНЕЕ</td>\n",
       "      <td>1</td>\n",
       "      <td>женат / замужем</td>\n",
       "      <td>0</td>\n",
       "      <td>M</td>\n",
       "      <td>сотрудник</td>\n",
       "      <td>0</td>\n",
       "      <td>135823.934197</td>\n",
       "      <td>образование</td>\n",
       "    </tr>\n",
       "    <tr>\n",
       "      <th>8</th>\n",
       "      <td>2</td>\n",
       "      <td>-6929.865299</td>\n",
       "      <td>35</td>\n",
       "      <td>ВЫСШЕЕ</td>\n",
       "      <td>0</td>\n",
       "      <td>гражданский брак</td>\n",
       "      <td>1</td>\n",
       "      <td>F</td>\n",
       "      <td>сотрудник</td>\n",
       "      <td>0</td>\n",
       "      <td>95856.832424</td>\n",
       "      <td>на проведение свадьбы</td>\n",
       "    </tr>\n",
       "    <tr>\n",
       "      <th>9</th>\n",
       "      <td>0</td>\n",
       "      <td>-2188.756445</td>\n",
       "      <td>41</td>\n",
       "      <td>среднее</td>\n",
       "      <td>1</td>\n",
       "      <td>женат / замужем</td>\n",
       "      <td>0</td>\n",
       "      <td>M</td>\n",
       "      <td>сотрудник</td>\n",
       "      <td>0</td>\n",
       "      <td>144425.938277</td>\n",
       "      <td>покупка жилья для семьи</td>\n",
       "    </tr>\n",
       "    <tr>\n",
       "      <th>10</th>\n",
       "      <td>2</td>\n",
       "      <td>-4171.483647</td>\n",
       "      <td>36</td>\n",
       "      <td>высшее</td>\n",
       "      <td>0</td>\n",
       "      <td>женат / замужем</td>\n",
       "      <td>0</td>\n",
       "      <td>M</td>\n",
       "      <td>компаньон</td>\n",
       "      <td>0</td>\n",
       "      <td>113943.491460</td>\n",
       "      <td>покупка недвижимости</td>\n",
       "    </tr>\n",
       "    <tr>\n",
       "      <th>11</th>\n",
       "      <td>0</td>\n",
       "      <td>-792.701887</td>\n",
       "      <td>40</td>\n",
       "      <td>среднее</td>\n",
       "      <td>1</td>\n",
       "      <td>женат / замужем</td>\n",
       "      <td>0</td>\n",
       "      <td>F</td>\n",
       "      <td>сотрудник</td>\n",
       "      <td>0</td>\n",
       "      <td>77069.234271</td>\n",
       "      <td>покупка коммерческой недвижимости</td>\n",
       "    </tr>\n",
       "    <tr>\n",
       "      <th>12</th>\n",
       "      <td>0</td>\n",
       "      <td>NaN</td>\n",
       "      <td>65</td>\n",
       "      <td>среднее</td>\n",
       "      <td>1</td>\n",
       "      <td>гражданский брак</td>\n",
       "      <td>1</td>\n",
       "      <td>M</td>\n",
       "      <td>пенсионер</td>\n",
       "      <td>0</td>\n",
       "      <td>NaN</td>\n",
       "      <td>сыграть свадьбу</td>\n",
       "    </tr>\n",
       "    <tr>\n",
       "      <th>13</th>\n",
       "      <td>0</td>\n",
       "      <td>-1846.641941</td>\n",
       "      <td>54</td>\n",
       "      <td>неоконченное высшее</td>\n",
       "      <td>2</td>\n",
       "      <td>женат / замужем</td>\n",
       "      <td>0</td>\n",
       "      <td>F</td>\n",
       "      <td>сотрудник</td>\n",
       "      <td>0</td>\n",
       "      <td>130458.228857</td>\n",
       "      <td>приобретение автомобиля</td>\n",
       "    </tr>\n",
       "    <tr>\n",
       "      <th>14</th>\n",
       "      <td>0</td>\n",
       "      <td>-1844.956182</td>\n",
       "      <td>56</td>\n",
       "      <td>высшее</td>\n",
       "      <td>0</td>\n",
       "      <td>гражданский брак</td>\n",
       "      <td>1</td>\n",
       "      <td>F</td>\n",
       "      <td>компаньон</td>\n",
       "      <td>1</td>\n",
       "      <td>165127.911772</td>\n",
       "      <td>покупка жилой недвижимости</td>\n",
       "    </tr>\n",
       "    <tr>\n",
       "      <th>15</th>\n",
       "      <td>1</td>\n",
       "      <td>-972.364419</td>\n",
       "      <td>26</td>\n",
       "      <td>среднее</td>\n",
       "      <td>1</td>\n",
       "      <td>женат / замужем</td>\n",
       "      <td>0</td>\n",
       "      <td>F</td>\n",
       "      <td>сотрудник</td>\n",
       "      <td>0</td>\n",
       "      <td>116820.904450</td>\n",
       "      <td>строительство собственной недвижимости</td>\n",
       "    </tr>\n",
       "    <tr>\n",
       "      <th>16</th>\n",
       "      <td>0</td>\n",
       "      <td>-1719.934226</td>\n",
       "      <td>35</td>\n",
       "      <td>среднее</td>\n",
       "      <td>1</td>\n",
       "      <td>женат / замужем</td>\n",
       "      <td>0</td>\n",
       "      <td>F</td>\n",
       "      <td>сотрудник</td>\n",
       "      <td>0</td>\n",
       "      <td>289202.704229</td>\n",
       "      <td>недвижимость</td>\n",
       "    </tr>\n",
       "    <tr>\n",
       "      <th>17</th>\n",
       "      <td>0</td>\n",
       "      <td>-2369.999720</td>\n",
       "      <td>33</td>\n",
       "      <td>высшее</td>\n",
       "      <td>0</td>\n",
       "      <td>гражданский брак</td>\n",
       "      <td>1</td>\n",
       "      <td>M</td>\n",
       "      <td>сотрудник</td>\n",
       "      <td>0</td>\n",
       "      <td>90410.586745</td>\n",
       "      <td>строительство недвижимости</td>\n",
       "    </tr>\n",
       "    <tr>\n",
       "      <th>18</th>\n",
       "      <td>0</td>\n",
       "      <td>400281.136913</td>\n",
       "      <td>53</td>\n",
       "      <td>среднее</td>\n",
       "      <td>1</td>\n",
       "      <td>вдовец / вдова</td>\n",
       "      <td>2</td>\n",
       "      <td>F</td>\n",
       "      <td>пенсионер</td>\n",
       "      <td>0</td>\n",
       "      <td>56823.777243</td>\n",
       "      <td>на покупку подержанного автомобиля</td>\n",
       "    </tr>\n",
       "    <tr>\n",
       "      <th>19</th>\n",
       "      <td>0</td>\n",
       "      <td>-10038.818549</td>\n",
       "      <td>48</td>\n",
       "      <td>СРЕДНЕЕ</td>\n",
       "      <td>1</td>\n",
       "      <td>в разводе</td>\n",
       "      <td>3</td>\n",
       "      <td>F</td>\n",
       "      <td>сотрудник</td>\n",
       "      <td>0</td>\n",
       "      <td>242831.107982</td>\n",
       "      <td>на покупку своего автомобиля</td>\n",
       "    </tr>\n",
       "  </tbody>\n",
       "</table>\n",
       "</div>"
      ],
      "text/plain": [
       "    children  days_employed  dob_years            education  education_id  \\\n",
       "0          1   -8437.673028         42               высшее             0   \n",
       "1          1   -4024.803754         36              среднее             1   \n",
       "2          0   -5623.422610         33              Среднее             1   \n",
       "3          3   -4124.747207         32              среднее             1   \n",
       "4          0  340266.072047         53              среднее             1   \n",
       "5          0    -926.185831         27               высшее             0   \n",
       "6          0   -2879.202052         43               высшее             0   \n",
       "7          0    -152.779569         50              СРЕДНЕЕ             1   \n",
       "8          2   -6929.865299         35               ВЫСШЕЕ             0   \n",
       "9          0   -2188.756445         41              среднее             1   \n",
       "10         2   -4171.483647         36               высшее             0   \n",
       "11         0    -792.701887         40              среднее             1   \n",
       "12         0            NaN         65              среднее             1   \n",
       "13         0   -1846.641941         54  неоконченное высшее             2   \n",
       "14         0   -1844.956182         56               высшее             0   \n",
       "15         1    -972.364419         26              среднее             1   \n",
       "16         0   -1719.934226         35              среднее             1   \n",
       "17         0   -2369.999720         33               высшее             0   \n",
       "18         0  400281.136913         53              среднее             1   \n",
       "19         0  -10038.818549         48              СРЕДНЕЕ             1   \n",
       "\n",
       "       family_status  family_status_id gender income_type  debt  \\\n",
       "0    женат / замужем                 0      F   сотрудник     0   \n",
       "1    женат / замужем                 0      F   сотрудник     0   \n",
       "2    женат / замужем                 0      M   сотрудник     0   \n",
       "3    женат / замужем                 0      M   сотрудник     0   \n",
       "4   гражданский брак                 1      F   пенсионер     0   \n",
       "5   гражданский брак                 1      M   компаньон     0   \n",
       "6    женат / замужем                 0      F   компаньон     0   \n",
       "7    женат / замужем                 0      M   сотрудник     0   \n",
       "8   гражданский брак                 1      F   сотрудник     0   \n",
       "9    женат / замужем                 0      M   сотрудник     0   \n",
       "10   женат / замужем                 0      M   компаньон     0   \n",
       "11   женат / замужем                 0      F   сотрудник     0   \n",
       "12  гражданский брак                 1      M   пенсионер     0   \n",
       "13   женат / замужем                 0      F   сотрудник     0   \n",
       "14  гражданский брак                 1      F   компаньон     1   \n",
       "15   женат / замужем                 0      F   сотрудник     0   \n",
       "16   женат / замужем                 0      F   сотрудник     0   \n",
       "17  гражданский брак                 1      M   сотрудник     0   \n",
       "18    вдовец / вдова                 2      F   пенсионер     0   \n",
       "19         в разводе                 3      F   сотрудник     0   \n",
       "\n",
       "     total_income                                 purpose  \n",
       "0   253875.639453                           покупка жилья  \n",
       "1   112080.014102                 приобретение автомобиля  \n",
       "2   145885.952297                           покупка жилья  \n",
       "3   267628.550329              дополнительное образование  \n",
       "4   158616.077870                         сыграть свадьбу  \n",
       "5   255763.565419                           покупка жилья  \n",
       "6   240525.971920                       операции с жильем  \n",
       "7   135823.934197                             образование  \n",
       "8    95856.832424                   на проведение свадьбы  \n",
       "9   144425.938277                 покупка жилья для семьи  \n",
       "10  113943.491460                    покупка недвижимости  \n",
       "11   77069.234271       покупка коммерческой недвижимости  \n",
       "12            NaN                         сыграть свадьбу  \n",
       "13  130458.228857                 приобретение автомобиля  \n",
       "14  165127.911772              покупка жилой недвижимости  \n",
       "15  116820.904450  строительство собственной недвижимости  \n",
       "16  289202.704229                            недвижимость  \n",
       "17   90410.586745              строительство недвижимости  \n",
       "18   56823.777243      на покупку подержанного автомобиля  \n",
       "19  242831.107982            на покупку своего автомобиля  "
      ]
     },
     "execution_count": 2,
     "metadata": {},
     "output_type": "execute_result"
    }
   ],
   "source": [
    "data.head(20)"
   ]
  },
  {
   "cell_type": "markdown",
   "id": "4fe935dc",
   "metadata": {
    "deletable": false,
    "editable": false,
    "id": "1c12e233"
   },
   "source": [
    "**Задание 3. Выведите основную информацию о датафрейме с помощью метода `info()`.**"
   ]
  },
  {
   "cell_type": "code",
   "execution_count": 3,
   "id": "1a136eac",
   "metadata": {
    "deletable": false,
    "id": "2b757bca",
    "outputId": "15376089-8dad-46c9-b520-c05248d43158"
   },
   "outputs": [
    {
     "name": "stdout",
     "output_type": "stream",
     "text": [
      "<class 'pandas.core.frame.DataFrame'>\n",
      "RangeIndex: 21525 entries, 0 to 21524\n",
      "Data columns (total 12 columns):\n",
      " #   Column            Non-Null Count  Dtype  \n",
      "---  ------            --------------  -----  \n",
      " 0   children          21525 non-null  int64  \n",
      " 1   days_employed     19351 non-null  float64\n",
      " 2   dob_years         21525 non-null  int64  \n",
      " 3   education         21525 non-null  object \n",
      " 4   education_id      21525 non-null  int64  \n",
      " 5   family_status     21525 non-null  object \n",
      " 6   family_status_id  21525 non-null  int64  \n",
      " 7   gender            21525 non-null  object \n",
      " 8   income_type       21525 non-null  object \n",
      " 9   debt              21525 non-null  int64  \n",
      " 10  total_income      19351 non-null  float64\n",
      " 11  purpose           21525 non-null  object \n",
      "dtypes: float64(2), int64(5), object(5)\n",
      "memory usage: 2.0+ MB\n"
     ]
    }
   ],
   "source": [
    "data.info()"
   ]
  },
  {
   "cell_type": "markdown",
   "id": "28e77ef1",
   "metadata": {
    "deletable": false,
    "editable": false,
    "id": "333ec665"
   },
   "source": [
    "## Предобработка данных"
   ]
  },
  {
   "cell_type": "markdown",
   "id": "601d85dc",
   "metadata": {
    "deletable": false,
    "editable": false,
    "id": "02d92d53"
   },
   "source": [
    "### Удаление пропусков"
   ]
  },
  {
   "cell_type": "markdown",
   "id": "3906ef4f",
   "metadata": {
    "deletable": false,
    "editable": false,
    "id": "cd84967c"
   },
   "source": [
    "**Задание 4. Выведите количество пропущенных значений для каждого столбца. Используйте комбинацию двух методов.**"
   ]
  },
  {
   "cell_type": "code",
   "execution_count": 4,
   "id": "57e98668",
   "metadata": {
    "deletable": false,
    "id": "7f9b2309",
    "outputId": "81f4d817-781c-465c-ed15-91ce4446810d"
   },
   "outputs": [
    {
     "data": {
      "text/plain": [
       "children               0\n",
       "days_employed       2174\n",
       "dob_years              0\n",
       "education              0\n",
       "education_id           0\n",
       "family_status          0\n",
       "family_status_id       0\n",
       "gender                 0\n",
       "income_type            0\n",
       "debt                   0\n",
       "total_income        2174\n",
       "purpose                0\n",
       "dtype: int64"
      ]
     },
     "execution_count": 4,
     "metadata": {},
     "output_type": "execute_result"
    }
   ],
   "source": [
    "data.isna().sum()"
   ]
  },
  {
   "cell_type": "markdown",
   "id": "eeb4ee4e",
   "metadata": {
    "deletable": false,
    "editable": false,
    "id": "db86e27b"
   },
   "source": [
    "**Задание 5. В двух столбцах есть пропущенные значения. Один из них — `days_employed`. Пропуски в этом столбце вы обработаете на следующем этапе. Другой столбец с пропущенными значениями — `total_income` — хранит данные о доходах. На сумму дохода сильнее всего влияет тип занятости, поэтому заполнить пропуски в этом столбце нужно медианным значением по каждому типу из столбца `income_type`. Например, у человека с типом занятости `сотрудник` пропуск в столбце `total_income` должен быть заполнен медианным доходом среди всех записей с тем же типом.**"
   ]
  },
  {
   "cell_type": "code",
   "execution_count": 5,
   "id": "d0672e1c",
   "metadata": {
    "deletable": false,
    "id": "42006a93"
   },
   "outputs": [],
   "source": [
    "for t in data['income_type'].unique():\n",
    "    data.loc[(data['income_type'] == t) & (data['total_income'].isna()), 'total_income'] = \\\n",
    "    data.loc[(data['income_type'] == t), 'total_income'].median()"
   ]
  },
  {
   "cell_type": "markdown",
   "id": "6a8395f6",
   "metadata": {
    "deletable": false,
    "editable": false,
    "id": "89da5ece"
   },
   "source": [
    "### Обработка аномальных значений"
   ]
  },
  {
   "cell_type": "markdown",
   "id": "b3032dc6",
   "metadata": {
    "deletable": false,
    "editable": false,
    "id": "57964554"
   },
   "source": [
    "**Задание 6. В данных могут встречаться артефакты (аномалии) — значения, которые не отражают действительность и появились по какой-то ошибке. таким артефактом будет отрицательное количество дней трудового стажа в столбце `days_employed`. Для реальных данных это нормально. Обработайте значения в этом столбце: замените все отрицательные значения положительными с помощью метода `abs()`.**"
   ]
  },
  {
   "cell_type": "code",
   "execution_count": 6,
   "id": "656154cd",
   "metadata": {
    "deletable": false,
    "id": "f6f055bf"
   },
   "outputs": [],
   "source": [
    "data['days_employed'] = data['days_employed'].abs()"
   ]
  },
  {
   "cell_type": "markdown",
   "id": "ec296e5b",
   "metadata": {
    "deletable": false,
    "editable": false,
    "id": "6107dd2f"
   },
   "source": [
    "**Задание 7. Для каждого типа занятости выведите медианное значение трудового стажа `days_employed` в днях.**"
   ]
  },
  {
   "cell_type": "code",
   "execution_count": 7,
   "id": "712540a3",
   "metadata": {
    "deletable": false,
    "id": "85a5faf6",
    "outputId": "801ef80e-522b-4668-f34e-565af7432bcf"
   },
   "outputs": [
    {
     "data": {
      "text/plain": [
       "income_type\n",
       "безработный        366413.652744\n",
       "в декрете            3296.759962\n",
       "госслужащий          2689.368353\n",
       "компаньон            1547.382223\n",
       "пенсионер          365213.306266\n",
       "предприниматель       520.848083\n",
       "сотрудник            1574.202821\n",
       "студент               578.751554\n",
       "Name: days_employed, dtype: float64"
      ]
     },
     "execution_count": 7,
     "metadata": {},
     "output_type": "execute_result"
    }
   ],
   "source": [
    "data.groupby('income_type')['days_employed'].agg('median')"
   ]
  },
  {
   "cell_type": "markdown",
   "id": "c9da4126",
   "metadata": {
    "deletable": false,
    "editable": false,
    "id": "38d1a030"
   },
   "source": [
    "У двух типов (безработные и пенсионеры) получатся аномально большие значения. Исправить такие значения сложно, поэтому оставьте их как есть. Тем более этот столбец не понадобится вам для исследования."
   ]
  },
  {
   "cell_type": "markdown",
   "id": "c8ab344d",
   "metadata": {
    "deletable": false,
    "editable": false,
    "id": "d8a9f147"
   },
   "source": [
    "**Задание 8. Выведите перечень уникальных значений столбца `children`.**"
   ]
  },
  {
   "cell_type": "code",
   "execution_count": 8,
   "id": "877b2ce2",
   "metadata": {
    "deletable": false,
    "id": "ef5056eb",
    "outputId": "6975b15c-7f95-4697-d16d-a0c79b657b03"
   },
   "outputs": [
    {
     "data": {
      "text/plain": [
       "array([ 1,  0,  3,  2, -1,  4, 20,  5])"
      ]
     },
     "execution_count": 8,
     "metadata": {},
     "output_type": "execute_result"
    }
   ],
   "source": [
    "data['children'].unique()"
   ]
  },
  {
   "cell_type": "markdown",
   "id": "c575c0ba",
   "metadata": {
    "deletable": false,
    "editable": false,
    "id": "40b9ebf2"
   },
   "source": [
    "**Задание 9. В столбце `children` есть два аномальных значения. Удалите строки, в которых встречаются такие аномальные значения из датафрейма `data`.**"
   ]
  },
  {
   "cell_type": "code",
   "execution_count": 9,
   "id": "d001de19",
   "metadata": {
    "deletable": false,
    "id": "3ff9801d"
   },
   "outputs": [],
   "source": [
    "data = data[(data['children'] != -1) & (data['children'] != 20)]"
   ]
  },
  {
   "cell_type": "markdown",
   "id": "8073e6c1",
   "metadata": {
    "deletable": false,
    "editable": false,
    "id": "bbc4d0ce"
   },
   "source": [
    "**Задание 10. Ещё раз выведите перечень уникальных значений столбца `children`, чтобы убедиться, что артефакты удалены.**"
   ]
  },
  {
   "cell_type": "code",
   "execution_count": 10,
   "id": "a34d716a",
   "metadata": {
    "deletable": false,
    "id": "ad4fa8b7",
    "outputId": "b2097101-d49d-44d9-901b-32a65c9463d1"
   },
   "outputs": [
    {
     "data": {
      "text/plain": [
       "array([1, 0, 3, 2, 4, 5])"
      ]
     },
     "execution_count": 10,
     "metadata": {},
     "output_type": "execute_result"
    }
   ],
   "source": [
    "data['children'].unique()"
   ]
  },
  {
   "cell_type": "markdown",
   "id": "12a5783f",
   "metadata": {
    "deletable": false,
    "editable": false,
    "id": "75440b63"
   },
   "source": [
    "### Удаление пропусков (продолжение)"
   ]
  },
  {
   "cell_type": "markdown",
   "id": "eefd0e67",
   "metadata": {
    "deletable": false,
    "editable": false,
    "id": "f4ea573f"
   },
   "source": [
    "**Задание 11. Заполните пропуски в столбце `days_employed` медианными значениями по каждого типа занятости `income_type`.**"
   ]
  },
  {
   "cell_type": "code",
   "execution_count": 11,
   "id": "eca5a230",
   "metadata": {
    "deletable": false,
    "id": "af6b1a7e"
   },
   "outputs": [],
   "source": [
    "for t in data['income_type'].unique():\n",
    "    data.loc[(data['income_type'] == t) & (data['days_employed'].isna()), 'days_employed'] = \\\n",
    "    data.loc[(data['income_type'] == t), 'days_employed'].median()"
   ]
  },
  {
   "cell_type": "markdown",
   "id": "38f37cf6",
   "metadata": {
    "deletable": false,
    "editable": false,
    "id": "2753f40d"
   },
   "source": [
    "**Задание 12. Убедитесь, что все пропуски заполнены. Проверьте себя и ещё раз выведите количество пропущенных значений для каждого столбца с помощью двух методов.**"
   ]
  },
  {
   "cell_type": "code",
   "execution_count": 12,
   "id": "12841100",
   "metadata": {
    "deletable": false,
    "id": "55f78bc2",
    "outputId": "8da1e4e1-358e-4e87-98c9-f261bce0a7b2"
   },
   "outputs": [
    {
     "data": {
      "text/plain": [
       "children            0\n",
       "days_employed       0\n",
       "dob_years           0\n",
       "education           0\n",
       "education_id        0\n",
       "family_status       0\n",
       "family_status_id    0\n",
       "gender              0\n",
       "income_type         0\n",
       "debt                0\n",
       "total_income        0\n",
       "purpose             0\n",
       "dtype: int64"
      ]
     },
     "execution_count": 12,
     "metadata": {},
     "output_type": "execute_result"
    }
   ],
   "source": [
    "data.isna().sum()"
   ]
  },
  {
   "cell_type": "markdown",
   "id": "fd9b8158",
   "metadata": {
    "deletable": false,
    "editable": false,
    "id": "ddc81e43"
   },
   "source": [
    "### Изменение типов данных"
   ]
  },
  {
   "cell_type": "markdown",
   "id": "f6445ca0",
   "metadata": {
    "deletable": false,
    "editable": false,
    "id": "42d19d24"
   },
   "source": [
    "**Задание 13. Замените вещественный тип данных в столбце `total_income` на целочисленный с помощью метода `astype()`.**"
   ]
  },
  {
   "cell_type": "code",
   "execution_count": 13,
   "id": "4da914c0",
   "metadata": {
    "deletable": false,
    "id": "920b65ad"
   },
   "outputs": [],
   "source": [
    "data['total_income'] = data['total_income'].astype(int)"
   ]
  },
  {
   "cell_type": "markdown",
   "id": "da0e1360",
   "metadata": {
    "deletable": false,
    "editable": false,
    "id": "80c420ba"
   },
   "source": [
    "### Обработка дубликатов"
   ]
  },
  {
   "cell_type": "markdown",
   "id": "c0ceca88",
   "metadata": {
    "deletable": false,
    "editable": false
   },
   "source": [
    "**Задание 14. Обработайте неявные дубликаты в столбце `education`. В этом столбце есть одни и те же значения, но записанные по-разному: с использованием заглавных и строчных букв. Приведите их к нижнему регистру. Проверьте остальные столбцы.**"
   ]
  },
  {
   "cell_type": "code",
   "execution_count": 14,
   "id": "fdb651e3",
   "metadata": {
    "deletable": false
   },
   "outputs": [],
   "source": [
    "data['education'] = data['education'].str.lower()"
   ]
  },
  {
   "cell_type": "markdown",
   "id": "73bd32d1",
   "metadata": {
    "deletable": false,
    "editable": false,
    "id": "dc587695"
   },
   "source": [
    "**Задание 15. Выведите на экран количество строк-дубликатов в данных. Если такие строки присутствуют, удалите их.**"
   ]
  },
  {
   "cell_type": "code",
   "execution_count": 15,
   "id": "ea589078",
   "metadata": {
    "deletable": false,
    "id": "3ee445e4",
    "outputId": "9684deba-1934-42d1-99e1-cda61740f822"
   },
   "outputs": [
    {
     "data": {
      "text/plain": [
       "71"
      ]
     },
     "execution_count": 15,
     "metadata": {},
     "output_type": "execute_result"
    }
   ],
   "source": [
    "data.duplicated().sum()"
   ]
  },
  {
   "cell_type": "code",
   "execution_count": 16,
   "id": "49816750",
   "metadata": {
    "deletable": false,
    "id": "8575fe05"
   },
   "outputs": [],
   "source": [
    "data = data.drop_duplicates()"
   ]
  },
  {
   "cell_type": "markdown",
   "id": "7114aba0",
   "metadata": {
    "deletable": false,
    "editable": false,
    "id": "9904cf55"
   },
   "source": [
    "### Категоризация данных"
   ]
  },
  {
   "cell_type": "markdown",
   "id": "1a54d44c",
   "metadata": {
    "deletable": false,
    "editable": false,
    "id": "72fcc8a2"
   },
   "source": [
    "**Задание 16. На основании диапазонов, указанных ниже, создайте в датафрейме `data` столбец `total_income_category` с категориями:**\n",
    "\n",
    "- 0–30000 — `'E'`;\n",
    "- 30001–50000 — `'D'`;\n",
    "- 50001–200000 — `'C'`;\n",
    "- 200001–1000000 — `'B'`;\n",
    "- 1000001 и выше — `'A'`.\n",
    "\n",
    "\n",
    "**Например, кредитополучателю с доходом 25000 нужно назначить категорию `'E'`, а клиенту, получающему 235000, — `'B'`. Используйте собственную функцию с именем `categorize_income()` и метод `apply()`.**"
   ]
  },
  {
   "cell_type": "code",
   "execution_count": 17,
   "id": "20098fcd",
   "metadata": {
    "deletable": false,
    "id": "e1771346"
   },
   "outputs": [],
   "source": [
    "def categorize_income(income):\n",
    "    try:\n",
    "        if 0 <= income <= 30000:\n",
    "            return 'E'\n",
    "        elif 30001 <= income <= 50000:\n",
    "            return 'D'\n",
    "        elif 50001 <= income <= 200000:\n",
    "            return 'C'\n",
    "        elif 200001 <= income <= 1000000:\n",
    "            return 'B'\n",
    "        elif income >= 1000001:\n",
    "            return 'A'\n",
    "    except:\n",
    "        pass"
   ]
  },
  {
   "cell_type": "code",
   "execution_count": 18,
   "id": "245df558",
   "metadata": {
    "deletable": false,
    "id": "d5f3586d"
   },
   "outputs": [],
   "source": [
    "data['total_income_category'] = data['total_income'].apply(categorize_income)"
   ]
  },
  {
   "cell_type": "markdown",
   "id": "685f1e7a",
   "metadata": {
    "deletable": false,
    "editable": false,
    "id": "dde49b5c"
   },
   "source": [
    "**Задание 17. Выведите на экран перечень уникальных целей взятия кредита из столбца `purpose`.**"
   ]
  },
  {
   "cell_type": "code",
   "execution_count": 19,
   "id": "8482dc27",
   "metadata": {
    "deletable": false,
    "id": "f67ce9b3",
    "outputId": "673c12d9-7d7e-4ae0-9812-c622c89dd244"
   },
   "outputs": [
    {
     "data": {
      "text/plain": [
       "array(['покупка жилья', 'приобретение автомобиля',\n",
       "       'дополнительное образование', 'сыграть свадьбу',\n",
       "       'операции с жильем', 'образование', 'на проведение свадьбы',\n",
       "       'покупка жилья для семьи', 'покупка недвижимости',\n",
       "       'покупка коммерческой недвижимости', 'покупка жилой недвижимости',\n",
       "       'строительство собственной недвижимости', 'недвижимость',\n",
       "       'строительство недвижимости', 'на покупку подержанного автомобиля',\n",
       "       'на покупку своего автомобиля',\n",
       "       'операции с коммерческой недвижимостью',\n",
       "       'строительство жилой недвижимости', 'жилье',\n",
       "       'операции со своей недвижимостью', 'автомобили',\n",
       "       'заняться образованием', 'сделка с подержанным автомобилем',\n",
       "       'получение образования', 'автомобиль', 'свадьба',\n",
       "       'получение дополнительного образования', 'покупка своего жилья',\n",
       "       'операции с недвижимостью', 'получение высшего образования',\n",
       "       'свой автомобиль', 'сделка с автомобилем',\n",
       "       'профильное образование', 'высшее образование',\n",
       "       'покупка жилья для сдачи', 'на покупку автомобиля', 'ремонт жилью',\n",
       "       'заняться высшим образованием'], dtype=object)"
      ]
     },
     "execution_count": 19,
     "metadata": {},
     "output_type": "execute_result"
    }
   ],
   "source": [
    "data['purpose'].unique()"
   ]
  },
  {
   "cell_type": "markdown",
   "id": "ae37e58e",
   "metadata": {
    "deletable": false,
    "editable": false,
    "id": "85d0aef0"
   },
   "source": [
    "**Задание 18. Создайте функцию, которая на основании данных из столбца `purpose` сформирует новый столбец `purpose_category`, в который войдут следующие категории:**\n",
    "\n",
    "- `'операции с автомобилем'`,\n",
    "- `'операции с недвижимостью'`,\n",
    "- `'проведение свадьбы'`,\n",
    "- `'получение образования'`.\n",
    "\n",
    "**Например, если в столбце `purpose` находится подстрока `'на покупку автомобиля'`, то в столбце `purpose_category` должна появиться строка `'операции с автомобилем'`.**\n",
    "\n",
    "**Используйте собственную функцию с именем `categorize_purpose()` и метод `apply()`. Изучите данные в столбце `purpose` и определите, какие подстроки помогут вам правильно определить категорию.**"
   ]
  },
  {
   "cell_type": "code",
   "execution_count": 20,
   "id": "88f4a0ae",
   "metadata": {
    "deletable": false,
    "id": "e149fab4"
   },
   "outputs": [],
   "source": [
    "def categorize_purpose(row):\n",
    "    try:\n",
    "        if 'автом' in row:\n",
    "            return 'операции с автомобилем'\n",
    "        elif 'жил' in row or 'недвиж' in row:\n",
    "            return 'операции с недвижимостью'\n",
    "        elif 'свад' in row:\n",
    "            return 'проведение свадьбы'\n",
    "        elif 'образов' in row:\n",
    "            return 'получение образования'\n",
    "    except:\n",
    "        return 'нет категории'"
   ]
  },
  {
   "cell_type": "code",
   "execution_count": 21,
   "id": "994ed7c2",
   "metadata": {
    "deletable": false,
    "id": "bf36e69b"
   },
   "outputs": [],
   "source": [
    "data['purpose_category'] = data['purpose'].apply(categorize_purpose)"
   ]
  },
  {
   "cell_type": "markdown",
   "id": "a9b0da93",
   "metadata": {},
   "source": [
    "---"
   ]
  },
  {
   "cell_type": "markdown",
   "id": "789e1b0f",
   "metadata": {
    "deletable": false,
    "editable": false,
    "id": "09b242bf"
   },
   "source": [
    "### Шаг 3. Исследуйте данные и ответьте на вопросы"
   ]
  },
  {
   "cell_type": "markdown",
   "id": "9c0eac5f",
   "metadata": {
    "deletable": false,
    "editable": false,
    "id": "c5d66278"
   },
   "source": [
    "#### 3.1 Есть ли зависимость между количеством детей и возвратом кредита в срок?"
   ]
  },
  {
   "cell_type": "markdown",
   "id": "92af5d0f",
   "metadata": {},
   "source": [
    "**Для начала посмотрим на количество кредитов с задолженностью в зависимости от количества детей.**"
   ]
  },
  {
   "cell_type": "code",
   "execution_count": 22,
   "id": "24e650cc",
   "metadata": {},
   "outputs": [
    {
     "data": {
      "text/plain": [
       "children\n",
       "0    1063\n",
       "1     444\n",
       "2     194\n",
       "3      27\n",
       "4       4\n",
       "5       0\n",
       "Name: debt, dtype: int64"
      ]
     },
     "execution_count": 22,
     "metadata": {},
     "output_type": "execute_result"
    }
   ],
   "source": [
    "data.groupby('children')['debt'].sum().sort_values(ascending=False)"
   ]
  },
  {
   "cell_type": "markdown",
   "id": "f80e0d5d",
   "metadata": {},
   "source": [
    "**На первый взгляд может показаться, что зависимость есть, и она очевидна - чем больше детей, тем реже клиенты допускают образование задолженности по кредиту. Однако, стоит также учитывать общее количество кредитов в каждой категории.**"
   ]
  },
  {
   "cell_type": "code",
   "execution_count": 23,
   "id": "f3e95bba",
   "metadata": {},
   "outputs": [
    {
     "data": {
      "text/plain": [
       "children\n",
       "0    14091\n",
       "1     4808\n",
       "2     2052\n",
       "3      330\n",
       "4       41\n",
       "5        9\n",
       "Name: debt, dtype: int64"
      ]
     },
     "execution_count": 23,
     "metadata": {},
     "output_type": "execute_result"
    }
   ],
   "source": [
    "data.groupby('children')['debt'].count().sort_values(ascending=False)"
   ]
  },
  {
   "cell_type": "markdown",
   "id": "9695daf5",
   "metadata": {},
   "source": [
    "**Мы видим, что клиенты без детей берут кредиты гораздо чаще. Возможно, именно с этим и связано большее число задолженностей, чем у клиентов с детьми. \n",
    "Рассчитаем отношение числа кредитов с задолженностью к общему числу кредитов.**"
   ]
  },
  {
   "cell_type": "code",
   "execution_count": 24,
   "id": "4d603c49",
   "metadata": {
    "deletable": false,
    "id": "2cacfc4a",
    "scrolled": false
   },
   "outputs": [
    {
     "data": {
      "text/plain": [
       "children\n",
       "4    9.756098\n",
       "2    9.454191\n",
       "1    9.234609\n",
       "3    8.181818\n",
       "0    7.543822\n",
       "5    0.000000\n",
       "Name: debt, dtype: float64"
      ]
     },
     "execution_count": 24,
     "metadata": {},
     "output_type": "execute_result"
    }
   ],
   "source": [
    "ratio = data.groupby('children')['debt'].sum() / data.groupby('children')['debt'].count() * 100\n",
    "ratio.sort_values(ascending=False)"
   ]
  },
  {
   "cell_type": "markdown",
   "id": "268b5ba9",
   "metadata": {},
   "source": [
    "**Картина изменилась. Теперь видно, что чаще всего задолженность допускают клиенты с 1,2 и 4 детьми.**"
   ]
  },
  {
   "cell_type": "markdown",
   "id": "5222259b",
   "metadata": {},
   "source": [
    "**Для наглядности построим график:**\n",
    "- По оси х - категории по количеству детей (0,1,..,5),\n",
    "- по оси y - соответствующие каждой категории отношения кредитов с задолженностью к общему числу кредитов."
   ]
  },
  {
   "cell_type": "code",
   "execution_count": 25,
   "id": "7aaccfad",
   "metadata": {},
   "outputs": [
    {
     "data": {
      "image/png": "[encoded data removed]",
      "text/plain": [
       "<Figure size 432x288 with 1 Axes>"
      ]
     },
     "metadata": {
      "needs_background": "light"
     },
     "output_type": "display_data"
    }
   ],
   "source": [
    "plot = ratio.plot.bar(title = 'Связь между количеством детей и задолженностью по кредиту', rot=0)\n",
    "plot.set_xlabel('Количество детей')\n",
    "plot.set_ylabel('Процент просроченных кредитов')\n",
    "\n",
    "plt.show()"
   ]
  },
  {
   "cell_type": "markdown",
   "id": "3f892597",
   "metadata": {},
   "source": [
    "**Также выведем сводную таблицу. Для этого добавим в датафрейм столбец с названиями категорий в зависимости от числа детей. Многодетных клиентов (3-5 детей) объединим в одну категорию.**"
   ]
  },
  {
   "cell_type": "code",
   "execution_count": 26,
   "id": "2ce745cd",
   "metadata": {},
   "outputs": [],
   "source": [
    "def categorize_children(row):\n",
    "    try:\n",
    "        if row == 0:\n",
    "            return 'детей нет'\n",
    "        elif row == 1:\n",
    "            return 'один ребенок'\n",
    "        elif row == 2:\n",
    "            return 'двое детей'\n",
    "        elif row >= 3:\n",
    "            return 'трое или более детей'\n",
    "    except:\n",
    "        return 'нет категории'"
   ]
  },
  {
   "cell_type": "code",
   "execution_count": 27,
   "id": "bf7b4ba3",
   "metadata": {},
   "outputs": [],
   "source": [
    "data['children_category'] = data['children'].apply(categorize_children)"
   ]
  },
  {
   "cell_type": "code",
   "execution_count": 28,
   "id": "48357f53",
   "metadata": {},
   "outputs": [
    {
     "data": {
      "text/html": [
       "<div>\n",
       "<style scoped>\n",
       "    .dataframe tbody tr th:only-of-type {\n",
       "        vertical-align: middle;\n",
       "    }\n",
       "\n",
       "    .dataframe tbody tr th {\n",
       "        vertical-align: top;\n",
       "    }\n",
       "\n",
       "    .dataframe thead th {\n",
       "        text-align: right;\n",
       "    }\n",
       "</style>\n",
       "<table border=\"1\" class=\"dataframe\">\n",
       "  <thead>\n",
       "    <tr style=\"text-align: right;\">\n",
       "      <th></th>\n",
       "      <th>children_category</th>\n",
       "      <th>amount of credits</th>\n",
       "      <th>amount of debts</th>\n",
       "      <th>percent of debt credits</th>\n",
       "    </tr>\n",
       "  </thead>\n",
       "  <tbody>\n",
       "    <tr>\n",
       "      <th>0</th>\n",
       "      <td>двое детей</td>\n",
       "      <td>2052</td>\n",
       "      <td>194</td>\n",
       "      <td>9.45</td>\n",
       "    </tr>\n",
       "    <tr>\n",
       "      <th>2</th>\n",
       "      <td>один ребенок</td>\n",
       "      <td>4808</td>\n",
       "      <td>444</td>\n",
       "      <td>9.23</td>\n",
       "    </tr>\n",
       "    <tr>\n",
       "      <th>3</th>\n",
       "      <td>трое или более детей</td>\n",
       "      <td>380</td>\n",
       "      <td>31</td>\n",
       "      <td>8.16</td>\n",
       "    </tr>\n",
       "    <tr>\n",
       "      <th>1</th>\n",
       "      <td>детей нет</td>\n",
       "      <td>14091</td>\n",
       "      <td>1063</td>\n",
       "      <td>7.54</td>\n",
       "    </tr>\n",
       "  </tbody>\n",
       "</table>\n",
       "</div>"
      ],
      "text/plain": [
       "      children_category  amount of credits  amount of debts  \\\n",
       "0            двое детей               2052              194   \n",
       "2          один ребенок               4808              444   \n",
       "3  трое или более детей                380               31   \n",
       "1             детей нет              14091             1063   \n",
       "\n",
       "   percent of debt credits  \n",
       "0                     9.45  \n",
       "2                     9.23  \n",
       "3                     8.16  \n",
       "1                     7.54  "
      ]
     },
     "execution_count": 28,
     "metadata": {},
     "output_type": "execute_result"
    }
   ],
   "source": [
    "data_grouped = data.groupby('children_category').agg({'debt': ['count', 'sum']})\n",
    "data_grouped.columns = ['amount of credits', 'amount of debts']\n",
    "data_grouped = data_grouped.reset_index()\n",
    "\n",
    "pd.options.display.float_format = '{:,.2f}'.format\n",
    "data_grouped['percent of debt credits'] = data_grouped['amount of debts'] / data_grouped['amount of credits'] * 100\n",
    "\n",
    "data_grouped.sort_values(by='percent of debt credits', ascending=False)"
   ]
  },
  {
   "cell_type": "markdown",
   "id": "5c3e141e",
   "metadata": {
    "deletable": false,
    "id": "3a6b99ec"
   },
   "source": [
    "**Вывод: зависимости между количеством детей и возвратом кредита в срок нет. Мы видим, что клиенты без детей берут кредиты гораздо чаще клиентов с детьми. Задолженность у всех групп возникает примерно одинаково часто. Многодетные клиенты (с 3-5 детьми) берут кредиты гораздо реже клиентов из других категорий.** "
   ]
  },
  {
   "cell_type": "markdown",
   "id": "f79854db",
   "metadata": {},
   "source": [
    "---"
   ]
  },
  {
   "cell_type": "markdown",
   "id": "166d353b",
   "metadata": {
    "deletable": false,
    "editable": false,
    "id": "97be82ca"
   },
   "source": [
    "#### 3.2 Есть ли зависимость между семейным положением и возвратом кредита в срок?"
   ]
  },
  {
   "cell_type": "markdown",
   "id": "c0c9afdd",
   "metadata": {},
   "source": [
    "**Для начала посмотрим на количество просроченных кредитов для каждой группы семейного положения.**"
   ]
  },
  {
   "cell_type": "code",
   "execution_count": 29,
   "id": "239b5cdf",
   "metadata": {
    "deletable": false,
    "id": "dc3f7ee8",
    "scrolled": true
   },
   "outputs": [
    {
     "data": {
      "text/plain": [
       "family_status\n",
       "женат / замужем          927\n",
       "гражданский брак         385\n",
       "Не женат / не замужем    273\n",
       "в разводе                 84\n",
       "вдовец / вдова            63\n",
       "Name: debt, dtype: int64"
      ]
     },
     "execution_count": 29,
     "metadata": {},
     "output_type": "execute_result"
    }
   ],
   "source": [
    "data.groupby('family_status')['debt'].sum().sort_values(ascending=False)"
   ]
  },
  {
   "cell_type": "markdown",
   "id": "2e6b083a",
   "metadata": {},
   "source": [
    "**На первый взгляд зависимость есть - клиенты в гражданском и официальном браке берут кредиты чаще других. Посмотрим на общее число кредитов для каждой из групп.**"
   ]
  },
  {
   "cell_type": "code",
   "execution_count": 30,
   "id": "880b349e",
   "metadata": {},
   "outputs": [
    {
     "data": {
      "text/plain": [
       "family_status\n",
       "женат / замужем          12261\n",
       "гражданский брак          4134\n",
       "Не женат / не замужем     2796\n",
       "в разводе                 1189\n",
       "вдовец / вдова             951\n",
       "Name: debt, dtype: int64"
      ]
     },
     "execution_count": 30,
     "metadata": {},
     "output_type": "execute_result"
    }
   ],
   "source": [
    "data.groupby('family_status')['debt'].count().sort_values(ascending=False)"
   ]
  },
  {
   "cell_type": "markdown",
   "id": "aa12d7c3",
   "metadata": {},
   "source": [
    "**Видим, что клиенты в браке в принципе чаще других берут кредиты. Посмотрим на отношение просроченных кредитов к общему числу кредитов в каждой группе.**"
   ]
  },
  {
   "cell_type": "code",
   "execution_count": 31,
   "id": "aaea951c",
   "metadata": {},
   "outputs": [
    {
     "data": {
      "text/plain": [
       "family_status\n",
       "Не женат / не замужем   9.76\n",
       "гражданский брак        9.31\n",
       "женат / замужем         7.56\n",
       "в разводе               7.06\n",
       "вдовец / вдова          6.62\n",
       "Name: debt, dtype: float64"
      ]
     },
     "execution_count": 31,
     "metadata": {},
     "output_type": "execute_result"
    }
   ],
   "source": [
    "ratio = data.groupby('family_status')['debt'].sum() / data.groupby('family_status')['debt'].count() * 100\n",
    "ratio.sort_values(ascending=False)"
   ]
  },
  {
   "cell_type": "markdown",
   "id": "6c3693c8",
   "metadata": {},
   "source": [
    "**Клиенты вне брака, а также клиенты, состоящие в гражданском браке, допускают задолженности по кредиту чаще других. Реже всего задолженность появляется у вдовцов/вдов.**"
   ]
  },
  {
   "cell_type": "code",
   "execution_count": 32,
   "id": "e85f67b2",
   "metadata": {},
   "outputs": [
    {
     "data": {
      "image/png": "[encoded data removed]",
      "text/plain": [
       "<Figure size 432x288 with 1 Axes>"
      ]
     },
     "metadata": {
      "needs_background": "light"
     },
     "output_type": "display_data"
    }
   ],
   "source": [
    "plot = ratio.plot.bar(title = 'Связь между семейным положением и задолженностью по кредиту')\n",
    "plot.set_xlabel('Семейное положение')\n",
    "plot.set_ylabel('Процент просроченных кредитов')\n",
    "\n",
    "plt.show()"
   ]
  },
  {
   "cell_type": "markdown",
   "id": "d08d4c39",
   "metadata": {},
   "source": [
    "**Помимо графика, также выведем сводную таблицу.**"
   ]
  },
  {
   "cell_type": "code",
   "execution_count": 33,
   "id": "1a683b07",
   "metadata": {},
   "outputs": [
    {
     "data": {
      "text/html": [
       "<div>\n",
       "<style scoped>\n",
       "    .dataframe tbody tr th:only-of-type {\n",
       "        vertical-align: middle;\n",
       "    }\n",
       "\n",
       "    .dataframe tbody tr th {\n",
       "        vertical-align: top;\n",
       "    }\n",
       "\n",
       "    .dataframe thead th {\n",
       "        text-align: right;\n",
       "    }\n",
       "</style>\n",
       "<table border=\"1\" class=\"dataframe\">\n",
       "  <thead>\n",
       "    <tr style=\"text-align: right;\">\n",
       "      <th></th>\n",
       "      <th>family_status</th>\n",
       "      <th>amount of credits</th>\n",
       "      <th>amount of debts</th>\n",
       "      <th>percent of debt credits</th>\n",
       "    </tr>\n",
       "  </thead>\n",
       "  <tbody>\n",
       "    <tr>\n",
       "      <th>0</th>\n",
       "      <td>Не женат / не замужем</td>\n",
       "      <td>2796</td>\n",
       "      <td>273</td>\n",
       "      <td>9.76</td>\n",
       "    </tr>\n",
       "    <tr>\n",
       "      <th>3</th>\n",
       "      <td>гражданский брак</td>\n",
       "      <td>4134</td>\n",
       "      <td>385</td>\n",
       "      <td>9.31</td>\n",
       "    </tr>\n",
       "    <tr>\n",
       "      <th>4</th>\n",
       "      <td>женат / замужем</td>\n",
       "      <td>12261</td>\n",
       "      <td>927</td>\n",
       "      <td>7.56</td>\n",
       "    </tr>\n",
       "    <tr>\n",
       "      <th>1</th>\n",
       "      <td>в разводе</td>\n",
       "      <td>1189</td>\n",
       "      <td>84</td>\n",
       "      <td>7.06</td>\n",
       "    </tr>\n",
       "    <tr>\n",
       "      <th>2</th>\n",
       "      <td>вдовец / вдова</td>\n",
       "      <td>951</td>\n",
       "      <td>63</td>\n",
       "      <td>6.62</td>\n",
       "    </tr>\n",
       "  </tbody>\n",
       "</table>\n",
       "</div>"
      ],
      "text/plain": [
       "           family_status  amount of credits  amount of debts  \\\n",
       "0  Не женат / не замужем               2796              273   \n",
       "3       гражданский брак               4134              385   \n",
       "4        женат / замужем              12261              927   \n",
       "1              в разводе               1189               84   \n",
       "2         вдовец / вдова                951               63   \n",
       "\n",
       "   percent of debt credits  \n",
       "0                     9.76  \n",
       "3                     9.31  \n",
       "4                     7.56  \n",
       "1                     7.06  \n",
       "2                     6.62  "
      ]
     },
     "execution_count": 33,
     "metadata": {},
     "output_type": "execute_result"
    }
   ],
   "source": [
    "data_grouped = data.groupby('family_status').agg({'debt': ['count', 'sum']})\n",
    "data_grouped.columns = ['amount of credits', 'amount of debts']\n",
    "data_grouped = data_grouped.reset_index()\n",
    "data_grouped['percent of debt credits'] = data_grouped['amount of debts'] / data_grouped['amount of credits'] * 100\n",
    "\n",
    "data_grouped.sort_values(by='percent of debt credits', ascending=False)"
   ]
  },
  {
   "cell_type": "markdown",
   "id": "b0a7edea",
   "metadata": {
    "deletable": false,
    "id": "1cef7837"
   },
   "source": [
    "**Вывод: явной зависимости между семейным положением клиента и возвратом кредита в срок нет. Мы видим, что чаще всего задолженность по кредиту возникает у клиентов не состоящих в браке, но при этом вторая и третья группы по количеству задолженностей - люди в браке (гражданском и официальном).** "
   ]
  },
  {
   "cell_type": "markdown",
   "id": "2a37db9d",
   "metadata": {},
   "source": [
    "---"
   ]
  },
  {
   "cell_type": "markdown",
   "id": "b53ba5ea",
   "metadata": {
    "deletable": false,
    "editable": false,
    "id": "1e8b2fca"
   },
   "source": [
    "#### 3.3 Есть ли зависимость между уровнем дохода и возвратом кредита в срок?"
   ]
  },
  {
   "cell_type": "markdown",
   "id": "e8af343c",
   "metadata": {},
   "source": [
    "**Посмотрим на количество кредитов с задолженностью по каждой из категорий дохода.**"
   ]
  },
  {
   "cell_type": "code",
   "execution_count": 34,
   "id": "4a9dcb73",
   "metadata": {
    "deletable": false,
    "id": "cd7e3720"
   },
   "outputs": [
    {
     "data": {
      "text/plain": [
       "total_income_category\n",
       "C    1353\n",
       "B     354\n",
       "D      21\n",
       "A       2\n",
       "E       2\n",
       "Name: debt, dtype: int64"
      ]
     },
     "execution_count": 34,
     "metadata": {},
     "output_type": "execute_result"
    }
   ],
   "source": [
    "data.groupby('total_income_category')['debt'].sum().sort_values(ascending=False)"
   ]
  },
  {
   "cell_type": "markdown",
   "id": "47054d7e",
   "metadata": {},
   "source": [
    "**Больше всего задолженностей возникает у клиентов со средним доходом - категория 'C': 50001–200000.**\n",
    "\n",
    "**Посмотрим на общее число взятых кредитов по каждой категории доходов.**"
   ]
  },
  {
   "cell_type": "code",
   "execution_count": 35,
   "id": "95ba3a39",
   "metadata": {},
   "outputs": [
    {
     "data": {
      "text/plain": [
       "total_income_category\n",
       "C    15921\n",
       "B     5014\n",
       "D      349\n",
       "A       25\n",
       "E       22\n",
       "Name: debt, dtype: int64"
      ]
     },
     "execution_count": 35,
     "metadata": {},
     "output_type": "execute_result"
    }
   ],
   "source": [
    "data.groupby('total_income_category')['debt'].count().sort_values(ascending=False)"
   ]
  },
  {
   "cell_type": "markdown",
   "id": "029a3cbd",
   "metadata": {},
   "source": [
    "**Общее количество кредитов у клиентов со средним доходом также больше, чем у всех остальных.**"
   ]
  },
  {
   "cell_type": "markdown",
   "id": "f774383a",
   "metadata": {},
   "source": [
    "**Рассчитаем отношение кредитов с задолженностью к общему числу кредитов для каждой группы.**"
   ]
  },
  {
   "cell_type": "code",
   "execution_count": 36,
   "id": "08b42644",
   "metadata": {},
   "outputs": [
    {
     "data": {
      "text/plain": [
       "total_income_category\n",
       "E   9.09\n",
       "C   8.50\n",
       "A   8.00\n",
       "B   7.06\n",
       "D   6.02\n",
       "Name: debt, dtype: float64"
      ]
     },
     "execution_count": 36,
     "metadata": {},
     "output_type": "execute_result"
    }
   ],
   "source": [
    "ratio = data.groupby('total_income_category')['debt'].sum() / data.groupby('total_income_category')['debt'].count() * 100\n",
    "ratio.sort_values(ascending=False)"
   ]
  },
  {
   "cell_type": "markdown",
   "id": "bf769da6",
   "metadata": {},
   "source": [
    "**Для наглядности построим график.**"
   ]
  },
  {
   "cell_type": "code",
   "execution_count": 37,
   "id": "e8b031b4",
   "metadata": {},
   "outputs": [
    {
     "data": {
      "image/png": "[encoded data removed]",
      "text/plain": [
       "<Figure size 432x288 with 1 Axes>"
      ]
     },
     "metadata": {
      "needs_background": "light"
     },
     "output_type": "display_data"
    }
   ],
   "source": [
    "plot = ratio.plot.bar(title = 'Связь между уровнем дохода и задолженностью по кредиту', rot = 0,\n",
    "                      label = \"\"\" A: более 1000001 \n",
    "                      \\n B: 200001–1000000 \n",
    "                      \\n C: 50001–200000 \n",
    "                      \\n D: 30001–50000 \n",
    "                      \\n E: 0–30000\"\"\")\n",
    "plot.set_xlabel('Категория дохода')\n",
    "plot.set_ylabel('Процент просроченных кредитов')\n",
    "\n",
    "plt.legend(bbox_to_anchor=(1, 0.6))\n",
    "plt.show()\n"
   ]
  },
  {
   "cell_type": "markdown",
   "id": "cccce104",
   "metadata": {},
   "source": [
    "**Продублируем данные в сводной таблице.**"
   ]
  },
  {
   "cell_type": "code",
   "execution_count": 38,
   "id": "7dddef77",
   "metadata": {},
   "outputs": [
    {
     "data": {
      "text/html": [
       "<div>\n",
       "<style scoped>\n",
       "    .dataframe tbody tr th:only-of-type {\n",
       "        vertical-align: middle;\n",
       "    }\n",
       "\n",
       "    .dataframe tbody tr th {\n",
       "        vertical-align: top;\n",
       "    }\n",
       "\n",
       "    .dataframe thead th {\n",
       "        text-align: right;\n",
       "    }\n",
       "</style>\n",
       "<table border=\"1\" class=\"dataframe\">\n",
       "  <thead>\n",
       "    <tr style=\"text-align: right;\">\n",
       "      <th></th>\n",
       "      <th>total_income_category</th>\n",
       "      <th>amount of credits</th>\n",
       "      <th>amount of debts</th>\n",
       "      <th>percent of debt credits</th>\n",
       "    </tr>\n",
       "  </thead>\n",
       "  <tbody>\n",
       "    <tr>\n",
       "      <th>4</th>\n",
       "      <td>E</td>\n",
       "      <td>22</td>\n",
       "      <td>2</td>\n",
       "      <td>9.09</td>\n",
       "    </tr>\n",
       "    <tr>\n",
       "      <th>2</th>\n",
       "      <td>C</td>\n",
       "      <td>15921</td>\n",
       "      <td>1353</td>\n",
       "      <td>8.50</td>\n",
       "    </tr>\n",
       "    <tr>\n",
       "      <th>0</th>\n",
       "      <td>A</td>\n",
       "      <td>25</td>\n",
       "      <td>2</td>\n",
       "      <td>8.00</td>\n",
       "    </tr>\n",
       "    <tr>\n",
       "      <th>1</th>\n",
       "      <td>B</td>\n",
       "      <td>5014</td>\n",
       "      <td>354</td>\n",
       "      <td>7.06</td>\n",
       "    </tr>\n",
       "    <tr>\n",
       "      <th>3</th>\n",
       "      <td>D</td>\n",
       "      <td>349</td>\n",
       "      <td>21</td>\n",
       "      <td>6.02</td>\n",
       "    </tr>\n",
       "  </tbody>\n",
       "</table>\n",
       "</div>"
      ],
      "text/plain": [
       "  total_income_category  amount of credits  amount of debts  \\\n",
       "4                     E                 22                2   \n",
       "2                     C              15921             1353   \n",
       "0                     A                 25                2   \n",
       "1                     B               5014              354   \n",
       "3                     D                349               21   \n",
       "\n",
       "   percent of debt credits  \n",
       "4                     9.09  \n",
       "2                     8.50  \n",
       "0                     8.00  \n",
       "1                     7.06  \n",
       "3                     6.02  "
      ]
     },
     "execution_count": 38,
     "metadata": {},
     "output_type": "execute_result"
    }
   ],
   "source": [
    "data_grouped = data.groupby('total_income_category').agg({'debt': ['count', 'sum']})\n",
    "data_grouped.columns = ['amount of credits', 'amount of debts']\n",
    "data_grouped = data_grouped.reset_index()\n",
    "data_grouped['percent of debt credits'] = data_grouped['amount of debts'] / data_grouped['amount of credits'] * 100\n",
    "\n",
    "data_grouped.sort_values(by='percent of debt credits', ascending=False)"
   ]
  },
  {
   "cell_type": "markdown",
   "id": "d8fb95be",
   "metadata": {
    "deletable": false,
    "id": "e8593def"
   },
   "source": [
    "**Вывод: прямой зависимости между уровнем дохода и возвратом кредита в срок нет. Клиенты с наименьшим, со средним и наибольшим уровнем дохода примерно одинаково часто допускают образование задолженности по кредиту.**\n",
    "\n",
    "**При этом, важно учитывать, что люди с наименьшим и наибольшим уровнем дохода берут кредиты очень редко. Самые частые получатели кредитов - клиенты со средним уровнем дохода.** "
   ]
  },
  {
   "cell_type": "markdown",
   "id": "00b18818",
   "metadata": {},
   "source": [
    "---"
   ]
  },
  {
   "cell_type": "markdown",
   "id": "47be98ca",
   "metadata": {
    "deletable": false,
    "editable": false,
    "id": "99ecbd1f"
   },
   "source": [
    "#### 3.4 Как разные цели кредита влияют на его возврат в срок?"
   ]
  },
  {
   "cell_type": "markdown",
   "id": "40c3380e",
   "metadata": {},
   "source": [
    "**Посмотрим на число кредитов с задолженностью по каждой цели кредита.**"
   ]
  },
  {
   "cell_type": "code",
   "execution_count": 39,
   "id": "7acb9a50",
   "metadata": {
    "deletable": false,
    "id": "2b687290"
   },
   "outputs": [
    {
     "data": {
      "text/plain": [
       "purpose_category\n",
       "операции с автомобилем      400\n",
       "операции с недвижимостью    780\n",
       "получение образования       369\n",
       "проведение свадьбы          183\n",
       "Name: debt, dtype: int64"
      ]
     },
     "execution_count": 39,
     "metadata": {},
     "output_type": "execute_result"
    }
   ],
   "source": [
    "data.groupby('purpose_category')['debt'].sum()"
   ]
  },
  {
   "cell_type": "markdown",
   "id": "02e24da2",
   "metadata": {},
   "source": [
    "**Теперь оценим общее число кредитов по каждой категории. Видим, что больше всего кредитов берут для различных операций с недвижимостью.**"
   ]
  },
  {
   "cell_type": "code",
   "execution_count": 40,
   "id": "976ff8b9",
   "metadata": {},
   "outputs": [
    {
     "data": {
      "text/plain": [
       "purpose_category\n",
       "операции с автомобилем       4279\n",
       "операции с недвижимостью    10751\n",
       "получение образования        3988\n",
       "проведение свадьбы           2313\n",
       "Name: debt, dtype: int64"
      ]
     },
     "execution_count": 40,
     "metadata": {},
     "output_type": "execute_result"
    }
   ],
   "source": [
    "data.groupby('purpose_category')['debt'].count()"
   ]
  },
  {
   "cell_type": "markdown",
   "id": "1e4a85d1",
   "metadata": {},
   "source": [
    "**Посчитаем отношение кредитов с задолженностью к общему числу кредитов по каждой категории.**"
   ]
  },
  {
   "cell_type": "code",
   "execution_count": 41,
   "id": "390e7d52",
   "metadata": {},
   "outputs": [
    {
     "data": {
      "text/plain": [
       "purpose_category\n",
       "операции с автомобилем     9.35\n",
       "получение образования      9.25\n",
       "проведение свадьбы         7.91\n",
       "операции с недвижимостью   7.26\n",
       "Name: debt, dtype: float64"
      ]
     },
     "execution_count": 41,
     "metadata": {},
     "output_type": "execute_result"
    }
   ],
   "source": [
    "ratio = data.groupby('purpose_category')['debt'].sum() / data.groupby('purpose_category')['debt'].count() * 100\n",
    "ratio.sort_values(ascending=False)"
   ]
  },
  {
   "cell_type": "markdown",
   "id": "5c17dc03",
   "metadata": {},
   "source": [
    "**Для наглядности построим график.**"
   ]
  },
  {
   "cell_type": "code",
   "execution_count": 42,
   "id": "94f07202",
   "metadata": {},
   "outputs": [
    {
     "data": {
      "image/png": "[encoded data removed]",
      "text/plain": [
       "<Figure size 432x288 with 1 Axes>"
      ]
     },
     "metadata": {
      "needs_background": "light"
     },
     "output_type": "display_data"
    }
   ],
   "source": [
    "plot = ratio.plot.bar(title = 'Связь между целью кредита и задолженностью по кредиту')\n",
    "plot.set_xlabel('Цель кредита')\n",
    "plot.set_ylabel('Процент просроченных кредитов')\n",
    "\n",
    "plt.show()"
   ]
  },
  {
   "cell_type": "markdown",
   "id": "1ce82741",
   "metadata": {},
   "source": [
    "**Сводная таблица по результатам:**"
   ]
  },
  {
   "cell_type": "code",
   "execution_count": 43,
   "id": "0d2a1573",
   "metadata": {},
   "outputs": [
    {
     "data": {
      "text/html": [
       "<div>\n",
       "<style scoped>\n",
       "    .dataframe tbody tr th:only-of-type {\n",
       "        vertical-align: middle;\n",
       "    }\n",
       "\n",
       "    .dataframe tbody tr th {\n",
       "        vertical-align: top;\n",
       "    }\n",
       "\n",
       "    .dataframe thead th {\n",
       "        text-align: right;\n",
       "    }\n",
       "</style>\n",
       "<table border=\"1\" class=\"dataframe\">\n",
       "  <thead>\n",
       "    <tr style=\"text-align: right;\">\n",
       "      <th></th>\n",
       "      <th>purpose_category</th>\n",
       "      <th>amount of credits</th>\n",
       "      <th>amount of debts</th>\n",
       "      <th>percent of debt credits</th>\n",
       "    </tr>\n",
       "  </thead>\n",
       "  <tbody>\n",
       "    <tr>\n",
       "      <th>0</th>\n",
       "      <td>операции с автомобилем</td>\n",
       "      <td>4279</td>\n",
       "      <td>400</td>\n",
       "      <td>9.35</td>\n",
       "    </tr>\n",
       "    <tr>\n",
       "      <th>2</th>\n",
       "      <td>получение образования</td>\n",
       "      <td>3988</td>\n",
       "      <td>369</td>\n",
       "      <td>9.25</td>\n",
       "    </tr>\n",
       "    <tr>\n",
       "      <th>3</th>\n",
       "      <td>проведение свадьбы</td>\n",
       "      <td>2313</td>\n",
       "      <td>183</td>\n",
       "      <td>7.91</td>\n",
       "    </tr>\n",
       "    <tr>\n",
       "      <th>1</th>\n",
       "      <td>операции с недвижимостью</td>\n",
       "      <td>10751</td>\n",
       "      <td>780</td>\n",
       "      <td>7.26</td>\n",
       "    </tr>\n",
       "  </tbody>\n",
       "</table>\n",
       "</div>"
      ],
      "text/plain": [
       "           purpose_category  amount of credits  amount of debts  \\\n",
       "0    операции с автомобилем               4279              400   \n",
       "2     получение образования               3988              369   \n",
       "3        проведение свадьбы               2313              183   \n",
       "1  операции с недвижимостью              10751              780   \n",
       "\n",
       "   percent of debt credits  \n",
       "0                     9.35  \n",
       "2                     9.25  \n",
       "3                     7.91  \n",
       "1                     7.26  "
      ]
     },
     "execution_count": 43,
     "metadata": {},
     "output_type": "execute_result"
    }
   ],
   "source": [
    "data_grouped = data.groupby('purpose_category').agg({'debt': ['count', 'sum']})\n",
    "data_grouped.columns = ['amount of credits', 'amount of debts']\n",
    "data_grouped = data_grouped.reset_index()\n",
    "data_grouped['percent of debt credits'] = data_grouped['amount of debts'] / data_grouped['amount of credits'] * 100\n",
    "\n",
    "data_grouped.sort_values(by='percent of debt credits', ascending=False)"
   ]
  },
  {
   "cell_type": "markdown",
   "id": "cd2378d9",
   "metadata": {
    "deletable": false,
    "id": "b4bb2ce6"
   },
   "source": [
    "**Вывод: видим, что задолженности возникают по кредитам для операций с автомобилем и для получения образования чаще, чем по двум другим категориям. Кредиты на проведение свадеб и для операций с недвижимостью чаще возвращаются в срок.**"
   ]
  },
  {
   "cell_type": "markdown",
   "id": "e794db50",
   "metadata": {},
   "source": [
    "---"
   ]
  },
  {
   "cell_type": "markdown",
   "id": "3e93e113",
   "metadata": {
    "deletable": false,
    "editable": false,
    "id": "09c3ac4c"
   },
   "source": [
    "#### 3.5 Приведите возможные причины появления пропусков в исходных данных."
   ]
  },
  {
   "cell_type": "markdown",
   "id": "2b1dfd2d",
   "metadata": {
    "deletable": false,
    "id": "9da2ceda"
   },
   "source": [
    "*Ответ: можно заметить, что пропуски присутствуют только в двух столбцах: в столбце со стажем и в столбце с общим доходом. При этом, пропуски присутствуют в двух столбцах для каждой строки одновременно, то есть если в датафрейме нет информации о стаже клиента, то также нет и информации о его доходе.*\n",
    "\n",
    "*Возможны следующие причины*:\n",
    "- *информация по данным клиентам лежит в датафрейме давно - еще с тех пор, когда указывать информацию об общем стаже и уровне дохода было необязательно.*\n",
    "- *мы не знаем размер кредита (он не указан в датафрейме), поэтому он может быть совсем невелик, а значит указание стажа и уровня дохода для его получения не требуется.*\n",
    "- *нельзя исключать человеческий фактор, данные просто не были внесены в датафрейм.*"
   ]
  },
  {
   "cell_type": "markdown",
   "id": "653f5f41",
   "metadata": {
    "deletable": false,
    "editable": false,
    "id": "7b0487d6"
   },
   "source": [
    "#### 3.6 Объясните, почему заполнить пропуски медианным значением — лучшее решение для количественных переменных."
   ]
  },
  {
   "cell_type": "markdown",
   "id": "99a57096",
   "metadata": {
    "deletable": false,
    "id": "7ecf2b8e"
   },
   "source": [
    "*Ответ: заполнение пропусков медианным значением для количественных переменных позволяет (насколько это возможно) уменьшить влияние аномальных значений. То есть тех значений, что сильно меньше или сильно больше средних значений для определенной переменной. Медиана (median()), в отличие от среднего (mean()) учитывает только значения, которые разбивает весь список значений на две равные (по количеству) части, в то время как для вычисления среднего используются абсолютно все значения переменной.* "
   ]
  },
  {
   "cell_type": "markdown",
   "id": "73fb7543",
   "metadata": {},
   "source": [
    "---"
   ]
  },
  {
   "cell_type": "markdown",
   "id": "04a0a484",
   "metadata": {
    "deletable": false,
    "editable": false,
    "id": "6db5255a"
   },
   "source": [
    "### Шаг 4: общий вывод."
   ]
  },
  {
   "cell_type": "markdown",
   "id": "0b564bda",
   "metadata": {
    "deletable": false,
    "id": "bad65432"
   },
   "source": [
    "**В данном проекте входными данными являлась статистика о платежеспособности клиентов. Необходимо было выяснить, есть ли зависимость между различными характеристиками клиентов (количество детей, семейное положение, уровень дохода, а также цель кредита) и возвратом кредита в срок.**\n",
    "\n",
    "**Для получения корректных результатов была произведена предобработка данных: обработаны пропущенные значения, дубликаты, аномальные значения, неверные типы данных.**\n",
    "\n",
    "**Для проведения исследования данные были разбиты по различным категориям.**\n",
    "\n",
    "**По результатам проведенной работы можно сделать следующие выводы:**\n",
    "- **Чаще всего кредиты берут люди без детей, но чаще большинства клиентов с детьми возвращают кредиты в срок. Многодетные клиенты (3-5 детей) берут кредиты значительно реже клиентов без детей, или с 1-2 детьми.**\n",
    "- **Семейное положение на возврат кредита в срок практически не влияет. Задолженность чаще других возникает у клиентов вне брака, реже у клиентов в разводе, а также вдов/вдовцов. Кредитному отделу следует с осторожностью относиться к клиентам, которые не состоят или не состояли в браке.**\n",
    "- **Задолженность по кредиту допускают клиенты как с высоким, средним, так и с низким уровнем дохода. Явной зависимости нет.**\n",
    "- **Автокредиты, а также кредиты на образование приводят к задолженности чаще, чем кредиты для проведения свадьбы или кредиты для операций с недвижимостью.**\n",
    "\n",
    "**Рекомендуется также разобраться с причиной возникновения пропущенных значений, по возможности для более точных дальнейших ислледований данную проблему решить.**"
   ]
  }
 ],
 "metadata": {
  "ExecuteTimeLog": [
   {
    "duration": 669,
    "start_time": "2022-10-15T09:46:10.216Z"
   },
   {
    "duration": 20,
    "start_time": "2022-10-15T09:46:10.887Z"
   },
   {
    "duration": 14,
    "start_time": "2022-10-15T09:46:10.908Z"
   },
   {
    "duration": 8,
    "start_time": "2022-10-15T09:46:10.923Z"
   },
   {
    "duration": 37,
    "start_time": "2022-10-15T09:46:10.933Z"
   },
   {
    "duration": 3,
    "start_time": "2022-10-15T09:46:10.971Z"
   },
   {
    "duration": 7,
    "start_time": "2022-10-15T09:46:10.995Z"
   },
   {
    "duration": 4,
    "start_time": "2022-10-15T09:46:11.004Z"
   },
   {
    "duration": 9,
    "start_time": "2022-10-15T09:46:11.009Z"
   },
   {
    "duration": 4,
    "start_time": "2022-10-15T09:46:11.019Z"
   },
   {
    "duration": 33,
    "start_time": "2022-10-15T09:46:11.025Z"
   },
   {
    "duration": 8,
    "start_time": "2022-10-15T09:46:11.060Z"
   },
   {
    "duration": 6,
    "start_time": "2022-10-15T09:46:11.095Z"
   },
   {
    "duration": 16,
    "start_time": "2022-10-15T09:46:11.103Z"
   },
   {
    "duration": 19,
    "start_time": "2022-10-15T09:46:11.120Z"
   },
   {
    "duration": 15,
    "start_time": "2022-10-15T09:46:11.141Z"
   },
   {
    "duration": 3,
    "start_time": "2022-10-15T09:46:11.158Z"
   },
   {
    "duration": 11,
    "start_time": "2022-10-15T09:46:11.162Z"
   },
   {
    "duration": 23,
    "start_time": "2022-10-15T09:46:11.175Z"
   },
   {
    "duration": 3,
    "start_time": "2022-10-15T09:46:11.200Z"
   },
   {
    "duration": 12,
    "start_time": "2022-10-15T09:46:11.204Z"
   },
   {
    "duration": 5,
    "start_time": "2022-10-15T09:46:11.217Z"
   },
   {
    "duration": 5,
    "start_time": "2022-10-15T09:46:11.223Z"
   },
   {
    "duration": 4,
    "start_time": "2022-10-15T09:46:11.229Z"
   },
   {
    "duration": 7,
    "start_time": "2022-10-15T09:46:11.234Z"
   },
   {
    "duration": 21,
    "start_time": "2022-10-15T09:46:18.447Z"
   },
   {
    "duration": 5,
    "start_time": "2022-10-15T09:50:19.283Z"
   },
   {
    "duration": 6,
    "start_time": "2022-10-15T09:50:27.007Z"
   },
   {
    "duration": 7,
    "start_time": "2022-10-15T09:50:35.151Z"
   },
   {
    "duration": 7,
    "start_time": "2022-10-15T09:51:16.006Z"
   },
   {
    "duration": 17,
    "start_time": "2022-10-15T09:52:28.666Z"
   },
   {
    "duration": 6,
    "start_time": "2022-10-15T09:52:53.086Z"
   },
   {
    "duration": 22,
    "start_time": "2022-10-15T09:57:11.035Z"
   },
   {
    "duration": 76,
    "start_time": "2022-10-15T09:57:38.945Z"
   },
   {
    "duration": 7,
    "start_time": "2022-10-15T09:57:42.459Z"
   },
   {
    "duration": 7,
    "start_time": "2022-10-15T10:00:39.479Z"
   },
   {
    "duration": 6,
    "start_time": "2022-10-15T10:01:05.007Z"
   },
   {
    "duration": 25,
    "start_time": "2022-10-15T10:05:05.869Z"
   },
   {
    "duration": 6,
    "start_time": "2022-10-15T10:08:55.459Z"
   },
   {
    "duration": 26,
    "start_time": "2022-10-15T10:10:21.093Z"
   },
   {
    "duration": 20,
    "start_time": "2022-10-15T10:11:30.224Z"
   },
   {
    "duration": 18,
    "start_time": "2022-10-15T10:11:42.621Z"
   },
   {
    "duration": 481,
    "start_time": "2022-10-15T10:12:28.091Z"
   },
   {
    "duration": 22,
    "start_time": "2022-10-15T10:12:28.575Z"
   },
   {
    "duration": 14,
    "start_time": "2022-10-15T10:12:28.599Z"
   },
   {
    "duration": 9,
    "start_time": "2022-10-15T10:12:28.615Z"
   },
   {
    "duration": 31,
    "start_time": "2022-10-15T10:12:28.626Z"
   },
   {
    "duration": 3,
    "start_time": "2022-10-15T10:12:28.659Z"
   },
   {
    "duration": 33,
    "start_time": "2022-10-15T10:12:28.664Z"
   },
   {
    "duration": 3,
    "start_time": "2022-10-15T10:12:28.699Z"
   },
   {
    "duration": 8,
    "start_time": "2022-10-15T10:12:28.704Z"
   },
   {
    "duration": 4,
    "start_time": "2022-10-15T10:12:28.715Z"
   },
   {
    "duration": 36,
    "start_time": "2022-10-15T10:12:28.721Z"
   },
   {
    "duration": 11,
    "start_time": "2022-10-15T10:12:28.759Z"
   },
   {
    "duration": 5,
    "start_time": "2022-10-15T10:12:28.794Z"
   },
   {
    "duration": 16,
    "start_time": "2022-10-15T10:12:28.801Z"
   },
   {
    "duration": 33,
    "start_time": "2022-10-15T10:12:28.819Z"
   },
   {
    "duration": 18,
    "start_time": "2022-10-15T10:12:28.854Z"
   },
   {
    "duration": 3,
    "start_time": "2022-10-15T10:12:28.874Z"
   },
   {
    "duration": 10,
    "start_time": "2022-10-15T10:12:28.895Z"
   },
   {
    "duration": 8,
    "start_time": "2022-10-15T10:12:28.907Z"
   },
   {
    "duration": 5,
    "start_time": "2022-10-15T10:12:28.917Z"
   },
   {
    "duration": 12,
    "start_time": "2022-10-15T10:12:28.924Z"
   },
   {
    "duration": 2,
    "start_time": "2022-10-15T10:12:28.938Z"
   },
   {
    "duration": 9,
    "start_time": "2022-10-15T10:12:28.942Z"
   },
   {
    "duration": 6,
    "start_time": "2022-10-15T10:12:28.953Z"
   },
   {
    "duration": 23,
    "start_time": "2022-10-15T10:12:28.994Z"
   },
   {
    "duration": 13,
    "start_time": "2022-10-15T10:12:29.018Z"
   },
   {
    "duration": 6,
    "start_time": "2022-10-15T10:12:29.033Z"
   },
   {
    "duration": 4,
    "start_time": "2022-10-15T10:12:29.042Z"
   },
   {
    "duration": 5,
    "start_time": "2022-10-15T10:12:29.048Z"
   },
   {
    "duration": 30,
    "start_time": "2022-10-15T10:12:46.718Z"
   },
   {
    "duration": 74,
    "start_time": "2022-10-15T10:14:12.942Z"
   },
   {
    "duration": 7,
    "start_time": "2022-10-15T10:15:05.046Z"
   },
   {
    "duration": 9,
    "start_time": "2022-10-15T10:16:40.219Z"
   },
   {
    "duration": 8,
    "start_time": "2022-10-15T10:18:16.130Z"
   },
   {
    "duration": 11,
    "start_time": "2022-10-15T10:20:26.649Z"
   },
   {
    "duration": 10,
    "start_time": "2022-10-15T10:20:39.630Z"
   },
   {
    "duration": 8,
    "start_time": "2022-10-15T10:20:52.562Z"
   },
   {
    "duration": 439,
    "start_time": "2022-10-15T10:21:53.525Z"
   },
   {
    "duration": 21,
    "start_time": "2022-10-15T10:21:53.966Z"
   },
   {
    "duration": 15,
    "start_time": "2022-10-15T10:21:53.988Z"
   },
   {
    "duration": 9,
    "start_time": "2022-10-15T10:21:54.005Z"
   },
   {
    "duration": 32,
    "start_time": "2022-10-15T10:21:54.015Z"
   },
   {
    "duration": 3,
    "start_time": "2022-10-15T10:21:54.049Z"
   },
   {
    "duration": 14,
    "start_time": "2022-10-15T10:21:54.053Z"
   },
   {
    "duration": 5,
    "start_time": "2022-10-15T10:21:54.070Z"
   },
   {
    "duration": 9,
    "start_time": "2022-10-15T10:21:54.096Z"
   },
   {
    "duration": 5,
    "start_time": "2022-10-15T10:21:54.110Z"
   },
   {
    "duration": 48,
    "start_time": "2022-10-15T10:21:54.117Z"
   },
   {
    "duration": 31,
    "start_time": "2022-10-15T10:21:54.166Z"
   },
   {
    "duration": 5,
    "start_time": "2022-10-15T10:21:54.199Z"
   },
   {
    "duration": 14,
    "start_time": "2022-10-15T10:21:54.206Z"
   },
   {
    "duration": 25,
    "start_time": "2022-10-15T10:21:54.222Z"
   },
   {
    "duration": 17,
    "start_time": "2022-10-15T10:21:54.248Z"
   },
   {
    "duration": 4,
    "start_time": "2022-10-15T10:21:54.266Z"
   },
   {
    "duration": 16,
    "start_time": "2022-10-15T10:21:54.294Z"
   },
   {
    "duration": 9,
    "start_time": "2022-10-15T10:21:54.312Z"
   },
   {
    "duration": 8,
    "start_time": "2022-10-15T10:21:54.323Z"
   },
   {
    "duration": 11,
    "start_time": "2022-10-15T10:21:54.333Z"
   },
   {
    "duration": 13,
    "start_time": "2022-10-15T10:21:54.346Z"
   },
   {
    "duration": 14,
    "start_time": "2022-10-15T10:21:54.360Z"
   },
   {
    "duration": 21,
    "start_time": "2022-10-15T10:21:54.376Z"
   },
   {
    "duration": 9,
    "start_time": "2022-10-15T10:21:54.398Z"
   },
   {
    "duration": 11,
    "start_time": "2022-10-15T10:21:54.411Z"
   },
   {
    "duration": 2,
    "start_time": "2022-10-15T10:21:54.424Z"
   },
   {
    "duration": 6,
    "start_time": "2022-10-15T10:21:54.429Z"
   },
   {
    "duration": 8,
    "start_time": "2022-10-15T10:22:11.199Z"
   },
   {
    "duration": 508,
    "start_time": "2022-10-15T10:24:40.309Z"
   },
   {
    "duration": 123,
    "start_time": "2022-10-15T10:24:51.334Z"
   },
   {
    "duration": 123,
    "start_time": "2022-10-15T10:25:48.497Z"
   },
   {
    "duration": 126,
    "start_time": "2022-10-15T10:25:52.655Z"
   },
   {
    "duration": 176,
    "start_time": "2022-10-15T10:26:11.667Z"
   },
   {
    "duration": 115,
    "start_time": "2022-10-15T10:26:23.764Z"
   },
   {
    "duration": 115,
    "start_time": "2022-10-15T10:26:30.130Z"
   },
   {
    "duration": 122,
    "start_time": "2022-10-15T10:26:56.854Z"
   },
   {
    "duration": 8,
    "start_time": "2022-10-15T10:27:03.642Z"
   },
   {
    "duration": 111,
    "start_time": "2022-10-15T10:27:05.785Z"
   },
   {
    "duration": 480,
    "start_time": "2022-10-15T10:27:10.664Z"
   },
   {
    "duration": 22,
    "start_time": "2022-10-15T10:27:11.146Z"
   },
   {
    "duration": 25,
    "start_time": "2022-10-15T10:27:11.171Z"
   },
   {
    "duration": 8,
    "start_time": "2022-10-15T10:27:11.198Z"
   },
   {
    "duration": 40,
    "start_time": "2022-10-15T10:27:11.209Z"
   },
   {
    "duration": 4,
    "start_time": "2022-10-15T10:27:11.250Z"
   },
   {
    "duration": 10,
    "start_time": "2022-10-15T10:27:11.255Z"
   },
   {
    "duration": 4,
    "start_time": "2022-10-15T10:27:11.267Z"
   },
   {
    "duration": 30,
    "start_time": "2022-10-15T10:27:11.272Z"
   },
   {
    "duration": 4,
    "start_time": "2022-10-15T10:27:11.304Z"
   },
   {
    "duration": 34,
    "start_time": "2022-10-15T10:27:11.310Z"
   },
   {
    "duration": 9,
    "start_time": "2022-10-15T10:27:11.347Z"
   },
   {
    "duration": 3,
    "start_time": "2022-10-15T10:27:11.359Z"
   },
   {
    "duration": 40,
    "start_time": "2022-10-15T10:27:11.364Z"
   },
   {
    "duration": 21,
    "start_time": "2022-10-15T10:27:11.406Z"
   },
   {
    "duration": 17,
    "start_time": "2022-10-15T10:27:11.429Z"
   },
   {
    "duration": 4,
    "start_time": "2022-10-15T10:27:11.448Z"
   },
   {
    "duration": 16,
    "start_time": "2022-10-15T10:27:11.454Z"
   },
   {
    "duration": 7,
    "start_time": "2022-10-15T10:27:11.496Z"
   },
   {
    "duration": 10,
    "start_time": "2022-10-15T10:27:11.505Z"
   },
   {
    "duration": 16,
    "start_time": "2022-10-15T10:27:11.516Z"
   },
   {
    "duration": 12,
    "start_time": "2022-10-15T10:27:11.534Z"
   },
   {
    "duration": 15,
    "start_time": "2022-10-15T10:27:11.547Z"
   },
   {
    "duration": 10,
    "start_time": "2022-10-15T10:27:11.564Z"
   },
   {
    "duration": 397,
    "start_time": "2022-10-15T10:27:11.575Z"
   },
   {
    "duration": 9,
    "start_time": "2022-10-15T10:27:11.974Z"
   },
   {
    "duration": 8,
    "start_time": "2022-10-15T10:27:11.995Z"
   },
   {
    "duration": 5,
    "start_time": "2022-10-15T10:27:12.005Z"
   },
   {
    "duration": 13,
    "start_time": "2022-10-15T10:27:12.012Z"
   },
   {
    "duration": 115,
    "start_time": "2022-10-15T10:27:22.130Z"
   },
   {
    "duration": 121,
    "start_time": "2022-10-15T10:27:28.979Z"
   },
   {
    "duration": 72,
    "start_time": "2022-10-15T10:28:06.109Z"
   },
   {
    "duration": 137,
    "start_time": "2022-10-15T10:28:10.763Z"
   },
   {
    "duration": 109,
    "start_time": "2022-10-15T10:28:32.038Z"
   },
   {
    "duration": 69,
    "start_time": "2022-10-15T10:29:14.871Z"
   },
   {
    "duration": 180,
    "start_time": "2022-10-15T10:29:18.289Z"
   },
   {
    "duration": 128,
    "start_time": "2022-10-15T10:30:57.248Z"
   },
   {
    "duration": 137,
    "start_time": "2022-10-15T10:34:24.197Z"
   },
   {
    "duration": 126,
    "start_time": "2022-10-15T10:35:10.980Z"
   },
   {
    "duration": 11,
    "start_time": "2022-10-15T10:44:04.687Z"
   },
   {
    "duration": 8,
    "start_time": "2022-10-15T10:44:06.818Z"
   },
   {
    "duration": 16,
    "start_time": "2022-10-15T10:44:15.822Z"
   },
   {
    "duration": 123,
    "start_time": "2022-10-15T10:47:28.148Z"
   },
   {
    "duration": 158,
    "start_time": "2022-10-15T10:48:04.709Z"
   },
   {
    "duration": 138,
    "start_time": "2022-10-15T10:48:19.071Z"
   },
   {
    "duration": 137,
    "start_time": "2022-10-15T10:48:25.160Z"
   },
   {
    "duration": 11,
    "start_time": "2022-10-15T10:51:32.427Z"
   },
   {
    "duration": 141,
    "start_time": "2022-10-15T10:52:07.559Z"
   },
   {
    "duration": 170,
    "start_time": "2022-10-15T10:53:43.407Z"
   },
   {
    "duration": 244,
    "start_time": "2022-10-15T10:54:53.274Z"
   },
   {
    "duration": 235,
    "start_time": "2022-10-15T10:55:04.604Z"
   },
   {
    "duration": 152,
    "start_time": "2022-10-15T10:55:10.171Z"
   },
   {
    "duration": 132,
    "start_time": "2022-10-15T10:56:21.695Z"
   },
   {
    "duration": 177,
    "start_time": "2022-10-15T10:56:29.160Z"
   },
   {
    "duration": 135,
    "start_time": "2022-10-15T10:56:59.821Z"
   },
   {
    "duration": 142,
    "start_time": "2022-10-15T10:57:05.357Z"
   },
   {
    "duration": 238,
    "start_time": "2022-10-15T10:57:21.422Z"
   },
   {
    "duration": 134,
    "start_time": "2022-10-15T10:57:25.187Z"
   },
   {
    "duration": 162,
    "start_time": "2022-10-15T10:57:29.683Z"
   },
   {
    "duration": 154,
    "start_time": "2022-10-15T10:58:17.689Z"
   },
   {
    "duration": 152,
    "start_time": "2022-10-15T10:58:36.406Z"
   },
   {
    "duration": 13,
    "start_time": "2022-10-15T11:06:19.715Z"
   },
   {
    "duration": 17,
    "start_time": "2022-10-15T11:06:37.319Z"
   },
   {
    "duration": 13,
    "start_time": "2022-10-15T11:06:45.448Z"
   },
   {
    "duration": 11,
    "start_time": "2022-10-15T11:07:20.409Z"
   },
   {
    "duration": 12,
    "start_time": "2022-10-15T11:07:40.891Z"
   },
   {
    "duration": 13,
    "start_time": "2022-10-15T11:07:48.893Z"
   },
   {
    "duration": 12,
    "start_time": "2022-10-15T11:08:00.939Z"
   },
   {
    "duration": 12,
    "start_time": "2022-10-15T11:08:07.387Z"
   },
   {
    "duration": 94,
    "start_time": "2022-10-15T11:08:29.299Z"
   },
   {
    "duration": 12,
    "start_time": "2022-10-15T11:08:36.249Z"
   },
   {
    "duration": 12,
    "start_time": "2022-10-15T11:08:45.520Z"
   },
   {
    "duration": 12,
    "start_time": "2022-10-15T11:09:03.452Z"
   },
   {
    "duration": 18,
    "start_time": "2022-10-15T11:09:17.921Z"
   },
   {
    "duration": 10,
    "start_time": "2022-10-15T11:09:36.411Z"
   },
   {
    "duration": 7,
    "start_time": "2022-10-15T11:09:43.610Z"
   },
   {
    "duration": 7,
    "start_time": "2022-10-15T11:09:45.452Z"
   },
   {
    "duration": 11,
    "start_time": "2022-10-15T11:10:02.833Z"
   },
   {
    "duration": 5,
    "start_time": "2022-10-15T11:16:33.761Z"
   },
   {
    "duration": 8,
    "start_time": "2022-10-15T11:16:55.447Z"
   },
   {
    "duration": 111,
    "start_time": "2022-10-15T11:17:37.308Z"
   },
   {
    "duration": 223,
    "start_time": "2022-10-15T11:17:54.898Z"
   },
   {
    "duration": 133,
    "start_time": "2022-10-15T11:18:05.713Z"
   },
   {
    "duration": 137,
    "start_time": "2022-10-15T11:18:07.971Z"
   },
   {
    "duration": 112,
    "start_time": "2022-10-15T11:18:27.533Z"
   },
   {
    "duration": 119,
    "start_time": "2022-10-15T11:18:40.206Z"
   },
   {
    "duration": 67,
    "start_time": "2022-10-15T11:18:50.305Z"
   },
   {
    "duration": 15,
    "start_time": "2022-10-15T11:18:50.374Z"
   },
   {
    "duration": 29,
    "start_time": "2022-10-15T11:18:50.391Z"
   },
   {
    "duration": 15,
    "start_time": "2022-10-15T11:18:50.422Z"
   },
   {
    "duration": 34,
    "start_time": "2022-10-15T11:18:50.440Z"
   },
   {
    "duration": 21,
    "start_time": "2022-10-15T11:18:50.475Z"
   },
   {
    "duration": 11,
    "start_time": "2022-10-15T11:18:50.497Z"
   },
   {
    "duration": 5,
    "start_time": "2022-10-15T11:18:50.509Z"
   },
   {
    "duration": 6,
    "start_time": "2022-10-15T11:18:50.515Z"
   },
   {
    "duration": 4,
    "start_time": "2022-10-15T11:18:50.523Z"
   },
   {
    "duration": 35,
    "start_time": "2022-10-15T11:18:50.529Z"
   },
   {
    "duration": 33,
    "start_time": "2022-10-15T11:18:50.566Z"
   },
   {
    "duration": 7,
    "start_time": "2022-10-15T11:18:50.600Z"
   },
   {
    "duration": 10,
    "start_time": "2022-10-15T11:18:50.610Z"
   },
   {
    "duration": 19,
    "start_time": "2022-10-15T11:18:50.621Z"
   },
   {
    "duration": 17,
    "start_time": "2022-10-15T11:18:50.641Z"
   },
   {
    "duration": 4,
    "start_time": "2022-10-15T11:18:50.660Z"
   },
   {
    "duration": 36,
    "start_time": "2022-10-15T11:18:50.666Z"
   },
   {
    "duration": 13,
    "start_time": "2022-10-15T11:18:50.704Z"
   },
   {
    "duration": 5,
    "start_time": "2022-10-15T11:18:50.719Z"
   },
   {
    "duration": 11,
    "start_time": "2022-10-15T11:18:50.726Z"
   },
   {
    "duration": 11,
    "start_time": "2022-10-15T11:18:50.738Z"
   },
   {
    "duration": 8,
    "start_time": "2022-10-15T11:18:50.751Z"
   },
   {
    "duration": 8,
    "start_time": "2022-10-15T11:18:50.761Z"
   },
   {
    "duration": 158,
    "start_time": "2022-10-15T11:18:50.770Z"
   },
   {
    "duration": 8,
    "start_time": "2022-10-15T11:18:50.929Z"
   },
   {
    "duration": 11,
    "start_time": "2022-10-15T11:18:50.939Z"
   },
   {
    "duration": 11,
    "start_time": "2022-10-15T11:18:50.951Z"
   },
   {
    "duration": 152,
    "start_time": "2022-10-15T11:18:50.963Z"
   },
   {
    "duration": 10,
    "start_time": "2022-10-15T11:31:36.495Z"
   },
   {
    "duration": 8,
    "start_time": "2022-10-15T11:32:27.230Z"
   },
   {
    "duration": 130,
    "start_time": "2022-10-15T11:33:23.035Z"
   },
   {
    "duration": 11,
    "start_time": "2022-10-15T11:34:25.215Z"
   },
   {
    "duration": 7,
    "start_time": "2022-10-15T11:34:56.948Z"
   },
   {
    "duration": 6,
    "start_time": "2022-10-15T11:35:14.429Z"
   },
   {
    "duration": 72,
    "start_time": "2022-10-15T11:36:27.028Z"
   },
   {
    "duration": 120,
    "start_time": "2022-10-15T11:40:50.057Z"
   },
   {
    "duration": 128,
    "start_time": "2022-10-15T11:40:57.973Z"
   },
   {
    "duration": 8,
    "start_time": "2022-10-15T11:41:34.911Z"
   },
   {
    "duration": 7,
    "start_time": "2022-10-15T11:41:39.284Z"
   },
   {
    "duration": 15,
    "start_time": "2022-10-15T11:42:59.660Z"
   },
   {
    "duration": 121,
    "start_time": "2022-10-15T11:43:12.048Z"
   },
   {
    "duration": 470,
    "start_time": "2022-10-15T11:43:39.089Z"
   },
   {
    "duration": 21,
    "start_time": "2022-10-15T11:43:39.561Z"
   },
   {
    "duration": 13,
    "start_time": "2022-10-15T11:43:39.584Z"
   },
   {
    "duration": 9,
    "start_time": "2022-10-15T11:43:39.599Z"
   },
   {
    "duration": 33,
    "start_time": "2022-10-15T11:43:39.610Z"
   },
   {
    "duration": 3,
    "start_time": "2022-10-15T11:43:39.645Z"
   },
   {
    "duration": 11,
    "start_time": "2022-10-15T11:43:39.649Z"
   },
   {
    "duration": 34,
    "start_time": "2022-10-15T11:43:39.662Z"
   },
   {
    "duration": 6,
    "start_time": "2022-10-15T11:43:39.697Z"
   },
   {
    "duration": 4,
    "start_time": "2022-10-15T11:43:39.707Z"
   },
   {
    "duration": 35,
    "start_time": "2022-10-15T11:43:39.712Z"
   },
   {
    "duration": 9,
    "start_time": "2022-10-15T11:43:39.748Z"
   },
   {
    "duration": 37,
    "start_time": "2022-10-15T11:43:39.758Z"
   },
   {
    "duration": 11,
    "start_time": "2022-10-15T11:43:39.797Z"
   },
   {
    "duration": 25,
    "start_time": "2022-10-15T11:43:39.809Z"
   },
   {
    "duration": 16,
    "start_time": "2022-10-15T11:43:39.837Z"
   },
   {
    "duration": 3,
    "start_time": "2022-10-15T11:43:39.855Z"
   },
   {
    "duration": 35,
    "start_time": "2022-10-15T11:43:39.860Z"
   },
   {
    "duration": 7,
    "start_time": "2022-10-15T11:43:39.897Z"
   },
   {
    "duration": 5,
    "start_time": "2022-10-15T11:43:39.906Z"
   },
   {
    "duration": 12,
    "start_time": "2022-10-15T11:43:39.913Z"
   },
   {
    "duration": 6,
    "start_time": "2022-10-15T11:43:39.927Z"
   },
   {
    "duration": 7,
    "start_time": "2022-10-15T11:43:39.934Z"
   },
   {
    "duration": 8,
    "start_time": "2022-10-15T11:43:39.942Z"
   },
   {
    "duration": 401,
    "start_time": "2022-10-15T11:43:39.952Z"
   },
   {
    "duration": 8,
    "start_time": "2022-10-15T11:43:40.354Z"
   },
   {
    "duration": 7,
    "start_time": "2022-10-15T11:43:40.364Z"
   },
   {
    "duration": 26,
    "start_time": "2022-10-15T11:43:40.375Z"
   },
   {
    "duration": 147,
    "start_time": "2022-10-15T11:43:40.403Z"
   },
   {
    "duration": 8,
    "start_time": "2022-10-15T11:43:40.551Z"
   },
   {
    "duration": 7,
    "start_time": "2022-10-15T11:43:40.560Z"
   },
   {
    "duration": 30,
    "start_time": "2022-10-15T11:43:40.568Z"
   },
   {
    "duration": 118,
    "start_time": "2022-10-15T11:43:40.600Z"
   },
   {
    "duration": 9,
    "start_time": "2022-10-15T11:43:40.720Z"
   },
   {
    "duration": 8,
    "start_time": "2022-10-15T11:43:40.730Z"
   },
   {
    "duration": 164,
    "start_time": "2022-10-15T11:43:40.740Z"
   },
   {
    "duration": 461,
    "start_time": "2022-10-15T11:48:46.000Z"
   },
   {
    "duration": 22,
    "start_time": "2022-10-15T11:48:46.463Z"
   },
   {
    "duration": 13,
    "start_time": "2022-10-15T11:48:46.487Z"
   },
   {
    "duration": 8,
    "start_time": "2022-10-15T11:48:46.502Z"
   },
   {
    "duration": 30,
    "start_time": "2022-10-15T11:48:46.512Z"
   },
   {
    "duration": 3,
    "start_time": "2022-10-15T11:48:46.544Z"
   },
   {
    "duration": 10,
    "start_time": "2022-10-15T11:48:46.548Z"
   },
   {
    "duration": 4,
    "start_time": "2022-10-15T11:48:46.560Z"
   },
   {
    "duration": 8,
    "start_time": "2022-10-15T11:48:46.595Z"
   },
   {
    "duration": 4,
    "start_time": "2022-10-15T11:48:46.605Z"
   },
   {
    "duration": 52,
    "start_time": "2022-10-15T11:48:46.612Z"
   },
   {
    "duration": 30,
    "start_time": "2022-10-15T11:48:46.666Z"
   },
   {
    "duration": 5,
    "start_time": "2022-10-15T11:48:46.698Z"
   },
   {
    "duration": 21,
    "start_time": "2022-10-15T11:48:46.707Z"
   },
   {
    "duration": 27,
    "start_time": "2022-10-15T11:48:46.730Z"
   },
   {
    "duration": 41,
    "start_time": "2022-10-15T11:48:46.759Z"
   },
   {
    "duration": 5,
    "start_time": "2022-10-15T11:48:46.802Z"
   },
   {
    "duration": 29,
    "start_time": "2022-10-15T11:48:46.808Z"
   },
   {
    "duration": 23,
    "start_time": "2022-10-15T11:48:46.839Z"
   },
   {
    "duration": 6,
    "start_time": "2022-10-15T11:48:46.864Z"
   },
   {
    "duration": 18,
    "start_time": "2022-10-15T11:48:46.872Z"
   },
   {
    "duration": 9,
    "start_time": "2022-10-15T11:48:46.892Z"
   },
   {
    "duration": 8,
    "start_time": "2022-10-15T11:48:46.903Z"
   },
   {
    "duration": 12,
    "start_time": "2022-10-15T11:48:46.913Z"
   },
   {
    "duration": 374,
    "start_time": "2022-10-15T11:48:46.927Z"
   },
   {
    "duration": 8,
    "start_time": "2022-10-15T11:48:47.302Z"
   },
   {
    "duration": 8,
    "start_time": "2022-10-15T11:48:47.312Z"
   },
   {
    "duration": 11,
    "start_time": "2022-10-15T11:48:47.321Z"
   },
   {
    "duration": 178,
    "start_time": "2022-10-15T11:48:47.333Z"
   },
   {
    "duration": 10,
    "start_time": "2022-10-15T11:48:47.513Z"
   },
   {
    "duration": 9,
    "start_time": "2022-10-15T11:48:47.524Z"
   },
   {
    "duration": 61,
    "start_time": "2022-10-15T11:48:47.535Z"
   },
   {
    "duration": 142,
    "start_time": "2022-10-15T11:48:47.598Z"
   },
   {
    "duration": 8,
    "start_time": "2022-10-15T11:48:47.741Z"
   },
   {
    "duration": 7,
    "start_time": "2022-10-15T11:48:47.751Z"
   },
   {
    "duration": 149,
    "start_time": "2022-10-15T11:48:47.759Z"
   },
   {
    "duration": 187,
    "start_time": "2022-10-15T11:50:08.456Z"
   },
   {
    "duration": 130,
    "start_time": "2022-10-15T11:50:17.892Z"
   },
   {
    "duration": 139,
    "start_time": "2022-10-15T11:50:21.005Z"
   },
   {
    "duration": 129,
    "start_time": "2022-10-15T11:50:21.691Z"
   },
   {
    "duration": 122,
    "start_time": "2022-10-15T11:50:22.052Z"
   },
   {
    "duration": 133,
    "start_time": "2022-10-15T11:50:31.218Z"
   },
   {
    "duration": 9,
    "start_time": "2022-10-15T11:50:50.558Z"
   },
   {
    "duration": 125,
    "start_time": "2022-10-15T11:50:54.169Z"
   },
   {
    "duration": 136,
    "start_time": "2022-10-15T11:51:12.869Z"
   },
   {
    "duration": 124,
    "start_time": "2022-10-15T11:51:31.129Z"
   },
   {
    "duration": 11,
    "start_time": "2022-10-15T11:51:39.666Z"
   },
   {
    "duration": 163,
    "start_time": "2022-10-15T11:51:42.682Z"
   },
   {
    "duration": 222,
    "start_time": "2022-10-15T11:51:57.922Z"
   },
   {
    "duration": 146,
    "start_time": "2022-10-15T11:52:20.416Z"
   },
   {
    "duration": 11,
    "start_time": "2022-10-15T11:52:40.441Z"
   },
   {
    "duration": 108,
    "start_time": "2022-10-15T11:52:57.801Z"
   },
   {
    "duration": 120,
    "start_time": "2022-10-15T11:53:03.648Z"
   },
   {
    "duration": 115,
    "start_time": "2022-10-15T11:53:13.180Z"
   },
   {
    "duration": 132,
    "start_time": "2022-10-15T11:53:40.968Z"
   },
   {
    "duration": 155,
    "start_time": "2022-10-15T11:55:18.269Z"
   },
   {
    "duration": 5,
    "start_time": "2022-10-15T11:56:33.865Z"
   },
   {
    "duration": 172,
    "start_time": "2022-10-15T11:56:44.097Z"
   },
   {
    "duration": 298,
    "start_time": "2022-10-15T11:57:41.937Z"
   },
   {
    "duration": 155,
    "start_time": "2022-10-15T11:58:11.325Z"
   },
   {
    "duration": 173,
    "start_time": "2022-10-15T11:58:57.986Z"
   },
   {
    "duration": 226,
    "start_time": "2022-10-15T11:59:25.242Z"
   },
   {
    "duration": 162,
    "start_time": "2022-10-15T11:59:30.102Z"
   },
   {
    "duration": 120,
    "start_time": "2022-10-15T12:00:19.234Z"
   },
   {
    "duration": 78,
    "start_time": "2022-10-15T12:00:40.824Z"
   },
   {
    "duration": 158,
    "start_time": "2022-10-15T12:01:51.928Z"
   },
   {
    "duration": 141,
    "start_time": "2022-10-15T12:02:07.524Z"
   },
   {
    "duration": 148,
    "start_time": "2022-10-15T12:02:18.409Z"
   },
   {
    "duration": 155,
    "start_time": "2022-10-15T12:02:22.575Z"
   },
   {
    "duration": 164,
    "start_time": "2022-10-15T12:02:27.118Z"
   },
   {
    "duration": 149,
    "start_time": "2022-10-15T12:02:33.000Z"
   },
   {
    "duration": 529,
    "start_time": "2022-10-15T12:02:56.487Z"
   },
   {
    "duration": 24,
    "start_time": "2022-10-15T12:02:57.018Z"
   },
   {
    "duration": 15,
    "start_time": "2022-10-15T12:02:57.044Z"
   },
   {
    "duration": 35,
    "start_time": "2022-10-15T12:02:57.061Z"
   },
   {
    "duration": 33,
    "start_time": "2022-10-15T12:02:57.098Z"
   },
   {
    "duration": 4,
    "start_time": "2022-10-15T12:02:57.132Z"
   },
   {
    "duration": 11,
    "start_time": "2022-10-15T12:02:57.137Z"
   },
   {
    "duration": 5,
    "start_time": "2022-10-15T12:02:57.150Z"
   },
   {
    "duration": 42,
    "start_time": "2022-10-15T12:02:57.156Z"
   },
   {
    "duration": 5,
    "start_time": "2022-10-15T12:02:57.202Z"
   },
   {
    "duration": 36,
    "start_time": "2022-10-15T12:02:57.209Z"
   },
   {
    "duration": 10,
    "start_time": "2022-10-15T12:02:57.247Z"
   },
   {
    "duration": 6,
    "start_time": "2022-10-15T12:02:57.258Z"
   },
   {
    "duration": 35,
    "start_time": "2022-10-15T12:02:57.265Z"
   },
   {
    "duration": 36,
    "start_time": "2022-10-15T12:02:57.302Z"
   },
   {
    "duration": 27,
    "start_time": "2022-10-15T12:02:57.340Z"
   },
   {
    "duration": 5,
    "start_time": "2022-10-15T12:02:57.369Z"
   },
   {
    "duration": 30,
    "start_time": "2022-10-15T12:02:57.377Z"
   },
   {
    "duration": 9,
    "start_time": "2022-10-15T12:02:57.410Z"
   },
   {
    "duration": 6,
    "start_time": "2022-10-15T12:02:57.421Z"
   },
   {
    "duration": 11,
    "start_time": "2022-10-15T12:02:57.429Z"
   },
   {
    "duration": 7,
    "start_time": "2022-10-15T12:02:57.441Z"
   },
   {
    "duration": 13,
    "start_time": "2022-10-15T12:02:57.450Z"
   },
   {
    "duration": 11,
    "start_time": "2022-10-15T12:02:57.494Z"
   },
   {
    "duration": 390,
    "start_time": "2022-10-15T12:02:57.507Z"
   },
   {
    "duration": 10,
    "start_time": "2022-10-15T12:02:57.899Z"
   },
   {
    "duration": 8,
    "start_time": "2022-10-15T12:02:57.911Z"
   },
   {
    "duration": 16,
    "start_time": "2022-10-15T12:02:57.922Z"
   },
   {
    "duration": 210,
    "start_time": "2022-10-15T12:02:57.939Z"
   },
   {
    "duration": 8,
    "start_time": "2022-10-15T12:02:58.151Z"
   },
   {
    "duration": 11,
    "start_time": "2022-10-15T12:02:58.161Z"
   },
   {
    "duration": 28,
    "start_time": "2022-10-15T12:02:58.173Z"
   },
   {
    "duration": 161,
    "start_time": "2022-10-15T12:02:58.203Z"
   },
   {
    "duration": 8,
    "start_time": "2022-10-15T12:02:58.366Z"
   },
   {
    "duration": 23,
    "start_time": "2022-10-15T12:02:58.375Z"
   },
   {
    "duration": 152,
    "start_time": "2022-10-15T12:02:58.400Z"
   },
   {
    "duration": 92,
    "start_time": "2022-10-15T12:04:33.931Z"
   },
   {
    "duration": 66,
    "start_time": "2022-10-15T12:05:10.079Z"
   },
   {
    "duration": 75,
    "start_time": "2022-10-15T12:05:35.540Z"
   },
   {
    "duration": 217,
    "start_time": "2022-10-15T12:05:56.282Z"
   },
   {
    "duration": 180,
    "start_time": "2022-10-15T12:06:02.578Z"
   },
   {
    "duration": 236,
    "start_time": "2022-10-15T12:06:06.490Z"
   },
   {
    "duration": 117,
    "start_time": "2022-10-15T12:06:21.203Z"
   },
   {
    "duration": 160,
    "start_time": "2022-10-15T12:06:27.805Z"
   },
   {
    "duration": 170,
    "start_time": "2022-10-15T12:06:48.147Z"
   },
   {
    "duration": 11,
    "start_time": "2022-10-15T12:07:13.127Z"
   },
   {
    "duration": 175,
    "start_time": "2022-10-15T12:07:14.707Z"
   },
   {
    "duration": 73,
    "start_time": "2022-10-15T12:07:19.938Z"
   },
   {
    "duration": 161,
    "start_time": "2022-10-15T12:07:22.563Z"
   },
   {
    "duration": 448,
    "start_time": "2022-10-15T12:07:32.051Z"
   },
   {
    "duration": 22,
    "start_time": "2022-10-15T12:07:32.501Z"
   },
   {
    "duration": 22,
    "start_time": "2022-10-15T12:07:32.524Z"
   },
   {
    "duration": 9,
    "start_time": "2022-10-15T12:07:32.548Z"
   },
   {
    "duration": 59,
    "start_time": "2022-10-15T12:07:32.558Z"
   },
   {
    "duration": 4,
    "start_time": "2022-10-15T12:07:32.618Z"
   },
   {
    "duration": 14,
    "start_time": "2022-10-15T12:07:32.624Z"
   },
   {
    "duration": 5,
    "start_time": "2022-10-15T12:07:32.640Z"
   },
   {
    "duration": 8,
    "start_time": "2022-10-15T12:07:32.646Z"
   },
   {
    "duration": 4,
    "start_time": "2022-10-15T12:07:32.658Z"
   },
   {
    "duration": 38,
    "start_time": "2022-10-15T12:07:32.697Z"
   },
   {
    "duration": 8,
    "start_time": "2022-10-15T12:07:32.737Z"
   },
   {
    "duration": 5,
    "start_time": "2022-10-15T12:07:32.747Z"
   },
   {
    "duration": 13,
    "start_time": "2022-10-15T12:07:32.753Z"
   },
   {
    "duration": 42,
    "start_time": "2022-10-15T12:07:32.768Z"
   },
   {
    "duration": 23,
    "start_time": "2022-10-15T12:07:32.812Z"
   },
   {
    "duration": 5,
    "start_time": "2022-10-15T12:07:32.838Z"
   },
   {
    "duration": 48,
    "start_time": "2022-10-15T12:07:32.845Z"
   },
   {
    "duration": 11,
    "start_time": "2022-10-15T12:07:32.895Z"
   },
   {
    "duration": 15,
    "start_time": "2022-10-15T12:07:32.910Z"
   },
   {
    "duration": 18,
    "start_time": "2022-10-15T12:07:32.928Z"
   },
   {
    "duration": 16,
    "start_time": "2022-10-15T12:07:32.948Z"
   },
   {
    "duration": 12,
    "start_time": "2022-10-15T12:07:32.965Z"
   },
   {
    "duration": 13,
    "start_time": "2022-10-15T12:07:32.978Z"
   },
   {
    "duration": 383,
    "start_time": "2022-10-15T12:07:32.992Z"
   },
   {
    "duration": 8,
    "start_time": "2022-10-15T12:07:33.377Z"
   },
   {
    "duration": 11,
    "start_time": "2022-10-15T12:07:33.395Z"
   },
   {
    "duration": 11,
    "start_time": "2022-10-15T12:07:33.409Z"
   },
   {
    "duration": 172,
    "start_time": "2022-10-15T12:07:33.422Z"
   },
   {
    "duration": 8,
    "start_time": "2022-10-15T12:07:33.596Z"
   },
   {
    "duration": 10,
    "start_time": "2022-10-15T12:07:33.607Z"
   },
   {
    "duration": 12,
    "start_time": "2022-10-15T12:07:33.620Z"
   },
   {
    "duration": 178,
    "start_time": "2022-10-15T12:07:33.634Z"
   },
   {
    "duration": 12,
    "start_time": "2022-10-15T12:07:33.815Z"
   },
   {
    "duration": 17,
    "start_time": "2022-10-15T12:07:33.829Z"
   },
   {
    "duration": 164,
    "start_time": "2022-10-15T12:07:33.848Z"
   },
   {
    "duration": 996,
    "start_time": "2022-10-16T12:15:48.541Z"
   },
   {
    "duration": 20,
    "start_time": "2022-10-16T12:15:49.539Z"
   },
   {
    "duration": 15,
    "start_time": "2022-10-16T12:15:49.560Z"
   },
   {
    "duration": 9,
    "start_time": "2022-10-16T12:15:49.576Z"
   },
   {
    "duration": 32,
    "start_time": "2022-10-16T12:15:49.587Z"
   },
   {
    "duration": 3,
    "start_time": "2022-10-16T12:15:49.621Z"
   },
   {
    "duration": 11,
    "start_time": "2022-10-16T12:15:49.625Z"
   },
   {
    "duration": 3,
    "start_time": "2022-10-16T12:15:49.637Z"
   },
   {
    "duration": 7,
    "start_time": "2022-10-16T12:15:49.642Z"
   },
   {
    "duration": 3,
    "start_time": "2022-10-16T12:15:49.651Z"
   },
   {
    "duration": 52,
    "start_time": "2022-10-16T12:15:49.656Z"
   },
   {
    "duration": 9,
    "start_time": "2022-10-16T12:15:49.709Z"
   },
   {
    "duration": 11,
    "start_time": "2022-10-16T12:15:49.720Z"
   },
   {
    "duration": 15,
    "start_time": "2022-10-16T12:15:49.735Z"
   },
   {
    "duration": 23,
    "start_time": "2022-10-16T12:15:49.752Z"
   },
   {
    "duration": 17,
    "start_time": "2022-10-16T12:15:49.795Z"
   },
   {
    "duration": 3,
    "start_time": "2022-10-16T12:15:49.814Z"
   },
   {
    "duration": 14,
    "start_time": "2022-10-16T12:15:49.819Z"
   },
   {
    "duration": 9,
    "start_time": "2022-10-16T12:15:49.834Z"
   },
   {
    "duration": 6,
    "start_time": "2022-10-16T12:15:49.845Z"
   },
   {
    "duration": 20,
    "start_time": "2022-10-16T12:15:49.852Z"
   },
   {
    "duration": 9,
    "start_time": "2022-10-16T12:15:49.874Z"
   },
   {
    "duration": 6,
    "start_time": "2022-10-16T12:15:49.896Z"
   },
   {
    "duration": 9,
    "start_time": "2022-10-16T12:15:49.903Z"
   },
   {
    "duration": 163,
    "start_time": "2022-10-16T12:15:49.914Z"
   },
   {
    "duration": 9,
    "start_time": "2022-10-16T12:15:50.079Z"
   },
   {
    "duration": 15,
    "start_time": "2022-10-16T12:15:50.090Z"
   },
   {
    "duration": 13,
    "start_time": "2022-10-16T12:15:50.107Z"
   },
   {
    "duration": 151,
    "start_time": "2022-10-16T12:15:50.122Z"
   },
   {
    "duration": 7,
    "start_time": "2022-10-16T12:15:50.275Z"
   },
   {
    "duration": 16,
    "start_time": "2022-10-16T12:15:50.284Z"
   },
   {
    "duration": 10,
    "start_time": "2022-10-16T12:15:50.301Z"
   },
   {
    "duration": 159,
    "start_time": "2022-10-16T12:15:50.313Z"
   },
   {
    "duration": 8,
    "start_time": "2022-10-16T12:15:50.474Z"
   },
   {
    "duration": 17,
    "start_time": "2022-10-16T12:15:50.483Z"
   },
   {
    "duration": 138,
    "start_time": "2022-10-16T12:15:50.501Z"
   },
   {
    "duration": 215,
    "start_time": "2022-10-16T12:17:53.252Z"
   },
   {
    "duration": 153,
    "start_time": "2022-10-16T12:18:03.950Z"
   },
   {
    "duration": 155,
    "start_time": "2022-10-16T12:18:06.977Z"
   },
   {
    "duration": 165,
    "start_time": "2022-10-16T12:18:15.073Z"
   },
   {
    "duration": 653,
    "start_time": "2022-10-16T12:18:34.921Z"
   },
   {
    "duration": 19,
    "start_time": "2022-10-16T12:18:35.576Z"
   },
   {
    "duration": 16,
    "start_time": "2022-10-16T12:18:35.596Z"
   },
   {
    "duration": 9,
    "start_time": "2022-10-16T12:18:35.614Z"
   },
   {
    "duration": 33,
    "start_time": "2022-10-16T12:18:35.625Z"
   },
   {
    "duration": 3,
    "start_time": "2022-10-16T12:18:35.660Z"
   },
   {
    "duration": 9,
    "start_time": "2022-10-16T12:18:35.696Z"
   },
   {
    "duration": 4,
    "start_time": "2022-10-16T12:18:35.706Z"
   },
   {
    "duration": 7,
    "start_time": "2022-10-16T12:18:35.712Z"
   },
   {
    "duration": 5,
    "start_time": "2022-10-16T12:18:35.720Z"
   },
   {
    "duration": 33,
    "start_time": "2022-10-16T12:18:35.727Z"
   },
   {
    "duration": 37,
    "start_time": "2022-10-16T12:18:35.761Z"
   },
   {
    "duration": 3,
    "start_time": "2022-10-16T12:18:35.800Z"
   },
   {
    "duration": 14,
    "start_time": "2022-10-16T12:18:35.806Z"
   },
   {
    "duration": 19,
    "start_time": "2022-10-16T12:18:35.821Z"
   },
   {
    "duration": 16,
    "start_time": "2022-10-16T12:18:35.842Z"
   },
   {
    "duration": 36,
    "start_time": "2022-10-16T12:18:35.859Z"
   },
   {
    "duration": 9,
    "start_time": "2022-10-16T12:18:35.897Z"
   },
   {
    "duration": 8,
    "start_time": "2022-10-16T12:18:35.907Z"
   },
   {
    "duration": 6,
    "start_time": "2022-10-16T12:18:35.917Z"
   },
   {
    "duration": 12,
    "start_time": "2022-10-16T12:18:35.924Z"
   },
   {
    "duration": 6,
    "start_time": "2022-10-16T12:18:35.938Z"
   },
   {
    "duration": 8,
    "start_time": "2022-10-16T12:18:35.945Z"
   },
   {
    "duration": 10,
    "start_time": "2022-10-16T12:18:35.955Z"
   },
   {
    "duration": 136,
    "start_time": "2022-10-16T12:18:35.995Z"
   },
   {
    "duration": 7,
    "start_time": "2022-10-16T12:18:36.133Z"
   },
   {
    "duration": 8,
    "start_time": "2022-10-16T12:18:36.142Z"
   },
   {
    "duration": 11,
    "start_time": "2022-10-16T12:18:36.152Z"
   },
   {
    "duration": 161,
    "start_time": "2022-10-16T12:18:36.165Z"
   },
   {
    "duration": 7,
    "start_time": "2022-10-16T12:18:36.328Z"
   },
   {
    "duration": 8,
    "start_time": "2022-10-16T12:18:36.336Z"
   },
   {
    "duration": 10,
    "start_time": "2022-10-16T12:18:36.345Z"
   },
   {
    "duration": 177,
    "start_time": "2022-10-16T12:18:36.356Z"
   },
   {
    "duration": 11,
    "start_time": "2022-10-16T12:18:36.535Z"
   },
   {
    "duration": 35,
    "start_time": "2022-10-16T12:18:36.547Z"
   },
   {
    "duration": 161,
    "start_time": "2022-10-16T12:18:36.584Z"
   },
   {
    "duration": 12,
    "start_time": "2022-10-16T12:19:59.577Z"
   },
   {
    "duration": 188,
    "start_time": "2022-10-16T12:29:28.231Z"
   },
   {
    "duration": 139,
    "start_time": "2022-10-16T12:30:31.212Z"
   },
   {
    "duration": 12,
    "start_time": "2022-10-16T12:30:42.736Z"
   },
   {
    "duration": 144,
    "start_time": "2022-10-16T12:30:44.886Z"
   },
   {
    "duration": 691,
    "start_time": "2022-10-16T12:33:53.656Z"
   },
   {
    "duration": 20,
    "start_time": "2022-10-16T12:33:54.349Z"
   },
   {
    "duration": 23,
    "start_time": "2022-10-16T12:33:54.374Z"
   },
   {
    "duration": 10,
    "start_time": "2022-10-16T12:33:54.399Z"
   },
   {
    "duration": 31,
    "start_time": "2022-10-16T12:33:54.411Z"
   },
   {
    "duration": 4,
    "start_time": "2022-10-16T12:33:54.444Z"
   },
   {
    "duration": 11,
    "start_time": "2022-10-16T12:33:54.450Z"
   },
   {
    "duration": 34,
    "start_time": "2022-10-16T12:33:54.463Z"
   },
   {
    "duration": 20,
    "start_time": "2022-10-16T12:33:54.499Z"
   },
   {
    "duration": 8,
    "start_time": "2022-10-16T12:33:54.521Z"
   },
   {
    "duration": 35,
    "start_time": "2022-10-16T12:33:54.530Z"
   },
   {
    "duration": 8,
    "start_time": "2022-10-16T12:33:54.567Z"
   },
   {
    "duration": 5,
    "start_time": "2022-10-16T12:33:54.577Z"
   },
   {
    "duration": 11,
    "start_time": "2022-10-16T12:33:54.595Z"
   },
   {
    "duration": 24,
    "start_time": "2022-10-16T12:33:54.608Z"
   },
   {
    "duration": 33,
    "start_time": "2022-10-16T12:33:54.634Z"
   },
   {
    "duration": 9,
    "start_time": "2022-10-16T12:33:54.668Z"
   },
   {
    "duration": 20,
    "start_time": "2022-10-16T12:33:54.678Z"
   },
   {
    "duration": 6,
    "start_time": "2022-10-16T12:33:54.700Z"
   },
   {
    "duration": 3,
    "start_time": "2022-10-16T12:33:54.708Z"
   },
   {
    "duration": 13,
    "start_time": "2022-10-16T12:33:54.713Z"
   },
   {
    "duration": 11,
    "start_time": "2022-10-16T12:33:54.727Z"
   },
   {
    "duration": 7,
    "start_time": "2022-10-16T12:33:54.739Z"
   },
   {
    "duration": 11,
    "start_time": "2022-10-16T12:33:54.747Z"
   },
   {
    "duration": 169,
    "start_time": "2022-10-16T12:33:54.759Z"
   },
   {
    "duration": 9,
    "start_time": "2022-10-16T12:33:54.929Z"
   },
   {
    "duration": 8,
    "start_time": "2022-10-16T12:33:54.941Z"
   },
   {
    "duration": 12,
    "start_time": "2022-10-16T12:33:54.950Z"
   },
   {
    "duration": 174,
    "start_time": "2022-10-16T12:33:54.964Z"
   },
   {
    "duration": 10,
    "start_time": "2022-10-16T12:33:55.139Z"
   },
   {
    "duration": 20,
    "start_time": "2022-10-16T12:33:55.151Z"
   },
   {
    "duration": 24,
    "start_time": "2022-10-16T12:33:55.172Z"
   },
   {
    "duration": 165,
    "start_time": "2022-10-16T12:33:55.198Z"
   },
   {
    "duration": 8,
    "start_time": "2022-10-16T12:33:55.365Z"
   },
   {
    "duration": 24,
    "start_time": "2022-10-16T12:33:55.375Z"
   },
   {
    "duration": 14,
    "start_time": "2022-10-16T12:33:55.400Z"
   },
   {
    "duration": 145,
    "start_time": "2022-10-16T12:33:55.416Z"
   },
   {
    "duration": 69,
    "start_time": "2022-10-16T12:34:15.191Z"
   },
   {
    "duration": 15,
    "start_time": "2022-10-16T12:34:15.262Z"
   },
   {
    "duration": 23,
    "start_time": "2022-10-16T12:34:36.486Z"
   },
   {
    "duration": 23,
    "start_time": "2022-10-16T12:35:25.653Z"
   },
   {
    "duration": 21,
    "start_time": "2022-10-16T12:39:10.439Z"
   },
   {
    "duration": 0,
    "start_time": "2022-10-16T12:40:18.234Z"
   },
   {
    "duration": 17,
    "start_time": "2022-10-16T12:40:31.317Z"
   },
   {
    "duration": 16,
    "start_time": "2022-10-16T12:40:34.806Z"
   },
   {
    "duration": 3,
    "start_time": "2022-10-16T12:41:00.346Z"
   },
   {
    "duration": 658,
    "start_time": "2022-10-16T12:41:43.204Z"
   },
   {
    "duration": 24,
    "start_time": "2022-10-16T12:42:51.525Z"
   },
   {
    "duration": 21,
    "start_time": "2022-10-16T12:43:47.287Z"
   },
   {
    "duration": 20,
    "start_time": "2022-10-16T12:44:14.625Z"
   },
   {
    "duration": 745,
    "start_time": "2022-10-16T13:14:30.478Z"
   },
   {
    "duration": 20,
    "start_time": "2022-10-16T13:14:31.225Z"
   },
   {
    "duration": 23,
    "start_time": "2022-10-16T13:14:31.247Z"
   },
   {
    "duration": 22,
    "start_time": "2022-10-16T13:14:31.294Z"
   },
   {
    "duration": 22,
    "start_time": "2022-10-16T13:14:31.317Z"
   },
   {
    "duration": 14,
    "start_time": "2022-10-16T13:14:31.340Z"
   },
   {
    "duration": 41,
    "start_time": "2022-10-16T13:14:31.356Z"
   },
   {
    "duration": 32,
    "start_time": "2022-10-16T13:14:31.399Z"
   },
   {
    "duration": 3,
    "start_time": "2022-10-16T13:14:31.433Z"
   },
   {
    "duration": 12,
    "start_time": "2022-10-16T13:14:31.438Z"
   },
   {
    "duration": 4,
    "start_time": "2022-10-16T13:14:31.452Z"
   },
   {
    "duration": 38,
    "start_time": "2022-10-16T13:14:31.457Z"
   },
   {
    "duration": 5,
    "start_time": "2022-10-16T13:14:31.496Z"
   },
   {
    "duration": 37,
    "start_time": "2022-10-16T13:14:31.503Z"
   },
   {
    "duration": 9,
    "start_time": "2022-10-16T13:14:31.541Z"
   },
   {
    "duration": 9,
    "start_time": "2022-10-16T13:14:31.552Z"
   },
   {
    "duration": 40,
    "start_time": "2022-10-16T13:14:31.563Z"
   },
   {
    "duration": 20,
    "start_time": "2022-10-16T13:14:31.605Z"
   },
   {
    "duration": 17,
    "start_time": "2022-10-16T13:14:31.627Z"
   },
   {
    "duration": 4,
    "start_time": "2022-10-16T13:14:31.645Z"
   },
   {
    "duration": 25,
    "start_time": "2022-10-16T13:14:31.650Z"
   },
   {
    "duration": 19,
    "start_time": "2022-10-16T13:14:31.677Z"
   },
   {
    "duration": 3,
    "start_time": "2022-10-16T13:14:31.698Z"
   },
   {
    "duration": 13,
    "start_time": "2022-10-16T13:14:31.702Z"
   },
   {
    "duration": 12,
    "start_time": "2022-10-16T13:14:31.716Z"
   },
   {
    "duration": 8,
    "start_time": "2022-10-16T13:14:31.730Z"
   },
   {
    "duration": 11,
    "start_time": "2022-10-16T13:14:31.740Z"
   },
   {
    "duration": 178,
    "start_time": "2022-10-16T13:14:31.754Z"
   },
   {
    "duration": 8,
    "start_time": "2022-10-16T13:14:31.934Z"
   },
   {
    "duration": 8,
    "start_time": "2022-10-16T13:14:31.944Z"
   },
   {
    "duration": 10,
    "start_time": "2022-10-16T13:14:31.954Z"
   },
   {
    "duration": 172,
    "start_time": "2022-10-16T13:14:31.966Z"
   },
   {
    "duration": 9,
    "start_time": "2022-10-16T13:14:32.140Z"
   },
   {
    "duration": 9,
    "start_time": "2022-10-16T13:14:32.151Z"
   },
   {
    "duration": 39,
    "start_time": "2022-10-16T13:14:32.162Z"
   },
   {
    "duration": 161,
    "start_time": "2022-10-16T13:14:32.203Z"
   },
   {
    "duration": 12,
    "start_time": "2022-10-16T13:14:32.366Z"
   },
   {
    "duration": 19,
    "start_time": "2022-10-16T13:14:32.381Z"
   },
   {
    "duration": 11,
    "start_time": "2022-10-16T13:14:32.402Z"
   },
   {
    "duration": 148,
    "start_time": "2022-10-16T13:14:32.414Z"
   },
   {
    "duration": 1225,
    "start_time": "2022-10-16T15:56:33.573Z"
   },
   {
    "duration": 24,
    "start_time": "2022-10-16T15:56:34.802Z"
   },
   {
    "duration": 26,
    "start_time": "2022-10-16T15:56:34.828Z"
   },
   {
    "duration": 46,
    "start_time": "2022-10-16T15:56:34.857Z"
   },
   {
    "duration": 26,
    "start_time": "2022-10-16T15:56:34.906Z"
   },
   {
    "duration": 18,
    "start_time": "2022-10-16T15:56:34.934Z"
   },
   {
    "duration": 41,
    "start_time": "2022-10-16T15:56:34.954Z"
   },
   {
    "duration": 41,
    "start_time": "2022-10-16T15:56:34.997Z"
   },
   {
    "duration": 5,
    "start_time": "2022-10-16T15:56:35.041Z"
   },
   {
    "duration": 25,
    "start_time": "2022-10-16T15:56:35.048Z"
   },
   {
    "duration": 17,
    "start_time": "2022-10-16T15:56:35.075Z"
   },
   {
    "duration": 23,
    "start_time": "2022-10-16T15:56:35.095Z"
   },
   {
    "duration": 12,
    "start_time": "2022-10-16T15:56:35.120Z"
   },
   {
    "duration": 45,
    "start_time": "2022-10-16T15:56:35.137Z"
   },
   {
    "duration": 12,
    "start_time": "2022-10-16T15:56:35.189Z"
   },
   {
    "duration": 5,
    "start_time": "2022-10-16T15:56:35.202Z"
   },
   {
    "duration": 22,
    "start_time": "2022-10-16T15:56:35.209Z"
   },
   {
    "duration": 56,
    "start_time": "2022-10-16T15:56:35.233Z"
   },
   {
    "duration": 27,
    "start_time": "2022-10-16T15:56:35.292Z"
   },
   {
    "duration": 5,
    "start_time": "2022-10-16T15:56:35.321Z"
   },
   {
    "duration": 30,
    "start_time": "2022-10-16T15:56:35.329Z"
   },
   {
    "duration": 21,
    "start_time": "2022-10-16T15:56:35.361Z"
   },
   {
    "duration": 8,
    "start_time": "2022-10-16T15:56:35.389Z"
   },
   {
    "duration": 34,
    "start_time": "2022-10-16T15:56:35.399Z"
   },
   {
    "duration": 31,
    "start_time": "2022-10-16T15:56:35.436Z"
   },
   {
    "duration": 8,
    "start_time": "2022-10-16T15:56:35.470Z"
   },
   {
    "duration": 25,
    "start_time": "2022-10-16T15:56:35.480Z"
   },
   {
    "duration": 197,
    "start_time": "2022-10-16T15:56:35.507Z"
   },
   {
    "duration": 77,
    "start_time": "2022-10-16T16:02:06.236Z"
   },
   {
    "duration": 28,
    "start_time": "2022-10-16T16:02:12.948Z"
   },
   {
    "duration": 29,
    "start_time": "2022-10-16T16:05:11.937Z"
   },
   {
    "duration": 4,
    "start_time": "2022-10-16T16:09:06.812Z"
   },
   {
    "duration": 10,
    "start_time": "2022-10-16T16:09:09.119Z"
   },
   {
    "duration": 29,
    "start_time": "2022-10-16T16:09:11.711Z"
   },
   {
    "duration": 8,
    "start_time": "2022-10-16T16:09:34.774Z"
   },
   {
    "duration": 9,
    "start_time": "2022-10-16T16:15:26.140Z"
   },
   {
    "duration": 14,
    "start_time": "2022-10-16T16:15:51.847Z"
   },
   {
    "duration": 7,
    "start_time": "2022-10-16T16:16:04.405Z"
   },
   {
    "duration": 9,
    "start_time": "2022-10-16T16:16:06.952Z"
   },
   {
    "duration": 10,
    "start_time": "2022-10-16T16:16:09.453Z"
   },
   {
    "duration": 11,
    "start_time": "2022-10-16T16:16:13.074Z"
   },
   {
    "duration": 12,
    "start_time": "2022-10-16T16:16:41.114Z"
   },
   {
    "duration": 12,
    "start_time": "2022-10-16T16:16:49.210Z"
   },
   {
    "duration": 11,
    "start_time": "2022-10-16T16:17:20.005Z"
   },
   {
    "duration": 11,
    "start_time": "2022-10-16T16:17:31.457Z"
   },
   {
    "duration": 14,
    "start_time": "2022-10-16T16:17:45.244Z"
   },
   {
    "duration": 13,
    "start_time": "2022-10-16T16:20:42.721Z"
   },
   {
    "duration": 22,
    "start_time": "2022-10-16T16:21:05.406Z"
   },
   {
    "duration": 13,
    "start_time": "2022-10-16T16:25:01.681Z"
   },
   {
    "duration": 7,
    "start_time": "2022-10-16T16:25:31.635Z"
   },
   {
    "duration": 11,
    "start_time": "2022-10-16T16:25:33.422Z"
   },
   {
    "duration": 11,
    "start_time": "2022-10-16T16:25:41.088Z"
   },
   {
    "duration": 18,
    "start_time": "2022-10-16T16:25:44.022Z"
   },
   {
    "duration": 15,
    "start_time": "2022-10-16T16:25:51.756Z"
   },
   {
    "duration": 14,
    "start_time": "2022-10-16T16:26:25.505Z"
   },
   {
    "duration": 13,
    "start_time": "2022-10-16T16:26:46.260Z"
   },
   {
    "duration": 14,
    "start_time": "2022-10-16T16:28:11.044Z"
   },
   {
    "duration": 9,
    "start_time": "2022-10-16T16:32:09.089Z"
   },
   {
    "duration": 49,
    "start_time": "2022-10-16T16:32:28.287Z"
   },
   {
    "duration": 23,
    "start_time": "2022-10-16T16:32:54.403Z"
   },
   {
    "duration": 23,
    "start_time": "2022-10-16T16:33:21.270Z"
   },
   {
    "duration": 3,
    "start_time": "2022-10-16T16:35:14.324Z"
   },
   {
    "duration": 7,
    "start_time": "2022-10-16T16:35:17.194Z"
   },
   {
    "duration": 38,
    "start_time": "2022-10-16T16:35:20.790Z"
   },
   {
    "duration": 11,
    "start_time": "2022-10-16T16:35:33.585Z"
   },
   {
    "duration": 37,
    "start_time": "2022-10-16T16:35:58.389Z"
   },
   {
    "duration": 26,
    "start_time": "2022-10-16T16:36:22.201Z"
   },
   {
    "duration": 24,
    "start_time": "2022-10-16T16:36:47.361Z"
   },
   {
    "duration": 40,
    "start_time": "2022-10-16T16:39:23.521Z"
   },
   {
    "duration": 48,
    "start_time": "2022-10-16T16:39:59.132Z"
   },
   {
    "duration": 19,
    "start_time": "2022-10-16T16:40:56.604Z"
   },
   {
    "duration": 34,
    "start_time": "2022-10-16T16:41:15.753Z"
   },
   {
    "duration": 8,
    "start_time": "2022-10-16T16:43:49.465Z"
   },
   {
    "duration": 9,
    "start_time": "2022-10-16T16:43:51.761Z"
   },
   {
    "duration": 13,
    "start_time": "2022-10-16T16:43:55.118Z"
   },
   {
    "duration": 11,
    "start_time": "2022-10-16T16:47:06.105Z"
   },
   {
    "duration": 11,
    "start_time": "2022-10-16T16:48:31.020Z"
   },
   {
    "duration": 11,
    "start_time": "2022-10-16T16:48:37.802Z"
   },
   {
    "duration": 12,
    "start_time": "2022-10-16T16:49:49.880Z"
   },
   {
    "duration": 10,
    "start_time": "2022-10-16T16:49:54.166Z"
   },
   {
    "duration": 14,
    "start_time": "2022-10-16T16:50:34.713Z"
   },
   {
    "duration": 18,
    "start_time": "2022-10-16T16:51:52.023Z"
   },
   {
    "duration": 4,
    "start_time": "2022-10-16T16:52:57.870Z"
   },
   {
    "duration": 10,
    "start_time": "2022-10-16T16:52:59.981Z"
   },
   {
    "duration": 9,
    "start_time": "2022-10-16T16:53:15.102Z"
   },
   {
    "duration": 16,
    "start_time": "2022-10-16T16:53:22.008Z"
   },
   {
    "duration": 1198,
    "start_time": "2022-10-16T16:54:52.352Z"
   },
   {
    "duration": 1145,
    "start_time": "2022-10-16T16:55:16.707Z"
   },
   {
    "duration": 1278,
    "start_time": "2022-10-16T16:55:36.872Z"
   },
   {
    "duration": 13,
    "start_time": "2022-10-16T16:55:42.429Z"
   },
   {
    "duration": 15,
    "start_time": "2022-10-16T16:57:03.060Z"
   },
   {
    "duration": 17,
    "start_time": "2022-10-16T16:57:10.961Z"
   },
   {
    "duration": 14,
    "start_time": "2022-10-16T16:57:14.406Z"
   },
   {
    "duration": 15,
    "start_time": "2022-10-16T16:57:36.837Z"
   },
   {
    "duration": 16,
    "start_time": "2022-10-16T16:58:00.342Z"
   },
   {
    "duration": 17,
    "start_time": "2022-10-16T16:58:04.467Z"
   },
   {
    "duration": 14,
    "start_time": "2022-10-16T18:18:53.920Z"
   },
   {
    "duration": 15,
    "start_time": "2022-10-16T18:19:44.355Z"
   },
   {
    "duration": 16,
    "start_time": "2022-10-16T18:20:05.590Z"
   },
   {
    "duration": 14,
    "start_time": "2022-10-16T18:22:30.536Z"
   },
   {
    "duration": 15,
    "start_time": "2022-10-16T18:22:34.940Z"
   },
   {
    "duration": 15,
    "start_time": "2022-10-16T18:22:52.468Z"
   },
   {
    "duration": 81,
    "start_time": "2022-10-16T18:23:24.476Z"
   },
   {
    "duration": 10,
    "start_time": "2022-10-16T18:23:27.430Z"
   },
   {
    "duration": 15,
    "start_time": "2022-10-16T18:23:34.901Z"
   },
   {
    "duration": 9,
    "start_time": "2022-10-16T18:25:16.717Z"
   },
   {
    "duration": 9,
    "start_time": "2022-10-16T18:25:22.468Z"
   },
   {
    "duration": 9,
    "start_time": "2022-10-16T18:26:38.635Z"
   },
   {
    "duration": 19,
    "start_time": "2022-10-16T18:26:51.791Z"
   },
   {
    "duration": 24,
    "start_time": "2022-10-16T18:26:58.529Z"
   },
   {
    "duration": 17,
    "start_time": "2022-10-16T18:27:41.683Z"
   },
   {
    "duration": 16,
    "start_time": "2022-10-16T18:28:07.402Z"
   },
   {
    "duration": 17,
    "start_time": "2022-10-16T18:45:23.734Z"
   },
   {
    "duration": 17,
    "start_time": "2022-10-16T18:45:41.263Z"
   },
   {
    "duration": 11,
    "start_time": "2022-10-16T18:47:11.926Z"
   },
   {
    "duration": 82,
    "start_time": "2022-10-16T18:47:17.757Z"
   },
   {
    "duration": 15,
    "start_time": "2022-10-16T18:47:17.841Z"
   },
   {
    "duration": 43,
    "start_time": "2022-10-16T18:47:17.858Z"
   },
   {
    "duration": 21,
    "start_time": "2022-10-16T18:47:17.903Z"
   },
   {
    "duration": 20,
    "start_time": "2022-10-16T18:47:17.926Z"
   },
   {
    "duration": 47,
    "start_time": "2022-10-16T18:47:17.948Z"
   },
   {
    "duration": 11,
    "start_time": "2022-10-16T18:47:17.997Z"
   },
   {
    "duration": 37,
    "start_time": "2022-10-16T18:47:18.010Z"
   },
   {
    "duration": 4,
    "start_time": "2022-10-16T18:47:18.048Z"
   },
   {
    "duration": 36,
    "start_time": "2022-10-16T18:47:18.055Z"
   },
   {
    "duration": 5,
    "start_time": "2022-10-16T18:47:18.092Z"
   },
   {
    "duration": 14,
    "start_time": "2022-10-16T18:47:18.099Z"
   },
   {
    "duration": 5,
    "start_time": "2022-10-16T18:47:18.115Z"
   },
   {
    "duration": 72,
    "start_time": "2022-10-16T18:47:18.122Z"
   },
   {
    "duration": 13,
    "start_time": "2022-10-16T18:47:18.197Z"
   },
   {
    "duration": 8,
    "start_time": "2022-10-16T18:47:18.213Z"
   },
   {
    "duration": 15,
    "start_time": "2022-10-16T18:47:18.223Z"
   },
   {
    "duration": 26,
    "start_time": "2022-10-16T18:47:18.240Z"
   },
   {
    "duration": 42,
    "start_time": "2022-10-16T18:47:18.268Z"
   },
   {
    "duration": 4,
    "start_time": "2022-10-16T18:47:18.311Z"
   },
   {
    "duration": 15,
    "start_time": "2022-10-16T18:47:18.316Z"
   },
   {
    "duration": 7,
    "start_time": "2022-10-16T18:47:18.333Z"
   },
   {
    "duration": 4,
    "start_time": "2022-10-16T18:47:18.342Z"
   },
   {
    "duration": 10,
    "start_time": "2022-10-16T18:47:18.348Z"
   },
   {
    "duration": 9,
    "start_time": "2022-10-16T18:47:18.388Z"
   },
   {
    "duration": 6,
    "start_time": "2022-10-16T18:47:18.398Z"
   },
   {
    "duration": 13,
    "start_time": "2022-10-16T18:47:18.406Z"
   },
   {
    "duration": 175,
    "start_time": "2022-10-16T18:47:18.422Z"
   },
   {
    "duration": 4,
    "start_time": "2022-10-16T18:47:18.598Z"
   },
   {
    "duration": 12,
    "start_time": "2022-10-16T18:47:18.604Z"
   },
   {
    "duration": 16,
    "start_time": "2022-10-16T18:47:18.618Z"
   },
   {
    "duration": 10,
    "start_time": "2022-10-16T18:47:18.636Z"
   },
   {
    "duration": 9,
    "start_time": "2022-10-16T18:47:18.648Z"
   },
   {
    "duration": 12,
    "start_time": "2022-10-16T18:47:18.690Z"
   },
   {
    "duration": 18,
    "start_time": "2022-10-16T18:47:25.001Z"
   },
   {
    "duration": 17,
    "start_time": "2022-10-16T18:48:01.025Z"
   },
   {
    "duration": 86,
    "start_time": "2022-10-16T18:49:54.861Z"
   },
   {
    "duration": 14,
    "start_time": "2022-10-16T18:49:54.949Z"
   },
   {
    "duration": 37,
    "start_time": "2022-10-16T18:49:54.965Z"
   },
   {
    "duration": 23,
    "start_time": "2022-10-16T18:49:55.004Z"
   },
   {
    "duration": 23,
    "start_time": "2022-10-16T18:49:55.030Z"
   },
   {
    "duration": 43,
    "start_time": "2022-10-16T18:49:55.055Z"
   },
   {
    "duration": 12,
    "start_time": "2022-10-16T18:49:55.100Z"
   },
   {
    "duration": 37,
    "start_time": "2022-10-16T18:49:55.114Z"
   },
   {
    "duration": 4,
    "start_time": "2022-10-16T18:49:55.153Z"
   },
   {
    "duration": 37,
    "start_time": "2022-10-16T18:49:55.158Z"
   },
   {
    "duration": 6,
    "start_time": "2022-10-16T18:49:55.196Z"
   },
   {
    "duration": 10,
    "start_time": "2022-10-16T18:49:55.203Z"
   },
   {
    "duration": 6,
    "start_time": "2022-10-16T18:49:55.215Z"
   },
   {
    "duration": 70,
    "start_time": "2022-10-16T18:49:55.229Z"
   },
   {
    "duration": 12,
    "start_time": "2022-10-16T18:49:55.301Z"
   },
   {
    "duration": 4,
    "start_time": "2022-10-16T18:49:55.315Z"
   },
   {
    "duration": 17,
    "start_time": "2022-10-16T18:49:55.321Z"
   },
   {
    "duration": 27,
    "start_time": "2022-10-16T18:49:55.340Z"
   },
   {
    "duration": 48,
    "start_time": "2022-10-16T18:49:55.368Z"
   },
   {
    "duration": 4,
    "start_time": "2022-10-16T18:49:55.418Z"
   },
   {
    "duration": 16,
    "start_time": "2022-10-16T18:49:55.424Z"
   },
   {
    "duration": 9,
    "start_time": "2022-10-16T18:49:55.441Z"
   },
   {
    "duration": 3,
    "start_time": "2022-10-16T18:49:55.452Z"
   },
   {
    "duration": 11,
    "start_time": "2022-10-16T18:49:55.457Z"
   },
   {
    "duration": 30,
    "start_time": "2022-10-16T18:49:55.470Z"
   },
   {
    "duration": 6,
    "start_time": "2022-10-16T18:49:55.504Z"
   },
   {
    "duration": 12,
    "start_time": "2022-10-16T18:49:55.512Z"
   },
   {
    "duration": 154,
    "start_time": "2022-10-16T18:49:55.526Z"
   },
   {
    "duration": 3,
    "start_time": "2022-10-16T18:49:55.682Z"
   },
   {
    "duration": 33,
    "start_time": "2022-10-16T18:49:55.687Z"
   },
   {
    "duration": 29,
    "start_time": "2022-10-16T18:49:55.722Z"
   },
   {
    "duration": 8,
    "start_time": "2022-10-16T18:49:55.752Z"
   },
   {
    "duration": 17,
    "start_time": "2022-10-16T18:49:55.761Z"
   },
   {
    "duration": 33,
    "start_time": "2022-10-16T18:49:55.779Z"
   },
   {
    "duration": 195,
    "start_time": "2022-10-16T18:49:55.813Z"
   },
   {
    "duration": 16,
    "start_time": "2022-10-16T18:49:56.010Z"
   },
   {
    "duration": 8,
    "start_time": "2022-10-16T18:49:56.027Z"
   },
   {
    "duration": 22,
    "start_time": "2022-10-16T18:49:56.036Z"
   },
   {
    "duration": 23,
    "start_time": "2022-10-16T18:49:56.060Z"
   },
   {
    "duration": 177,
    "start_time": "2022-10-16T18:49:56.085Z"
   },
   {
    "duration": 20,
    "start_time": "2022-10-16T18:49:59.893Z"
   },
   {
    "duration": 22,
    "start_time": "2022-10-16T18:52:01.144Z"
   },
   {
    "duration": 789,
    "start_time": "2022-10-16T19:06:26.787Z"
   },
   {
    "duration": 25,
    "start_time": "2022-10-16T19:06:27.578Z"
   },
   {
    "duration": 33,
    "start_time": "2022-10-16T19:06:27.604Z"
   },
   {
    "duration": 22,
    "start_time": "2022-10-16T19:06:27.640Z"
   },
   {
    "duration": 46,
    "start_time": "2022-10-16T19:06:27.665Z"
   },
   {
    "duration": 19,
    "start_time": "2022-10-16T19:06:27.713Z"
   },
   {
    "duration": 32,
    "start_time": "2022-10-16T19:06:27.734Z"
   },
   {
    "duration": 68,
    "start_time": "2022-10-16T19:06:27.768Z"
   },
   {
    "duration": 4,
    "start_time": "2022-10-16T19:06:27.838Z"
   },
   {
    "duration": 26,
    "start_time": "2022-10-16T19:06:27.845Z"
   },
   {
    "duration": 16,
    "start_time": "2022-10-16T19:06:27.873Z"
   },
   {
    "duration": 27,
    "start_time": "2022-10-16T19:06:27.891Z"
   },
   {
    "duration": 15,
    "start_time": "2022-10-16T19:06:27.920Z"
   },
   {
    "duration": 74,
    "start_time": "2022-10-16T19:06:27.937Z"
   },
   {
    "duration": 14,
    "start_time": "2022-10-16T19:06:28.014Z"
   },
   {
    "duration": 19,
    "start_time": "2022-10-16T19:06:28.030Z"
   },
   {
    "duration": 31,
    "start_time": "2022-10-16T19:06:28.051Z"
   },
   {
    "duration": 44,
    "start_time": "2022-10-16T19:06:28.083Z"
   },
   {
    "duration": 22,
    "start_time": "2022-10-16T19:06:28.129Z"
   },
   {
    "duration": 11,
    "start_time": "2022-10-16T19:06:28.153Z"
   },
   {
    "duration": 26,
    "start_time": "2022-10-16T19:06:28.166Z"
   },
   {
    "duration": 35,
    "start_time": "2022-10-16T19:06:28.193Z"
   },
   {
    "duration": 33,
    "start_time": "2022-10-16T19:06:28.230Z"
   },
   {
    "duration": 38,
    "start_time": "2022-10-16T19:06:28.264Z"
   },
   {
    "duration": 28,
    "start_time": "2022-10-16T19:06:28.304Z"
   },
   {
    "duration": 20,
    "start_time": "2022-10-16T19:06:28.333Z"
   },
   {
    "duration": 20,
    "start_time": "2022-10-16T19:06:28.354Z"
   },
   {
    "duration": 183,
    "start_time": "2022-10-16T19:06:28.378Z"
   },
   {
    "duration": 4,
    "start_time": "2022-10-16T19:06:28.562Z"
   },
   {
    "duration": 9,
    "start_time": "2022-10-16T19:06:28.567Z"
   },
   {
    "duration": 25,
    "start_time": "2022-10-16T19:06:28.578Z"
   },
   {
    "duration": 9,
    "start_time": "2022-10-16T19:06:28.605Z"
   },
   {
    "duration": 9,
    "start_time": "2022-10-16T19:06:28.616Z"
   },
   {
    "duration": 12,
    "start_time": "2022-10-16T19:06:28.627Z"
   },
   {
    "duration": 178,
    "start_time": "2022-10-16T19:06:28.641Z"
   },
   {
    "duration": 15,
    "start_time": "2022-10-16T19:06:28.821Z"
   },
   {
    "duration": 8,
    "start_time": "2022-10-16T19:06:28.837Z"
   },
   {
    "duration": 6,
    "start_time": "2022-10-16T19:06:28.846Z"
   },
   {
    "duration": 36,
    "start_time": "2022-10-16T19:06:28.854Z"
   },
   {
    "duration": 161,
    "start_time": "2022-10-16T19:06:28.892Z"
   },
   {
    "duration": 14,
    "start_time": "2022-10-16T19:06:29.054Z"
   },
   {
    "duration": 20,
    "start_time": "2022-10-16T19:06:29.070Z"
   },
   {
    "duration": 7,
    "start_time": "2022-10-16T19:06:29.092Z"
   },
   {
    "duration": 12,
    "start_time": "2022-10-16T19:06:29.100Z"
   },
   {
    "duration": 171,
    "start_time": "2022-10-16T19:06:29.115Z"
   },
   {
    "duration": 15,
    "start_time": "2022-10-16T19:06:29.287Z"
   },
   {
    "duration": 1073,
    "start_time": "2022-10-17T05:42:59.375Z"
   },
   {
    "duration": 19,
    "start_time": "2022-10-17T05:43:00.450Z"
   },
   {
    "duration": 23,
    "start_time": "2022-10-17T05:43:00.470Z"
   },
   {
    "duration": 19,
    "start_time": "2022-10-17T05:43:00.495Z"
   },
   {
    "duration": 18,
    "start_time": "2022-10-17T05:43:00.515Z"
   },
   {
    "duration": 13,
    "start_time": "2022-10-17T05:43:00.535Z"
   },
   {
    "duration": 39,
    "start_time": "2022-10-17T05:43:00.549Z"
   },
   {
    "duration": 49,
    "start_time": "2022-10-17T05:43:00.590Z"
   },
   {
    "duration": 21,
    "start_time": "2022-10-17T05:43:00.641Z"
   },
   {
    "duration": 46,
    "start_time": "2022-10-17T05:43:00.665Z"
   },
   {
    "duration": 32,
    "start_time": "2022-10-17T05:43:00.712Z"
   },
   {
    "duration": 34,
    "start_time": "2022-10-17T05:43:00.745Z"
   },
   {
    "duration": 24,
    "start_time": "2022-10-17T05:43:00.780Z"
   },
   {
    "duration": 50,
    "start_time": "2022-10-17T05:43:00.806Z"
   },
   {
    "duration": 9,
    "start_time": "2022-10-17T05:43:00.857Z"
   },
   {
    "duration": 32,
    "start_time": "2022-10-17T05:43:00.867Z"
   },
   {
    "duration": 33,
    "start_time": "2022-10-17T05:43:00.901Z"
   },
   {
    "duration": 35,
    "start_time": "2022-10-17T05:43:00.935Z"
   },
   {
    "duration": 51,
    "start_time": "2022-10-17T05:43:00.972Z"
   },
   {
    "duration": 31,
    "start_time": "2022-10-17T05:43:01.025Z"
   },
   {
    "duration": 44,
    "start_time": "2022-10-17T05:43:01.057Z"
   },
   {
    "duration": 51,
    "start_time": "2022-10-17T05:43:01.102Z"
   },
   {
    "duration": 29,
    "start_time": "2022-10-17T05:43:01.155Z"
   },
   {
    "duration": 69,
    "start_time": "2022-10-17T05:43:01.186Z"
   },
   {
    "duration": 31,
    "start_time": "2022-10-17T05:43:01.257Z"
   },
   {
    "duration": 39,
    "start_time": "2022-10-17T05:43:01.290Z"
   },
   {
    "duration": 58,
    "start_time": "2022-10-17T05:43:01.331Z"
   },
   {
    "duration": 293,
    "start_time": "2022-10-17T05:43:01.392Z"
   },
   {
    "duration": 4,
    "start_time": "2022-10-17T05:43:01.687Z"
   },
   {
    "duration": 59,
    "start_time": "2022-10-17T05:43:01.692Z"
   },
   {
    "duration": 59,
    "start_time": "2022-10-17T05:43:01.753Z"
   },
   {
    "duration": 76,
    "start_time": "2022-10-17T05:43:01.814Z"
   },
   {
    "duration": 30,
    "start_time": "2022-10-17T05:43:01.892Z"
   },
   {
    "duration": 23,
    "start_time": "2022-10-17T05:43:01.923Z"
   },
   {
    "duration": 265,
    "start_time": "2022-10-17T05:43:01.947Z"
   },
   {
    "duration": 13,
    "start_time": "2022-10-17T05:43:02.213Z"
   },
   {
    "duration": 68,
    "start_time": "2022-10-17T05:43:02.228Z"
   },
   {
    "duration": 33,
    "start_time": "2022-10-17T05:43:02.298Z"
   },
   {
    "duration": 57,
    "start_time": "2022-10-17T05:43:02.332Z"
   },
   {
    "duration": 319,
    "start_time": "2022-10-17T05:43:02.391Z"
   },
   {
    "duration": 14,
    "start_time": "2022-10-17T05:43:02.712Z"
   },
   {
    "duration": 63,
    "start_time": "2022-10-17T05:43:02.728Z"
   },
   {
    "duration": 7,
    "start_time": "2022-10-17T05:43:02.792Z"
   },
   {
    "duration": 30,
    "start_time": "2022-10-17T05:43:02.800Z"
   },
   {
    "duration": 273,
    "start_time": "2022-10-17T05:43:02.831Z"
   },
   {
    "duration": 13,
    "start_time": "2022-10-17T05:43:03.105Z"
   },
   {
    "duration": 8,
    "start_time": "2022-10-17T05:43:46.295Z"
   },
   {
    "duration": 669,
    "start_time": "2022-10-17T05:44:14.988Z"
   },
   {
    "duration": 19,
    "start_time": "2022-10-17T05:44:15.659Z"
   },
   {
    "duration": 19,
    "start_time": "2022-10-17T05:44:15.679Z"
   },
   {
    "duration": 17,
    "start_time": "2022-10-17T05:44:15.700Z"
   },
   {
    "duration": 18,
    "start_time": "2022-10-17T05:44:15.719Z"
   },
   {
    "duration": 13,
    "start_time": "2022-10-17T05:44:15.738Z"
   },
   {
    "duration": 34,
    "start_time": "2022-10-17T05:44:15.752Z"
   },
   {
    "duration": 39,
    "start_time": "2022-10-17T05:44:15.787Z"
   },
   {
    "duration": 3,
    "start_time": "2022-10-17T05:44:15.828Z"
   },
   {
    "duration": 14,
    "start_time": "2022-10-17T05:44:15.833Z"
   },
   {
    "duration": 4,
    "start_time": "2022-10-17T05:44:15.849Z"
   },
   {
    "duration": 7,
    "start_time": "2022-10-17T05:44:15.855Z"
   },
   {
    "duration": 23,
    "start_time": "2022-10-17T05:44:15.863Z"
   },
   {
    "duration": 32,
    "start_time": "2022-10-17T05:44:15.888Z"
   },
   {
    "duration": 8,
    "start_time": "2022-10-17T05:44:15.922Z"
   },
   {
    "duration": 3,
    "start_time": "2022-10-17T05:44:15.932Z"
   },
   {
    "duration": 14,
    "start_time": "2022-10-17T05:44:15.936Z"
   },
   {
    "duration": 39,
    "start_time": "2022-10-17T05:44:15.951Z"
   },
   {
    "duration": 15,
    "start_time": "2022-10-17T05:44:15.992Z"
   },
   {
    "duration": 3,
    "start_time": "2022-10-17T05:44:16.008Z"
   },
   {
    "duration": 12,
    "start_time": "2022-10-17T05:44:16.012Z"
   },
   {
    "duration": 12,
    "start_time": "2022-10-17T05:44:16.025Z"
   },
   {
    "duration": 4,
    "start_time": "2022-10-17T05:44:16.038Z"
   },
   {
    "duration": 13,
    "start_time": "2022-10-17T05:44:16.043Z"
   },
   {
    "duration": 6,
    "start_time": "2022-10-17T05:44:16.057Z"
   },
   {
    "duration": 5,
    "start_time": "2022-10-17T05:44:16.085Z"
   },
   {
    "duration": 11,
    "start_time": "2022-10-17T05:44:16.091Z"
   },
   {
    "duration": 131,
    "start_time": "2022-10-17T05:44:16.105Z"
   },
   {
    "duration": 4,
    "start_time": "2022-10-17T05:44:16.237Z"
   },
   {
    "duration": 10,
    "start_time": "2022-10-17T05:44:16.242Z"
   },
   {
    "duration": 13,
    "start_time": "2022-10-17T05:44:16.253Z"
   },
   {
    "duration": 23,
    "start_time": "2022-10-17T05:44:16.267Z"
   },
   {
    "duration": 14,
    "start_time": "2022-10-17T05:44:16.292Z"
   },
   {
    "duration": 6,
    "start_time": "2022-10-17T05:44:16.307Z"
   },
   {
    "duration": 10,
    "start_time": "2022-10-17T05:44:16.314Z"
   },
   {
    "duration": 160,
    "start_time": "2022-10-17T05:44:16.325Z"
   },
   {
    "duration": 13,
    "start_time": "2022-10-17T05:44:16.486Z"
   },
   {
    "duration": 7,
    "start_time": "2022-10-17T05:44:16.500Z"
   },
   {
    "duration": 5,
    "start_time": "2022-10-17T05:44:16.508Z"
   },
   {
    "duration": 10,
    "start_time": "2022-10-17T05:44:16.515Z"
   },
   {
    "duration": 160,
    "start_time": "2022-10-17T05:44:16.526Z"
   },
   {
    "duration": 12,
    "start_time": "2022-10-17T05:44:16.688Z"
   },
   {
    "duration": 6,
    "start_time": "2022-10-17T05:44:16.702Z"
   },
   {
    "duration": 9,
    "start_time": "2022-10-17T05:44:16.709Z"
   },
   {
    "duration": 10,
    "start_time": "2022-10-17T05:44:16.719Z"
   },
   {
    "duration": 145,
    "start_time": "2022-10-17T05:44:16.730Z"
   },
   {
    "duration": 21,
    "start_time": "2022-10-17T05:44:16.877Z"
   },
   {
    "duration": 674,
    "start_time": "2022-10-17T05:44:56.418Z"
   },
   {
    "duration": 17,
    "start_time": "2022-10-17T05:44:57.093Z"
   },
   {
    "duration": 16,
    "start_time": "2022-10-17T05:44:57.112Z"
   },
   {
    "duration": 23,
    "start_time": "2022-10-17T05:44:57.130Z"
   },
   {
    "duration": 42,
    "start_time": "2022-10-17T05:44:57.155Z"
   },
   {
    "duration": 12,
    "start_time": "2022-10-17T05:44:57.199Z"
   },
   {
    "duration": 8,
    "start_time": "2022-10-17T05:44:57.212Z"
   },
   {
    "duration": 32,
    "start_time": "2022-10-17T05:44:57.221Z"
   },
   {
    "duration": 31,
    "start_time": "2022-10-17T05:44:57.255Z"
   },
   {
    "duration": 12,
    "start_time": "2022-10-17T05:44:57.290Z"
   },
   {
    "duration": 8,
    "start_time": "2022-10-17T05:44:57.304Z"
   },
   {
    "duration": 7,
    "start_time": "2022-10-17T05:44:57.314Z"
   },
   {
    "duration": 5,
    "start_time": "2022-10-17T05:44:57.323Z"
   },
   {
    "duration": 29,
    "start_time": "2022-10-17T05:44:57.330Z"
   },
   {
    "duration": 8,
    "start_time": "2022-10-17T05:44:57.385Z"
   },
   {
    "duration": 13,
    "start_time": "2022-10-17T05:44:57.395Z"
   },
   {
    "duration": 22,
    "start_time": "2022-10-17T05:44:57.409Z"
   },
   {
    "duration": 22,
    "start_time": "2022-10-17T05:44:57.432Z"
   },
   {
    "duration": 16,
    "start_time": "2022-10-17T05:44:57.456Z"
   },
   {
    "duration": 4,
    "start_time": "2022-10-17T05:44:57.474Z"
   },
   {
    "duration": 17,
    "start_time": "2022-10-17T05:44:57.479Z"
   },
   {
    "duration": 9,
    "start_time": "2022-10-17T05:44:57.497Z"
   },
   {
    "duration": 7,
    "start_time": "2022-10-17T05:44:57.508Z"
   },
   {
    "duration": 22,
    "start_time": "2022-10-17T05:44:57.516Z"
   },
   {
    "duration": 9,
    "start_time": "2022-10-17T05:44:57.540Z"
   },
   {
    "duration": 9,
    "start_time": "2022-10-17T05:44:57.551Z"
   },
   {
    "duration": 11,
    "start_time": "2022-10-17T05:44:57.561Z"
   },
   {
    "duration": 128,
    "start_time": "2022-10-17T05:44:57.575Z"
   },
   {
    "duration": 3,
    "start_time": "2022-10-17T05:44:57.705Z"
   },
   {
    "duration": 12,
    "start_time": "2022-10-17T05:44:57.710Z"
   },
   {
    "duration": 16,
    "start_time": "2022-10-17T05:44:57.723Z"
   },
   {
    "duration": 7,
    "start_time": "2022-10-17T05:44:57.740Z"
   },
   {
    "duration": 13,
    "start_time": "2022-10-17T05:44:57.748Z"
   },
   {
    "duration": 7,
    "start_time": "2022-10-17T05:44:57.785Z"
   },
   {
    "duration": 16,
    "start_time": "2022-10-17T05:44:57.794Z"
   },
   {
    "duration": 149,
    "start_time": "2022-10-17T05:44:57.812Z"
   },
   {
    "duration": 13,
    "start_time": "2022-10-17T05:44:57.963Z"
   },
   {
    "duration": 9,
    "start_time": "2022-10-17T05:44:57.985Z"
   },
   {
    "duration": 9,
    "start_time": "2022-10-17T05:44:57.995Z"
   },
   {
    "duration": 13,
    "start_time": "2022-10-17T05:44:58.006Z"
   },
   {
    "duration": 166,
    "start_time": "2022-10-17T05:44:58.021Z"
   },
   {
    "duration": 15,
    "start_time": "2022-10-17T05:44:58.189Z"
   },
   {
    "duration": 9,
    "start_time": "2022-10-17T05:44:58.206Z"
   },
   {
    "duration": 6,
    "start_time": "2022-10-17T05:44:58.217Z"
   },
   {
    "duration": 10,
    "start_time": "2022-10-17T05:44:58.225Z"
   },
   {
    "duration": 179,
    "start_time": "2022-10-17T05:44:58.236Z"
   },
   {
    "duration": 68,
    "start_time": "2022-10-17T05:44:58.417Z"
   },
   {
    "duration": 8,
    "start_time": "2022-10-18T15:21:24.977Z"
   },
   {
    "duration": 1081,
    "start_time": "2022-10-18T15:21:39.878Z"
   },
   {
    "duration": 18,
    "start_time": "2022-10-18T15:21:40.961Z"
   },
   {
    "duration": 30,
    "start_time": "2022-10-18T15:21:40.980Z"
   },
   {
    "duration": 33,
    "start_time": "2022-10-18T15:21:41.011Z"
   },
   {
    "duration": 37,
    "start_time": "2022-10-18T15:21:41.046Z"
   },
   {
    "duration": 37,
    "start_time": "2022-10-18T15:21:41.084Z"
   },
   {
    "duration": 28,
    "start_time": "2022-10-18T15:21:41.123Z"
   },
   {
    "duration": 59,
    "start_time": "2022-10-18T15:21:41.152Z"
   },
   {
    "duration": 8,
    "start_time": "2022-10-18T15:21:41.213Z"
   },
   {
    "duration": 38,
    "start_time": "2022-10-18T15:21:41.222Z"
   },
   {
    "duration": 22,
    "start_time": "2022-10-18T15:21:41.262Z"
   },
   {
    "duration": 38,
    "start_time": "2022-10-18T15:21:41.286Z"
   },
   {
    "duration": 24,
    "start_time": "2022-10-18T15:21:41.325Z"
   },
   {
    "duration": 54,
    "start_time": "2022-10-18T15:21:41.352Z"
   },
   {
    "duration": 11,
    "start_time": "2022-10-18T15:21:41.407Z"
   },
   {
    "duration": 23,
    "start_time": "2022-10-18T15:21:41.420Z"
   },
   {
    "duration": 38,
    "start_time": "2022-10-18T15:21:41.444Z"
   },
   {
    "duration": 56,
    "start_time": "2022-10-18T15:21:41.483Z"
   },
   {
    "duration": 28,
    "start_time": "2022-10-18T15:21:41.541Z"
   },
   {
    "duration": 21,
    "start_time": "2022-10-18T15:21:41.570Z"
   },
   {
    "duration": 33,
    "start_time": "2022-10-18T15:21:41.593Z"
   },
   {
    "duration": 42,
    "start_time": "2022-10-18T15:21:41.627Z"
   },
   {
    "duration": 26,
    "start_time": "2022-10-18T15:21:41.671Z"
   },
   {
    "duration": 23,
    "start_time": "2022-10-18T15:21:41.699Z"
   },
   {
    "duration": 28,
    "start_time": "2022-10-18T15:21:41.724Z"
   },
   {
    "duration": 28,
    "start_time": "2022-10-18T15:21:41.753Z"
   },
   {
    "duration": 24,
    "start_time": "2022-10-18T15:21:41.782Z"
   },
   {
    "duration": 141,
    "start_time": "2022-10-18T15:21:41.808Z"
   },
   {
    "duration": 85,
    "start_time": "2022-10-18T15:21:46.980Z"
   },
   {
    "duration": 6,
    "start_time": "2022-10-18T15:21:51.976Z"
   },
   {
    "duration": 14,
    "start_time": "2022-10-18T15:21:53.885Z"
   },
   {
    "duration": 7,
    "start_time": "2022-10-18T15:22:48.575Z"
   },
   {
    "duration": 14,
    "start_time": "2022-10-18T15:23:11.909Z"
   },
   {
    "duration": 117,
    "start_time": "2022-10-18T15:23:34.887Z"
   },
   {
    "duration": 711,
    "start_time": "2022-10-18T15:37:20.661Z"
   },
   {
    "duration": 17,
    "start_time": "2022-10-18T15:37:21.373Z"
   },
   {
    "duration": 21,
    "start_time": "2022-10-18T15:37:21.392Z"
   },
   {
    "duration": 31,
    "start_time": "2022-10-18T15:37:21.415Z"
   },
   {
    "duration": 48,
    "start_time": "2022-10-18T15:37:21.448Z"
   },
   {
    "duration": 7,
    "start_time": "2022-10-18T15:37:21.498Z"
   },
   {
    "duration": 32,
    "start_time": "2022-10-18T15:37:21.506Z"
   },
   {
    "duration": 28,
    "start_time": "2022-10-18T15:37:21.540Z"
   },
   {
    "duration": 29,
    "start_time": "2022-10-18T15:37:21.569Z"
   },
   {
    "duration": 12,
    "start_time": "2022-10-18T15:37:21.599Z"
   },
   {
    "duration": 33,
    "start_time": "2022-10-18T15:37:21.612Z"
   },
   {
    "duration": 8,
    "start_time": "2022-10-18T15:37:21.647Z"
   },
   {
    "duration": 5,
    "start_time": "2022-10-18T15:37:21.656Z"
   },
   {
    "duration": 14,
    "start_time": "2022-10-18T15:37:21.664Z"
   },
   {
    "duration": 23,
    "start_time": "2022-10-18T15:37:21.680Z"
   },
   {
    "duration": 16,
    "start_time": "2022-10-18T15:37:21.704Z"
   },
   {
    "duration": 3,
    "start_time": "2022-10-18T15:37:21.721Z"
   },
   {
    "duration": 12,
    "start_time": "2022-10-18T15:37:21.726Z"
   },
   {
    "duration": 5,
    "start_time": "2022-10-18T15:37:21.740Z"
   },
   {
    "duration": 4,
    "start_time": "2022-10-18T15:37:21.746Z"
   },
   {
    "duration": 13,
    "start_time": "2022-10-18T15:37:21.751Z"
   },
   {
    "duration": 22,
    "start_time": "2022-10-18T15:37:21.766Z"
   },
   {
    "duration": 7,
    "start_time": "2022-10-18T15:37:21.789Z"
   },
   {
    "duration": 9,
    "start_time": "2022-10-18T15:37:21.798Z"
   },
   {
    "duration": 152,
    "start_time": "2022-10-18T15:37:21.808Z"
   },
   {
    "duration": 3,
    "start_time": "2022-10-18T15:37:21.962Z"
   },
   {
    "duration": 19,
    "start_time": "2022-10-18T15:37:21.966Z"
   },
   {
    "duration": 18,
    "start_time": "2022-10-18T15:37:21.986Z"
   },
   {
    "duration": 10,
    "start_time": "2022-10-18T15:37:22.006Z"
   },
   {
    "duration": 19,
    "start_time": "2022-10-18T15:37:22.017Z"
   },
   {
    "duration": 14,
    "start_time": "2022-10-18T15:37:22.037Z"
   },
   {
    "duration": 137,
    "start_time": "2022-10-18T15:37:22.053Z"
   },
   {
    "duration": 15,
    "start_time": "2022-10-18T15:37:22.191Z"
   },
   {
    "duration": 12,
    "start_time": "2022-10-18T15:37:22.207Z"
   },
   {
    "duration": 15,
    "start_time": "2022-10-18T15:37:22.220Z"
   },
   {
    "duration": 10,
    "start_time": "2022-10-18T15:37:22.236Z"
   },
   {
    "duration": 148,
    "start_time": "2022-10-18T15:37:22.248Z"
   },
   {
    "duration": 14,
    "start_time": "2022-10-18T15:37:22.397Z"
   },
   {
    "duration": 7,
    "start_time": "2022-10-18T15:37:22.412Z"
   },
   {
    "duration": 14,
    "start_time": "2022-10-18T15:37:22.420Z"
   },
   {
    "duration": 11,
    "start_time": "2022-10-18T15:37:22.436Z"
   },
   {
    "duration": 143,
    "start_time": "2022-10-18T15:37:22.448Z"
   },
   {
    "duration": 14,
    "start_time": "2022-10-18T15:37:22.592Z"
   },
   {
    "duration": 729,
    "start_time": "2022-10-18T15:41:55.364Z"
   },
   {
    "duration": 18,
    "start_time": "2022-10-18T15:41:56.095Z"
   },
   {
    "duration": 14,
    "start_time": "2022-10-18T15:41:56.115Z"
   },
   {
    "duration": 8,
    "start_time": "2022-10-18T15:41:56.130Z"
   },
   {
    "duration": 55,
    "start_time": "2022-10-18T15:41:56.140Z"
   },
   {
    "duration": 4,
    "start_time": "2022-10-18T15:41:56.197Z"
   },
   {
    "duration": 11,
    "start_time": "2022-10-18T15:41:56.202Z"
   },
   {
    "duration": 5,
    "start_time": "2022-10-18T15:41:56.214Z"
   },
   {
    "duration": 11,
    "start_time": "2022-10-18T15:41:56.220Z"
   },
   {
    "duration": 4,
    "start_time": "2022-10-18T15:41:56.232Z"
   },
   {
    "duration": 51,
    "start_time": "2022-10-18T15:41:56.238Z"
   },
   {
    "duration": 8,
    "start_time": "2022-10-18T15:41:56.291Z"
   },
   {
    "duration": 17,
    "start_time": "2022-10-18T15:41:56.301Z"
   },
   {
    "duration": 12,
    "start_time": "2022-10-18T15:41:56.321Z"
   },
   {
    "duration": 20,
    "start_time": "2022-10-18T15:41:56.335Z"
   },
   {
    "duration": 16,
    "start_time": "2022-10-18T15:41:56.356Z"
   },
   {
    "duration": 11,
    "start_time": "2022-10-18T15:41:56.375Z"
   },
   {
    "duration": 36,
    "start_time": "2022-10-18T15:41:56.388Z"
   },
   {
    "duration": 19,
    "start_time": "2022-10-18T15:41:56.426Z"
   },
   {
    "duration": 5,
    "start_time": "2022-10-18T15:41:56.447Z"
   },
   {
    "duration": 17,
    "start_time": "2022-10-18T15:41:56.453Z"
   },
   {
    "duration": 11,
    "start_time": "2022-10-18T15:41:56.472Z"
   },
   {
    "duration": 6,
    "start_time": "2022-10-18T15:41:56.484Z"
   },
   {
    "duration": 8,
    "start_time": "2022-10-18T15:41:56.492Z"
   },
   {
    "duration": 142,
    "start_time": "2022-10-18T15:41:56.502Z"
   },
   {
    "duration": 3,
    "start_time": "2022-10-18T15:41:56.646Z"
   },
   {
    "duration": 9,
    "start_time": "2022-10-18T15:41:56.651Z"
   },
   {
    "duration": 33,
    "start_time": "2022-10-18T15:41:56.662Z"
   },
   {
    "duration": 8,
    "start_time": "2022-10-18T15:41:56.697Z"
   },
   {
    "duration": 8,
    "start_time": "2022-10-18T15:41:56.707Z"
   },
   {
    "duration": 11,
    "start_time": "2022-10-18T15:41:56.717Z"
   },
   {
    "duration": 149,
    "start_time": "2022-10-18T15:41:56.729Z"
   },
   {
    "duration": 15,
    "start_time": "2022-10-18T15:41:56.884Z"
   },
   {
    "duration": 7,
    "start_time": "2022-10-18T15:41:56.900Z"
   },
   {
    "duration": 5,
    "start_time": "2022-10-18T15:41:56.909Z"
   },
   {
    "duration": 9,
    "start_time": "2022-10-18T15:41:56.915Z"
   },
   {
    "duration": 211,
    "start_time": "2022-10-18T15:41:56.926Z"
   },
   {
    "duration": 18,
    "start_time": "2022-10-18T15:41:57.139Z"
   },
   {
    "duration": 8,
    "start_time": "2022-10-18T15:41:57.159Z"
   },
   {
    "duration": 23,
    "start_time": "2022-10-18T15:41:57.169Z"
   },
   {
    "duration": 11,
    "start_time": "2022-10-18T15:41:57.196Z"
   },
   {
    "duration": 146,
    "start_time": "2022-10-18T15:41:57.209Z"
   },
   {
    "duration": 15,
    "start_time": "2022-10-18T15:41:57.357Z"
   }
  ],
  "colab": {
   "name": "dpp_template_part2.ipynb",
   "provenance": []
  },
  "kernelspec": {
   "display_name": "Python 3 (ipykernel)",
   "language": "python",
   "name": "python3"
  },
  "language_info": {
   "codemirror_mode": {
    "name": "ipython",
    "version": 3
   },
   "file_extension": ".py",
   "mimetype": "text/x-python",
   "name": "python",
   "nbconvert_exporter": "python",
   "pygments_lexer": "ipython3",
   "version": "3.9.5"
  },
  "toc": {
   "base_numbering": 1,
   "nav_menu": {
    "height": "107px",
    "width": "276px"
   },
   "number_sections": true,
   "sideBar": true,
   "skip_h1_title": true,
   "title_cell": "Table of Contents",
   "title_sidebar": "Contents",
   "toc_cell": false,
   "toc_position": {
    "height": "520.8px",
    "left": "22px",
    "top": "137.125px",
    "width": "401px"
   },
   "toc_section_display": true,
   "toc_window_display": false
  }
 },
 "nbformat": 4,
 "nbformat_minor": 5
}
