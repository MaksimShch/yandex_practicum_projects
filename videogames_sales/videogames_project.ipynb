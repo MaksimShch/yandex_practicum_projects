{
 "cells": [
  {
   "cell_type": "markdown",
   "metadata": {},
   "source": [
    "# Анализ продаж видеоигр\n",
    "\n",
    "**Задача:**\n",
    "\n",
    "Изучить данные, оставив только те, что будут полезны для выявления определяющих успешность игры закономерностей. Это позволит сделать ставку на потенциально популярный продукт и спланировать будущие рекламные кампании.\n",
    "\n",
    "**Ход исследования:**\n",
    "\n",
    "Предобработка данных:\n",
    "- Обработка столбцов (приведение к нижнему регистру, добавление вспомогательных)\n",
    "- Приведение значений к правильному типу данных\n",
    "- Обработка особенностей и пропусков в значениях\n",
    "\n",
    "Исследовательский анализ:\n",
    "- Выявление платформ с наибольшим количеством проданных игр\n",
    "- Выявление актуальных платформ и периода для прогнозирования\n",
    "- Расчет корреляции между отзывами об играх и общими продажами для актуальных платформ\n",
    "- Выявление наиболее прибыльных жанров игр\n",
    "- Составление портрета пользователя каждого региона\n",
    "\n",
    "Проверка гипотез:\n",
    "- О равенстве средних пользовательских рейтингов платфом PC и Xbox One\n",
    "- О неравенстве средних пользовательских рейтингов жанров Action и Sports\n",
    "\n",
    "**Описание данных:**\n",
    "- Name — название игры\n",
    "- Platform — платформа\n",
    "- Year_of_Release — год выпуска\n",
    "- Genre — жанр игры\n",
    "- NA_sales — продажи в Северной Америке (миллионы проданных копий)\n",
    "- EU_sales — продажи в Европе (миллионы проданных копий)\n",
    "- JP_sales — продажи в Японии (миллионы проданных копий)\n",
    "- Other_sales — продажи в других странах (миллионы проданных копий)\n",
    "- Critic_Score — оценка критиков (максимум 100)\n",
    "- User_Score — оценка пользователей (максимум 10)\n",
    "- Rating — рейтинг от организации ESRB (англ. Entertainment Software Rating Board). Эта ассоциация определяет рейтинг компьютерных игр и присваивает им подходящую возрастную категорию.\n",
    "\n",
    "Данные за 2016 год могут быть неполными.\n"
   ]
  },
  {
   "cell_type": "markdown",
   "metadata": {},
   "source": [
    "## Предобработка данных"
   ]
  },
  {
   "cell_type": "markdown",
   "metadata": {},
   "source": [
    "Импорт библиотек."
   ]
  },
  {
   "cell_type": "code",
   "execution_count": 1,
   "metadata": {},
   "outputs": [],
   "source": [
    "import pandas as pd\n",
    "import matplotlib.pyplot as plt\n",
    "from scipy import stats as st\n",
    "import seaborn as sns"
   ]
  },
  {
   "cell_type": "markdown",
   "metadata": {},
   "source": [
    "Чтение и запись в переменную датафрейма из файла."
   ]
  },
  {
   "cell_type": "code",
   "execution_count": 2,
   "metadata": {},
   "outputs": [],
   "source": [
    "data = pd.read_csv('/datasets/games.csv')"
   ]
  },
  {
   "cell_type": "code",
   "execution_count": 3,
   "metadata": {
    "scrolled": true
   },
   "outputs": [
    {
     "data": {
      "text/html": [
       "<div>\n",
       "<style scoped>\n",
       "    .dataframe tbody tr th:only-of-type {\n",
       "        vertical-align: middle;\n",
       "    }\n",
       "\n",
       "    .dataframe tbody tr th {\n",
       "        vertical-align: top;\n",
       "    }\n",
       "\n",
       "    .dataframe thead th {\n",
       "        text-align: right;\n",
       "    }\n",
       "</style>\n",
       "<table border=\"1\" class=\"dataframe\">\n",
       "  <thead>\n",
       "    <tr style=\"text-align: right;\">\n",
       "      <th></th>\n",
       "      <th>Name</th>\n",
       "      <th>Platform</th>\n",
       "      <th>Year_of_Release</th>\n",
       "      <th>Genre</th>\n",
       "      <th>NA_sales</th>\n",
       "      <th>EU_sales</th>\n",
       "      <th>JP_sales</th>\n",
       "      <th>Other_sales</th>\n",
       "      <th>Critic_Score</th>\n",
       "      <th>User_Score</th>\n",
       "      <th>Rating</th>\n",
       "    </tr>\n",
       "  </thead>\n",
       "  <tbody>\n",
       "    <tr>\n",
       "      <th>0</th>\n",
       "      <td>Wii Sports</td>\n",
       "      <td>Wii</td>\n",
       "      <td>2006.0</td>\n",
       "      <td>Sports</td>\n",
       "      <td>41.36</td>\n",
       "      <td>28.96</td>\n",
       "      <td>3.77</td>\n",
       "      <td>8.45</td>\n",
       "      <td>76.0</td>\n",
       "      <td>8</td>\n",
       "      <td>E</td>\n",
       "    </tr>\n",
       "    <tr>\n",
       "      <th>1</th>\n",
       "      <td>Super Mario Bros.</td>\n",
       "      <td>NES</td>\n",
       "      <td>1985.0</td>\n",
       "      <td>Platform</td>\n",
       "      <td>29.08</td>\n",
       "      <td>3.58</td>\n",
       "      <td>6.81</td>\n",
       "      <td>0.77</td>\n",
       "      <td>NaN</td>\n",
       "      <td>NaN</td>\n",
       "      <td>NaN</td>\n",
       "    </tr>\n",
       "    <tr>\n",
       "      <th>2</th>\n",
       "      <td>Mario Kart Wii</td>\n",
       "      <td>Wii</td>\n",
       "      <td>2008.0</td>\n",
       "      <td>Racing</td>\n",
       "      <td>15.68</td>\n",
       "      <td>12.76</td>\n",
       "      <td>3.79</td>\n",
       "      <td>3.29</td>\n",
       "      <td>82.0</td>\n",
       "      <td>8.3</td>\n",
       "      <td>E</td>\n",
       "    </tr>\n",
       "    <tr>\n",
       "      <th>3</th>\n",
       "      <td>Wii Sports Resort</td>\n",
       "      <td>Wii</td>\n",
       "      <td>2009.0</td>\n",
       "      <td>Sports</td>\n",
       "      <td>15.61</td>\n",
       "      <td>10.93</td>\n",
       "      <td>3.28</td>\n",
       "      <td>2.95</td>\n",
       "      <td>80.0</td>\n",
       "      <td>8</td>\n",
       "      <td>E</td>\n",
       "    </tr>\n",
       "    <tr>\n",
       "      <th>4</th>\n",
       "      <td>Pokemon Red/Pokemon Blue</td>\n",
       "      <td>GB</td>\n",
       "      <td>1996.0</td>\n",
       "      <td>Role-Playing</td>\n",
       "      <td>11.27</td>\n",
       "      <td>8.89</td>\n",
       "      <td>10.22</td>\n",
       "      <td>1.00</td>\n",
       "      <td>NaN</td>\n",
       "      <td>NaN</td>\n",
       "      <td>NaN</td>\n",
       "    </tr>\n",
       "  </tbody>\n",
       "</table>\n",
       "</div>"
      ],
      "text/plain": [
       "                       Name Platform  Year_of_Release         Genre  NA_sales  \\\n",
       "0                Wii Sports      Wii           2006.0        Sports     41.36   \n",
       "1         Super Mario Bros.      NES           1985.0      Platform     29.08   \n",
       "2            Mario Kart Wii      Wii           2008.0        Racing     15.68   \n",
       "3         Wii Sports Resort      Wii           2009.0        Sports     15.61   \n",
       "4  Pokemon Red/Pokemon Blue       GB           1996.0  Role-Playing     11.27   \n",
       "\n",
       "   EU_sales  JP_sales  Other_sales  Critic_Score User_Score Rating  \n",
       "0     28.96      3.77         8.45          76.0          8      E  \n",
       "1      3.58      6.81         0.77           NaN        NaN    NaN  \n",
       "2     12.76      3.79         3.29          82.0        8.3      E  \n",
       "3     10.93      3.28         2.95          80.0          8      E  \n",
       "4      8.89     10.22         1.00           NaN        NaN    NaN  "
      ]
     },
     "execution_count": 3,
     "metadata": {},
     "output_type": "execute_result"
    }
   ],
   "source": [
    "data.head()"
   ]
  },
  {
   "cell_type": "markdown",
   "metadata": {},
   "source": [
    "Приведем названия столбцов к нижнему регистру."
   ]
  },
  {
   "cell_type": "code",
   "execution_count": 4,
   "metadata": {},
   "outputs": [],
   "source": [
    "data.columns = data.columns.str.lower()"
   ]
  },
  {
   "cell_type": "markdown",
   "metadata": {},
   "source": [
    "Выведем информацию о датафрейме, а также количество строк с пропусками."
   ]
  },
  {
   "cell_type": "code",
   "execution_count": 5,
   "metadata": {
    "scrolled": true
   },
   "outputs": [
    {
     "name": "stdout",
     "output_type": "stream",
     "text": [
      "<class 'pandas.core.frame.DataFrame'>\n",
      "RangeIndex: 16715 entries, 0 to 16714\n",
      "Data columns (total 11 columns):\n",
      " #   Column           Non-Null Count  Dtype  \n",
      "---  ------           --------------  -----  \n",
      " 0   name             16713 non-null  object \n",
      " 1   platform         16715 non-null  object \n",
      " 2   year_of_release  16446 non-null  float64\n",
      " 3   genre            16713 non-null  object \n",
      " 4   na_sales         16715 non-null  float64\n",
      " 5   eu_sales         16715 non-null  float64\n",
      " 6   jp_sales         16715 non-null  float64\n",
      " 7   other_sales      16715 non-null  float64\n",
      " 8   critic_score     8137 non-null   float64\n",
      " 9   user_score       10014 non-null  object \n",
      " 10  rating           9949 non-null   object \n",
      "dtypes: float64(6), object(5)\n",
      "memory usage: 1.4+ MB\n"
     ]
    }
   ],
   "source": [
    "data.info()"
   ]
  },
  {
   "cell_type": "code",
   "execution_count": 6,
   "metadata": {
    "scrolled": true
   },
   "outputs": [
    {
     "data": {
      "text/html": [
       "<style  type=\"text/css\" >\n",
       "#T_74fbf_row0_col0,#T_74fbf_row1_col0,#T_74fbf_row3_col0,#T_74fbf_row4_col0,#T_74fbf_row5_col0,#T_74fbf_row6_col0,#T_74fbf_row7_col0{\n",
       "            background-color:  #3b4cc0;\n",
       "            color:  #f1f1f1;\n",
       "        }#T_74fbf_row2_col0{\n",
       "            background-color:  #465ecf;\n",
       "            color:  #f1f1f1;\n",
       "        }#T_74fbf_row8_col0{\n",
       "            background-color:  #b40426;\n",
       "            color:  #f1f1f1;\n",
       "        }#T_74fbf_row9_col0,#T_74fbf_row10_col0{\n",
       "            background-color:  #f08b6e;\n",
       "            color:  #000000;\n",
       "        }</style><table id=\"T_74fbf_\" ><thead>    <tr>        <th class=\"blank level0\" ></th>        <th class=\"col_heading level0 col0\" >0</th>    </tr></thead><tbody>\n",
       "                <tr>\n",
       "                        <th id=\"T_74fbf_level0_row0\" class=\"row_heading level0 row0\" >name</th>\n",
       "                        <td id=\"T_74fbf_row0_col0\" class=\"data row0 col0\" >0.000000</td>\n",
       "            </tr>\n",
       "            <tr>\n",
       "                        <th id=\"T_74fbf_level0_row1\" class=\"row_heading level0 row1\" >platform</th>\n",
       "                        <td id=\"T_74fbf_row1_col0\" class=\"data row1 col0\" >0.000000</td>\n",
       "            </tr>\n",
       "            <tr>\n",
       "                        <th id=\"T_74fbf_level0_row2\" class=\"row_heading level0 row2\" >year_of_release</th>\n",
       "                        <td id=\"T_74fbf_row2_col0\" class=\"data row2 col0\" >2.000000</td>\n",
       "            </tr>\n",
       "            <tr>\n",
       "                        <th id=\"T_74fbf_level0_row3\" class=\"row_heading level0 row3\" >genre</th>\n",
       "                        <td id=\"T_74fbf_row3_col0\" class=\"data row3 col0\" >0.000000</td>\n",
       "            </tr>\n",
       "            <tr>\n",
       "                        <th id=\"T_74fbf_level0_row4\" class=\"row_heading level0 row4\" >na_sales</th>\n",
       "                        <td id=\"T_74fbf_row4_col0\" class=\"data row4 col0\" >0.000000</td>\n",
       "            </tr>\n",
       "            <tr>\n",
       "                        <th id=\"T_74fbf_level0_row5\" class=\"row_heading level0 row5\" >eu_sales</th>\n",
       "                        <td id=\"T_74fbf_row5_col0\" class=\"data row5 col0\" >0.000000</td>\n",
       "            </tr>\n",
       "            <tr>\n",
       "                        <th id=\"T_74fbf_level0_row6\" class=\"row_heading level0 row6\" >jp_sales</th>\n",
       "                        <td id=\"T_74fbf_row6_col0\" class=\"data row6 col0\" >0.000000</td>\n",
       "            </tr>\n",
       "            <tr>\n",
       "                        <th id=\"T_74fbf_level0_row7\" class=\"row_heading level0 row7\" >other_sales</th>\n",
       "                        <td id=\"T_74fbf_row7_col0\" class=\"data row7 col0\" >0.000000</td>\n",
       "            </tr>\n",
       "            <tr>\n",
       "                        <th id=\"T_74fbf_level0_row8\" class=\"row_heading level0 row8\" >critic_score</th>\n",
       "                        <td id=\"T_74fbf_row8_col0\" class=\"data row8 col0\" >51.000000</td>\n",
       "            </tr>\n",
       "            <tr>\n",
       "                        <th id=\"T_74fbf_level0_row9\" class=\"row_heading level0 row9\" >user_score</th>\n",
       "                        <td id=\"T_74fbf_row9_col0\" class=\"data row9 col0\" >40.000000</td>\n",
       "            </tr>\n",
       "            <tr>\n",
       "                        <th id=\"T_74fbf_level0_row10\" class=\"row_heading level0 row10\" >rating</th>\n",
       "                        <td id=\"T_74fbf_row10_col0\" class=\"data row10 col0\" >40.000000</td>\n",
       "            </tr>\n",
       "    </tbody></table>"
      ],
      "text/plain": [
       "<pandas.io.formats.style.Styler at 0x7fa401a06550>"
      ]
     },
     "execution_count": 6,
     "metadata": {},
     "output_type": "execute_result"
    }
   ],
   "source": [
    "pd.DataFrame(round(data.isna().mean()*100)).style.background_gradient('coolwarm')"
   ]
  },
  {
   "cell_type": "markdown",
   "metadata": {},
   "source": [
    "Проверим, есть ли в датафрейме дубликаты. Дубликатами будем считать строки, для которых одинаковое название игры и платформа:"
   ]
  },
  {
   "cell_type": "code",
   "execution_count": 7,
   "metadata": {
    "scrolled": false
   },
   "outputs": [
    {
     "data": {
      "text/html": [
       "<div>\n",
       "<style scoped>\n",
       "    .dataframe tbody tr th:only-of-type {\n",
       "        vertical-align: middle;\n",
       "    }\n",
       "\n",
       "    .dataframe tbody tr th {\n",
       "        vertical-align: top;\n",
       "    }\n",
       "\n",
       "    .dataframe thead th {\n",
       "        text-align: right;\n",
       "    }\n",
       "</style>\n",
       "<table border=\"1\" class=\"dataframe\">\n",
       "  <thead>\n",
       "    <tr style=\"text-align: right;\">\n",
       "      <th></th>\n",
       "      <th>name</th>\n",
       "      <th>platform</th>\n",
       "      <th>year_of_release</th>\n",
       "      <th>genre</th>\n",
       "      <th>na_sales</th>\n",
       "      <th>eu_sales</th>\n",
       "      <th>jp_sales</th>\n",
       "      <th>other_sales</th>\n",
       "      <th>critic_score</th>\n",
       "      <th>user_score</th>\n",
       "      <th>rating</th>\n",
       "    </tr>\n",
       "  </thead>\n",
       "  <tbody>\n",
       "    <tr>\n",
       "      <th>1591</th>\n",
       "      <td>Need for Speed: Most Wanted</td>\n",
       "      <td>X360</td>\n",
       "      <td>2005.0</td>\n",
       "      <td>Racing</td>\n",
       "      <td>1.0</td>\n",
       "      <td>0.13</td>\n",
       "      <td>0.02</td>\n",
       "      <td>0.10</td>\n",
       "      <td>83.0</td>\n",
       "      <td>8.5</td>\n",
       "      <td>T</td>\n",
       "    </tr>\n",
       "    <tr>\n",
       "      <th>4127</th>\n",
       "      <td>Sonic the Hedgehog</td>\n",
       "      <td>PS3</td>\n",
       "      <td>NaN</td>\n",
       "      <td>Platform</td>\n",
       "      <td>0.0</td>\n",
       "      <td>0.48</td>\n",
       "      <td>0.00</td>\n",
       "      <td>0.00</td>\n",
       "      <td>43.0</td>\n",
       "      <td>4.1</td>\n",
       "      <td>E10+</td>\n",
       "    </tr>\n",
       "    <tr>\n",
       "      <th>11715</th>\n",
       "      <td>Need for Speed: Most Wanted</td>\n",
       "      <td>PC</td>\n",
       "      <td>2012.0</td>\n",
       "      <td>Racing</td>\n",
       "      <td>0.0</td>\n",
       "      <td>0.06</td>\n",
       "      <td>0.00</td>\n",
       "      <td>0.02</td>\n",
       "      <td>82.0</td>\n",
       "      <td>8.5</td>\n",
       "      <td>T</td>\n",
       "    </tr>\n",
       "    <tr>\n",
       "      <th>14244</th>\n",
       "      <td>NaN</td>\n",
       "      <td>GEN</td>\n",
       "      <td>1993.0</td>\n",
       "      <td>NaN</td>\n",
       "      <td>0.0</td>\n",
       "      <td>0.00</td>\n",
       "      <td>0.03</td>\n",
       "      <td>0.00</td>\n",
       "      <td>NaN</td>\n",
       "      <td>NaN</td>\n",
       "      <td>NaN</td>\n",
       "    </tr>\n",
       "    <tr>\n",
       "      <th>16230</th>\n",
       "      <td>Madden NFL 13</td>\n",
       "      <td>PS3</td>\n",
       "      <td>2012.0</td>\n",
       "      <td>Sports</td>\n",
       "      <td>0.0</td>\n",
       "      <td>0.01</td>\n",
       "      <td>0.00</td>\n",
       "      <td>0.00</td>\n",
       "      <td>83.0</td>\n",
       "      <td>5.5</td>\n",
       "      <td>E</td>\n",
       "    </tr>\n",
       "  </tbody>\n",
       "</table>\n",
       "</div>"
      ],
      "text/plain": [
       "                              name platform  year_of_release     genre  \\\n",
       "1591   Need for Speed: Most Wanted     X360           2005.0    Racing   \n",
       "4127            Sonic the Hedgehog      PS3              NaN  Platform   \n",
       "11715  Need for Speed: Most Wanted       PC           2012.0    Racing   \n",
       "14244                          NaN      GEN           1993.0       NaN   \n",
       "16230                Madden NFL 13      PS3           2012.0    Sports   \n",
       "\n",
       "       na_sales  eu_sales  jp_sales  other_sales  critic_score user_score  \\\n",
       "1591        1.0      0.13      0.02         0.10          83.0        8.5   \n",
       "4127        0.0      0.48      0.00         0.00          43.0        4.1   \n",
       "11715       0.0      0.06      0.00         0.02          82.0        8.5   \n",
       "14244       0.0      0.00      0.03         0.00           NaN        NaN   \n",
       "16230       0.0      0.01      0.00         0.00          83.0        5.5   \n",
       "\n",
       "      rating  \n",
       "1591       T  \n",
       "4127    E10+  \n",
       "11715      T  \n",
       "14244    NaN  \n",
       "16230      E  "
      ]
     },
     "execution_count": 7,
     "metadata": {},
     "output_type": "execute_result"
    }
   ],
   "source": [
    "data[data.duplicated(subset=['name', 'platform'])]"
   ]
  },
  {
   "cell_type": "markdown",
   "metadata": {},
   "source": [
    "Удалим данные дубликаты."
   ]
  },
  {
   "cell_type": "code",
   "execution_count": 8,
   "metadata": {},
   "outputs": [],
   "source": [
    "data = data.drop_duplicates(subset=['name', 'platform']).reset_index(drop=True)"
   ]
  },
  {
   "cell_type": "markdown",
   "metadata": {},
   "source": [
    "Помимо того, что не во всех столбцах у данных указан правильный тип, также заметим, что есть несколько пропусков в столбце с названием игры `'name'` и годом выпуска `'year_of_release'`, а также большое количество пропусков в столбцах с рейтингом игры `'rating'`, оценками пользователей `'user_score'` и критиков `'critic_score'`.\n",
    "\n",
    "Так как пропусков названий игр и годов выпусков мало, удалим их - это не повлияет на качество данных.\n",
    "\n",
    "Пропуски в оценках пользователей и критиков заполнять не будем - их достаточно много, синтетические данные сильно повлияют на результат исследования.\n",
    "\n",
    "Пропуски в рейтинге игры заполним значением \"not defined\" (не определен), так как логичного метода для заполнения этих пропусков нет. Пропуски вероятнее всего связаны с тем, что:\n",
    "- организация ESRB появилась только в 1994 году, тогда как в датафрейме есть игры, выпущенные до 1994 года (начиная с 1980)\n",
    "- не существует обязательного требования, чтобы всем играм был присвоен рейтинг (хотя современные платформы и стараются не пропускать игры без рейтинга)\n",
    "- каким-то из игр рейтинг еще не был присвоен\n",
    "- также нельзя исключать ошибок при заполнении датафрейма\n"
   ]
  },
  {
   "cell_type": "code",
   "execution_count": 9,
   "metadata": {},
   "outputs": [],
   "source": [
    "data = data.dropna(subset=['year_of_release', 'name'])"
   ]
  },
  {
   "cell_type": "markdown",
   "metadata": {},
   "source": [
    "Далее поменяем типы данных в столбцах и заполним пропуски в столбце с рейтингом игры:"
   ]
  },
  {
   "cell_type": "code",
   "execution_count": 10,
   "metadata": {
    "scrolled": false
   },
   "outputs": [
    {
     "ename": "ValueError",
     "evalue": "could not convert string to float: 'tbd'",
     "output_type": "error",
     "traceback": [
      "\u001b[0;31m---------------------------------------------------------------------------\u001b[0m",
      "\u001b[0;31mValueError\u001b[0m                                Traceback (most recent call last)",
      "\u001b[0;32m/tmp/ipykernel_82/1646438959.py\u001b[0m in \u001b[0;36m<module>\u001b[0;34m\u001b[0m\n\u001b[1;32m      1\u001b[0m \u001b[0mdata\u001b[0m\u001b[0;34m[\u001b[0m\u001b[0;34m'rating'\u001b[0m\u001b[0;34m]\u001b[0m\u001b[0;34m.\u001b[0m\u001b[0mfillna\u001b[0m\u001b[0;34m(\u001b[0m\u001b[0;34m'Not defined'\u001b[0m\u001b[0;34m,\u001b[0m \u001b[0minplace\u001b[0m\u001b[0;34m=\u001b[0m\u001b[0;32mTrue\u001b[0m\u001b[0;34m)\u001b[0m\u001b[0;34m\u001b[0m\u001b[0;34m\u001b[0m\u001b[0m\n\u001b[1;32m      2\u001b[0m \u001b[0mdata\u001b[0m\u001b[0;34m[\u001b[0m\u001b[0;34m'year_of_release'\u001b[0m\u001b[0;34m]\u001b[0m \u001b[0;34m=\u001b[0m \u001b[0mdata\u001b[0m\u001b[0;34m[\u001b[0m\u001b[0;34m'year_of_release'\u001b[0m\u001b[0;34m]\u001b[0m\u001b[0;34m.\u001b[0m\u001b[0mastype\u001b[0m\u001b[0;34m(\u001b[0m\u001b[0;34m'int64'\u001b[0m\u001b[0;34m)\u001b[0m\u001b[0;34m\u001b[0m\u001b[0;34m\u001b[0m\u001b[0m\n\u001b[0;32m----> 3\u001b[0;31m \u001b[0mdata\u001b[0m\u001b[0;34m[\u001b[0m\u001b[0;34m'user_score'\u001b[0m\u001b[0;34m]\u001b[0m \u001b[0;34m=\u001b[0m \u001b[0mdata\u001b[0m\u001b[0;34m[\u001b[0m\u001b[0;34m'user_score'\u001b[0m\u001b[0;34m]\u001b[0m\u001b[0;34m.\u001b[0m\u001b[0mastype\u001b[0m\u001b[0;34m(\u001b[0m\u001b[0;34m'float64'\u001b[0m\u001b[0;34m)\u001b[0m\u001b[0;34m\u001b[0m\u001b[0;34m\u001b[0m\u001b[0m\n\u001b[0m",
      "\u001b[0;32m/opt/conda/lib/python3.9/site-packages/pandas/core/generic.py\u001b[0m in \u001b[0;36mastype\u001b[0;34m(self, dtype, copy, errors)\u001b[0m\n\u001b[1;32m   5875\u001b[0m         \u001b[0;32melse\u001b[0m\u001b[0;34m:\u001b[0m\u001b[0;34m\u001b[0m\u001b[0;34m\u001b[0m\u001b[0m\n\u001b[1;32m   5876\u001b[0m             \u001b[0;31m# else, only a single dtype is given\u001b[0m\u001b[0;34m\u001b[0m\u001b[0;34m\u001b[0m\u001b[0;34m\u001b[0m\u001b[0m\n\u001b[0;32m-> 5877\u001b[0;31m             \u001b[0mnew_data\u001b[0m \u001b[0;34m=\u001b[0m \u001b[0mself\u001b[0m\u001b[0;34m.\u001b[0m\u001b[0m_mgr\u001b[0m\u001b[0;34m.\u001b[0m\u001b[0mastype\u001b[0m\u001b[0;34m(\u001b[0m\u001b[0mdtype\u001b[0m\u001b[0;34m=\u001b[0m\u001b[0mdtype\u001b[0m\u001b[0;34m,\u001b[0m \u001b[0mcopy\u001b[0m\u001b[0;34m=\u001b[0m\u001b[0mcopy\u001b[0m\u001b[0;34m,\u001b[0m \u001b[0merrors\u001b[0m\u001b[0;34m=\u001b[0m\u001b[0merrors\u001b[0m\u001b[0;34m)\u001b[0m\u001b[0;34m\u001b[0m\u001b[0;34m\u001b[0m\u001b[0m\n\u001b[0m\u001b[1;32m   5878\u001b[0m             \u001b[0;32mreturn\u001b[0m \u001b[0mself\u001b[0m\u001b[0;34m.\u001b[0m\u001b[0m_constructor\u001b[0m\u001b[0;34m(\u001b[0m\u001b[0mnew_data\u001b[0m\u001b[0;34m)\u001b[0m\u001b[0;34m.\u001b[0m\u001b[0m__finalize__\u001b[0m\u001b[0;34m(\u001b[0m\u001b[0mself\u001b[0m\u001b[0;34m,\u001b[0m \u001b[0mmethod\u001b[0m\u001b[0;34m=\u001b[0m\u001b[0;34m\"astype\"\u001b[0m\u001b[0;34m)\u001b[0m\u001b[0;34m\u001b[0m\u001b[0;34m\u001b[0m\u001b[0m\n\u001b[1;32m   5879\u001b[0m \u001b[0;34m\u001b[0m\u001b[0m\n",
      "\u001b[0;32m/opt/conda/lib/python3.9/site-packages/pandas/core/internals/managers.py\u001b[0m in \u001b[0;36mastype\u001b[0;34m(self, dtype, copy, errors)\u001b[0m\n\u001b[1;32m    629\u001b[0m         \u001b[0mself\u001b[0m\u001b[0;34m,\u001b[0m \u001b[0mdtype\u001b[0m\u001b[0;34m,\u001b[0m \u001b[0mcopy\u001b[0m\u001b[0;34m:\u001b[0m \u001b[0mbool\u001b[0m \u001b[0;34m=\u001b[0m \u001b[0;32mFalse\u001b[0m\u001b[0;34m,\u001b[0m \u001b[0merrors\u001b[0m\u001b[0;34m:\u001b[0m \u001b[0mstr\u001b[0m \u001b[0;34m=\u001b[0m \u001b[0;34m\"raise\"\u001b[0m\u001b[0;34m\u001b[0m\u001b[0;34m\u001b[0m\u001b[0m\n\u001b[1;32m    630\u001b[0m     ) -> \"BlockManager\":\n\u001b[0;32m--> 631\u001b[0;31m         \u001b[0;32mreturn\u001b[0m \u001b[0mself\u001b[0m\u001b[0;34m.\u001b[0m\u001b[0mapply\u001b[0m\u001b[0;34m(\u001b[0m\u001b[0;34m\"astype\"\u001b[0m\u001b[0;34m,\u001b[0m \u001b[0mdtype\u001b[0m\u001b[0;34m=\u001b[0m\u001b[0mdtype\u001b[0m\u001b[0;34m,\u001b[0m \u001b[0mcopy\u001b[0m\u001b[0;34m=\u001b[0m\u001b[0mcopy\u001b[0m\u001b[0;34m,\u001b[0m \u001b[0merrors\u001b[0m\u001b[0;34m=\u001b[0m\u001b[0merrors\u001b[0m\u001b[0;34m)\u001b[0m\u001b[0;34m\u001b[0m\u001b[0;34m\u001b[0m\u001b[0m\n\u001b[0m\u001b[1;32m    632\u001b[0m \u001b[0;34m\u001b[0m\u001b[0m\n\u001b[1;32m    633\u001b[0m     def convert(\n",
      "\u001b[0;32m/opt/conda/lib/python3.9/site-packages/pandas/core/internals/managers.py\u001b[0m in \u001b[0;36mapply\u001b[0;34m(self, f, align_keys, ignore_failures, **kwargs)\u001b[0m\n\u001b[1;32m    425\u001b[0m                     \u001b[0mapplied\u001b[0m \u001b[0;34m=\u001b[0m \u001b[0mb\u001b[0m\u001b[0;34m.\u001b[0m\u001b[0mapply\u001b[0m\u001b[0;34m(\u001b[0m\u001b[0mf\u001b[0m\u001b[0;34m,\u001b[0m \u001b[0;34m**\u001b[0m\u001b[0mkwargs\u001b[0m\u001b[0;34m)\u001b[0m\u001b[0;34m\u001b[0m\u001b[0;34m\u001b[0m\u001b[0m\n\u001b[1;32m    426\u001b[0m                 \u001b[0;32melse\u001b[0m\u001b[0;34m:\u001b[0m\u001b[0;34m\u001b[0m\u001b[0;34m\u001b[0m\u001b[0m\n\u001b[0;32m--> 427\u001b[0;31m                     \u001b[0mapplied\u001b[0m \u001b[0;34m=\u001b[0m \u001b[0mgetattr\u001b[0m\u001b[0;34m(\u001b[0m\u001b[0mb\u001b[0m\u001b[0;34m,\u001b[0m \u001b[0mf\u001b[0m\u001b[0;34m)\u001b[0m\u001b[0;34m(\u001b[0m\u001b[0;34m**\u001b[0m\u001b[0mkwargs\u001b[0m\u001b[0;34m)\u001b[0m\u001b[0;34m\u001b[0m\u001b[0;34m\u001b[0m\u001b[0m\n\u001b[0m\u001b[1;32m    428\u001b[0m             \u001b[0;32mexcept\u001b[0m \u001b[0;34m(\u001b[0m\u001b[0mTypeError\u001b[0m\u001b[0;34m,\u001b[0m \u001b[0mNotImplementedError\u001b[0m\u001b[0;34m)\u001b[0m\u001b[0;34m:\u001b[0m\u001b[0;34m\u001b[0m\u001b[0;34m\u001b[0m\u001b[0m\n\u001b[1;32m    429\u001b[0m                 \u001b[0;32mif\u001b[0m \u001b[0;32mnot\u001b[0m \u001b[0mignore_failures\u001b[0m\u001b[0;34m:\u001b[0m\u001b[0;34m\u001b[0m\u001b[0;34m\u001b[0m\u001b[0m\n",
      "\u001b[0;32m/opt/conda/lib/python3.9/site-packages/pandas/core/internals/blocks.py\u001b[0m in \u001b[0;36mastype\u001b[0;34m(self, dtype, copy, errors)\u001b[0m\n\u001b[1;32m    671\u001b[0m             \u001b[0mvals1d\u001b[0m \u001b[0;34m=\u001b[0m \u001b[0mvalues\u001b[0m\u001b[0;34m.\u001b[0m\u001b[0mravel\u001b[0m\u001b[0;34m(\u001b[0m\u001b[0;34m)\u001b[0m\u001b[0;34m\u001b[0m\u001b[0;34m\u001b[0m\u001b[0m\n\u001b[1;32m    672\u001b[0m             \u001b[0;32mtry\u001b[0m\u001b[0;34m:\u001b[0m\u001b[0;34m\u001b[0m\u001b[0;34m\u001b[0m\u001b[0m\n\u001b[0;32m--> 673\u001b[0;31m                 \u001b[0mvalues\u001b[0m \u001b[0;34m=\u001b[0m \u001b[0mastype_nansafe\u001b[0m\u001b[0;34m(\u001b[0m\u001b[0mvals1d\u001b[0m\u001b[0;34m,\u001b[0m \u001b[0mdtype\u001b[0m\u001b[0;34m,\u001b[0m \u001b[0mcopy\u001b[0m\u001b[0;34m=\u001b[0m\u001b[0;32mTrue\u001b[0m\u001b[0;34m)\u001b[0m\u001b[0;34m\u001b[0m\u001b[0;34m\u001b[0m\u001b[0m\n\u001b[0m\u001b[1;32m    674\u001b[0m             \u001b[0;32mexcept\u001b[0m \u001b[0;34m(\u001b[0m\u001b[0mValueError\u001b[0m\u001b[0;34m,\u001b[0m \u001b[0mTypeError\u001b[0m\u001b[0;34m)\u001b[0m\u001b[0;34m:\u001b[0m\u001b[0;34m\u001b[0m\u001b[0;34m\u001b[0m\u001b[0m\n\u001b[1;32m    675\u001b[0m                 \u001b[0;31m# e.g. astype_nansafe can fail on object-dtype of strings\u001b[0m\u001b[0;34m\u001b[0m\u001b[0;34m\u001b[0m\u001b[0;34m\u001b[0m\u001b[0m\n",
      "\u001b[0;32m/opt/conda/lib/python3.9/site-packages/pandas/core/dtypes/cast.py\u001b[0m in \u001b[0;36mastype_nansafe\u001b[0;34m(arr, dtype, copy, skipna)\u001b[0m\n\u001b[1;32m   1095\u001b[0m     \u001b[0;32mif\u001b[0m \u001b[0mcopy\u001b[0m \u001b[0;32mor\u001b[0m \u001b[0mis_object_dtype\u001b[0m\u001b[0;34m(\u001b[0m\u001b[0marr\u001b[0m\u001b[0;34m)\u001b[0m \u001b[0;32mor\u001b[0m \u001b[0mis_object_dtype\u001b[0m\u001b[0;34m(\u001b[0m\u001b[0mdtype\u001b[0m\u001b[0;34m)\u001b[0m\u001b[0;34m:\u001b[0m\u001b[0;34m\u001b[0m\u001b[0;34m\u001b[0m\u001b[0m\n\u001b[1;32m   1096\u001b[0m         \u001b[0;31m# Explicit copy, or required since NumPy can't view from / to object.\u001b[0m\u001b[0;34m\u001b[0m\u001b[0;34m\u001b[0m\u001b[0;34m\u001b[0m\u001b[0m\n\u001b[0;32m-> 1097\u001b[0;31m         \u001b[0;32mreturn\u001b[0m \u001b[0marr\u001b[0m\u001b[0;34m.\u001b[0m\u001b[0mastype\u001b[0m\u001b[0;34m(\u001b[0m\u001b[0mdtype\u001b[0m\u001b[0;34m,\u001b[0m \u001b[0mcopy\u001b[0m\u001b[0;34m=\u001b[0m\u001b[0;32mTrue\u001b[0m\u001b[0;34m)\u001b[0m\u001b[0;34m\u001b[0m\u001b[0;34m\u001b[0m\u001b[0m\n\u001b[0m\u001b[1;32m   1098\u001b[0m \u001b[0;34m\u001b[0m\u001b[0m\n\u001b[1;32m   1099\u001b[0m     \u001b[0;32mreturn\u001b[0m \u001b[0marr\u001b[0m\u001b[0;34m.\u001b[0m\u001b[0mview\u001b[0m\u001b[0;34m(\u001b[0m\u001b[0mdtype\u001b[0m\u001b[0;34m)\u001b[0m\u001b[0;34m\u001b[0m\u001b[0;34m\u001b[0m\u001b[0m\n",
      "\u001b[0;31mValueError\u001b[0m: could not convert string to float: 'tbd'"
     ]
    }
   ],
   "source": [
    "data['rating'].fillna('Not defined', inplace=True)\n",
    "data['year_of_release'] = data['year_of_release'].astype('int64')\n",
    "data['user_score'] = data['user_score'].astype('float64')"
   ]
  },
  {
   "cell_type": "markdown",
   "metadata": {},
   "source": [
    "Ошибка сигнализирует о том, что в столбце с оценками пользователей есть значение \"tbd\" - to be determined, то есть рейтинг еще не определен. Выявление причины заполнения таким значением требует дополнительных данных, возможно это связано с тем, что для некоторых игр нет достаточного количества пользовательских оценок для присвоения ей справедливой оценки."
   ]
  },
  {
   "cell_type": "markdown",
   "metadata": {},
   "source": [
    "Убедимся, что помимо пропусков \"nan\" и еще не заполненных значений \"tbd\", аномалий больше нет."
   ]
  },
  {
   "cell_type": "code",
   "execution_count": 11,
   "metadata": {},
   "outputs": [
    {
     "data": {
      "text/plain": [
       "array(['8', nan, '8.3', '8.5', '6.6', '8.4', '8.6', '7.7', '6.3', '7.4',\n",
       "       '8.2', '9', '7.9', '8.1', '8.7', '7.1', '3.4', '5.3', '4.8', '3.2',\n",
       "       '8.9', '6.4', '7.8', '7.5', '2.6', '7.2', '9.2', '7', '7.3', '4.3',\n",
       "       '7.6', '5.7', '5', '9.1', '6.5', 'tbd', '8.8', '6.9', '9.4', '6.8',\n",
       "       '6.1', '6.7', '5.4', '4', '4.9', '4.5', '9.3', '6.2', '4.2', '6',\n",
       "       '3.7', '4.1', '5.8', '5.6', '5.5', '4.4', '4.6', '5.9', '3.9',\n",
       "       '3.1', '2.9', '5.2', '3.3', '4.7', '5.1', '3.5', '2.5', '1.9', '3',\n",
       "       '2.7', '2.2', '2', '9.5', '2.1', '3.6', '2.8', '1.8', '3.8', '0',\n",
       "       '1.6', '9.6', '2.4', '1.7', '1.1', '0.3', '1.5', '0.7', '1.2',\n",
       "       '2.3', '0.5', '1.3', '0.2', '0.6', '1.4', '0.9', '1', '9.7'],\n",
       "      dtype=object)"
      ]
     },
     "execution_count": 11,
     "metadata": {},
     "output_type": "execute_result"
    }
   ],
   "source": [
    "data['user_score'].unique()"
   ]
  },
  {
   "cell_type": "markdown",
   "metadata": {},
   "source": [
    "Посмотрим, сколько в столбце с пользовательскими оценками значений \"tbd\"."
   ]
  },
  {
   "cell_type": "code",
   "execution_count": 12,
   "metadata": {
    "scrolled": false
   },
   "outputs": [
    {
     "data": {
      "text/plain": [
       "2376"
      ]
     },
     "execution_count": 12,
     "metadata": {},
     "output_type": "execute_result"
    }
   ],
   "source": [
    "len(data.query('user_score == \"tbd\"'))"
   ]
  },
  {
   "cell_type": "markdown",
   "metadata": {},
   "source": [
    "Так как фактически для этих игр пользовательских оценок нет, присвоим таким строкам значение nan, после чего поменяем тип данных в столбце."
   ]
  },
  {
   "cell_type": "code",
   "execution_count": 13,
   "metadata": {},
   "outputs": [],
   "source": [
    "data.loc[data['user_score'] == 'tbd', 'user_score'] = float('nan')\n",
    "data['user_score'] = data['user_score'].astype('float64')"
   ]
  },
  {
   "cell_type": "markdown",
   "metadata": {},
   "source": [
    "Еще раз выведем информацию о датафрейме, убедимся что тип данных во всех столбцах теперь верный."
   ]
  },
  {
   "cell_type": "code",
   "execution_count": 14,
   "metadata": {
    "scrolled": false
   },
   "outputs": [
    {
     "name": "stdout",
     "output_type": "stream",
     "text": [
      "<class 'pandas.core.frame.DataFrame'>\n",
      "Int64Index: 16441 entries, 0 to 16709\n",
      "Data columns (total 11 columns):\n",
      " #   Column           Non-Null Count  Dtype  \n",
      "---  ------           --------------  -----  \n",
      " 0   name             16441 non-null  object \n",
      " 1   platform         16441 non-null  object \n",
      " 2   year_of_release  16441 non-null  int64  \n",
      " 3   genre            16441 non-null  object \n",
      " 4   na_sales         16441 non-null  float64\n",
      " 5   eu_sales         16441 non-null  float64\n",
      " 6   jp_sales         16441 non-null  float64\n",
      " 7   other_sales      16441 non-null  float64\n",
      " 8   critic_score     7980 non-null   float64\n",
      " 9   user_score       7460 non-null   float64\n",
      " 10  rating           16441 non-null  object \n",
      "dtypes: float64(6), int64(1), object(4)\n",
      "memory usage: 1.5+ MB\n"
     ]
    }
   ],
   "source": [
    "data.info()"
   ]
  },
  {
   "cell_type": "markdown",
   "metadata": {},
   "source": [
    "Добавим столбец с суммарным количеством продаж для каждой игры. Для этого сложим продажи для каждого региона."
   ]
  },
  {
   "cell_type": "code",
   "execution_count": 15,
   "metadata": {},
   "outputs": [],
   "source": [
    "data['total_sales'] = data['na_sales'] + data['eu_sales'] + data['jp_sales'] + data['other_sales']"
   ]
  },
  {
   "cell_type": "markdown",
   "metadata": {},
   "source": [
    "---"
   ]
  },
  {
   "cell_type": "markdown",
   "metadata": {},
   "source": [
    "## Исследование данных"
   ]
  },
  {
   "cell_type": "markdown",
   "metadata": {},
   "source": [
    "### Количество выпущенных игр по годам"
   ]
  },
  {
   "cell_type": "markdown",
   "metadata": {},
   "source": [
    "Посмотрим, как распределяется количество выпущенных игр в зависимости от года."
   ]
  },
  {
   "cell_type": "code",
   "execution_count": 16,
   "metadata": {},
   "outputs": [],
   "source": [
    "data_by_year = data.groupby('year_of_release')['name'].count()"
   ]
  },
  {
   "cell_type": "code",
   "execution_count": 17,
   "metadata": {
    "scrolled": false
   },
   "outputs": [
    {
     "data": {
      "image/png": "[encoded data removed]",
      "text/plain": [
       "<Figure size 1080x360 with 1 Axes>"
      ]
     },
     "metadata": {
      "needs_background": "light"
     },
     "output_type": "display_data"
    }
   ],
   "source": [
    "data_by_year.plot(kind='bar', grid=True, figsize=(15,5))\n",
    "plt.title('Amount of released games per year')\n",
    "plt.show()"
   ]
  },
  {
   "cell_type": "markdown",
   "metadata": {},
   "source": [
    "Заметим, что с 1980 практически неизменно с каждым годом выпускалось все больше и больше игр, пик по количеству выпущенных игр пришелся на 2008-2009 год, тогда их было выпущено чуть больше 1400, после чего количество ежегодно выпускаемых игр уменьшалось, и в итоге уменьшилось более чем в 2 раза, по сравнению с максимальным значением."
   ]
  },
  {
   "cell_type": "code",
   "execution_count": 18,
   "metadata": {},
   "outputs": [],
   "source": [
    "temp = data.drop_duplicates(subset='name').reset_index(drop=True)"
   ]
  },
  {
   "cell_type": "code",
   "execution_count": 19,
   "metadata": {},
   "outputs": [
    {
     "data": {
      "image/png": "[encoded data removed]",
      "text/plain": [
       "<Figure size 1080x360 with 1 Axes>"
      ]
     },
     "metadata": {
      "needs_background": "light"
     },
     "output_type": "display_data"
    }
   ],
   "source": [
    "temp.groupby('year_of_release')['name'].count().plot(kind='bar', grid=True, figsize=(15,5))\n",
    "plt.show()"
   ]
  },
  {
   "cell_type": "markdown",
   "metadata": {},
   "source": [
    "Для нашего исследования будет достаточно учесть данные с 2012-2013 по 2016 год, так как динамика в эти годы практически неизменна. Точный диапазон лет, для которого будем проводить исследование, определим дальше."
   ]
  },
  {
   "cell_type": "markdown",
   "metadata": {},
   "source": [
    "---"
   ]
  },
  {
   "cell_type": "markdown",
   "metadata": {},
   "source": [
    "### Изменение продаж по платформам"
   ]
  },
  {
   "cell_type": "markdown",
   "metadata": {},
   "source": [
    "Посмотрим, как изменяется суммарное количество продаж для 15 наиболее популярных платформ от года к году."
   ]
  },
  {
   "cell_type": "code",
   "execution_count": 20,
   "metadata": {
    "scrolled": false
   },
   "outputs": [
    {
     "data": {
      "image/png": "[encoded data removed]",
      "text/plain": [
       "<Figure size 1440x360 with 1 Axes>"
      ]
     },
     "metadata": {
      "needs_background": "light"
     },
     "output_type": "display_data"
    }
   ],
   "source": [
    "top_platforms = data.groupby('platform')['total_sales'].\\\n",
    "sum().sort_values(ascending=False).head(15).index\n",
    "\n",
    "data.query('platform in @top_platforms')\\\n",
    ".pivot_table(index='year_of_release', columns='platform',values='total_sales', aggfunc='sum')\\\n",
    ".plot(grid=True, figsize=(20,5), ylabel=('total sales, mln'), xlabel=('year'), title=('Platforms sales depending on year'))\n",
    "\n",
    "plt.show()"
   ]
  },
  {
   "cell_type": "markdown",
   "metadata": {},
   "source": [
    "**Отметим следующее:**\n",
    "- \"срок жизни\" для каждой платформы можно разделить на 2 части: примерно половину этого срока популярность и количество продаваемых игр растет, после чего происходит уменьшение количества продаж.\n",
    "- \"сроки жизни\" у платформ немного различаются, но в среднем с момента появления платформы и до момента потери ее актуальности проходит 7-10 лет.\n",
    "- при этом есть особо удачные платформы, такие как PC (игры выпускались с 1994 и в 2016 продаются примерно так же часто) и PS2 (\"срок жизни\" составил более 10 лет).\n",
    "- к 2016 году все платформы, для которых еще выпускаются и продаются игры, находятся во второй стадии своей \"жизни\" - их актуальность идет на спад."
   ]
  },
  {
   "cell_type": "markdown",
   "metadata": {},
   "source": [
    "Попробуем выделить из общего списка платформ те, которые еще актуальны. Будем считать, что актуальный срок, который нужно учитывать для прогнозирования - последние 4 года (половина от среднего общего срока жизни платформы)."
   ]
  },
  {
   "cell_type": "code",
   "execution_count": 21,
   "metadata": {
    "scrolled": false
   },
   "outputs": [
    {
     "data": {
      "text/html": [
       "<div>\n",
       "<style scoped>\n",
       "    .dataframe tbody tr th:only-of-type {\n",
       "        vertical-align: middle;\n",
       "    }\n",
       "\n",
       "    .dataframe tbody tr th {\n",
       "        vertical-align: top;\n",
       "    }\n",
       "\n",
       "    .dataframe thead th {\n",
       "        text-align: right;\n",
       "    }\n",
       "</style>\n",
       "<table border=\"1\" class=\"dataframe\">\n",
       "  <thead>\n",
       "    <tr style=\"text-align: right;\">\n",
       "      <th></th>\n",
       "      <th></th>\n",
       "      <th>total_sales</th>\n",
       "    </tr>\n",
       "    <tr>\n",
       "      <th>platform</th>\n",
       "      <th>year_of_release</th>\n",
       "      <th></th>\n",
       "    </tr>\n",
       "  </thead>\n",
       "  <tbody>\n",
       "    <tr>\n",
       "      <th rowspan=\"4\" valign=\"top\">3DS</th>\n",
       "      <th>2013</th>\n",
       "      <td>56.57</td>\n",
       "    </tr>\n",
       "    <tr>\n",
       "      <th>2014</th>\n",
       "      <td>43.76</td>\n",
       "    </tr>\n",
       "    <tr>\n",
       "      <th>2015</th>\n",
       "      <td>27.78</td>\n",
       "    </tr>\n",
       "    <tr>\n",
       "      <th>2016</th>\n",
       "      <td>15.14</td>\n",
       "    </tr>\n",
       "    <tr>\n",
       "      <th>DS</th>\n",
       "      <th>2013</th>\n",
       "      <td>1.54</td>\n",
       "    </tr>\n",
       "    <tr>\n",
       "      <th rowspan=\"4\" valign=\"top\">PC</th>\n",
       "      <th>2013</th>\n",
       "      <td>12.38</td>\n",
       "    </tr>\n",
       "    <tr>\n",
       "      <th>2014</th>\n",
       "      <td>13.28</td>\n",
       "    </tr>\n",
       "    <tr>\n",
       "      <th>2015</th>\n",
       "      <td>8.52</td>\n",
       "    </tr>\n",
       "    <tr>\n",
       "      <th>2016</th>\n",
       "      <td>5.25</td>\n",
       "    </tr>\n",
       "    <tr>\n",
       "      <th rowspan=\"4\" valign=\"top\">PS3</th>\n",
       "      <th>2013</th>\n",
       "      <td>113.25</td>\n",
       "    </tr>\n",
       "    <tr>\n",
       "      <th>2014</th>\n",
       "      <td>47.76</td>\n",
       "    </tr>\n",
       "    <tr>\n",
       "      <th>2015</th>\n",
       "      <td>16.82</td>\n",
       "    </tr>\n",
       "    <tr>\n",
       "      <th>2016</th>\n",
       "      <td>3.60</td>\n",
       "    </tr>\n",
       "    <tr>\n",
       "      <th rowspan=\"4\" valign=\"top\">PS4</th>\n",
       "      <th>2013</th>\n",
       "      <td>25.99</td>\n",
       "    </tr>\n",
       "    <tr>\n",
       "      <th>2014</th>\n",
       "      <td>100.00</td>\n",
       "    </tr>\n",
       "    <tr>\n",
       "      <th>2015</th>\n",
       "      <td>118.90</td>\n",
       "    </tr>\n",
       "    <tr>\n",
       "      <th>2016</th>\n",
       "      <td>69.25</td>\n",
       "    </tr>\n",
       "    <tr>\n",
       "      <th rowspan=\"3\" valign=\"top\">PSP</th>\n",
       "      <th>2013</th>\n",
       "      <td>3.14</td>\n",
       "    </tr>\n",
       "    <tr>\n",
       "      <th>2014</th>\n",
       "      <td>0.24</td>\n",
       "    </tr>\n",
       "    <tr>\n",
       "      <th>2015</th>\n",
       "      <td>0.12</td>\n",
       "    </tr>\n",
       "    <tr>\n",
       "      <th rowspan=\"4\" valign=\"top\">PSV</th>\n",
       "      <th>2013</th>\n",
       "      <td>10.59</td>\n",
       "    </tr>\n",
       "    <tr>\n",
       "      <th>2014</th>\n",
       "      <td>11.90</td>\n",
       "    </tr>\n",
       "    <tr>\n",
       "      <th>2015</th>\n",
       "      <td>6.25</td>\n",
       "    </tr>\n",
       "    <tr>\n",
       "      <th>2016</th>\n",
       "      <td>4.25</td>\n",
       "    </tr>\n",
       "    <tr>\n",
       "      <th rowspan=\"4\" valign=\"top\">Wii</th>\n",
       "      <th>2013</th>\n",
       "      <td>8.59</td>\n",
       "    </tr>\n",
       "    <tr>\n",
       "      <th>2014</th>\n",
       "      <td>3.75</td>\n",
       "    </tr>\n",
       "    <tr>\n",
       "      <th>2015</th>\n",
       "      <td>1.14</td>\n",
       "    </tr>\n",
       "    <tr>\n",
       "      <th>2016</th>\n",
       "      <td>0.18</td>\n",
       "    </tr>\n",
       "    <tr>\n",
       "      <th rowspan=\"4\" valign=\"top\">WiiU</th>\n",
       "      <th>2013</th>\n",
       "      <td>21.65</td>\n",
       "    </tr>\n",
       "    <tr>\n",
       "      <th>2014</th>\n",
       "      <td>22.03</td>\n",
       "    </tr>\n",
       "    <tr>\n",
       "      <th>2015</th>\n",
       "      <td>16.35</td>\n",
       "    </tr>\n",
       "    <tr>\n",
       "      <th>2016</th>\n",
       "      <td>4.60</td>\n",
       "    </tr>\n",
       "    <tr>\n",
       "      <th rowspan=\"4\" valign=\"top\">X360</th>\n",
       "      <th>2013</th>\n",
       "      <td>88.58</td>\n",
       "    </tr>\n",
       "    <tr>\n",
       "      <th>2014</th>\n",
       "      <td>34.74</td>\n",
       "    </tr>\n",
       "    <tr>\n",
       "      <th>2015</th>\n",
       "      <td>11.96</td>\n",
       "    </tr>\n",
       "    <tr>\n",
       "      <th>2016</th>\n",
       "      <td>1.52</td>\n",
       "    </tr>\n",
       "    <tr>\n",
       "      <th rowspan=\"4\" valign=\"top\">XOne</th>\n",
       "      <th>2013</th>\n",
       "      <td>18.96</td>\n",
       "    </tr>\n",
       "    <tr>\n",
       "      <th>2014</th>\n",
       "      <td>54.07</td>\n",
       "    </tr>\n",
       "    <tr>\n",
       "      <th>2015</th>\n",
       "      <td>60.14</td>\n",
       "    </tr>\n",
       "    <tr>\n",
       "      <th>2016</th>\n",
       "      <td>26.15</td>\n",
       "    </tr>\n",
       "  </tbody>\n",
       "</table>\n",
       "</div>"
      ],
      "text/plain": [
       "                          total_sales\n",
       "platform year_of_release             \n",
       "3DS      2013                   56.57\n",
       "         2014                   43.76\n",
       "         2015                   27.78\n",
       "         2016                   15.14\n",
       "DS       2013                    1.54\n",
       "PC       2013                   12.38\n",
       "         2014                   13.28\n",
       "         2015                    8.52\n",
       "         2016                    5.25\n",
       "PS3      2013                  113.25\n",
       "         2014                   47.76\n",
       "         2015                   16.82\n",
       "         2016                    3.60\n",
       "PS4      2013                   25.99\n",
       "         2014                  100.00\n",
       "         2015                  118.90\n",
       "         2016                   69.25\n",
       "PSP      2013                    3.14\n",
       "         2014                    0.24\n",
       "         2015                    0.12\n",
       "PSV      2013                   10.59\n",
       "         2014                   11.90\n",
       "         2015                    6.25\n",
       "         2016                    4.25\n",
       "Wii      2013                    8.59\n",
       "         2014                    3.75\n",
       "         2015                    1.14\n",
       "         2016                    0.18\n",
       "WiiU     2013                   21.65\n",
       "         2014                   22.03\n",
       "         2015                   16.35\n",
       "         2016                    4.60\n",
       "X360     2013                   88.58\n",
       "         2014                   34.74\n",
       "         2015                   11.96\n",
       "         2016                    1.52\n",
       "XOne     2013                   18.96\n",
       "         2014                   54.07\n",
       "         2015                   60.14\n",
       "         2016                   26.15"
      ]
     },
     "execution_count": 21,
     "metadata": {},
     "output_type": "execute_result"
    }
   ],
   "source": [
    "data_of_platforms = data.query('year_of_release >= 2013')\\\n",
    ".groupby(['platform', 'year_of_release'])['total_sales'].agg(total_sales = 'sum')\n",
    "\n",
    "data_of_platforms"
   ]
  },
  {
   "cell_type": "markdown",
   "metadata": {},
   "source": [
    "Таких платформ достаточно много. Сократим их количество: будем считать, что актуальные платформы те - для которых в 2016 году продавалось не менее 10 миллионов копий игр."
   ]
  },
  {
   "cell_type": "code",
   "execution_count": 22,
   "metadata": {
    "scrolled": true
   },
   "outputs": [
    {
     "data": {
      "text/html": [
       "<div>\n",
       "<style scoped>\n",
       "    .dataframe tbody tr th:only-of-type {\n",
       "        vertical-align: middle;\n",
       "    }\n",
       "\n",
       "    .dataframe tbody tr th {\n",
       "        vertical-align: top;\n",
       "    }\n",
       "\n",
       "    .dataframe thead th {\n",
       "        text-align: right;\n",
       "    }\n",
       "</style>\n",
       "<table border=\"1\" class=\"dataframe\">\n",
       "  <thead>\n",
       "    <tr style=\"text-align: right;\">\n",
       "      <th></th>\n",
       "      <th></th>\n",
       "      <th>total_sales</th>\n",
       "    </tr>\n",
       "    <tr>\n",
       "      <th>platform</th>\n",
       "      <th>year_of_release</th>\n",
       "      <th></th>\n",
       "    </tr>\n",
       "  </thead>\n",
       "  <tbody>\n",
       "    <tr>\n",
       "      <th>3DS</th>\n",
       "      <th>2016</th>\n",
       "      <td>15.14</td>\n",
       "    </tr>\n",
       "    <tr>\n",
       "      <th>PS4</th>\n",
       "      <th>2016</th>\n",
       "      <td>69.25</td>\n",
       "    </tr>\n",
       "    <tr>\n",
       "      <th>XOne</th>\n",
       "      <th>2016</th>\n",
       "      <td>26.15</td>\n",
       "    </tr>\n",
       "  </tbody>\n",
       "</table>\n",
       "</div>"
      ],
      "text/plain": [
       "                          total_sales\n",
       "platform year_of_release             \n",
       "3DS      2016                   15.14\n",
       "PS4      2016                   69.25\n",
       "XOne     2016                   26.15"
      ]
     },
     "execution_count": 22,
     "metadata": {},
     "output_type": "execute_result"
    }
   ],
   "source": [
    "data_of_platforms = data_of_platforms.query('year_of_release == 2016 & total_sales > 10')\n",
    "data_of_platforms"
   ]
  },
  {
   "cell_type": "markdown",
   "metadata": {},
   "source": [
    "Список все еще актуальных платформ состоит из трех значений: 3DS (Nintendo), PS4 (Sony), XOne (Microsoft)."
   ]
  },
  {
   "cell_type": "code",
   "execution_count": 23,
   "metadata": {},
   "outputs": [
    {
     "data": {
      "text/plain": [
       "['3DS', 'PS4', 'XOne']"
      ]
     },
     "execution_count": 23,
     "metadata": {},
     "output_type": "execute_result"
    }
   ],
   "source": [
    "actual_platforms = data_of_platforms.index.get_level_values(0).unique().tolist()\n",
    "actual_platforms"
   ]
  },
  {
   "cell_type": "markdown",
   "metadata": {},
   "source": [
    "Построим график количества продаж по годам для этих платформ за актуальный (2013-2016) период."
   ]
  },
  {
   "cell_type": "code",
   "execution_count": 24,
   "metadata": {},
   "outputs": [
    {
     "data": {
      "image/png": "[encoded data removed]",
      "text/plain": [
       "<Figure size 1080x360 with 1 Axes>"
      ]
     },
     "metadata": {
      "needs_background": "light"
     },
     "output_type": "display_data"
    }
   ],
   "source": [
    "data.query('platform in @actual_platforms')\\\n",
    ".pivot_table(index='year_of_release', columns='platform',values='total_sales', aggfunc='sum')\\\n",
    ".plot(grid=True, figsize=(15,5), ylabel=('total sales, mln'), \n",
    "      xticks=(2013,2014,2015,2016), xlim=(2013,2016), xlabel=('year'), \n",
    "      title=('Actual platforms sales depending on year'))\n",
    "\n",
    "plt.show()"
   ]
  },
  {
   "cell_type": "markdown",
   "metadata": {},
   "source": [
    "Видим, что платформа 3DS теряет свою актуальность практически линейно, и скорее всего полностью потеряет свою актуальность в 2017. Платформа, обладающая наибольшим запасом по \"времени жизни\" - PS4. Начавшееся после 2015 года падение количества продаж, возможно, связано с тем, что для 2016 года данные могут быть неполными."
   ]
  },
  {
   "cell_type": "markdown",
   "metadata": {},
   "source": [
    "Также построим боксплоты для актуальных платформ за актуальный (2013-2016) период."
   ]
  },
  {
   "cell_type": "code",
   "execution_count": 25,
   "metadata": {
    "scrolled": true
   },
   "outputs": [
    {
     "data": {
      "image/png": "[encoded data removed]",
      "text/plain": [
       "<Figure size 1080x360 with 1 Axes>"
      ]
     },
     "metadata": {
      "needs_background": "light"
     },
     "output_type": "display_data"
    }
   ],
   "source": [
    "actual_period_data = data.query('year_of_release >=2013 & platform in@actual_platforms')\n",
    "actual_period_data.boxplot(column='total_sales', by='platform', grid=True, figsize=(15,5), vert=False)\n",
    "plt.ylabel('platforms')\n",
    "plt.xlabel('total sales')\n",
    "plt.title('Actual period 2013-2016')\n",
    "plt.show()"
   ]
  },
  {
   "cell_type": "markdown",
   "metadata": {},
   "source": [
    "Видим, что медианное значение продаж у XOne и PS4 выше, чем у 3DS. При этом сами ящики и усы у XOne и PS4 также ощутимо больше, чем у 3DS. Это свидетельствует о большем разбросе общего числа продаж для этих двух платформ. Также отметим, что у PS4 и 3DS есть успешные игры, продажи которых превысили 10 млн копий, у XOne таких игр нет."
   ]
  },
  {
   "cell_type": "markdown",
   "metadata": {},
   "source": [
    "---"
   ]
  },
  {
   "cell_type": "markdown",
   "metadata": {},
   "source": [
    "### Корреляция отзывов и продаж"
   ]
  },
  {
   "cell_type": "markdown",
   "metadata": {},
   "source": [
    "Посмотрим, есть ли зависимость между оценками пользователей и количеством продаж, а также между оценками критиков и количеством продаж."
   ]
  },
  {
   "cell_type": "markdown",
   "metadata": {},
   "source": [
    "Выведем графики рассеяния для этих величин, а также посчитаем коэффициенты корреляции."
   ]
  },
  {
   "cell_type": "code",
   "execution_count": 26,
   "metadata": {
    "scrolled": false
   },
   "outputs": [
    {
     "data": {
      "image/png": "[encoded data removed]",
      "text/plain": [
       "<Figure size 720x216 with 1 Axes>"
      ]
     },
     "metadata": {
      "needs_background": "light"
     },
     "output_type": "display_data"
    },
    {
     "data": {
      "image/png": "[encoded data removed]",
      "text/plain": [
       "<Figure size 720x216 with 1 Axes>"
      ]
     },
     "metadata": {
      "needs_background": "light"
     },
     "output_type": "display_data"
    },
    {
     "name": "stdout",
     "output_type": "stream",
     "text": [
      "Корреляция между оценками критиков и общими продажами для PS4: 0.406567902061781\n",
      "Корреляция между оценками пользователей и общими продажами для PS4: -0.031957110204556376\n"
     ]
    }
   ],
   "source": [
    "PS4_data = actual_period_data.query('platform == \"PS4\"')\n",
    "\n",
    "PS4_data.plot(kind='scatter', x='critic_score', y='total_sales', \n",
    "              figsize=(10,3), grid=True, alpha=0.5, title='Critics score to total sales relation, PS4')\n",
    "plt.show()\n",
    "\n",
    "PS4_data.plot(kind='scatter', x='user_score', y='total_sales', \n",
    "              figsize=(10,3), grid=True, alpha=0.5, title='Users score to total sales relation, PS4')\n",
    "plt.show()\n",
    "\n",
    "print('Корреляция между оценками критиков и общими продажами для PS4:',\n",
    "      PS4_data['total_sales'].corr(PS4_data['critic_score']))\n",
    "print('Корреляция между оценками пользователей и общими продажами для PS4:',\n",
    "      PS4_data['total_sales'].corr(PS4_data['user_score']))"
   ]
  },
  {
   "cell_type": "markdown",
   "metadata": {},
   "source": [
    "Видим, что оценки критиков не сильно, но влияют на количество продаж (на самом деле, возможно не учитывается еще какой-то другой параметр, который оказывает такое влияние). Между пользовательскими оценками и продажами взаимосвязи нет совсем."
   ]
  },
  {
   "cell_type": "markdown",
   "metadata": {},
   "source": [
    "Аналогичные графики и расчеты проведем для платформы 3DS."
   ]
  },
  {
   "cell_type": "code",
   "execution_count": 27,
   "metadata": {
    "scrolled": false
   },
   "outputs": [
    {
     "data": {
      "image/png": "[encoded data removed]",
      "text/plain": [
       "<Figure size 720x216 with 1 Axes>"
      ]
     },
     "metadata": {
      "needs_background": "light"
     },
     "output_type": "display_data"
    },
    {
     "data": {
      "image/png": "[encoded data removed]",
      "text/plain": [
       "<Figure size 720x216 with 1 Axes>"
      ]
     },
     "metadata": {
      "needs_background": "light"
     },
     "output_type": "display_data"
    },
    {
     "name": "stdout",
     "output_type": "stream",
     "text": [
      "Корреляция между оценками критиков и общими продажами для 3DS: 0.35705661422881035\n",
      "Корреляция между оценками пользователей и общими продажами для 3DS: 0.24150411773563016\n"
     ]
    }
   ],
   "source": [
    "DS_data = actual_period_data.query('platform == \"3DS\"')\n",
    "\n",
    "DS_data.plot(kind='scatter', x='critic_score', y='total_sales',\n",
    "             figsize=(10,3), grid=True, alpha=0.5, title='Critics score to total sales relation, 3DS')\n",
    "plt.show()\n",
    "\n",
    "DS_data.plot(kind='scatter', x='user_score', y='total_sales', figsize=(10,3), \n",
    "             grid=True, alpha=0.5, title='Users score to total sales relation, 3DS')\n",
    "plt.show()\n",
    "\n",
    "print('Корреляция между оценками критиков и общими продажами для 3DS:',\n",
    "      DS_data['total_sales'].corr(DS_data['critic_score']))\n",
    "print('Корреляция между оценками пользователей и общими продажами для 3DS:',\n",
    "      DS_data['total_sales'].corr(DS_data['user_score']))"
   ]
  },
  {
   "cell_type": "markdown",
   "metadata": {},
   "source": [
    "Заметим, что для платформы 3DS оценки пользователей влияют на количество продаж гораздо сильнее, чем в случае с PS4."
   ]
  },
  {
   "cell_type": "markdown",
   "metadata": {},
   "source": [
    "И, наконец, аналогичные графики и расчеты для платформы XOne."
   ]
  },
  {
   "cell_type": "code",
   "execution_count": 28,
   "metadata": {
    "scrolled": false
   },
   "outputs": [
    {
     "data": {
      "image/png": "[encoded data removed]",
      "text/plain": [
       "<Figure size 720x216 with 1 Axes>"
      ]
     },
     "metadata": {
      "needs_background": "light"
     },
     "output_type": "display_data"
    },
    {
     "data": {
      "image/png": "[encoded data removed]",
      "text/plain": [
       "<Figure size 720x216 with 1 Axes>"
      ]
     },
     "metadata": {
      "needs_background": "light"
     },
     "output_type": "display_data"
    },
    {
     "name": "stdout",
     "output_type": "stream",
     "text": [
      "Корреляция между оценками критиков и общими продажами для XOne: 0.41699832800840175\n",
      "Корреляция между оценками пользователей и общими продажами для XOne: -0.06892505328279412\n"
     ]
    }
   ],
   "source": [
    "XOne_data = actual_period_data.query('platform == \"XOne\"')\n",
    "\n",
    "XOne_data.plot(kind='scatter', x='critic_score', y='total_sales', \n",
    "               figsize=(10,3), grid=True, alpha=0.5, title='Critics score to total sales relation, XOne')\n",
    "plt.show()\n",
    "\n",
    "XOne_data.plot(kind='scatter', x='user_score', y='total_sales', \n",
    "               figsize=(10,3), grid=True, alpha=0.5, title='Users score to total sales relation, XOne')\n",
    "plt.show()\n",
    "\n",
    "print('Корреляция между оценками критиков и общими продажами для XOne:',\n",
    "      XOne_data['total_sales'].corr(XOne_data['critic_score']))\n",
    "print('Корреляция между оценками пользователей и общими продажами для XOne:',\n",
    "      XOne_data['total_sales'].corr(XOne_data['user_score']))"
   ]
  },
  {
   "cell_type": "markdown",
   "metadata": {},
   "source": [
    "Влияние пользовательских оценок и оценок критиков на общее количество продаж для XOne сопоставимо с данными параметрами для PS4."
   ]
  },
  {
   "cell_type": "markdown",
   "metadata": {},
   "source": [
    "Для всех рассматриваемых платформ есть прямая, но слабая корреляция между оценками критиков и общим количеством продаж. Влияние оценок пользователей на количество продаж для платформ PS4 и XOne практически нулевое, при этом, в случае с 3DS, влияние, хоть и небольшое, но есть."
   ]
  },
  {
   "cell_type": "markdown",
   "metadata": {},
   "source": [
    "---"
   ]
  },
  {
   "cell_type": "markdown",
   "metadata": {},
   "source": [
    "### Распределение количества игр и продаж по жанрам"
   ]
  },
  {
   "cell_type": "markdown",
   "metadata": {},
   "source": [
    "Посмотрим, какие жанры самые популярные, а также самые прибыльные с точки зрения количества проданных копий игр. Рассмотрим как изначальный датафрейм (1980-2016), так и датафрейм за актуальный период (2013-2016)."
   ]
  },
  {
   "cell_type": "code",
   "execution_count": 29,
   "metadata": {
    "scrolled": false
   },
   "outputs": [
    {
     "data": {
      "image/png": "[encoded data removed]",
      "text/plain": [
       "<Figure size 1080x360 with 2 Axes>"
      ]
     },
     "metadata": {
      "needs_background": "light"
     },
     "output_type": "display_data"
    }
   ],
   "source": [
    "plt.figure(figsize=(15,5))\n",
    "\n",
    "plt.subplot(1,2,2)\n",
    "actual_period_data.groupby('genre')['name'].agg('count').sort_values()\\\n",
    ".plot(kind='barh', grid=True, title=('Amount of games of each genre, 2013-2016'))\n",
    "\n",
    "plt.subplot(1,2,1)\n",
    "data.groupby('genre')['name'].agg('count').sort_values()\\\n",
    ".plot(kind='barh', grid=True, title=('Amount of games of each genre, 1980-2016'))\n",
    "plt.show()\n"
   ]
  },
  {
   "cell_type": "markdown",
   "metadata": {},
   "source": [
    "Вне зависимости от выбранных временных рамок, самым популярным жанром игр является Action. В актуальный период вторым по популярности жанром стал Role-Playing. Самым непопулярным жанром игр неизменно остается Puzzle."
   ]
  },
  {
   "cell_type": "markdown",
   "metadata": {},
   "source": [
    "Далее проанализируем, какой жанр является самым прибыльным. Рассмотрим как изначальный датафрейм (1980-2016), так и с актуальными данными (2013-2016)."
   ]
  },
  {
   "cell_type": "markdown",
   "metadata": {},
   "source": [
    "Данные за весь период (1980-2016):"
   ]
  },
  {
   "cell_type": "code",
   "execution_count": 30,
   "metadata": {
    "scrolled": false
   },
   "outputs": [
    {
     "data": {
      "text/html": [
       "<div>\n",
       "<style scoped>\n",
       "    .dataframe tbody tr th:only-of-type {\n",
       "        vertical-align: middle;\n",
       "    }\n",
       "\n",
       "    .dataframe tbody tr th {\n",
       "        vertical-align: top;\n",
       "    }\n",
       "\n",
       "    .dataframe thead th {\n",
       "        text-align: right;\n",
       "    }\n",
       "</style>\n",
       "<table border=\"1\" class=\"dataframe\">\n",
       "  <thead>\n",
       "    <tr style=\"text-align: right;\">\n",
       "      <th></th>\n",
       "      <th>count</th>\n",
       "      <th>mean</th>\n",
       "      <th>median</th>\n",
       "    </tr>\n",
       "    <tr>\n",
       "      <th>genre</th>\n",
       "      <th></th>\n",
       "      <th></th>\n",
       "      <th></th>\n",
       "    </tr>\n",
       "  </thead>\n",
       "  <tbody>\n",
       "    <tr>\n",
       "      <th>Platform</th>\n",
       "      <td>878</td>\n",
       "      <td>0.940262</td>\n",
       "      <td>0.27</td>\n",
       "    </tr>\n",
       "    <tr>\n",
       "      <th>Shooter</th>\n",
       "      <td>1296</td>\n",
       "      <td>0.803519</td>\n",
       "      <td>0.24</td>\n",
       "    </tr>\n",
       "    <tr>\n",
       "      <th>Sports</th>\n",
       "      <td>2305</td>\n",
       "      <td>0.568182</td>\n",
       "      <td>0.22</td>\n",
       "    </tr>\n",
       "    <tr>\n",
       "      <th>Fighting</th>\n",
       "      <td>837</td>\n",
       "      <td>0.528865</td>\n",
       "      <td>0.21</td>\n",
       "    </tr>\n",
       "    <tr>\n",
       "      <th>Racing</th>\n",
       "      <td>1224</td>\n",
       "      <td>0.590000</td>\n",
       "      <td>0.19</td>\n",
       "    </tr>\n",
       "    <tr>\n",
       "      <th>Action</th>\n",
       "      <td>3307</td>\n",
       "      <td>0.519057</td>\n",
       "      <td>0.19</td>\n",
       "    </tr>\n",
       "    <tr>\n",
       "      <th>Role-Playing</th>\n",
       "      <td>1481</td>\n",
       "      <td>0.628683</td>\n",
       "      <td>0.18</td>\n",
       "    </tr>\n",
       "    <tr>\n",
       "      <th>Misc</th>\n",
       "      <td>1721</td>\n",
       "      <td>0.459204</td>\n",
       "      <td>0.16</td>\n",
       "    </tr>\n",
       "    <tr>\n",
       "      <th>Simulation</th>\n",
       "      <td>857</td>\n",
       "      <td>0.452695</td>\n",
       "      <td>0.15</td>\n",
       "    </tr>\n",
       "    <tr>\n",
       "      <th>Puzzle</th>\n",
       "      <td>569</td>\n",
       "      <td>0.421599</td>\n",
       "      <td>0.10</td>\n",
       "    </tr>\n",
       "    <tr>\n",
       "      <th>Strategy</th>\n",
       "      <td>673</td>\n",
       "      <td>0.256419</td>\n",
       "      <td>0.10</td>\n",
       "    </tr>\n",
       "    <tr>\n",
       "      <th>Adventure</th>\n",
       "      <td>1293</td>\n",
       "      <td>0.180456</td>\n",
       "      <td>0.05</td>\n",
       "    </tr>\n",
       "  </tbody>\n",
       "</table>\n",
       "</div>"
      ],
      "text/plain": [
       "              count      mean  median\n",
       "genre                                \n",
       "Platform        878  0.940262    0.27\n",
       "Shooter        1296  0.803519    0.24\n",
       "Sports         2305  0.568182    0.22\n",
       "Fighting        837  0.528865    0.21\n",
       "Racing         1224  0.590000    0.19\n",
       "Action         3307  0.519057    0.19\n",
       "Role-Playing   1481  0.628683    0.18\n",
       "Misc           1721  0.459204    0.16\n",
       "Simulation      857  0.452695    0.15\n",
       "Puzzle          569  0.421599    0.10\n",
       "Strategy        673  0.256419    0.10\n",
       "Adventure      1293  0.180456    0.05"
      ]
     },
     "execution_count": 30,
     "metadata": {},
     "output_type": "execute_result"
    }
   ],
   "source": [
    "data.groupby('genre')['total_sales'].agg(['count', 'mean', 'median']).sort_values(by=['median', 'mean'], ascending=False)"
   ]
  },
  {
   "cell_type": "code",
   "execution_count": 31,
   "metadata": {},
   "outputs": [
    {
     "data": {
      "image/png": "[encoded data removed]",
      "text/plain": [
       "<Figure size 1080x504 with 1 Axes>"
      ]
     },
     "metadata": {
      "needs_background": "light"
     },
     "output_type": "display_data"
    }
   ],
   "source": [
    "data.boxplot(column='total_sales', by='genre', grid=True, vert=False, figsize=(15,7))\n",
    "plt.xlim(0,2)\n",
    "plt.ylabel('genres')\n",
    "plt.xlabel('total sales, mln')\n",
    "plt.title('1980-2016 period')\n",
    "plt.show()"
   ]
  },
  {
   "cell_type": "markdown",
   "metadata": {},
   "source": [
    "Видим, что хотя игр в жанре Platform намного меньше, чем игр в жанре Action, медианное значение количества продаж - наибольшее, составляет 0.27 миллионов копий. Самый популярный (в плане выпускаемых игр) жанр Action только на 6 месте, с медианным значением в 0.19 миллионов копий. Жанр игр Adventure продается хуже всего. На боксплоте можно увидеть, что \"ящик\" для жанра Platform также является самым большим."
   ]
  },
  {
   "cell_type": "markdown",
   "metadata": {},
   "source": [
    "Посмотрим, поменялся ли популярный жанр в актуальном периоде (2013-2016):"
   ]
  },
  {
   "cell_type": "code",
   "execution_count": 32,
   "metadata": {},
   "outputs": [
    {
     "data": {
      "text/html": [
       "<div>\n",
       "<style scoped>\n",
       "    .dataframe tbody tr th:only-of-type {\n",
       "        vertical-align: middle;\n",
       "    }\n",
       "\n",
       "    .dataframe tbody tr th {\n",
       "        vertical-align: top;\n",
       "    }\n",
       "\n",
       "    .dataframe thead th {\n",
       "        text-align: right;\n",
       "    }\n",
       "</style>\n",
       "<table border=\"1\" class=\"dataframe\">\n",
       "  <thead>\n",
       "    <tr style=\"text-align: right;\">\n",
       "      <th></th>\n",
       "      <th>count</th>\n",
       "      <th>mean</th>\n",
       "      <th>median</th>\n",
       "    </tr>\n",
       "    <tr>\n",
       "      <th>genre</th>\n",
       "      <th></th>\n",
       "      <th></th>\n",
       "      <th></th>\n",
       "    </tr>\n",
       "  </thead>\n",
       "  <tbody>\n",
       "    <tr>\n",
       "      <th>Shooter</th>\n",
       "      <td>80</td>\n",
       "      <td>1.861875</td>\n",
       "      <td>1.015</td>\n",
       "    </tr>\n",
       "    <tr>\n",
       "      <th>Sports</th>\n",
       "      <td>92</td>\n",
       "      <td>0.914891</td>\n",
       "      <td>0.345</td>\n",
       "    </tr>\n",
       "    <tr>\n",
       "      <th>Platform</th>\n",
       "      <td>32</td>\n",
       "      <td>0.544063</td>\n",
       "      <td>0.245</td>\n",
       "    </tr>\n",
       "    <tr>\n",
       "      <th>Racing</th>\n",
       "      <td>39</td>\n",
       "      <td>0.562308</td>\n",
       "      <td>0.230</td>\n",
       "    </tr>\n",
       "    <tr>\n",
       "      <th>Role-Playing</th>\n",
       "      <td>127</td>\n",
       "      <td>0.841811</td>\n",
       "      <td>0.200</td>\n",
       "    </tr>\n",
       "    <tr>\n",
       "      <th>Fighting</th>\n",
       "      <td>32</td>\n",
       "      <td>0.603437</td>\n",
       "      <td>0.155</td>\n",
       "    </tr>\n",
       "    <tr>\n",
       "      <th>Action</th>\n",
       "      <td>345</td>\n",
       "      <td>0.485362</td>\n",
       "      <td>0.120</td>\n",
       "    </tr>\n",
       "    <tr>\n",
       "      <th>Misc</th>\n",
       "      <td>71</td>\n",
       "      <td>0.320000</td>\n",
       "      <td>0.120</td>\n",
       "    </tr>\n",
       "    <tr>\n",
       "      <th>Simulation</th>\n",
       "      <td>25</td>\n",
       "      <td>0.458000</td>\n",
       "      <td>0.100</td>\n",
       "    </tr>\n",
       "    <tr>\n",
       "      <th>Puzzle</th>\n",
       "      <td>10</td>\n",
       "      <td>0.175000</td>\n",
       "      <td>0.085</td>\n",
       "    </tr>\n",
       "    <tr>\n",
       "      <th>Strategy</th>\n",
       "      <td>20</td>\n",
       "      <td>0.115500</td>\n",
       "      <td>0.075</td>\n",
       "    </tr>\n",
       "    <tr>\n",
       "      <th>Adventure</th>\n",
       "      <td>69</td>\n",
       "      <td>0.178986</td>\n",
       "      <td>0.070</td>\n",
       "    </tr>\n",
       "  </tbody>\n",
       "</table>\n",
       "</div>"
      ],
      "text/plain": [
       "              count      mean  median\n",
       "genre                                \n",
       "Shooter          80  1.861875   1.015\n",
       "Sports           92  0.914891   0.345\n",
       "Platform         32  0.544063   0.245\n",
       "Racing           39  0.562308   0.230\n",
       "Role-Playing    127  0.841811   0.200\n",
       "Fighting         32  0.603437   0.155\n",
       "Action          345  0.485362   0.120\n",
       "Misc             71  0.320000   0.120\n",
       "Simulation       25  0.458000   0.100\n",
       "Puzzle           10  0.175000   0.085\n",
       "Strategy         20  0.115500   0.075\n",
       "Adventure        69  0.178986   0.070"
      ]
     },
     "execution_count": 32,
     "metadata": {},
     "output_type": "execute_result"
    }
   ],
   "source": [
    "actual_period_data.groupby('genre')['total_sales'].agg(['count', 'mean', 'median'])\\\n",
    ".sort_values(by=['median', 'mean'], ascending=False)"
   ]
  },
  {
   "cell_type": "code",
   "execution_count": 33,
   "metadata": {},
   "outputs": [
    {
     "data": {
      "image/png": "[encoded data removed]",
      "text/plain": [
       "<Figure size 1080x504 with 1 Axes>"
      ]
     },
     "metadata": {
      "needs_background": "light"
     },
     "output_type": "display_data"
    }
   ],
   "source": [
    "actual_period_data.boxplot(column='total_sales', by='genre', grid=True, vert=False, figsize=(15,7))\n",
    "plt.xlim(0,6)\n",
    "plt.ylabel('genres')\n",
    "plt.xlabel('total sales, mln')\n",
    "plt.title('2013-2016 period')\n",
    "plt.show()"
   ]
  },
  {
   "cell_type": "markdown",
   "metadata": {},
   "source": [
    "Ситуация изменилась - с 2013 по 2016 год самым прибыльным жанром стал Shooter, медианное значение проданных копий превысило 1 млн, также в топ-2 вошел жанр Sports, Platform только на третьем месте. Самый выпускаемый жанр игр Action откатился на 7 место. Жанр игр Adventure остается наименее прибыльным. На боксплоте также видно, что \"ящик\" жанра Shooter сильно больше всех остальных."
   ]
  },
  {
   "cell_type": "markdown",
   "metadata": {},
   "source": [
    "### Портрет пользователя для каждого региона"
   ]
  },
  {
   "cell_type": "markdown",
   "metadata": {},
   "source": [
    "Попробуем составить портрет пользователя для каждого региона - NA (North America), EU (European Union), JP (Japan). Выведем графики с 5 наиболее популярными платформами, жанрами, а также посмотрим, в игры какого рейтинга в каждом из регионов играют чаще всего."
   ]
  },
  {
   "cell_type": "markdown",
   "metadata": {},
   "source": [
    "**Северо-американский регион:**"
   ]
  },
  {
   "cell_type": "code",
   "execution_count": 34,
   "metadata": {
    "scrolled": true
   },
   "outputs": [
    {
     "data": {
      "image/png": "[encoded data removed]",
      "text/plain": [
       "<Figure size 1080x360 with 3 Axes>"
      ]
     },
     "metadata": {},
     "output_type": "display_data"
    }
   ],
   "source": [
    "NA_region_data = data.query('na_sales > eu_sales & na_sales > jp_sales & na_sales > other_sales')\n",
    "\n",
    "plt.figure(figsize=(15,5))\n",
    "\n",
    "plt.subplot(1,3,1)\n",
    "labels = NA_region_data.groupby('platform')['platform'].count().sort_values().tail(5).index\n",
    "values = NA_region_data.groupby('platform')['platform'].count().sort_values().tail(5)\n",
    "plt.pie(values, labels = labels,autopct = '%1.1f%%', explode=(0.02,0.02,0.02,0.02,0.02))\n",
    "plt.title('TOP-5 popular platforms in NA')\n",
    "\n",
    "plt.subplot(1,3,2)\n",
    "labels = NA_region_data.groupby('genre')['genre'].count().sort_values().tail(5).index\n",
    "values = NA_region_data.groupby('genre')['genre'].count().sort_values().tail(5)\n",
    "plt.pie(values, labels = labels, autopct = '%1.1f%%', explode=(0.02,0.02,0.02,0.02,0.02))\n",
    "plt.title('TOP-5 popular genres in NA')\n",
    "\n",
    "plt.subplot(1,3,3)\n",
    "labels = NA_region_data.groupby('rating')['total_sales'].sum().sort_values().tail(5).index\n",
    "values = NA_region_data.groupby('rating')['total_sales'].sum().sort_values().tail(5)\n",
    "plt.pie(values, labels = labels, autopct = '%1.1f%%', explode=(0.02,0.02,0.02,0.02,0.02))\n",
    "plt.title('Amount of sales for each rating')\n",
    "\n",
    "plt.show()"
   ]
  },
  {
   "cell_type": "markdown",
   "metadata": {},
   "source": [
    "Игроки из северо-американского региона предпочитают Wii, X360, PS, PS2 и DS (самая популярная платформа). Самый популярный жанр игры - Action, самый непопулярный - Racing. Большинство купленных игр обладают рейтингом E (Everyone). При этом практически у трети игр рейтинга нет."
   ]
  },
  {
   "cell_type": "markdown",
   "metadata": {},
   "source": [
    "**Европейский регион:**"
   ]
  },
  {
   "cell_type": "code",
   "execution_count": 35,
   "metadata": {
    "scrolled": true
   },
   "outputs": [
    {
     "data": {
      "image/png": "[encoded data removed]",
      "text/plain": [
       "<Figure size 1080x360 with 3 Axes>"
      ]
     },
     "metadata": {},
     "output_type": "display_data"
    }
   ],
   "source": [
    "EU_region_data = data.query('eu_sales > na_sales & eu_sales > jp_sales & eu_sales > other_sales')\n",
    "\n",
    "plt.figure(figsize=(15,5))\n",
    "\n",
    "plt.subplot(1,3,1)\n",
    "labels = EU_region_data.groupby('platform')['platform'].count().sort_values().tail(5).index\n",
    "values = EU_region_data.groupby('platform')['platform'].count().sort_values().tail(5)\n",
    "plt.pie(values, labels = labels,autopct = '%1.1f%%', explode=(0.02,0.02,0.02,0.02,0.02))\n",
    "plt.title('TOP-5 popular platforms in EU')\n",
    "\n",
    "plt.subplot(1,3,2)\n",
    "labels = EU_region_data.groupby('genre')['genre'].count().sort_values().tail(5).index\n",
    "values = EU_region_data.groupby('genre')['genre'].count().sort_values().tail(5)\n",
    "plt.pie(values, labels = labels, autopct = '%1.1f%%', explode=(0.02,0.02,0.02,0.02,0.02))\n",
    "plt.title('TOP-5 popular genres in EU')\n",
    "\n",
    "plt.subplot(1,3,3)\n",
    "labels = EU_region_data.groupby('rating')['total_sales'].sum().sort_values().tail(5).index\n",
    "values = EU_region_data.groupby('rating')['total_sales'].sum().sort_values().tail(5)\n",
    "plt.pie(values, labels = labels, autopct = '%1.1f%%', explode=(0.02,0.02,0.02,0.02,0.02))\n",
    "plt.title('Amount of sales for each rating')\n",
    "\n",
    "plt.show()"
   ]
  },
  {
   "cell_type": "markdown",
   "metadata": {},
   "source": [
    "Игроки из европейского региона предпочитают Wii, DS, PS4, PS3 и PC (самая популярная платформа). Самый популярный жанр игры - также Action, самый непопулярный - Misc. Большинство купленных игр также обладают рейтингом E (Everyone). При этом более 20% игр не обладает никаким рейтингом."
   ]
  },
  {
   "cell_type": "markdown",
   "metadata": {},
   "source": [
    "**Японский регион:**"
   ]
  },
  {
   "cell_type": "code",
   "execution_count": 36,
   "metadata": {},
   "outputs": [
    {
     "data": {
      "image/png": "[encoded data removed]",
      "text/plain": [
       "<Figure size 1080x360 with 3 Axes>"
      ]
     },
     "metadata": {},
     "output_type": "display_data"
    }
   ],
   "source": [
    "JP_region_data = data.query('jp_sales > eu_sales & jp_sales > na_sales & jp_sales > other_sales')\n",
    "\n",
    "plt.figure(figsize=(15,5))\n",
    "\n",
    "plt.subplot(1,3,1)\n",
    "labels = JP_region_data.groupby('platform')['platform'].count().sort_values().tail(5).index\n",
    "values = JP_region_data.groupby('platform')['platform'].count().sort_values().tail(5)\n",
    "plt.pie(values, labels = labels,autopct = '%1.1f%%', explode=(0.02,0.02,0.02,0.02,0.02))\n",
    "plt.title('TOP-5 popular platforms in JP')\n",
    "\n",
    "plt.subplot(1,3,2)\n",
    "labels = JP_region_data.groupby('genre')['genre'].count().sort_values().tail(5).index\n",
    "values = JP_region_data.groupby('genre')['genre'].count().sort_values().tail(5)\n",
    "plt.pie(values, labels = labels, autopct = '%1.1f%%', explode=(0.02,0.02,0.02,0.02,0.02))\n",
    "plt.title('TOP-5 popular genres in JP')\n",
    "\n",
    "plt.subplot(1,3,3)\n",
    "labels = JP_region_data.groupby('rating')['total_sales'].sum().sort_values().tail(5).index\n",
    "values = JP_region_data.groupby('rating')['total_sales'].sum().sort_values().tail(5)\n",
    "plt.pie(values, labels = labels, autopct = '%1.1f%%', explode=(0.02,0.02,0.02,0.02,0.02))\n",
    "plt.title('Amount of sales for each rating')\n",
    "\n",
    "plt.show()"
   ]
  },
  {
   "cell_type": "markdown",
   "metadata": {},
   "source": [
    "Игроки из японского региона предпочитают PSV, PS, DS, PS2 и PSP (самая популярная платформа). Самый популярный жанр игры - Role-Playing, самый непопулярный - Sports. Практически 70% игр в японском регионе не обладают рейтингом ESRB - скорее всего это связано с тем, что в Японии существует своя система рейтинга - CERO, и большинство покупаемых игр в регионе обладают именно этим рейтингом. При этом, если отбросить игры, которые не обладают рейтингом - самым популярным рейтингом является T (Teen), а не Everyone, как в Северной Америке и Европе."
   ]
  },
  {
   "cell_type": "markdown",
   "metadata": {},
   "source": [
    "## Проверка гипотез"
   ]
  },
  {
   "cell_type": "markdown",
   "metadata": {},
   "source": [
    "**Проверим две гипотезы:**\n",
    "1. О равенстве средних пользовательских рейтингов платформ Xbox One и PC.\n",
    "2. О неравенстве средних пользовательских рейтингов жанров Action и Sports."
   ]
  },
  {
   "cell_type": "markdown",
   "metadata": {},
   "source": [
    "### Гипотеза для платформ Xbox One и PC"
   ]
  },
  {
   "cell_type": "markdown",
   "metadata": {},
   "source": [
    "**Формулировка гипотезы:** средние пользовательские рейтинги в актуальном (2013-2016) периоде для платформ Xbox One и PC одинаковые.\n",
    "\n",
    "В данном случае:\n",
    "\n",
    "- H0 (нулевая гипотеза) - средние пользовательские рейтинги платформ Xbox One и PC равны.\n",
    "- H1 (альтернативная гипотеза) - средние пользовательские рейтинги платформ Xbox One и PC неравны.\n",
    "- значение alpha (уровень значимости) = 0.01.\n",
    "- проводим тест о равенстве среднего двух ГС (генеральных совокупностей), при этом считаем, что их дисперсии неравны.\n",
    "\n",
    "Если значение p-value для проводимого теста будет меньше уровня значимости, у нас будут основания полагать, что нулевую гипотезу (о равенстве средних) можно отвергнуть."
   ]
  },
  {
   "cell_type": "code",
   "execution_count": 37,
   "metadata": {},
   "outputs": [
    {
     "name": "stdout",
     "output_type": "stream",
     "text": [
      "p-value: 0.14759594013430463\n",
      "Нулевую гипотезу отвергнуть нельзя\n"
     ]
    }
   ],
   "source": [
    "pc_data = data.query('year_of_release >= 2013 & platform == \"PC\"').dropna(subset=['user_score'])\n",
    "xone_data = data.query('year_of_release >= 2013 & platform == \"XOne\"').dropna(subset=['user_score'])\n",
    "\n",
    "array_pc = pc_data['user_score']\n",
    "array_xone = xone_data['user_score']\n",
    "\n",
    "alpha = 0.01\n",
    "\n",
    "result = st.ttest_ind(array_pc, array_xone, equal_var=False)\n",
    "print('p-value:', result.pvalue)\n",
    "if result.pvalue < alpha:\n",
    "    print('Отвергаем нулевую гипотезу')\n",
    "else:\n",
    "    print('Нулевую гипотезу отвергнуть нельзя')\n"
   ]
  },
  {
   "cell_type": "markdown",
   "metadata": {},
   "source": [
    "Значение p-value для проводимого теста больше уровня значимости, а значит у нас нет достаточных оснований, чтобы отбросить нулевую гипотезу.\n",
    "\n",
    "Средние пользовательские рейтинги платформ Xbox One и PC в актуальном (2013-2016) периоде, скорее всего, равны между собой."
   ]
  },
  {
   "cell_type": "markdown",
   "metadata": {},
   "source": [
    "### Гипотеза для игр жанра Action и Sports"
   ]
  },
  {
   "cell_type": "markdown",
   "metadata": {},
   "source": [
    "**Формулировка гипотезы:** средние пользовательские рейтинги жанров Action и Sports в актуальном (2013-2016) периоде разные.\n",
    "\n",
    "В данном случае:\n",
    "\n",
    "- H0 (нулевая гипотеза) - средние пользовательские рейтинги жанров Action и Sports равны.\n",
    "- H1 (альтернативная гипотеза) - средние пользовательские рейтинги жанров Action и Sports не равны.\n",
    "- значение alpha (уровень значимости) = 0.01.\n",
    "- проводим тест о равенстве среднего двух ГС (генеральных совокупностей), при этом считаем, что их дисперсии неравны.\n",
    "\n",
    "Если значение p-value для проводимого теста будет меньше уровня значимости, у нас будут основания полагать, что нулевую гипотезу (о равенстве средних) можно отвергнуть."
   ]
  },
  {
   "cell_type": "code",
   "execution_count": 38,
   "metadata": {},
   "outputs": [
    {
     "name": "stdout",
     "output_type": "stream",
     "text": [
      "p-value: 1.4460039700704315e-20\n",
      "Отвергаем нулевую гипотезу\n"
     ]
    }
   ],
   "source": [
    "action_data = data.query('year_of_release >= 2013 & genre == \"Action\"').dropna(subset=['user_score'])\n",
    "sports_data = data.query('year_of_release >= 2013 & genre == \"Sports\"').dropna(subset=['user_score'])\n",
    "\n",
    "array_action = action_data['user_score']\n",
    "array_sports = sports_data['user_score']\n",
    "\n",
    "alpha = 0.01\n",
    "\n",
    "result = st.ttest_ind(array_action, array_sports, equal_var=False)\n",
    "print('p-value:', result.pvalue)\n",
    "if result.pvalue < alpha:\n",
    "    print('Отвергаем нулевую гипотезу')\n",
    "else:\n",
    "    print('Нулевую гипотезу отвергнуть нельзя')"
   ]
  },
  {
   "cell_type": "markdown",
   "metadata": {},
   "source": [
    "Значение p-value для проводимого теста меньше уровня значимости, а значит у нас есть основания отбросить нулевую гипотезу (о равенстве средних пользовательских оценок для жанров Action и Sports) и принять альтернативную гипотезу: то есть средние пользовательские рейтинги для жанров Action и Sports, скорее всего, различаются."
   ]
  },
  {
   "cell_type": "markdown",
   "metadata": {},
   "source": [
    "## Вывод"
   ]
  },
  {
   "cell_type": "markdown",
   "metadata": {},
   "source": [
    "**Количество игр:**\n",
    "\n",
    "- с 1980 практически неизменно с каждым годом выпускалось все больше и больше игр.\n",
    "- пик по количеству выпущенных игр пришелся на 2008-2009 год, тогда их было выпущено чуть больше 1400. \n",
    "- после 2008 года количество ежегодно выпускаемых игр уменьшалось, и в итоге к 2016 уменьшилось более чем в 2 раза, по сравнению с максимальным значением.\n",
    "\n",
    "**Актуальные платформы и период для прогнозирования:**\n",
    "\n",
    "- \"сроки жизни\" у платформ немного различаются, но в среднем с момента появления платформы и до момента потери ее актуальности проходит 7-10 лет. \n",
    "- примерно половину этого срока популярность и количество продаваемых игр для каждой платформы растет, после чего происходит постепенное уменьшение количества продаж до нуля.\n",
    "- В датафрейме есть особо удачные платформы, такие как PC (игры выпускались с 1994 и в 2016 продаются примерно так же часто) и PS2 (\"срок жизни\" составил более 10 лет).\n",
    "- к 2016 году все платформы, для которых еще выпускаются и продаются игры, находятся во второй стадии своей \"жизни\" - их актуальность идет на спад.\n",
    "- список все еще актуальных платформ состоит из трех значений: 3DS (Nintendo), PS4 (Sony), XOne (Microsoft).\n",
    "- медианное значение количества продаж у XOne и PS4 выше, чем у 3DS. Также отметим, что у PS4 и 3DS есть успешные игры, продажи которых превысили 10 млн копий, у XOne таких игр нет.\n",
    "\n",
    "\n",
    "**Корреляция между оценками и количеством проданных игр:**\n",
    "\n",
    "- для трех актуальных платформ есть несильная, положительная корреляция между оценками критиков и общим количеством продаж.\n",
    "- влияние оценок пользователей на количество продаж для платформ PS4 и XOne практически нулевое, при этом, в случае с 3DS, влияние, хоть и небольшое, но есть.\n",
    "\n",
    "**Распределение игр по жанрам:**\n",
    "\n",
    "- самым популярным (по количеству выпущенных игр) жанром в оба периода является Action. \n",
    "- самым непопулярным (по количеству выпущенных игр) жанром в оба периода является Puzzle. \n",
    "- самым популярным (по медианному значению количества проданных игр) на протяжении 1980-2016 является жанр Platform.\n",
    "- самым популярным (по медианному значению количества проданных игр) на протяжении актуального 2013-2016 периода является жанр Shooter.\n",
    "- самым непопулярным (по медианному значению количества проданных игр) жанром игр является Adventure.\n",
    "\n",
    "**Портрет пользователя каждого региона:**\n",
    "- предпочтения пользователей по платформе в каждом регионе различаются.\n",
    "- в Северо-Американском и Европейском регионе более половины игр в жанре Action и Sports, в Японском регионе вместо Sports предпочитают Role-Playing.\n",
    "\n",
    "**Проверка гипотез:**\n",
    "\n",
    "- Нулевую гипотезу о равенстве средних пользовательских рейтингов платформ Xbox One и PC отвергнуть нельзя, то есть средние, скорее всего, равны.\n",
    "- Нулевую гипотезу о равенстве средних пользовательских рейтингов игр жанров Action и Sports может быть отвергнута, то есть средние, скорее всего, неравны."
   ]
  },
  {
   "cell_type": "markdown",
   "metadata": {},
   "source": [
    "**Рекомендации.**\n",
    "\n",
    "В 2017 году стоит обращать внимание:\n",
    "- на игры, которые выпускаются для все еще актуальных платформ: 3DS (Nintendo), PS4 (Sony), XOne (Microsoft).\n",
    "- на самые прибыльные жанры игр - Shooter и Sports.\n",
    "- на оценки критиков, оценки пользователей можно не учитывать (кроме платформы 3DS).\n",
    "- на популярные в зависимости от региона жанры игр и платформы.\n"
   ]
  }
 ],
 "metadata": {
  "ExecuteTimeLog": [
   {
    "duration": 416,
    "start_time": "2022-11-22T14:50:16.475Z"
   },
   {
    "duration": 980,
    "start_time": "2022-11-22T14:52:02.938Z"
   },
   {
    "duration": 124,
    "start_time": "2022-11-22T14:52:23.931Z"
   },
   {
    "duration": 18,
    "start_time": "2022-11-22T14:52:29.490Z"
   },
   {
    "duration": 16,
    "start_time": "2022-11-22T14:53:03.645Z"
   },
   {
    "duration": 128,
    "start_time": "2022-11-22T14:55:08.775Z"
   },
   {
    "duration": 9,
    "start_time": "2022-11-22T14:56:23.415Z"
   },
   {
    "duration": 4,
    "start_time": "2022-11-22T14:56:36.136Z"
   },
   {
    "duration": 4,
    "start_time": "2022-11-22T14:56:44.891Z"
   },
   {
    "duration": 3,
    "start_time": "2022-11-22T14:56:52.770Z"
   },
   {
    "duration": 22,
    "start_time": "2022-11-22T14:56:55.479Z"
   },
   {
    "duration": 15,
    "start_time": "2022-11-22T14:57:25.383Z"
   },
   {
    "duration": 9,
    "start_time": "2022-11-22T14:58:58.595Z"
   },
   {
    "duration": 33,
    "start_time": "2022-11-22T14:59:15.568Z"
   },
   {
    "duration": 16,
    "start_time": "2022-11-22T14:59:25.950Z"
   },
   {
    "duration": 22,
    "start_time": "2022-11-22T14:59:56.288Z"
   },
   {
    "duration": 10,
    "start_time": "2022-11-22T15:01:43.483Z"
   },
   {
    "duration": 458,
    "start_time": "2022-11-22T15:01:48.041Z"
   },
   {
    "duration": 7,
    "start_time": "2022-11-22T15:02:01.408Z"
   },
   {
    "duration": 15,
    "start_time": "2022-11-22T15:02:06.282Z"
   },
   {
    "duration": 14,
    "start_time": "2022-11-22T15:02:15.160Z"
   },
   {
    "duration": 16,
    "start_time": "2022-11-22T15:03:02.524Z"
   },
   {
    "duration": 1224,
    "start_time": "2022-11-22T15:03:15.860Z"
   },
   {
    "duration": 56,
    "start_time": "2022-11-22T15:03:17.086Z"
   },
   {
    "duration": 19,
    "start_time": "2022-11-22T15:03:17.144Z"
   },
   {
    "duration": 6,
    "start_time": "2022-11-22T15:03:17.165Z"
   },
   {
    "duration": 26,
    "start_time": "2022-11-22T15:03:17.173Z"
   },
   {
    "duration": 107,
    "start_time": "2022-11-22T15:03:17.201Z"
   },
   {
    "duration": 11,
    "start_time": "2022-11-22T15:05:18.981Z"
   },
   {
    "duration": 13,
    "start_time": "2022-11-22T15:05:26.307Z"
   },
   {
    "duration": 4,
    "start_time": "2022-11-22T15:06:14.096Z"
   },
   {
    "duration": 13,
    "start_time": "2022-11-22T15:06:21.402Z"
   },
   {
    "duration": 5,
    "start_time": "2022-11-22T15:06:58.817Z"
   },
   {
    "duration": 6,
    "start_time": "2022-11-22T15:07:11.320Z"
   },
   {
    "duration": 7,
    "start_time": "2022-11-22T15:07:14.647Z"
   },
   {
    "duration": 5,
    "start_time": "2022-11-22T15:07:24.365Z"
   },
   {
    "duration": 6,
    "start_time": "2022-11-22T15:07:32.341Z"
   },
   {
    "duration": 6,
    "start_time": "2022-11-22T15:07:54.997Z"
   },
   {
    "duration": 21,
    "start_time": "2022-11-22T15:08:07.180Z"
   },
   {
    "duration": 10,
    "start_time": "2022-11-22T15:08:38.519Z"
   },
   {
    "duration": 6,
    "start_time": "2022-11-22T15:11:16.092Z"
   },
   {
    "duration": 15,
    "start_time": "2022-11-22T15:11:22.162Z"
   },
   {
    "duration": 5,
    "start_time": "2022-11-22T15:12:18.729Z"
   },
   {
    "duration": 4,
    "start_time": "2022-11-22T15:12:29.768Z"
   },
   {
    "duration": 16,
    "start_time": "2022-11-22T15:12:31.370Z"
   },
   {
    "duration": 5,
    "start_time": "2022-11-22T15:12:34.436Z"
   },
   {
    "duration": 1255,
    "start_time": "2022-11-22T15:12:42.573Z"
   },
   {
    "duration": 66,
    "start_time": "2022-11-22T15:12:43.831Z"
   },
   {
    "duration": 17,
    "start_time": "2022-11-22T15:12:43.899Z"
   },
   {
    "duration": 3,
    "start_time": "2022-11-22T15:12:43.918Z"
   },
   {
    "duration": 15,
    "start_time": "2022-11-22T15:12:43.923Z"
   },
   {
    "duration": 29,
    "start_time": "2022-11-22T15:12:43.940Z"
   },
   {
    "duration": 14,
    "start_time": "2022-11-22T15:12:43.972Z"
   },
   {
    "duration": 123,
    "start_time": "2022-11-22T15:12:43.988Z"
   },
   {
    "duration": 0,
    "start_time": "2022-11-22T15:12:44.113Z"
   },
   {
    "duration": 0,
    "start_time": "2022-11-22T15:12:44.115Z"
   },
   {
    "duration": 5,
    "start_time": "2022-11-22T15:12:56.459Z"
   },
   {
    "duration": 24,
    "start_time": "2022-11-22T15:13:39.494Z"
   },
   {
    "duration": 6,
    "start_time": "2022-11-22T15:14:02.618Z"
   },
   {
    "duration": 10,
    "start_time": "2022-11-22T15:14:08.853Z"
   },
   {
    "duration": 22,
    "start_time": "2022-11-22T15:14:23.843Z"
   },
   {
    "duration": 8,
    "start_time": "2022-11-22T15:17:40.495Z"
   },
   {
    "duration": 8,
    "start_time": "2022-11-22T15:17:48.803Z"
   },
   {
    "duration": 6,
    "start_time": "2022-11-22T15:19:28.829Z"
   },
   {
    "duration": 27,
    "start_time": "2022-11-22T15:19:35.307Z"
   },
   {
    "duration": 10,
    "start_time": "2022-11-22T15:19:44.601Z"
   },
   {
    "duration": 6,
    "start_time": "2022-11-22T15:20:22.006Z"
   },
   {
    "duration": 15,
    "start_time": "2022-11-22T15:20:26.367Z"
   },
   {
    "duration": 5,
    "start_time": "2022-11-22T15:20:42.722Z"
   },
   {
    "duration": 7,
    "start_time": "2022-11-22T15:21:43.042Z"
   },
   {
    "duration": 6,
    "start_time": "2022-11-22T15:21:49.850Z"
   },
   {
    "duration": 7,
    "start_time": "2022-11-22T15:22:28.178Z"
   },
   {
    "duration": 5,
    "start_time": "2022-11-22T15:22:32.289Z"
   },
   {
    "duration": 10,
    "start_time": "2022-11-22T15:22:35.971Z"
   },
   {
    "duration": 6,
    "start_time": "2022-11-22T15:22:52.796Z"
   },
   {
    "duration": 730,
    "start_time": "2022-11-22T15:23:15.209Z"
   },
   {
    "duration": 1283,
    "start_time": "2022-11-22T15:23:23.652Z"
   },
   {
    "duration": 58,
    "start_time": "2022-11-22T15:23:24.938Z"
   },
   {
    "duration": 18,
    "start_time": "2022-11-22T15:23:24.998Z"
   },
   {
    "duration": 2,
    "start_time": "2022-11-22T15:23:25.019Z"
   },
   {
    "duration": 19,
    "start_time": "2022-11-22T15:23:25.023Z"
   },
   {
    "duration": 18,
    "start_time": "2022-11-22T15:23:25.044Z"
   },
   {
    "duration": 10,
    "start_time": "2022-11-22T15:23:25.064Z"
   },
   {
    "duration": 129,
    "start_time": "2022-11-22T15:23:25.076Z"
   },
   {
    "duration": 0,
    "start_time": "2022-11-22T15:23:25.207Z"
   },
   {
    "duration": 0,
    "start_time": "2022-11-22T15:23:25.209Z"
   },
   {
    "duration": 0,
    "start_time": "2022-11-22T15:23:25.210Z"
   },
   {
    "duration": 0,
    "start_time": "2022-11-22T15:23:25.211Z"
   },
   {
    "duration": 0,
    "start_time": "2022-11-22T15:23:25.212Z"
   },
   {
    "duration": 0,
    "start_time": "2022-11-22T15:23:25.214Z"
   },
   {
    "duration": 0,
    "start_time": "2022-11-22T15:23:25.215Z"
   },
   {
    "duration": 0,
    "start_time": "2022-11-22T15:23:25.216Z"
   },
   {
    "duration": 6,
    "start_time": "2022-11-22T15:23:39.875Z"
   },
   {
    "duration": 27,
    "start_time": "2022-11-22T15:23:41.535Z"
   },
   {
    "duration": 23,
    "start_time": "2022-11-22T15:23:43.874Z"
   },
   {
    "duration": 6,
    "start_time": "2022-11-22T15:23:46.022Z"
   },
   {
    "duration": 6,
    "start_time": "2022-11-22T15:23:47.953Z"
   },
   {
    "duration": 14,
    "start_time": "2022-11-22T15:23:49.667Z"
   },
   {
    "duration": 8,
    "start_time": "2022-11-22T15:23:51.537Z"
   },
   {
    "duration": 20,
    "start_time": "2022-11-22T15:23:53.449Z"
   },
   {
    "duration": 4,
    "start_time": "2022-11-22T15:24:37.215Z"
   },
   {
    "duration": 21,
    "start_time": "2022-11-22T15:24:39.085Z"
   },
   {
    "duration": 15,
    "start_time": "2022-11-22T15:24:47.339Z"
   },
   {
    "duration": 10,
    "start_time": "2022-11-22T15:25:25.434Z"
   },
   {
    "duration": 16,
    "start_time": "2022-11-22T15:25:30.466Z"
   },
   {
    "duration": 1186,
    "start_time": "2022-11-22T15:26:06.603Z"
   },
   {
    "duration": 54,
    "start_time": "2022-11-22T15:26:07.791Z"
   },
   {
    "duration": 18,
    "start_time": "2022-11-22T15:26:07.847Z"
   },
   {
    "duration": 3,
    "start_time": "2022-11-22T15:26:07.867Z"
   },
   {
    "duration": 18,
    "start_time": "2022-11-22T15:26:07.872Z"
   },
   {
    "duration": 9,
    "start_time": "2022-11-22T15:26:07.892Z"
   },
   {
    "duration": 11,
    "start_time": "2022-11-22T15:26:07.902Z"
   },
   {
    "duration": 143,
    "start_time": "2022-11-22T15:26:07.914Z"
   },
   {
    "duration": 0,
    "start_time": "2022-11-22T15:26:08.059Z"
   },
   {
    "duration": 0,
    "start_time": "2022-11-22T15:26:08.061Z"
   },
   {
    "duration": 0,
    "start_time": "2022-11-22T15:26:08.063Z"
   },
   {
    "duration": 0,
    "start_time": "2022-11-22T15:26:08.064Z"
   },
   {
    "duration": 0,
    "start_time": "2022-11-22T15:26:08.065Z"
   },
   {
    "duration": 0,
    "start_time": "2022-11-22T15:26:08.066Z"
   },
   {
    "duration": 0,
    "start_time": "2022-11-22T15:26:08.068Z"
   },
   {
    "duration": 3,
    "start_time": "2022-11-22T15:26:17.330Z"
   },
   {
    "duration": 61,
    "start_time": "2022-11-22T15:26:17.336Z"
   },
   {
    "duration": 16,
    "start_time": "2022-11-22T15:26:17.398Z"
   },
   {
    "duration": 10,
    "start_time": "2022-11-22T15:26:17.415Z"
   },
   {
    "duration": 30,
    "start_time": "2022-11-22T15:26:17.427Z"
   },
   {
    "duration": 12,
    "start_time": "2022-11-22T15:26:17.459Z"
   },
   {
    "duration": 23,
    "start_time": "2022-11-22T15:26:17.473Z"
   },
   {
    "duration": 21,
    "start_time": "2022-11-22T15:26:17.498Z"
   },
   {
    "duration": 0,
    "start_time": "2022-11-22T15:26:17.521Z"
   },
   {
    "duration": 0,
    "start_time": "2022-11-22T15:26:17.522Z"
   },
   {
    "duration": 0,
    "start_time": "2022-11-22T15:26:17.523Z"
   },
   {
    "duration": 0,
    "start_time": "2022-11-22T15:26:17.524Z"
   },
   {
    "duration": 0,
    "start_time": "2022-11-22T15:26:17.525Z"
   },
   {
    "duration": 0,
    "start_time": "2022-11-22T15:26:17.526Z"
   },
   {
    "duration": 6,
    "start_time": "2022-11-22T15:26:22.095Z"
   },
   {
    "duration": 3,
    "start_time": "2022-11-22T15:26:26.199Z"
   },
   {
    "duration": 59,
    "start_time": "2022-11-22T15:26:26.204Z"
   },
   {
    "duration": 15,
    "start_time": "2022-11-22T15:26:26.265Z"
   },
   {
    "duration": 4,
    "start_time": "2022-11-22T15:26:26.282Z"
   },
   {
    "duration": 18,
    "start_time": "2022-11-22T15:26:26.288Z"
   },
   {
    "duration": 8,
    "start_time": "2022-11-22T15:26:26.307Z"
   },
   {
    "duration": 11,
    "start_time": "2022-11-22T15:26:26.316Z"
   },
   {
    "duration": 40,
    "start_time": "2022-11-22T15:26:26.329Z"
   },
   {
    "duration": 0,
    "start_time": "2022-11-22T15:26:26.372Z"
   },
   {
    "duration": 0,
    "start_time": "2022-11-22T15:26:26.373Z"
   },
   {
    "duration": 0,
    "start_time": "2022-11-22T15:26:26.374Z"
   },
   {
    "duration": 0,
    "start_time": "2022-11-22T15:26:26.375Z"
   },
   {
    "duration": 0,
    "start_time": "2022-11-22T15:26:26.376Z"
   },
   {
    "duration": 0,
    "start_time": "2022-11-22T15:26:26.377Z"
   },
   {
    "duration": 5,
    "start_time": "2022-11-22T15:26:29.218Z"
   },
   {
    "duration": 24,
    "start_time": "2022-11-22T15:26:31.705Z"
   },
   {
    "duration": 24,
    "start_time": "2022-11-22T15:26:34.169Z"
   },
   {
    "duration": 5,
    "start_time": "2022-11-22T15:26:36.332Z"
   },
   {
    "duration": 6,
    "start_time": "2022-11-22T15:26:38.138Z"
   },
   {
    "duration": 15,
    "start_time": "2022-11-22T15:26:39.591Z"
   },
   {
    "duration": 5,
    "start_time": "2022-11-22T15:26:41.614Z"
   },
   {
    "duration": 17,
    "start_time": "2022-11-22T15:26:53.688Z"
   },
   {
    "duration": 48,
    "start_time": "2022-11-22T15:27:52.744Z"
   },
   {
    "duration": 5,
    "start_time": "2022-11-22T15:27:55.500Z"
   },
   {
    "duration": 7,
    "start_time": "2022-11-22T15:29:42.135Z"
   },
   {
    "duration": 31,
    "start_time": "2022-11-22T15:31:04.262Z"
   },
   {
    "duration": 24,
    "start_time": "2022-11-22T15:31:06.826Z"
   },
   {
    "duration": 8,
    "start_time": "2022-11-22T15:31:35.410Z"
   },
   {
    "duration": 18,
    "start_time": "2022-11-22T15:32:14.620Z"
   },
   {
    "duration": 10,
    "start_time": "2022-11-22T15:32:41.359Z"
   },
   {
    "duration": 12,
    "start_time": "2022-11-22T15:32:52.256Z"
   },
   {
    "duration": 10,
    "start_time": "2022-11-22T15:32:57.505Z"
   },
   {
    "duration": 11,
    "start_time": "2022-11-22T15:33:01.968Z"
   },
   {
    "duration": 13,
    "start_time": "2022-11-22T15:35:41.683Z"
   },
   {
    "duration": 5,
    "start_time": "2022-11-22T15:37:18.543Z"
   },
   {
    "duration": 5,
    "start_time": "2022-11-22T15:39:27.219Z"
   },
   {
    "duration": 16,
    "start_time": "2022-11-22T15:39:30.867Z"
   },
   {
    "duration": 5,
    "start_time": "2022-11-22T15:42:00.123Z"
   },
   {
    "duration": 5,
    "start_time": "2022-11-22T15:42:03.817Z"
   },
   {
    "duration": 149,
    "start_time": "2022-11-22T15:44:06.867Z"
   },
   {
    "duration": 127,
    "start_time": "2022-11-22T15:44:11.074Z"
   },
   {
    "duration": 128,
    "start_time": "2022-11-22T15:44:16.731Z"
   },
   {
    "duration": 155,
    "start_time": "2022-11-22T15:45:17.638Z"
   },
   {
    "duration": 143,
    "start_time": "2022-11-22T15:45:21.195Z"
   },
   {
    "duration": 144,
    "start_time": "2022-11-22T15:45:26.544Z"
   },
   {
    "duration": 156,
    "start_time": "2022-11-22T15:45:34.722Z"
   },
   {
    "duration": 5,
    "start_time": "2022-11-22T15:46:36.559Z"
   },
   {
    "duration": 171,
    "start_time": "2022-11-22T15:47:58.392Z"
   },
   {
    "duration": 243,
    "start_time": "2022-11-22T15:48:03.694Z"
   },
   {
    "duration": 175,
    "start_time": "2022-11-22T15:48:25.848Z"
   },
   {
    "duration": 327,
    "start_time": "2022-11-22T15:48:44.071Z"
   },
   {
    "duration": 339,
    "start_time": "2022-11-22T15:48:57.171Z"
   },
   {
    "duration": 5,
    "start_time": "2022-11-22T15:53:41.181Z"
   },
   {
    "duration": 8,
    "start_time": "2022-11-22T15:53:44.367Z"
   },
   {
    "duration": 6,
    "start_time": "2022-11-22T15:54:04.037Z"
   },
   {
    "duration": 7,
    "start_time": "2022-11-22T15:54:05.770Z"
   },
   {
    "duration": 122,
    "start_time": "2022-11-22T15:54:43.008Z"
   },
   {
    "duration": 121,
    "start_time": "2022-11-22T15:54:49.469Z"
   },
   {
    "duration": 132,
    "start_time": "2022-11-22T15:55:05.305Z"
   },
   {
    "duration": 924,
    "start_time": "2022-11-22T15:58:03.192Z"
   },
   {
    "duration": 16,
    "start_time": "2022-11-22T15:58:19.006Z"
   },
   {
    "duration": 7,
    "start_time": "2022-11-22T15:58:51.268Z"
   },
   {
    "duration": 3,
    "start_time": "2022-11-22T15:59:06.918Z"
   },
   {
    "duration": 119,
    "start_time": "2022-11-22T15:59:11.074Z"
   },
   {
    "duration": 11,
    "start_time": "2022-11-22T16:01:47.368Z"
   },
   {
    "duration": 11,
    "start_time": "2022-11-22T16:02:14.370Z"
   },
   {
    "duration": 18,
    "start_time": "2022-11-22T16:03:15.240Z"
   },
   {
    "duration": 12,
    "start_time": "2022-11-22T16:03:40.988Z"
   },
   {
    "duration": 48,
    "start_time": "2022-11-22T16:03:43.996Z"
   },
   {
    "duration": 11,
    "start_time": "2022-11-22T16:03:54.902Z"
   },
   {
    "duration": 11,
    "start_time": "2022-11-22T16:04:12.323Z"
   },
   {
    "duration": 12,
    "start_time": "2022-11-22T16:04:15.379Z"
   },
   {
    "duration": 8,
    "start_time": "2022-11-22T16:04:26.601Z"
   },
   {
    "duration": 13,
    "start_time": "2022-11-22T16:04:56.679Z"
   },
   {
    "duration": 5,
    "start_time": "2022-11-22T16:05:02.405Z"
   },
   {
    "duration": 7,
    "start_time": "2022-11-22T16:06:27.538Z"
   },
   {
    "duration": 151,
    "start_time": "2022-11-22T16:06:34.460Z"
   },
   {
    "duration": 228,
    "start_time": "2022-11-22T16:07:28.075Z"
   },
   {
    "duration": 121,
    "start_time": "2022-11-22T16:08:47.708Z"
   },
   {
    "duration": 142,
    "start_time": "2022-11-22T16:08:52.555Z"
   },
   {
    "duration": 9,
    "start_time": "2022-11-22T16:10:58.460Z"
   },
   {
    "duration": 3,
    "start_time": "2022-11-22T16:11:01.462Z"
   },
   {
    "duration": 4,
    "start_time": "2022-11-22T16:11:04.377Z"
   },
   {
    "duration": 124,
    "start_time": "2022-11-22T16:12:06.035Z"
   },
   {
    "duration": 136,
    "start_time": "2022-11-22T16:12:16.457Z"
   },
   {
    "duration": 145,
    "start_time": "2022-11-22T16:13:06.956Z"
   },
   {
    "duration": 148,
    "start_time": "2022-11-22T16:13:18.649Z"
   },
   {
    "duration": 5,
    "start_time": "2022-11-22T16:13:24.306Z"
   },
   {
    "duration": 25,
    "start_time": "2022-11-22T16:13:33.882Z"
   },
   {
    "duration": 130,
    "start_time": "2022-11-22T16:13:50.411Z"
   },
   {
    "duration": 123,
    "start_time": "2022-11-22T16:16:05.635Z"
   },
   {
    "duration": 136,
    "start_time": "2022-11-22T16:16:31.642Z"
   },
   {
    "duration": 6,
    "start_time": "2022-11-22T16:16:42.534Z"
   },
   {
    "duration": 19,
    "start_time": "2022-11-22T16:20:05.266Z"
   },
   {
    "duration": 250,
    "start_time": "2022-11-22T16:20:16.669Z"
   },
   {
    "duration": 210,
    "start_time": "2022-11-22T16:20:27.521Z"
   },
   {
    "duration": 239,
    "start_time": "2022-11-22T16:20:29.599Z"
   },
   {
    "duration": 323,
    "start_time": "2022-11-22T16:20:41.635Z"
   },
   {
    "duration": 293,
    "start_time": "2022-11-22T16:20:50.069Z"
   },
   {
    "duration": 166,
    "start_time": "2022-11-22T16:22:05.150Z"
   },
   {
    "duration": 296,
    "start_time": "2022-11-22T16:22:26.352Z"
   },
   {
    "duration": 321,
    "start_time": "2022-11-22T16:22:53.755Z"
   },
   {
    "duration": 341,
    "start_time": "2022-11-22T16:23:11.723Z"
   },
   {
    "duration": 320,
    "start_time": "2022-11-22T16:23:21.247Z"
   },
   {
    "duration": 300,
    "start_time": "2022-11-22T16:23:26.199Z"
   },
   {
    "duration": 382,
    "start_time": "2022-11-22T16:23:34.396Z"
   },
   {
    "duration": 322,
    "start_time": "2022-11-22T16:23:41.045Z"
   },
   {
    "duration": 333,
    "start_time": "2022-11-22T16:23:47.809Z"
   },
   {
    "duration": 472,
    "start_time": "2022-11-22T16:23:54.229Z"
   },
   {
    "duration": 343,
    "start_time": "2022-11-22T16:24:05.215Z"
   },
   {
    "duration": 311,
    "start_time": "2022-11-22T16:24:18.662Z"
   },
   {
    "duration": 295,
    "start_time": "2022-11-22T16:24:23.906Z"
   },
   {
    "duration": 335,
    "start_time": "2022-11-22T16:24:34.911Z"
   },
   {
    "duration": 302,
    "start_time": "2022-11-22T16:24:43.838Z"
   },
   {
    "duration": 315,
    "start_time": "2022-11-22T16:24:49.473Z"
   },
   {
    "duration": 283,
    "start_time": "2022-11-22T16:24:56.835Z"
   },
   {
    "duration": 311,
    "start_time": "2022-11-22T16:25:02.014Z"
   },
   {
    "duration": 316,
    "start_time": "2022-11-22T16:26:38.680Z"
   },
   {
    "duration": 319,
    "start_time": "2022-11-22T16:27:38.380Z"
   },
   {
    "duration": 420,
    "start_time": "2022-11-22T16:27:47.783Z"
   },
   {
    "duration": 7,
    "start_time": "2022-11-22T16:32:07.041Z"
   },
   {
    "duration": 24,
    "start_time": "2022-11-22T16:32:10.323Z"
   },
   {
    "duration": 327,
    "start_time": "2022-11-22T16:35:29.137Z"
   },
   {
    "duration": 4,
    "start_time": "2022-11-22T16:35:43.425Z"
   },
   {
    "duration": 327,
    "start_time": "2022-11-22T16:36:04.029Z"
   },
   {
    "duration": 1218,
    "start_time": "2022-11-22T16:36:09.568Z"
   },
   {
    "duration": 57,
    "start_time": "2022-11-22T16:36:10.788Z"
   },
   {
    "duration": 18,
    "start_time": "2022-11-22T16:36:10.846Z"
   },
   {
    "duration": 3,
    "start_time": "2022-11-22T16:36:10.867Z"
   },
   {
    "duration": 19,
    "start_time": "2022-11-22T16:36:10.871Z"
   },
   {
    "duration": 9,
    "start_time": "2022-11-22T16:36:10.892Z"
   },
   {
    "duration": 11,
    "start_time": "2022-11-22T16:36:10.903Z"
   },
   {
    "duration": 143,
    "start_time": "2022-11-22T16:36:10.916Z"
   },
   {
    "duration": 0,
    "start_time": "2022-11-22T16:36:11.061Z"
   },
   {
    "duration": 0,
    "start_time": "2022-11-22T16:36:11.063Z"
   },
   {
    "duration": 0,
    "start_time": "2022-11-22T16:36:11.064Z"
   },
   {
    "duration": 0,
    "start_time": "2022-11-22T16:36:11.065Z"
   },
   {
    "duration": 0,
    "start_time": "2022-11-22T16:36:11.066Z"
   },
   {
    "duration": 0,
    "start_time": "2022-11-22T16:36:11.067Z"
   },
   {
    "duration": 0,
    "start_time": "2022-11-22T16:36:11.068Z"
   },
   {
    "duration": 0,
    "start_time": "2022-11-22T16:36:11.070Z"
   },
   {
    "duration": 0,
    "start_time": "2022-11-22T16:36:11.071Z"
   },
   {
    "duration": 0,
    "start_time": "2022-11-22T16:36:11.072Z"
   },
   {
    "duration": 0,
    "start_time": "2022-11-22T16:36:11.073Z"
   },
   {
    "duration": 0,
    "start_time": "2022-11-22T16:36:11.075Z"
   },
   {
    "duration": 0,
    "start_time": "2022-11-22T16:36:11.076Z"
   },
   {
    "duration": 0,
    "start_time": "2022-11-22T16:36:11.077Z"
   },
   {
    "duration": 6,
    "start_time": "2022-11-22T16:36:20.469Z"
   },
   {
    "duration": 25,
    "start_time": "2022-11-22T16:36:20.477Z"
   },
   {
    "duration": 23,
    "start_time": "2022-11-22T16:36:20.504Z"
   },
   {
    "duration": 5,
    "start_time": "2022-11-22T16:36:20.529Z"
   },
   {
    "duration": 21,
    "start_time": "2022-11-22T16:36:20.537Z"
   },
   {
    "duration": 7,
    "start_time": "2022-11-22T16:36:20.560Z"
   },
   {
    "duration": 17,
    "start_time": "2022-11-22T16:36:20.569Z"
   },
   {
    "duration": 11,
    "start_time": "2022-11-22T16:36:20.588Z"
   },
   {
    "duration": 11,
    "start_time": "2022-11-22T16:36:20.600Z"
   },
   {
    "duration": 381,
    "start_time": "2022-11-22T16:36:20.613Z"
   },
   {
    "duration": 5,
    "start_time": "2022-11-22T16:36:20.996Z"
   },
   {
    "duration": 455,
    "start_time": "2022-11-22T16:36:21.003Z"
   },
   {
    "duration": 7,
    "start_time": "2022-11-22T16:36:21.460Z"
   },
   {
    "duration": 26,
    "start_time": "2022-11-22T16:36:21.469Z"
   },
   {
    "duration": 373,
    "start_time": "2022-11-22T16:40:58.895Z"
   },
   {
    "duration": 7,
    "start_time": "2022-11-22T16:41:29.468Z"
   },
   {
    "duration": 37,
    "start_time": "2022-11-22T16:41:31.050Z"
   },
   {
    "duration": 312,
    "start_time": "2022-11-22T16:43:46.129Z"
   },
   {
    "duration": 6,
    "start_time": "2022-11-22T16:43:50.515Z"
   },
   {
    "duration": 21,
    "start_time": "2022-11-22T16:43:52.115Z"
   },
   {
    "duration": 3,
    "start_time": "2022-11-22T16:46:06.574Z"
   },
   {
    "duration": 19,
    "start_time": "2022-11-22T16:48:31.334Z"
   },
   {
    "duration": 9,
    "start_time": "2022-11-22T16:48:43.376Z"
   },
   {
    "duration": 28,
    "start_time": "2022-11-22T16:48:49.370Z"
   },
   {
    "duration": 12,
    "start_time": "2022-11-22T16:49:03.652Z"
   },
   {
    "duration": 11,
    "start_time": "2022-11-22T16:49:15.395Z"
   },
   {
    "duration": 23,
    "start_time": "2022-11-22T16:50:30.164Z"
   },
   {
    "duration": 221,
    "start_time": "2022-11-22T16:50:47.583Z"
   },
   {
    "duration": 187,
    "start_time": "2022-11-22T16:51:00.510Z"
   },
   {
    "duration": 152,
    "start_time": "2022-11-22T16:51:10.441Z"
   },
   {
    "duration": 162,
    "start_time": "2022-11-22T16:51:30.634Z"
   },
   {
    "duration": 132,
    "start_time": "2022-11-22T16:53:30.609Z"
   },
   {
    "duration": 209,
    "start_time": "2022-11-22T16:53:39.578Z"
   },
   {
    "duration": 120,
    "start_time": "2022-11-22T16:54:01.727Z"
   },
   {
    "duration": 11,
    "start_time": "2022-11-22T16:54:25.629Z"
   },
   {
    "duration": 174,
    "start_time": "2022-11-22T16:56:02.868Z"
   },
   {
    "duration": 166,
    "start_time": "2022-11-22T16:59:06.309Z"
   },
   {
    "duration": 147,
    "start_time": "2022-11-22T16:59:57.311Z"
   },
   {
    "duration": 154,
    "start_time": "2022-11-22T16:59:59.889Z"
   },
   {
    "duration": 263,
    "start_time": "2022-11-22T17:00:06.758Z"
   },
   {
    "duration": 217,
    "start_time": "2022-11-22T17:00:56.503Z"
   },
   {
    "duration": 192,
    "start_time": "2022-11-22T17:01:04.265Z"
   },
   {
    "duration": 169,
    "start_time": "2022-11-22T17:01:09.491Z"
   },
   {
    "duration": 178,
    "start_time": "2022-11-22T17:01:20.543Z"
   },
   {
    "duration": 170,
    "start_time": "2022-11-22T17:01:41.813Z"
   },
   {
    "duration": 144,
    "start_time": "2022-11-22T17:02:10.028Z"
   },
   {
    "duration": 171,
    "start_time": "2022-11-22T17:02:21.837Z"
   },
   {
    "duration": 219,
    "start_time": "2022-11-22T17:02:42.130Z"
   },
   {
    "duration": 182,
    "start_time": "2022-11-22T17:02:47.520Z"
   },
   {
    "duration": 175,
    "start_time": "2022-11-22T17:03:07.284Z"
   },
   {
    "duration": 285,
    "start_time": "2022-11-22T17:03:24.818Z"
   },
   {
    "duration": 183,
    "start_time": "2022-11-22T17:03:56.072Z"
   },
   {
    "duration": 182,
    "start_time": "2022-11-22T17:04:05.916Z"
   },
   {
    "duration": 281,
    "start_time": "2022-11-22T17:04:25.575Z"
   },
   {
    "duration": 286,
    "start_time": "2022-11-22T17:04:30.269Z"
   },
   {
    "duration": 176,
    "start_time": "2022-11-22T17:04:44.023Z"
   },
   {
    "duration": 312,
    "start_time": "2022-11-22T17:06:57.648Z"
   },
   {
    "duration": 189,
    "start_time": "2022-11-22T17:07:59.301Z"
   },
   {
    "duration": 9,
    "start_time": "2022-11-22T17:09:02.144Z"
   },
   {
    "duration": 202,
    "start_time": "2022-11-22T17:09:49.873Z"
   },
   {
    "duration": 6,
    "start_time": "2022-11-22T17:10:00.872Z"
   },
   {
    "duration": 24,
    "start_time": "2022-11-22T17:10:07.096Z"
   },
   {
    "duration": 12,
    "start_time": "2022-11-22T17:10:37.913Z"
   },
   {
    "duration": 16,
    "start_time": "2022-11-22T17:10:47.782Z"
   },
   {
    "duration": 143,
    "start_time": "2022-11-22T17:11:20.951Z"
   },
   {
    "duration": 134,
    "start_time": "2022-11-22T17:11:28.067Z"
   },
   {
    "duration": 282,
    "start_time": "2022-11-22T17:12:28.205Z"
   },
   {
    "duration": 187,
    "start_time": "2022-11-22T17:12:33.690Z"
   },
   {
    "duration": 154,
    "start_time": "2022-11-22T17:14:30.761Z"
   },
   {
    "duration": 173,
    "start_time": "2022-11-22T17:14:39.370Z"
   },
   {
    "duration": 215,
    "start_time": "2022-11-22T17:17:53.028Z"
   },
   {
    "duration": 220,
    "start_time": "2022-11-22T17:17:57.930Z"
   },
   {
    "duration": 993,
    "start_time": "2022-11-22T17:19:28.174Z"
   },
   {
    "duration": 304,
    "start_time": "2022-11-22T17:19:33.239Z"
   },
   {
    "duration": 325,
    "start_time": "2022-11-22T17:21:01.508Z"
   },
   {
    "duration": 399,
    "start_time": "2022-11-22T17:21:09.875Z"
   },
   {
    "duration": 321,
    "start_time": "2022-11-22T17:21:39.263Z"
   },
   {
    "duration": 315,
    "start_time": "2022-11-22T17:22:05.467Z"
   },
   {
    "duration": 328,
    "start_time": "2022-11-22T17:23:56.388Z"
   },
   {
    "duration": 374,
    "start_time": "2022-11-22T17:26:01.632Z"
   },
   {
    "duration": 393,
    "start_time": "2022-11-22T17:26:32.793Z"
   },
   {
    "duration": 366,
    "start_time": "2022-11-22T17:26:50.072Z"
   },
   {
    "duration": 439,
    "start_time": "2022-11-22T17:27:16.218Z"
   },
   {
    "duration": 367,
    "start_time": "2022-11-22T17:28:01.309Z"
   },
   {
    "duration": 363,
    "start_time": "2022-11-22T17:29:59.431Z"
   },
   {
    "duration": 27,
    "start_time": "2022-11-22T17:34:02.532Z"
   },
   {
    "duration": 225,
    "start_time": "2022-11-22T17:35:34.956Z"
   },
   {
    "duration": 369,
    "start_time": "2022-11-22T17:35:38.251Z"
   },
   {
    "duration": 369,
    "start_time": "2022-11-22T17:35:42.698Z"
   },
   {
    "duration": 335,
    "start_time": "2022-11-22T17:35:46.808Z"
   },
   {
    "duration": 473,
    "start_time": "2022-11-22T17:35:54.756Z"
   },
   {
    "duration": 331,
    "start_time": "2022-11-22T17:35:58.467Z"
   },
   {
    "duration": 32,
    "start_time": "2022-11-22T17:36:05.742Z"
   },
   {
    "duration": 51,
    "start_time": "2022-11-23T09:54:57.098Z"
   },
   {
    "duration": 1326,
    "start_time": "2022-11-23T09:55:02.666Z"
   },
   {
    "duration": 172,
    "start_time": "2022-11-23T09:55:03.994Z"
   },
   {
    "duration": 17,
    "start_time": "2022-11-23T09:55:04.170Z"
   },
   {
    "duration": 3,
    "start_time": "2022-11-23T09:55:04.189Z"
   },
   {
    "duration": 16,
    "start_time": "2022-11-23T09:55:04.194Z"
   },
   {
    "duration": 8,
    "start_time": "2022-11-23T09:55:04.212Z"
   },
   {
    "duration": 8,
    "start_time": "2022-11-23T09:55:04.222Z"
   },
   {
    "duration": 50,
    "start_time": "2022-11-23T09:55:04.232Z"
   },
   {
    "duration": 110,
    "start_time": "2022-11-23T09:55:04.284Z"
   },
   {
    "duration": 0,
    "start_time": "2022-11-23T09:55:04.396Z"
   },
   {
    "duration": 0,
    "start_time": "2022-11-23T09:55:04.397Z"
   },
   {
    "duration": 0,
    "start_time": "2022-11-23T09:55:04.398Z"
   },
   {
    "duration": 0,
    "start_time": "2022-11-23T09:55:04.399Z"
   },
   {
    "duration": 0,
    "start_time": "2022-11-23T09:55:04.400Z"
   },
   {
    "duration": 0,
    "start_time": "2022-11-23T09:55:04.401Z"
   },
   {
    "duration": 0,
    "start_time": "2022-11-23T09:55:04.402Z"
   },
   {
    "duration": 0,
    "start_time": "2022-11-23T09:55:04.403Z"
   },
   {
    "duration": 0,
    "start_time": "2022-11-23T09:55:04.404Z"
   },
   {
    "duration": 0,
    "start_time": "2022-11-23T09:55:04.405Z"
   },
   {
    "duration": 0,
    "start_time": "2022-11-23T09:55:04.405Z"
   },
   {
    "duration": 0,
    "start_time": "2022-11-23T09:55:04.406Z"
   },
   {
    "duration": 0,
    "start_time": "2022-11-23T09:55:04.407Z"
   },
   {
    "duration": 0,
    "start_time": "2022-11-23T09:55:04.408Z"
   },
   {
    "duration": 0,
    "start_time": "2022-11-23T09:55:04.409Z"
   },
   {
    "duration": 0,
    "start_time": "2022-11-23T09:55:04.410Z"
   },
   {
    "duration": 0,
    "start_time": "2022-11-23T09:55:04.411Z"
   },
   {
    "duration": 0,
    "start_time": "2022-11-23T09:55:04.412Z"
   },
   {
    "duration": 0,
    "start_time": "2022-11-23T09:55:04.413Z"
   },
   {
    "duration": 6,
    "start_time": "2022-11-23T09:55:14.234Z"
   },
   {
    "duration": 26,
    "start_time": "2022-11-23T09:55:14.242Z"
   },
   {
    "duration": 23,
    "start_time": "2022-11-23T09:55:14.270Z"
   },
   {
    "duration": 5,
    "start_time": "2022-11-23T09:55:14.295Z"
   },
   {
    "duration": 8,
    "start_time": "2022-11-23T09:55:14.302Z"
   },
   {
    "duration": 7,
    "start_time": "2022-11-23T09:55:14.311Z"
   },
   {
    "duration": 17,
    "start_time": "2022-11-23T09:55:14.320Z"
   },
   {
    "duration": 5,
    "start_time": "2022-11-23T09:55:14.339Z"
   },
   {
    "duration": 32,
    "start_time": "2022-11-23T09:55:14.346Z"
   },
   {
    "duration": 372,
    "start_time": "2022-11-23T09:55:14.380Z"
   },
   {
    "duration": 5,
    "start_time": "2022-11-23T09:55:14.754Z"
   },
   {
    "duration": 391,
    "start_time": "2022-11-23T09:55:14.761Z"
   },
   {
    "duration": 198,
    "start_time": "2022-11-23T09:55:15.154Z"
   },
   {
    "duration": 336,
    "start_time": "2022-11-23T09:55:15.355Z"
   },
   {
    "duration": 373,
    "start_time": "2022-11-23T09:55:15.693Z"
   },
   {
    "duration": 387,
    "start_time": "2022-11-23T09:55:16.068Z"
   },
   {
    "duration": 338,
    "start_time": "2022-11-23T09:55:16.457Z"
   },
   {
    "duration": 299,
    "start_time": "2022-11-23T09:55:16.797Z"
   },
   {
    "duration": 21,
    "start_time": "2022-11-23T09:55:17.097Z"
   },
   {
    "duration": 33,
    "start_time": "2022-11-23T09:56:23.641Z"
   },
   {
    "duration": 292,
    "start_time": "2022-11-23T10:00:27.371Z"
   },
   {
    "duration": 292,
    "start_time": "2022-11-23T10:00:35.763Z"
   },
   {
    "duration": 298,
    "start_time": "2022-11-23T10:00:47.068Z"
   },
   {
    "duration": 302,
    "start_time": "2022-11-23T10:01:01.294Z"
   },
   {
    "duration": 66,
    "start_time": "2022-11-23T10:01:21.927Z"
   },
   {
    "duration": 308,
    "start_time": "2022-11-23T10:01:24.046Z"
   },
   {
    "duration": 407,
    "start_time": "2022-11-23T10:02:37.687Z"
   },
   {
    "duration": 348,
    "start_time": "2022-11-23T10:05:27.480Z"
   },
   {
    "duration": 232,
    "start_time": "2022-11-23T10:05:39.468Z"
   },
   {
    "duration": 249,
    "start_time": "2022-11-23T10:06:00.096Z"
   },
   {
    "duration": 247,
    "start_time": "2022-11-23T10:06:21.831Z"
   },
   {
    "duration": 277,
    "start_time": "2022-11-23T10:06:34.490Z"
   },
   {
    "duration": 333,
    "start_time": "2022-11-23T10:06:40.317Z"
   },
   {
    "duration": 227,
    "start_time": "2022-11-23T10:07:24.522Z"
   },
   {
    "duration": 225,
    "start_time": "2022-11-23T10:07:27.337Z"
   },
   {
    "duration": 339,
    "start_time": "2022-11-23T10:07:30.935Z"
   },
   {
    "duration": 223,
    "start_time": "2022-11-23T10:07:42.456Z"
   },
   {
    "duration": 292,
    "start_time": "2022-11-23T10:08:16.305Z"
   },
   {
    "duration": 172,
    "start_time": "2022-11-23T10:08:41.107Z"
   },
   {
    "duration": 4,
    "start_time": "2022-11-23T10:10:51.898Z"
   },
   {
    "duration": 6,
    "start_time": "2022-11-23T10:10:59.804Z"
   },
   {
    "duration": 27,
    "start_time": "2022-11-23T10:11:53.405Z"
   },
   {
    "duration": 5,
    "start_time": "2022-11-23T10:12:05.351Z"
   },
   {
    "duration": 26,
    "start_time": "2022-11-23T10:12:07.077Z"
   },
   {
    "duration": 25,
    "start_time": "2022-11-23T10:13:22.892Z"
   },
   {
    "duration": 507,
    "start_time": "2022-11-23T10:13:44.222Z"
   },
   {
    "duration": 317,
    "start_time": "2022-11-23T10:15:18.047Z"
   },
   {
    "duration": 8,
    "start_time": "2022-11-23T10:15:41.063Z"
   },
   {
    "duration": 49,
    "start_time": "2022-11-23T10:16:01.853Z"
   },
   {
    "duration": 44,
    "start_time": "2022-11-23T10:16:06.832Z"
   },
   {
    "duration": 47,
    "start_time": "2022-11-23T10:16:11.148Z"
   },
   {
    "duration": 19,
    "start_time": "2022-11-23T10:16:56.661Z"
   },
   {
    "duration": 36,
    "start_time": "2022-11-23T10:17:08.251Z"
   },
   {
    "duration": 23,
    "start_time": "2022-11-23T10:17:55.329Z"
   },
   {
    "duration": 46,
    "start_time": "2022-11-23T10:17:57.529Z"
   },
   {
    "duration": 43,
    "start_time": "2022-11-23T10:18:12.610Z"
   },
   {
    "duration": 50,
    "start_time": "2022-11-23T10:18:47.027Z"
   },
   {
    "duration": 23,
    "start_time": "2022-11-23T10:19:03.709Z"
   },
   {
    "duration": 18,
    "start_time": "2022-11-23T10:19:54.523Z"
   },
   {
    "duration": 24,
    "start_time": "2022-11-23T10:20:05.049Z"
   },
   {
    "duration": 12,
    "start_time": "2022-11-23T10:20:36.667Z"
   },
   {
    "duration": 12,
    "start_time": "2022-11-23T10:20:42.172Z"
   },
   {
    "duration": 11,
    "start_time": "2022-11-23T10:20:47.705Z"
   },
   {
    "duration": 11,
    "start_time": "2022-11-23T10:20:52.104Z"
   },
   {
    "duration": 13,
    "start_time": "2022-11-23T10:21:00.387Z"
   },
   {
    "duration": 21,
    "start_time": "2022-11-23T10:21:01.970Z"
   },
   {
    "duration": 21,
    "start_time": "2022-11-23T10:22:26.363Z"
   },
   {
    "duration": 11,
    "start_time": "2022-11-23T10:24:26.591Z"
   },
   {
    "duration": 14,
    "start_time": "2022-11-23T10:24:57.179Z"
   },
   {
    "duration": 10,
    "start_time": "2022-11-23T10:25:06.596Z"
   },
   {
    "duration": 5,
    "start_time": "2022-11-23T10:25:10.728Z"
   },
   {
    "duration": 11,
    "start_time": "2022-11-23T10:25:14.074Z"
   },
   {
    "duration": 11,
    "start_time": "2022-11-23T10:25:31.688Z"
   },
   {
    "duration": 9,
    "start_time": "2022-11-23T10:25:40.320Z"
   },
   {
    "duration": 90,
    "start_time": "2022-11-23T10:26:07.570Z"
   },
   {
    "duration": 74,
    "start_time": "2022-11-23T10:26:17.058Z"
   },
   {
    "duration": 16,
    "start_time": "2022-11-23T10:27:24.324Z"
   },
   {
    "duration": 14,
    "start_time": "2022-11-23T10:27:32.889Z"
   },
   {
    "duration": 16,
    "start_time": "2022-11-23T10:27:42.149Z"
   },
   {
    "duration": 17,
    "start_time": "2022-11-23T10:27:52.165Z"
   },
   {
    "duration": 15,
    "start_time": "2022-11-23T10:28:46.674Z"
   },
   {
    "duration": 16,
    "start_time": "2022-11-23T10:29:12.770Z"
   },
   {
    "duration": 11,
    "start_time": "2022-11-23T10:29:38.744Z"
   },
   {
    "duration": 12,
    "start_time": "2022-11-23T10:29:46.291Z"
   },
   {
    "duration": 12,
    "start_time": "2022-11-23T10:29:52.409Z"
   },
   {
    "duration": 11,
    "start_time": "2022-11-23T10:29:58.894Z"
   },
   {
    "duration": 17,
    "start_time": "2022-11-23T10:30:01.316Z"
   },
   {
    "duration": 16,
    "start_time": "2022-11-23T10:30:19.696Z"
   },
   {
    "duration": 20,
    "start_time": "2022-11-23T10:30:57.332Z"
   },
   {
    "duration": 9,
    "start_time": "2022-11-23T10:32:30.338Z"
   },
   {
    "duration": 13,
    "start_time": "2022-11-23T10:32:59.511Z"
   },
   {
    "duration": 138,
    "start_time": "2022-11-23T10:33:20.765Z"
   },
   {
    "duration": 12,
    "start_time": "2022-11-23T10:33:25.955Z"
   },
   {
    "duration": 1145,
    "start_time": "2022-11-23T10:33:54.347Z"
   },
   {
    "duration": 4,
    "start_time": "2022-11-23T10:34:34.871Z"
   },
   {
    "duration": 19,
    "start_time": "2022-11-23T10:34:56.906Z"
   },
   {
    "duration": 13,
    "start_time": "2022-11-23T10:35:20.357Z"
   },
   {
    "duration": 12,
    "start_time": "2022-11-23T10:35:24.318Z"
   },
   {
    "duration": 15,
    "start_time": "2022-11-23T10:35:41.588Z"
   },
   {
    "duration": 11,
    "start_time": "2022-11-23T10:37:09.296Z"
   },
   {
    "duration": 12,
    "start_time": "2022-11-23T10:37:33.288Z"
   },
   {
    "duration": 10,
    "start_time": "2022-11-23T10:37:43.593Z"
   },
   {
    "duration": 2,
    "start_time": "2022-11-23T10:38:35.535Z"
   },
   {
    "duration": 4,
    "start_time": "2022-11-23T10:38:41.927Z"
   },
   {
    "duration": 4,
    "start_time": "2022-11-23T10:38:48.210Z"
   },
   {
    "duration": 6,
    "start_time": "2022-11-23T10:39:10.276Z"
   },
   {
    "duration": 6,
    "start_time": "2022-11-23T10:39:12.520Z"
   },
   {
    "duration": 11,
    "start_time": "2022-11-23T10:39:14.545Z"
   },
   {
    "duration": 4,
    "start_time": "2022-11-23T10:39:16.724Z"
   },
   {
    "duration": 9,
    "start_time": "2022-11-23T10:40:02.765Z"
   },
   {
    "duration": 10,
    "start_time": "2022-11-23T10:40:05.609Z"
   },
   {
    "duration": 10,
    "start_time": "2022-11-23T10:40:09.410Z"
   },
   {
    "duration": 4,
    "start_time": "2022-11-23T10:40:11.286Z"
   },
   {
    "duration": 9,
    "start_time": "2022-11-23T10:40:22.838Z"
   },
   {
    "duration": 3,
    "start_time": "2022-11-23T10:40:37.618Z"
   },
   {
    "duration": 4,
    "start_time": "2022-11-23T10:40:42.032Z"
   },
   {
    "duration": 5,
    "start_time": "2022-11-23T10:41:10.136Z"
   },
   {
    "duration": 10,
    "start_time": "2022-11-23T10:41:15.080Z"
   },
   {
    "duration": 4,
    "start_time": "2022-11-23T10:41:21.207Z"
   },
   {
    "duration": 4,
    "start_time": "2022-11-23T10:41:25.803Z"
   },
   {
    "duration": 228,
    "start_time": "2022-11-23T10:42:01.939Z"
   },
   {
    "duration": 257,
    "start_time": "2022-11-23T10:42:40.884Z"
   },
   {
    "duration": 246,
    "start_time": "2022-11-23T10:42:59.297Z"
   },
   {
    "duration": 227,
    "start_time": "2022-11-23T10:43:06.179Z"
   },
   {
    "duration": 12,
    "start_time": "2022-11-23T10:45:43.790Z"
   },
   {
    "duration": 12,
    "start_time": "2022-11-23T10:46:08.664Z"
   },
   {
    "duration": 5,
    "start_time": "2022-11-23T10:46:16.792Z"
   },
   {
    "duration": 196,
    "start_time": "2022-11-23T10:46:18.332Z"
   },
   {
    "duration": 308,
    "start_time": "2022-11-23T10:46:31.689Z"
   },
   {
    "duration": 204,
    "start_time": "2022-11-23T10:46:37.988Z"
   },
   {
    "duration": 199,
    "start_time": "2022-11-23T10:47:11.611Z"
   },
   {
    "duration": 150,
    "start_time": "2022-11-23T10:47:26.203Z"
   },
   {
    "duration": 136,
    "start_time": "2022-11-23T10:47:39.903Z"
   },
   {
    "duration": 135,
    "start_time": "2022-11-23T10:47:50.888Z"
   },
   {
    "duration": 144,
    "start_time": "2022-11-23T10:47:57.642Z"
   },
   {
    "duration": 141,
    "start_time": "2022-11-23T10:48:06.400Z"
   },
   {
    "duration": 146,
    "start_time": "2022-11-23T10:48:44.732Z"
   },
   {
    "duration": 1213,
    "start_time": "2022-11-23T10:48:50.175Z"
   },
   {
    "duration": 49,
    "start_time": "2022-11-23T10:48:51.391Z"
   },
   {
    "duration": 19,
    "start_time": "2022-11-23T10:48:51.442Z"
   },
   {
    "duration": 3,
    "start_time": "2022-11-23T10:48:51.463Z"
   },
   {
    "duration": 22,
    "start_time": "2022-11-23T10:48:51.467Z"
   },
   {
    "duration": 9,
    "start_time": "2022-11-23T10:48:51.490Z"
   },
   {
    "duration": 8,
    "start_time": "2022-11-23T10:48:51.501Z"
   },
   {
    "duration": 28,
    "start_time": "2022-11-23T10:48:51.510Z"
   },
   {
    "duration": 125,
    "start_time": "2022-11-23T10:48:51.540Z"
   },
   {
    "duration": 0,
    "start_time": "2022-11-23T10:48:51.668Z"
   },
   {
    "duration": 0,
    "start_time": "2022-11-23T10:48:51.670Z"
   },
   {
    "duration": 0,
    "start_time": "2022-11-23T10:48:51.678Z"
   },
   {
    "duration": 0,
    "start_time": "2022-11-23T10:48:51.679Z"
   },
   {
    "duration": 0,
    "start_time": "2022-11-23T10:48:51.681Z"
   },
   {
    "duration": 0,
    "start_time": "2022-11-23T10:48:51.683Z"
   },
   {
    "duration": 0,
    "start_time": "2022-11-23T10:48:51.684Z"
   },
   {
    "duration": 0,
    "start_time": "2022-11-23T10:48:51.685Z"
   },
   {
    "duration": 0,
    "start_time": "2022-11-23T10:48:51.686Z"
   },
   {
    "duration": 0,
    "start_time": "2022-11-23T10:48:51.687Z"
   },
   {
    "duration": 0,
    "start_time": "2022-11-23T10:48:51.688Z"
   },
   {
    "duration": 0,
    "start_time": "2022-11-23T10:48:51.689Z"
   },
   {
    "duration": 0,
    "start_time": "2022-11-23T10:48:51.690Z"
   },
   {
    "duration": 0,
    "start_time": "2022-11-23T10:48:51.691Z"
   },
   {
    "duration": 0,
    "start_time": "2022-11-23T10:48:51.692Z"
   },
   {
    "duration": 0,
    "start_time": "2022-11-23T10:48:51.693Z"
   },
   {
    "duration": 0,
    "start_time": "2022-11-23T10:48:51.694Z"
   },
   {
    "duration": 0,
    "start_time": "2022-11-23T10:48:51.695Z"
   },
   {
    "duration": 0,
    "start_time": "2022-11-23T10:48:51.695Z"
   },
   {
    "duration": 0,
    "start_time": "2022-11-23T10:48:51.696Z"
   },
   {
    "duration": 0,
    "start_time": "2022-11-23T10:48:51.697Z"
   },
   {
    "duration": 0,
    "start_time": "2022-11-23T10:48:51.698Z"
   },
   {
    "duration": 0,
    "start_time": "2022-11-23T10:48:51.699Z"
   },
   {
    "duration": 0,
    "start_time": "2022-11-23T10:48:51.700Z"
   },
   {
    "duration": 0,
    "start_time": "2022-11-23T10:48:51.701Z"
   },
   {
    "duration": 0,
    "start_time": "2022-11-23T10:48:51.702Z"
   },
   {
    "duration": 0,
    "start_time": "2022-11-23T10:48:51.703Z"
   },
   {
    "duration": 3,
    "start_time": "2022-11-23T10:48:57.427Z"
   },
   {
    "duration": 62,
    "start_time": "2022-11-23T10:48:57.432Z"
   },
   {
    "duration": 14,
    "start_time": "2022-11-23T10:48:57.497Z"
   },
   {
    "duration": 10,
    "start_time": "2022-11-23T10:48:57.513Z"
   },
   {
    "duration": 25,
    "start_time": "2022-11-23T10:48:57.526Z"
   },
   {
    "duration": 8,
    "start_time": "2022-11-23T10:48:57.553Z"
   },
   {
    "duration": 19,
    "start_time": "2022-11-23T10:48:57.563Z"
   },
   {
    "duration": 35,
    "start_time": "2022-11-23T10:48:57.584Z"
   },
   {
    "duration": 17,
    "start_time": "2022-11-23T10:48:57.620Z"
   },
   {
    "duration": 0,
    "start_time": "2022-11-23T10:48:57.640Z"
   },
   {
    "duration": 0,
    "start_time": "2022-11-23T10:48:57.641Z"
   },
   {
    "duration": 0,
    "start_time": "2022-11-23T10:48:57.642Z"
   },
   {
    "duration": 0,
    "start_time": "2022-11-23T10:48:57.644Z"
   },
   {
    "duration": 0,
    "start_time": "2022-11-23T10:48:57.645Z"
   },
   {
    "duration": 0,
    "start_time": "2022-11-23T10:48:57.646Z"
   },
   {
    "duration": 0,
    "start_time": "2022-11-23T10:48:57.648Z"
   },
   {
    "duration": 0,
    "start_time": "2022-11-23T10:48:57.648Z"
   },
   {
    "duration": 0,
    "start_time": "2022-11-23T10:48:57.649Z"
   },
   {
    "duration": 0,
    "start_time": "2022-11-23T10:48:57.650Z"
   },
   {
    "duration": 0,
    "start_time": "2022-11-23T10:48:57.678Z"
   },
   {
    "duration": 0,
    "start_time": "2022-11-23T10:48:57.679Z"
   },
   {
    "duration": 0,
    "start_time": "2022-11-23T10:48:57.681Z"
   },
   {
    "duration": 0,
    "start_time": "2022-11-23T10:48:57.682Z"
   },
   {
    "duration": 0,
    "start_time": "2022-11-23T10:48:57.684Z"
   },
   {
    "duration": 0,
    "start_time": "2022-11-23T10:48:57.685Z"
   },
   {
    "duration": 0,
    "start_time": "2022-11-23T10:48:57.686Z"
   },
   {
    "duration": 0,
    "start_time": "2022-11-23T10:48:57.688Z"
   },
   {
    "duration": 0,
    "start_time": "2022-11-23T10:48:57.689Z"
   },
   {
    "duration": 0,
    "start_time": "2022-11-23T10:48:57.691Z"
   },
   {
    "duration": 0,
    "start_time": "2022-11-23T10:48:57.692Z"
   },
   {
    "duration": 0,
    "start_time": "2022-11-23T10:48:57.693Z"
   },
   {
    "duration": 0,
    "start_time": "2022-11-23T10:48:57.695Z"
   },
   {
    "duration": 0,
    "start_time": "2022-11-23T10:48:57.696Z"
   },
   {
    "duration": 0,
    "start_time": "2022-11-23T10:48:57.698Z"
   },
   {
    "duration": 0,
    "start_time": "2022-11-23T10:48:57.699Z"
   },
   {
    "duration": 5,
    "start_time": "2022-11-23T10:49:05.484Z"
   },
   {
    "duration": 50,
    "start_time": "2022-11-23T10:49:05.491Z"
   },
   {
    "duration": 31,
    "start_time": "2022-11-23T10:49:05.543Z"
   },
   {
    "duration": 5,
    "start_time": "2022-11-23T10:49:05.576Z"
   },
   {
    "duration": 21,
    "start_time": "2022-11-23T10:49:05.584Z"
   },
   {
    "duration": 21,
    "start_time": "2022-11-23T10:49:05.608Z"
   },
   {
    "duration": 41,
    "start_time": "2022-11-23T10:49:05.631Z"
   },
   {
    "duration": 51,
    "start_time": "2022-11-23T10:49:05.675Z"
   },
   {
    "duration": 5,
    "start_time": "2022-11-23T10:49:05.729Z"
   },
   {
    "duration": 36,
    "start_time": "2022-11-23T10:49:05.736Z"
   },
   {
    "duration": 348,
    "start_time": "2022-11-23T10:49:05.775Z"
   },
   {
    "duration": 7,
    "start_time": "2022-11-23T10:49:06.125Z"
   },
   {
    "duration": 411,
    "start_time": "2022-11-23T10:49:06.133Z"
   },
   {
    "duration": 14,
    "start_time": "2022-11-23T10:49:06.546Z"
   },
   {
    "duration": 26,
    "start_time": "2022-11-23T10:49:06.562Z"
   },
   {
    "duration": 40,
    "start_time": "2022-11-23T10:49:06.590Z"
   },
   {
    "duration": 40,
    "start_time": "2022-11-23T10:49:06.631Z"
   },
   {
    "duration": 28,
    "start_time": "2022-11-23T10:49:06.673Z"
   },
   {
    "duration": 41,
    "start_time": "2022-11-23T10:49:06.703Z"
   },
   {
    "duration": 244,
    "start_time": "2022-11-23T10:49:06.745Z"
   },
   {
    "duration": 149,
    "start_time": "2022-11-23T10:49:06.991Z"
   },
   {
    "duration": 276,
    "start_time": "2022-11-23T10:49:07.142Z"
   },
   {
    "duration": 338,
    "start_time": "2022-11-23T10:49:07.419Z"
   },
   {
    "duration": 284,
    "start_time": "2022-11-23T10:49:07.759Z"
   },
   {
    "duration": 321,
    "start_time": "2022-11-23T10:49:08.045Z"
   },
   {
    "duration": 308,
    "start_time": "2022-11-23T10:49:08.377Z"
   },
   {
    "duration": 27,
    "start_time": "2022-11-23T10:49:08.687Z"
   },
   {
    "duration": 162,
    "start_time": "2022-11-23T10:50:06.973Z"
   },
   {
    "duration": 154,
    "start_time": "2022-11-23T10:50:22.668Z"
   },
   {
    "duration": 152,
    "start_time": "2022-11-23T10:50:29.470Z"
   },
   {
    "duration": 392,
    "start_time": "2022-11-23T10:50:37.865Z"
   },
   {
    "duration": 325,
    "start_time": "2022-11-23T10:50:43.722Z"
   },
   {
    "duration": 341,
    "start_time": "2022-11-23T10:51:41.824Z"
   },
   {
    "duration": 22,
    "start_time": "2022-11-23T10:51:47.586Z"
   },
   {
    "duration": 8,
    "start_time": "2022-11-23T10:52:40.071Z"
   },
   {
    "duration": 7,
    "start_time": "2022-11-23T10:53:04.123Z"
   },
   {
    "duration": 12,
    "start_time": "2022-11-23T10:53:10.829Z"
   },
   {
    "duration": 112,
    "start_time": "2022-11-23T10:53:18.112Z"
   },
   {
    "duration": 110,
    "start_time": "2022-11-23T10:53:22.360Z"
   },
   {
    "duration": 189,
    "start_time": "2022-11-23T10:53:28.637Z"
   },
   {
    "duration": 16,
    "start_time": "2022-11-23T10:53:32.595Z"
   },
   {
    "duration": 174,
    "start_time": "2022-11-23T10:53:37.266Z"
   },
   {
    "duration": 214,
    "start_time": "2022-11-23T10:53:48.024Z"
   },
   {
    "duration": 276,
    "start_time": "2022-11-23T10:53:57.010Z"
   },
   {
    "duration": 181,
    "start_time": "2022-11-23T10:54:03.266Z"
   },
   {
    "duration": 17,
    "start_time": "2022-11-23T10:54:33.180Z"
   },
   {
    "duration": 15,
    "start_time": "2022-11-23T10:54:41.580Z"
   },
   {
    "duration": 220,
    "start_time": "2022-11-23T10:54:54.167Z"
   },
   {
    "duration": 208,
    "start_time": "2022-11-23T10:55:25.571Z"
   },
   {
    "duration": 262,
    "start_time": "2022-11-23T10:56:55.358Z"
   },
   {
    "duration": 174,
    "start_time": "2022-11-23T10:57:11.375Z"
   },
   {
    "duration": 173,
    "start_time": "2022-11-23T10:57:18.570Z"
   },
   {
    "duration": 187,
    "start_time": "2022-11-23T10:57:26.048Z"
   },
   {
    "duration": 188,
    "start_time": "2022-11-23T10:57:30.627Z"
   },
   {
    "duration": 192,
    "start_time": "2022-11-23T10:58:00.627Z"
   },
   {
    "duration": 146,
    "start_time": "2022-11-23T10:59:12.576Z"
   },
   {
    "duration": 271,
    "start_time": "2022-11-23T10:59:51.660Z"
   },
   {
    "duration": 122,
    "start_time": "2022-11-23T11:00:07.380Z"
   },
   {
    "duration": 191,
    "start_time": "2022-11-23T11:00:19.502Z"
   },
   {
    "duration": 210,
    "start_time": "2022-11-23T11:00:31.978Z"
   },
   {
    "duration": 174,
    "start_time": "2022-11-23T11:00:43.565Z"
   },
   {
    "duration": 179,
    "start_time": "2022-11-23T11:00:51.964Z"
   },
   {
    "duration": 248,
    "start_time": "2022-11-23T11:01:03.926Z"
   },
   {
    "duration": 180,
    "start_time": "2022-11-23T11:01:26.661Z"
   },
   {
    "duration": 181,
    "start_time": "2022-11-23T11:04:55.933Z"
   },
   {
    "duration": 178,
    "start_time": "2022-11-23T11:04:58.559Z"
   },
   {
    "duration": 21,
    "start_time": "2022-11-23T11:20:08.621Z"
   },
   {
    "duration": 8,
    "start_time": "2022-11-23T11:20:59.871Z"
   },
   {
    "duration": 24,
    "start_time": "2022-11-23T11:21:04.625Z"
   },
   {
    "duration": 26,
    "start_time": "2022-11-23T11:21:31.597Z"
   },
   {
    "duration": 14,
    "start_time": "2022-11-23T11:22:21.819Z"
   },
   {
    "duration": 12,
    "start_time": "2022-11-23T11:22:29.772Z"
   },
   {
    "duration": 22,
    "start_time": "2022-11-23T11:22:40.973Z"
   },
   {
    "duration": 86,
    "start_time": "2022-11-23T11:23:11.676Z"
   },
   {
    "duration": 176,
    "start_time": "2022-11-23T11:23:24.490Z"
   },
   {
    "duration": 79,
    "start_time": "2022-11-23T11:23:29.684Z"
   },
   {
    "duration": 100,
    "start_time": "2022-11-23T11:23:36.380Z"
   },
   {
    "duration": 100,
    "start_time": "2022-11-23T11:24:12.512Z"
   },
   {
    "duration": 111,
    "start_time": "2022-11-23T11:26:21.278Z"
   },
   {
    "duration": 93,
    "start_time": "2022-11-23T11:27:06.737Z"
   },
   {
    "duration": 148,
    "start_time": "2022-11-23T11:27:59.197Z"
   },
   {
    "duration": 178,
    "start_time": "2022-11-23T11:28:57.313Z"
   },
   {
    "duration": 201,
    "start_time": "2022-11-23T11:29:03.966Z"
   },
   {
    "duration": 213,
    "start_time": "2022-11-23T11:29:10.291Z"
   },
   {
    "duration": 99,
    "start_time": "2022-11-23T11:32:31.939Z"
   },
   {
    "duration": 205,
    "start_time": "2022-11-23T11:32:41.415Z"
   },
   {
    "duration": 96,
    "start_time": "2022-11-23T11:32:59.855Z"
   },
   {
    "duration": 104,
    "start_time": "2022-11-23T11:33:20.807Z"
   },
   {
    "duration": 7,
    "start_time": "2022-11-23T11:36:14.369Z"
   },
   {
    "duration": 71,
    "start_time": "2022-11-23T11:36:34.532Z"
   },
   {
    "duration": 84,
    "start_time": "2022-11-23T11:36:36.870Z"
   },
   {
    "duration": 9,
    "start_time": "2022-11-23T11:36:39.961Z"
   },
   {
    "duration": 7,
    "start_time": "2022-11-23T11:36:42.512Z"
   },
   {
    "duration": 188,
    "start_time": "2022-11-23T11:36:50.336Z"
   },
   {
    "duration": 199,
    "start_time": "2022-11-23T11:37:01.159Z"
   },
   {
    "duration": 287,
    "start_time": "2022-11-23T11:37:53.819Z"
   },
   {
    "duration": 221,
    "start_time": "2022-11-23T11:38:14.651Z"
   },
   {
    "duration": 181,
    "start_time": "2022-11-23T11:38:38.943Z"
   },
   {
    "duration": 202,
    "start_time": "2022-11-23T11:38:49.569Z"
   },
   {
    "duration": 221,
    "start_time": "2022-11-23T11:38:55.438Z"
   },
   {
    "duration": 166,
    "start_time": "2022-11-23T11:39:00.427Z"
   },
   {
    "duration": 297,
    "start_time": "2022-11-23T11:39:06.741Z"
   },
   {
    "duration": 190,
    "start_time": "2022-11-23T11:39:51.671Z"
   },
   {
    "duration": 226,
    "start_time": "2022-11-23T11:39:55.606Z"
   },
   {
    "duration": 180,
    "start_time": "2022-11-23T11:40:13.529Z"
   },
   {
    "duration": 182,
    "start_time": "2022-11-23T11:40:26.017Z"
   },
   {
    "duration": 174,
    "start_time": "2022-11-23T11:41:31.792Z"
   },
   {
    "duration": 175,
    "start_time": "2022-11-23T11:42:11.961Z"
   },
   {
    "duration": 56,
    "start_time": "2022-11-23T14:13:26.570Z"
   },
   {
    "duration": 1313,
    "start_time": "2022-11-23T14:13:30.966Z"
   },
   {
    "duration": 94,
    "start_time": "2022-11-23T14:13:32.281Z"
   },
   {
    "duration": 15,
    "start_time": "2022-11-23T14:13:32.377Z"
   },
   {
    "duration": 11,
    "start_time": "2022-11-23T14:13:32.394Z"
   },
   {
    "duration": 17,
    "start_time": "2022-11-23T14:13:32.406Z"
   },
   {
    "duration": 7,
    "start_time": "2022-11-23T14:13:32.424Z"
   },
   {
    "duration": 14,
    "start_time": "2022-11-23T14:13:32.433Z"
   },
   {
    "duration": 48,
    "start_time": "2022-11-23T14:13:32.448Z"
   },
   {
    "duration": 118,
    "start_time": "2022-11-23T14:13:32.498Z"
   },
   {
    "duration": 0,
    "start_time": "2022-11-23T14:13:32.618Z"
   },
   {
    "duration": 0,
    "start_time": "2022-11-23T14:13:32.619Z"
   },
   {
    "duration": 0,
    "start_time": "2022-11-23T14:13:32.620Z"
   },
   {
    "duration": 0,
    "start_time": "2022-11-23T14:13:32.621Z"
   },
   {
    "duration": 0,
    "start_time": "2022-11-23T14:13:32.622Z"
   },
   {
    "duration": 0,
    "start_time": "2022-11-23T14:13:32.623Z"
   },
   {
    "duration": 0,
    "start_time": "2022-11-23T14:13:32.624Z"
   },
   {
    "duration": 0,
    "start_time": "2022-11-23T14:13:32.625Z"
   },
   {
    "duration": 0,
    "start_time": "2022-11-23T14:13:32.626Z"
   },
   {
    "duration": 0,
    "start_time": "2022-11-23T14:13:32.627Z"
   },
   {
    "duration": 0,
    "start_time": "2022-11-23T14:13:32.628Z"
   },
   {
    "duration": 0,
    "start_time": "2022-11-23T14:13:32.629Z"
   },
   {
    "duration": 0,
    "start_time": "2022-11-23T14:13:32.630Z"
   },
   {
    "duration": 0,
    "start_time": "2022-11-23T14:13:32.631Z"
   },
   {
    "duration": 0,
    "start_time": "2022-11-23T14:13:32.632Z"
   },
   {
    "duration": 0,
    "start_time": "2022-11-23T14:13:32.633Z"
   },
   {
    "duration": 0,
    "start_time": "2022-11-23T14:13:32.634Z"
   },
   {
    "duration": 0,
    "start_time": "2022-11-23T14:13:32.635Z"
   },
   {
    "duration": 0,
    "start_time": "2022-11-23T14:13:32.636Z"
   },
   {
    "duration": 0,
    "start_time": "2022-11-23T14:13:32.637Z"
   },
   {
    "duration": 0,
    "start_time": "2022-11-23T14:13:32.638Z"
   },
   {
    "duration": 0,
    "start_time": "2022-11-23T14:13:32.639Z"
   },
   {
    "duration": 0,
    "start_time": "2022-11-23T14:13:32.676Z"
   },
   {
    "duration": 0,
    "start_time": "2022-11-23T14:13:32.677Z"
   },
   {
    "duration": 0,
    "start_time": "2022-11-23T14:13:32.678Z"
   },
   {
    "duration": 0,
    "start_time": "2022-11-23T14:13:32.679Z"
   },
   {
    "duration": 0,
    "start_time": "2022-11-23T14:13:32.680Z"
   },
   {
    "duration": 0,
    "start_time": "2022-11-23T14:13:32.681Z"
   },
   {
    "duration": 5,
    "start_time": "2022-11-23T14:13:41.499Z"
   },
   {
    "duration": 29,
    "start_time": "2022-11-23T14:13:41.506Z"
   },
   {
    "duration": 28,
    "start_time": "2022-11-23T14:13:41.536Z"
   },
   {
    "duration": 11,
    "start_time": "2022-11-23T14:13:41.565Z"
   },
   {
    "duration": 25,
    "start_time": "2022-11-23T14:13:41.578Z"
   },
   {
    "duration": 39,
    "start_time": "2022-11-23T14:13:41.605Z"
   },
   {
    "duration": 4,
    "start_time": "2022-11-23T14:13:41.646Z"
   },
   {
    "duration": 8,
    "start_time": "2022-11-23T14:13:41.651Z"
   },
   {
    "duration": 298,
    "start_time": "2022-11-23T14:13:41.661Z"
   },
   {
    "duration": 5,
    "start_time": "2022-11-23T14:13:41.960Z"
   },
   {
    "duration": 361,
    "start_time": "2022-11-23T14:13:41.976Z"
   },
   {
    "duration": 14,
    "start_time": "2022-11-23T14:13:42.339Z"
   },
   {
    "duration": 21,
    "start_time": "2022-11-23T14:13:42.354Z"
   },
   {
    "duration": 5,
    "start_time": "2022-11-23T14:13:42.378Z"
   },
   {
    "duration": 20,
    "start_time": "2022-11-23T14:13:42.384Z"
   },
   {
    "duration": 16,
    "start_time": "2022-11-23T14:13:42.405Z"
   },
   {
    "duration": 7,
    "start_time": "2022-11-23T14:13:42.423Z"
   },
   {
    "duration": 206,
    "start_time": "2022-11-23T14:13:42.432Z"
   },
   {
    "duration": 154,
    "start_time": "2022-11-23T14:13:42.640Z"
   },
   {
    "duration": 324,
    "start_time": "2022-11-23T14:13:42.795Z"
   },
   {
    "duration": 381,
    "start_time": "2022-11-23T14:13:43.120Z"
   },
   {
    "duration": 689,
    "start_time": "2022-11-23T14:13:43.503Z"
   },
   {
    "duration": 22,
    "start_time": "2022-11-23T14:13:44.194Z"
   },
   {
    "duration": 395,
    "start_time": "2022-11-23T14:13:44.217Z"
   },
   {
    "duration": 395,
    "start_time": "2022-11-23T14:13:44.614Z"
   },
   {
    "duration": 436,
    "start_time": "2022-11-23T14:13:45.010Z"
   },
   {
    "duration": 186,
    "start_time": "2022-11-23T14:13:45.448Z"
   },
   {
    "duration": 173,
    "start_time": "2022-11-23T14:13:45.635Z"
   },
   {
    "duration": 352,
    "start_time": "2022-11-23T14:15:26.493Z"
   },
   {
    "duration": 14,
    "start_time": "2022-11-23T14:15:56.922Z"
   },
   {
    "duration": 16,
    "start_time": "2022-11-23T14:15:58.865Z"
   },
   {
    "duration": 14,
    "start_time": "2022-11-23T14:16:22.641Z"
   },
   {
    "duration": 55,
    "start_time": "2022-11-23T14:16:26.897Z"
   },
   {
    "duration": 18,
    "start_time": "2022-11-23T14:16:44.720Z"
   },
   {
    "duration": 26,
    "start_time": "2022-11-23T14:16:59.518Z"
   },
   {
    "duration": 16,
    "start_time": "2022-11-23T14:17:06.378Z"
   },
   {
    "duration": 15,
    "start_time": "2022-11-23T14:17:08.476Z"
   },
   {
    "duration": 5,
    "start_time": "2022-11-23T14:17:55.523Z"
   },
   {
    "duration": 12,
    "start_time": "2022-11-23T14:18:00.472Z"
   },
   {
    "duration": 9,
    "start_time": "2022-11-23T14:18:10.059Z"
   },
   {
    "duration": 4,
    "start_time": "2022-11-23T14:18:34.227Z"
   },
   {
    "duration": 219,
    "start_time": "2022-11-23T14:18:37.511Z"
   },
   {
    "duration": 220,
    "start_time": "2022-11-23T14:18:39.725Z"
   },
   {
    "duration": 343,
    "start_time": "2022-11-23T14:18:51.318Z"
   },
   {
    "duration": 306,
    "start_time": "2022-11-23T14:18:53.630Z"
   },
   {
    "duration": 322,
    "start_time": "2022-11-23T14:18:56.031Z"
   },
   {
    "duration": 21,
    "start_time": "2022-11-23T14:19:00.066Z"
   },
   {
    "duration": 189,
    "start_time": "2022-11-23T14:19:03.943Z"
   },
   {
    "duration": 184,
    "start_time": "2022-11-23T14:19:05.843Z"
   },
   {
    "duration": 177,
    "start_time": "2022-11-23T14:22:39.670Z"
   },
   {
    "duration": 258,
    "start_time": "2022-11-23T14:27:46.539Z"
   },
   {
    "duration": 358,
    "start_time": "2022-11-23T14:28:35.489Z"
   },
   {
    "duration": 6,
    "start_time": "2022-11-23T14:28:58.875Z"
   },
   {
    "duration": 7,
    "start_time": "2022-11-23T14:29:28.090Z"
   },
   {
    "duration": 6,
    "start_time": "2022-11-23T14:29:50.836Z"
   },
   {
    "duration": 395,
    "start_time": "2022-11-23T14:30:04.763Z"
   },
   {
    "duration": 313,
    "start_time": "2022-11-23T14:30:17.829Z"
   },
   {
    "duration": 270,
    "start_time": "2022-11-23T14:30:34.339Z"
   },
   {
    "duration": 282,
    "start_time": "2022-11-23T14:30:40.496Z"
   },
   {
    "duration": 91,
    "start_time": "2022-11-23T14:30:59.971Z"
   },
   {
    "duration": 398,
    "start_time": "2022-11-23T14:34:58.352Z"
   },
   {
    "duration": 315,
    "start_time": "2022-11-23T14:35:39.315Z"
   },
   {
    "duration": 292,
    "start_time": "2022-11-23T14:35:50.793Z"
   },
   {
    "duration": 286,
    "start_time": "2022-11-23T14:36:01.443Z"
   },
   {
    "duration": 167,
    "start_time": "2022-11-23T14:36:08.589Z"
   },
   {
    "duration": 7,
    "start_time": "2022-11-23T14:37:07.248Z"
   },
   {
    "duration": 168,
    "start_time": "2022-11-23T14:37:14.142Z"
   },
   {
    "duration": 116,
    "start_time": "2022-11-23T14:37:18.940Z"
   },
   {
    "duration": 216,
    "start_time": "2022-11-23T14:37:27.341Z"
   },
   {
    "duration": 127,
    "start_time": "2022-11-23T14:37:48.858Z"
   },
   {
    "duration": 123,
    "start_time": "2022-11-23T14:37:56.290Z"
   },
   {
    "duration": 140,
    "start_time": "2022-11-23T14:38:06.821Z"
   },
   {
    "duration": 115,
    "start_time": "2022-11-23T14:38:28.641Z"
   },
   {
    "duration": 128,
    "start_time": "2022-11-23T14:38:37.320Z"
   },
   {
    "duration": 28,
    "start_time": "2022-11-23T14:42:51.421Z"
   },
   {
    "duration": 22,
    "start_time": "2022-11-23T14:44:09.289Z"
   },
   {
    "duration": 7,
    "start_time": "2022-11-23T14:44:21.463Z"
   },
   {
    "duration": 22,
    "start_time": "2022-11-23T14:44:28.593Z"
   },
   {
    "duration": 6,
    "start_time": "2022-11-23T14:44:47.959Z"
   },
   {
    "duration": 24,
    "start_time": "2022-11-23T14:44:52.791Z"
   },
   {
    "duration": 8,
    "start_time": "2022-11-23T14:45:27.890Z"
   },
   {
    "duration": 26,
    "start_time": "2022-11-23T14:45:31.888Z"
   },
   {
    "duration": 11,
    "start_time": "2022-11-23T14:46:30.890Z"
   },
   {
    "duration": 28,
    "start_time": "2022-11-23T14:46:35.393Z"
   },
   {
    "duration": 16,
    "start_time": "2022-11-23T14:46:46.137Z"
   },
   {
    "duration": 17,
    "start_time": "2022-11-23T14:46:49.420Z"
   },
   {
    "duration": 39,
    "start_time": "2022-11-23T14:46:55.447Z"
   },
   {
    "duration": 33,
    "start_time": "2022-11-23T14:47:00.054Z"
   },
   {
    "duration": 14,
    "start_time": "2022-11-23T14:55:18.954Z"
   },
   {
    "duration": 18,
    "start_time": "2022-11-23T14:55:30.736Z"
   },
   {
    "duration": 14,
    "start_time": "2022-11-23T14:55:35.464Z"
   },
   {
    "duration": 19,
    "start_time": "2022-11-23T14:55:45.472Z"
   },
   {
    "duration": 16,
    "start_time": "2022-11-23T14:56:54.738Z"
   },
   {
    "duration": 14,
    "start_time": "2022-11-23T14:57:01.344Z"
   },
   {
    "duration": 14,
    "start_time": "2022-11-23T15:01:11.453Z"
   },
   {
    "duration": 14,
    "start_time": "2022-11-23T15:01:26.139Z"
   },
   {
    "duration": 64,
    "start_time": "2022-11-23T15:02:12.141Z"
   },
   {
    "duration": 65,
    "start_time": "2022-11-23T15:02:28.974Z"
   },
   {
    "duration": 19,
    "start_time": "2022-11-23T15:02:51.974Z"
   },
   {
    "duration": 14,
    "start_time": "2022-11-23T15:03:07.948Z"
   },
   {
    "duration": 16,
    "start_time": "2022-11-23T15:03:25.664Z"
   },
   {
    "duration": 13,
    "start_time": "2022-11-23T15:03:29.117Z"
   },
   {
    "duration": 15,
    "start_time": "2022-11-23T15:03:39.139Z"
   },
   {
    "duration": 12,
    "start_time": "2022-11-23T15:06:30.425Z"
   },
   {
    "duration": 14,
    "start_time": "2022-11-23T15:06:49.844Z"
   },
   {
    "duration": 14,
    "start_time": "2022-11-23T15:07:02.933Z"
   },
   {
    "duration": 31,
    "start_time": "2022-11-23T15:40:47.438Z"
   },
   {
    "duration": 26,
    "start_time": "2022-11-23T15:42:47.171Z"
   },
   {
    "duration": 9,
    "start_time": "2022-11-23T15:42:51.453Z"
   },
   {
    "duration": 8,
    "start_time": "2022-11-23T15:54:50.512Z"
   },
   {
    "duration": 10,
    "start_time": "2022-11-23T15:54:57.217Z"
   },
   {
    "duration": 7,
    "start_time": "2022-11-23T15:55:13.692Z"
   },
   {
    "duration": 17,
    "start_time": "2022-11-23T16:23:25.037Z"
   },
   {
    "duration": 16,
    "start_time": "2022-11-23T16:25:23.364Z"
   },
   {
    "duration": 10,
    "start_time": "2022-11-23T16:26:51.344Z"
   },
   {
    "duration": 10,
    "start_time": "2022-11-23T16:27:16.762Z"
   },
   {
    "duration": 226,
    "start_time": "2022-11-23T16:30:35.428Z"
   },
   {
    "duration": 171,
    "start_time": "2022-11-23T16:30:48.330Z"
   },
   {
    "duration": 173,
    "start_time": "2022-11-23T16:30:56.110Z"
   },
   {
    "duration": 170,
    "start_time": "2022-11-23T16:31:33.853Z"
   },
   {
    "duration": 159,
    "start_time": "2022-11-23T16:32:09.760Z"
   },
   {
    "duration": 108,
    "start_time": "2022-11-23T17:38:17.490Z"
   },
   {
    "duration": 339,
    "start_time": "2022-11-23T17:38:36.527Z"
   },
   {
    "duration": 274,
    "start_time": "2022-11-23T17:39:57.156Z"
   },
   {
    "duration": 266,
    "start_time": "2022-11-23T17:41:16.620Z"
   },
   {
    "duration": 254,
    "start_time": "2022-11-23T17:41:30.467Z"
   },
   {
    "duration": 244,
    "start_time": "2022-11-23T17:41:36.402Z"
   },
   {
    "duration": 326,
    "start_time": "2022-11-23T17:42:49.655Z"
   },
   {
    "duration": 277,
    "start_time": "2022-11-23T17:45:51.272Z"
   },
   {
    "duration": 253,
    "start_time": "2022-11-23T17:47:11.656Z"
   },
   {
    "duration": 279,
    "start_time": "2022-11-23T17:48:03.909Z"
   },
   {
    "duration": 238,
    "start_time": "2022-11-23T17:48:41.290Z"
   },
   {
    "duration": 328,
    "start_time": "2022-11-23T17:49:12.655Z"
   },
   {
    "duration": 244,
    "start_time": "2022-11-23T17:49:26.303Z"
   },
   {
    "duration": 257,
    "start_time": "2022-11-23T17:49:44.267Z"
   },
   {
    "duration": 277,
    "start_time": "2022-11-23T17:49:55.333Z"
   },
   {
    "duration": 243,
    "start_time": "2022-11-23T17:50:07.459Z"
   },
   {
    "duration": 241,
    "start_time": "2022-11-23T17:50:16.945Z"
   },
   {
    "duration": 341,
    "start_time": "2022-11-23T17:50:26.368Z"
   },
   {
    "duration": 288,
    "start_time": "2022-11-23T17:50:31.780Z"
   },
   {
    "duration": 289,
    "start_time": "2022-11-23T17:50:45.226Z"
   },
   {
    "duration": 264,
    "start_time": "2022-11-23T17:50:49.702Z"
   },
   {
    "duration": 265,
    "start_time": "2022-11-23T17:51:01.468Z"
   },
   {
    "duration": 253,
    "start_time": "2022-11-23T17:51:14.716Z"
   },
   {
    "duration": 355,
    "start_time": "2022-11-23T17:51:19.295Z"
   },
   {
    "duration": 269,
    "start_time": "2022-11-23T17:54:56.784Z"
   },
   {
    "duration": 307,
    "start_time": "2022-11-23T17:55:04.565Z"
   },
   {
    "duration": 314,
    "start_time": "2022-11-23T17:55:33.496Z"
   },
   {
    "duration": 341,
    "start_time": "2022-11-23T17:56:13.623Z"
   },
   {
    "duration": 288,
    "start_time": "2022-11-23T17:56:42.406Z"
   },
   {
    "duration": 274,
    "start_time": "2022-11-23T17:56:48.061Z"
   },
   {
    "duration": 267,
    "start_time": "2022-11-23T17:56:56.899Z"
   },
   {
    "duration": 369,
    "start_time": "2022-11-23T17:57:02.053Z"
   },
   {
    "duration": 289,
    "start_time": "2022-11-23T17:57:07.881Z"
   },
   {
    "duration": 266,
    "start_time": "2022-11-23T17:57:28.328Z"
   },
   {
    "duration": 305,
    "start_time": "2022-11-23T17:59:40.221Z"
   },
   {
    "duration": 269,
    "start_time": "2022-11-23T18:00:21.962Z"
   },
   {
    "duration": 45,
    "start_time": "2022-11-23T18:00:38.706Z"
   },
   {
    "duration": 312,
    "start_time": "2022-11-23T18:00:43.772Z"
   },
   {
    "duration": 265,
    "start_time": "2022-11-23T18:01:14.078Z"
   },
   {
    "duration": 360,
    "start_time": "2022-11-23T18:01:19.516Z"
   },
   {
    "duration": 302,
    "start_time": "2022-11-23T18:03:16.104Z"
   },
   {
    "duration": 285,
    "start_time": "2022-11-23T18:03:37.318Z"
   },
   {
    "duration": 304,
    "start_time": "2022-11-23T18:03:43.374Z"
   },
   {
    "duration": 210,
    "start_time": "2022-11-23T18:11:43.679Z"
   },
   {
    "duration": 188,
    "start_time": "2022-11-23T18:12:04.061Z"
   },
   {
    "duration": 195,
    "start_time": "2022-11-23T18:13:18.060Z"
   },
   {
    "duration": 160,
    "start_time": "2022-11-23T18:15:08.604Z"
   },
   {
    "duration": 279,
    "start_time": "2022-11-23T18:15:26.397Z"
   },
   {
    "duration": 306,
    "start_time": "2022-11-23T18:15:33.913Z"
   },
   {
    "duration": 283,
    "start_time": "2022-11-23T18:15:46.900Z"
   },
   {
    "duration": 303,
    "start_time": "2022-11-23T18:15:54.145Z"
   },
   {
    "duration": 302,
    "start_time": "2022-11-23T18:15:58.339Z"
   },
   {
    "duration": 301,
    "start_time": "2022-11-23T18:16:09.552Z"
   },
   {
    "duration": 395,
    "start_time": "2022-11-23T18:16:21.564Z"
   },
   {
    "duration": 268,
    "start_time": "2022-11-23T18:16:28.719Z"
   },
   {
    "duration": 273,
    "start_time": "2022-11-23T18:16:41.605Z"
   },
   {
    "duration": 267,
    "start_time": "2022-11-23T18:17:00.681Z"
   },
   {
    "duration": 259,
    "start_time": "2022-11-23T18:17:06.301Z"
   },
   {
    "duration": 397,
    "start_time": "2022-11-23T18:17:11.670Z"
   },
   {
    "duration": 171,
    "start_time": "2022-11-23T18:17:36.183Z"
   },
   {
    "duration": 334,
    "start_time": "2022-11-23T18:17:41.330Z"
   },
   {
    "duration": 312,
    "start_time": "2022-11-23T18:18:17.826Z"
   },
   {
    "duration": 344,
    "start_time": "2022-11-23T18:18:34.654Z"
   },
   {
    "duration": 313,
    "start_time": "2022-11-23T18:22:52.550Z"
   },
   {
    "duration": 446,
    "start_time": "2022-11-23T18:24:07.892Z"
   },
   {
    "duration": 303,
    "start_time": "2022-11-23T18:24:18.783Z"
   },
   {
    "duration": 317,
    "start_time": "2022-11-23T18:24:25.433Z"
   },
   {
    "duration": 319,
    "start_time": "2022-11-23T18:24:30.753Z"
   },
   {
    "duration": 303,
    "start_time": "2022-11-23T18:30:44.905Z"
   },
   {
    "duration": 173,
    "start_time": "2022-11-23T18:30:50.354Z"
   },
   {
    "duration": 178,
    "start_time": "2022-11-23T18:30:53.234Z"
   },
   {
    "duration": 344,
    "start_time": "2022-11-23T18:30:55.898Z"
   },
   {
    "duration": 231,
    "start_time": "2022-11-23T18:32:39.547Z"
   },
   {
    "duration": 68,
    "start_time": "2022-11-24T16:44:34.686Z"
   },
   {
    "duration": 0,
    "start_time": "2022-11-24T16:44:34.755Z"
   },
   {
    "duration": 0,
    "start_time": "2022-11-24T16:44:34.756Z"
   },
   {
    "duration": 0,
    "start_time": "2022-11-24T16:44:34.757Z"
   },
   {
    "duration": 0,
    "start_time": "2022-11-24T16:44:34.758Z"
   },
   {
    "duration": 0,
    "start_time": "2022-11-24T16:44:34.759Z"
   },
   {
    "duration": 0,
    "start_time": "2022-11-24T16:44:34.760Z"
   },
   {
    "duration": 0,
    "start_time": "2022-11-24T16:44:34.779Z"
   },
   {
    "duration": 0,
    "start_time": "2022-11-24T16:44:34.780Z"
   },
   {
    "duration": 0,
    "start_time": "2022-11-24T16:44:34.781Z"
   },
   {
    "duration": 0,
    "start_time": "2022-11-24T16:44:34.784Z"
   },
   {
    "duration": 0,
    "start_time": "2022-11-24T16:44:34.790Z"
   },
   {
    "duration": 0,
    "start_time": "2022-11-24T16:44:34.796Z"
   },
   {
    "duration": 0,
    "start_time": "2022-11-24T16:44:34.797Z"
   },
   {
    "duration": 0,
    "start_time": "2022-11-24T16:44:34.798Z"
   },
   {
    "duration": 0,
    "start_time": "2022-11-24T16:44:34.799Z"
   },
   {
    "duration": 1383,
    "start_time": "2022-11-24T16:44:53.674Z"
   },
   {
    "duration": 204,
    "start_time": "2022-11-24T16:44:55.060Z"
   },
   {
    "duration": 21,
    "start_time": "2022-11-24T16:44:55.266Z"
   },
   {
    "duration": 22,
    "start_time": "2022-11-24T16:44:55.289Z"
   },
   {
    "duration": 26,
    "start_time": "2022-11-24T16:44:55.313Z"
   },
   {
    "duration": 16,
    "start_time": "2022-11-24T16:44:55.341Z"
   },
   {
    "duration": 17,
    "start_time": "2022-11-24T16:44:55.359Z"
   },
   {
    "duration": 114,
    "start_time": "2022-11-24T16:44:55.382Z"
   },
   {
    "duration": 0,
    "start_time": "2022-11-24T16:44:55.499Z"
   },
   {
    "duration": 0,
    "start_time": "2022-11-24T16:44:55.501Z"
   },
   {
    "duration": 0,
    "start_time": "2022-11-24T16:44:55.502Z"
   },
   {
    "duration": 0,
    "start_time": "2022-11-24T16:44:55.504Z"
   },
   {
    "duration": 0,
    "start_time": "2022-11-24T16:44:55.505Z"
   },
   {
    "duration": 0,
    "start_time": "2022-11-24T16:44:55.507Z"
   },
   {
    "duration": 0,
    "start_time": "2022-11-24T16:44:55.508Z"
   },
   {
    "duration": 0,
    "start_time": "2022-11-24T16:44:55.509Z"
   },
   {
    "duration": 0,
    "start_time": "2022-11-24T16:44:55.511Z"
   },
   {
    "duration": 0,
    "start_time": "2022-11-24T16:44:55.512Z"
   },
   {
    "duration": 0,
    "start_time": "2022-11-24T16:44:55.513Z"
   },
   {
    "duration": 0,
    "start_time": "2022-11-24T16:44:55.515Z"
   },
   {
    "duration": 0,
    "start_time": "2022-11-24T16:44:55.517Z"
   },
   {
    "duration": 0,
    "start_time": "2022-11-24T16:44:55.518Z"
   },
   {
    "duration": 0,
    "start_time": "2022-11-24T16:44:55.519Z"
   },
   {
    "duration": 0,
    "start_time": "2022-11-24T16:44:55.521Z"
   },
   {
    "duration": 0,
    "start_time": "2022-11-24T16:44:55.522Z"
   },
   {
    "duration": 0,
    "start_time": "2022-11-24T16:44:55.524Z"
   },
   {
    "duration": 0,
    "start_time": "2022-11-24T16:44:55.525Z"
   },
   {
    "duration": 0,
    "start_time": "2022-11-24T16:44:55.526Z"
   },
   {
    "duration": 0,
    "start_time": "2022-11-24T16:44:55.528Z"
   },
   {
    "duration": 0,
    "start_time": "2022-11-24T16:44:55.530Z"
   },
   {
    "duration": 0,
    "start_time": "2022-11-24T16:44:55.531Z"
   },
   {
    "duration": 6,
    "start_time": "2022-11-24T16:45:13.113Z"
   },
   {
    "duration": 18,
    "start_time": "2022-11-24T16:45:13.121Z"
   },
   {
    "duration": 15,
    "start_time": "2022-11-24T16:45:13.141Z"
   },
   {
    "duration": 22,
    "start_time": "2022-11-24T16:45:13.159Z"
   },
   {
    "duration": 16,
    "start_time": "2022-11-24T16:45:13.185Z"
   },
   {
    "duration": 12,
    "start_time": "2022-11-24T16:45:13.203Z"
   },
   {
    "duration": 344,
    "start_time": "2022-11-24T16:45:13.217Z"
   },
   {
    "duration": 395,
    "start_time": "2022-11-24T16:45:13.563Z"
   },
   {
    "duration": 36,
    "start_time": "2022-11-24T16:45:13.960Z"
   },
   {
    "duration": 11,
    "start_time": "2022-11-24T16:45:14.008Z"
   },
   {
    "duration": 11,
    "start_time": "2022-11-24T16:45:14.022Z"
   },
   {
    "duration": 234,
    "start_time": "2022-11-24T16:45:14.035Z"
   },
   {
    "duration": 187,
    "start_time": "2022-11-24T16:45:14.271Z"
   },
   {
    "duration": 346,
    "start_time": "2022-11-24T16:45:14.459Z"
   },
   {
    "duration": 414,
    "start_time": "2022-11-24T16:45:14.807Z"
   },
   {
    "duration": 347,
    "start_time": "2022-11-24T16:45:15.223Z"
   },
   {
    "duration": 376,
    "start_time": "2022-11-24T16:45:15.571Z"
   },
   {
    "duration": 388,
    "start_time": "2022-11-24T16:45:15.949Z"
   },
   {
    "duration": 309,
    "start_time": "2022-11-24T16:45:16.338Z"
   },
   {
    "duration": 304,
    "start_time": "2022-11-24T16:45:16.649Z"
   },
   {
    "duration": 420,
    "start_time": "2022-11-24T16:45:16.955Z"
   },
   {
    "duration": 22,
    "start_time": "2022-11-24T16:45:17.376Z"
   },
   {
    "duration": 27,
    "start_time": "2022-11-24T16:45:17.400Z"
   },
   {
    "duration": 10,
    "start_time": "2022-11-24T17:11:56.607Z"
   },
   {
    "duration": 10,
    "start_time": "2022-11-24T17:12:00.058Z"
   },
   {
    "duration": 22,
    "start_time": "2022-11-24T17:12:09.970Z"
   },
   {
    "duration": 22,
    "start_time": "2022-11-24T17:12:22.206Z"
   },
   {
    "duration": 21,
    "start_time": "2022-11-24T17:17:29.429Z"
   },
   {
    "duration": 21,
    "start_time": "2022-11-24T17:17:47.839Z"
   },
   {
    "duration": 22,
    "start_time": "2022-11-24T17:27:46.280Z"
   },
   {
    "duration": 12,
    "start_time": "2022-11-24T17:28:12.263Z"
   },
   {
    "duration": 1149,
    "start_time": "2022-11-24T17:28:53.779Z"
   },
   {
    "duration": 10,
    "start_time": "2022-11-24T17:28:56.903Z"
   },
   {
    "duration": 151,
    "start_time": "2022-11-24T17:28:59.773Z"
   },
   {
    "duration": 142,
    "start_time": "2022-11-24T17:29:04.460Z"
   },
   {
    "duration": 13,
    "start_time": "2022-11-24T17:29:19.612Z"
   },
   {
    "duration": 20,
    "start_time": "2022-11-24T17:29:25.115Z"
   },
   {
    "duration": 12,
    "start_time": "2022-11-24T17:29:28.392Z"
   },
   {
    "duration": 5,
    "start_time": "2022-11-24T17:47:07.332Z"
   },
   {
    "duration": 5,
    "start_time": "2022-11-24T17:47:22.315Z"
   },
   {
    "duration": 14,
    "start_time": "2022-11-24T17:51:05.538Z"
   },
   {
    "duration": 13,
    "start_time": "2022-11-24T17:54:27.785Z"
   },
   {
    "duration": 1223,
    "start_time": "2022-11-24T18:47:41.675Z"
   },
   {
    "duration": 54,
    "start_time": "2022-11-24T18:47:42.899Z"
   },
   {
    "duration": 17,
    "start_time": "2022-11-24T18:47:42.955Z"
   },
   {
    "duration": 3,
    "start_time": "2022-11-24T18:47:42.973Z"
   },
   {
    "duration": 16,
    "start_time": "2022-11-24T18:47:42.978Z"
   },
   {
    "duration": 9,
    "start_time": "2022-11-24T18:47:42.996Z"
   },
   {
    "duration": 9,
    "start_time": "2022-11-24T18:47:43.006Z"
   },
   {
    "duration": 142,
    "start_time": "2022-11-24T18:47:43.017Z"
   },
   {
    "duration": 0,
    "start_time": "2022-11-24T18:47:43.162Z"
   },
   {
    "duration": 0,
    "start_time": "2022-11-24T18:47:43.163Z"
   },
   {
    "duration": 0,
    "start_time": "2022-11-24T18:47:43.165Z"
   },
   {
    "duration": 0,
    "start_time": "2022-11-24T18:47:43.166Z"
   },
   {
    "duration": 0,
    "start_time": "2022-11-24T18:47:43.178Z"
   },
   {
    "duration": 0,
    "start_time": "2022-11-24T18:47:43.179Z"
   },
   {
    "duration": 0,
    "start_time": "2022-11-24T18:47:43.180Z"
   },
   {
    "duration": 0,
    "start_time": "2022-11-24T18:47:43.182Z"
   },
   {
    "duration": 0,
    "start_time": "2022-11-24T18:47:43.184Z"
   },
   {
    "duration": 0,
    "start_time": "2022-11-24T18:47:43.186Z"
   },
   {
    "duration": 0,
    "start_time": "2022-11-24T18:47:43.187Z"
   },
   {
    "duration": 0,
    "start_time": "2022-11-24T18:47:43.188Z"
   },
   {
    "duration": 0,
    "start_time": "2022-11-24T18:47:43.189Z"
   },
   {
    "duration": 0,
    "start_time": "2022-11-24T18:47:43.190Z"
   },
   {
    "duration": 0,
    "start_time": "2022-11-24T18:47:43.191Z"
   },
   {
    "duration": 0,
    "start_time": "2022-11-24T18:47:43.192Z"
   },
   {
    "duration": 0,
    "start_time": "2022-11-24T18:47:43.193Z"
   },
   {
    "duration": 0,
    "start_time": "2022-11-24T18:47:43.194Z"
   },
   {
    "duration": 0,
    "start_time": "2022-11-24T18:47:43.195Z"
   },
   {
    "duration": 0,
    "start_time": "2022-11-24T18:47:43.196Z"
   },
   {
    "duration": 0,
    "start_time": "2022-11-24T18:47:43.197Z"
   },
   {
    "duration": 0,
    "start_time": "2022-11-24T18:47:43.199Z"
   },
   {
    "duration": 0,
    "start_time": "2022-11-24T18:47:43.200Z"
   },
   {
    "duration": 5,
    "start_time": "2022-11-24T18:47:57.069Z"
   },
   {
    "duration": 9,
    "start_time": "2022-11-24T18:47:57.076Z"
   },
   {
    "duration": 17,
    "start_time": "2022-11-24T18:47:57.086Z"
   },
   {
    "duration": 29,
    "start_time": "2022-11-24T18:47:57.106Z"
   },
   {
    "duration": 4,
    "start_time": "2022-11-24T18:47:57.137Z"
   },
   {
    "duration": 7,
    "start_time": "2022-11-24T18:47:57.143Z"
   },
   {
    "duration": 324,
    "start_time": "2022-11-24T18:47:57.152Z"
   },
   {
    "duration": 380,
    "start_time": "2022-11-24T18:47:57.478Z"
   },
   {
    "duration": 16,
    "start_time": "2022-11-24T18:47:57.860Z"
   },
   {
    "duration": 10,
    "start_time": "2022-11-24T18:47:57.878Z"
   },
   {
    "duration": 7,
    "start_time": "2022-11-24T18:47:57.889Z"
   },
   {
    "duration": 177,
    "start_time": "2022-11-24T18:47:57.897Z"
   },
   {
    "duration": 145,
    "start_time": "2022-11-24T18:47:58.078Z"
   },
   {
    "duration": 324,
    "start_time": "2022-11-24T18:47:58.225Z"
   },
   {
    "duration": 339,
    "start_time": "2022-11-24T18:47:58.550Z"
   },
   {
    "duration": 291,
    "start_time": "2022-11-24T18:47:58.891Z"
   },
   {
    "duration": 317,
    "start_time": "2022-11-24T18:47:59.183Z"
   },
   {
    "duration": 679,
    "start_time": "2022-11-24T18:47:59.501Z"
   },
   {
    "duration": 538,
    "start_time": "2022-11-24T18:48:00.182Z"
   },
   {
    "duration": 480,
    "start_time": "2022-11-24T18:48:00.722Z"
   },
   {
    "duration": 341,
    "start_time": "2022-11-24T18:48:01.204Z"
   },
   {
    "duration": 14,
    "start_time": "2022-11-24T18:48:01.547Z"
   },
   {
    "duration": 39,
    "start_time": "2022-11-24T18:48:01.562Z"
   },
   {
    "duration": 1289,
    "start_time": "2022-11-25T02:44:37.885Z"
   },
   {
    "duration": 327,
    "start_time": "2022-11-25T02:44:39.176Z"
   },
   {
    "duration": 18,
    "start_time": "2022-11-25T02:44:39.505Z"
   },
   {
    "duration": 3,
    "start_time": "2022-11-25T02:44:39.524Z"
   },
   {
    "duration": 18,
    "start_time": "2022-11-25T02:44:39.529Z"
   },
   {
    "duration": 8,
    "start_time": "2022-11-25T02:44:39.549Z"
   },
   {
    "duration": 8,
    "start_time": "2022-11-25T02:44:39.559Z"
   },
   {
    "duration": 116,
    "start_time": "2022-11-25T02:44:39.569Z"
   },
   {
    "duration": 0,
    "start_time": "2022-11-25T02:44:39.688Z"
   },
   {
    "duration": 0,
    "start_time": "2022-11-25T02:44:39.689Z"
   },
   {
    "duration": 0,
    "start_time": "2022-11-25T02:44:39.690Z"
   },
   {
    "duration": 0,
    "start_time": "2022-11-25T02:44:39.691Z"
   },
   {
    "duration": 0,
    "start_time": "2022-11-25T02:44:39.692Z"
   },
   {
    "duration": 0,
    "start_time": "2022-11-25T02:44:39.693Z"
   },
   {
    "duration": 0,
    "start_time": "2022-11-25T02:44:39.694Z"
   },
   {
    "duration": 0,
    "start_time": "2022-11-25T02:44:39.695Z"
   },
   {
    "duration": 0,
    "start_time": "2022-11-25T02:44:39.696Z"
   },
   {
    "duration": 0,
    "start_time": "2022-11-25T02:44:39.697Z"
   },
   {
    "duration": 0,
    "start_time": "2022-11-25T02:44:39.698Z"
   },
   {
    "duration": 0,
    "start_time": "2022-11-25T02:44:39.698Z"
   },
   {
    "duration": 0,
    "start_time": "2022-11-25T02:44:39.699Z"
   },
   {
    "duration": 0,
    "start_time": "2022-11-25T02:44:39.700Z"
   },
   {
    "duration": 0,
    "start_time": "2022-11-25T02:44:39.701Z"
   },
   {
    "duration": 0,
    "start_time": "2022-11-25T02:44:39.702Z"
   },
   {
    "duration": 0,
    "start_time": "2022-11-25T02:44:39.703Z"
   },
   {
    "duration": 0,
    "start_time": "2022-11-25T02:44:39.704Z"
   },
   {
    "duration": 0,
    "start_time": "2022-11-25T02:44:39.705Z"
   },
   {
    "duration": 0,
    "start_time": "2022-11-25T02:44:39.738Z"
   },
   {
    "duration": 0,
    "start_time": "2022-11-25T02:44:39.739Z"
   },
   {
    "duration": 0,
    "start_time": "2022-11-25T02:44:39.740Z"
   },
   {
    "duration": 0,
    "start_time": "2022-11-25T02:44:39.741Z"
   },
   {
    "duration": 7,
    "start_time": "2022-11-25T02:44:51.835Z"
   },
   {
    "duration": 24,
    "start_time": "2022-11-25T02:44:51.844Z"
   },
   {
    "duration": 14,
    "start_time": "2022-11-25T02:44:51.871Z"
   },
   {
    "duration": 23,
    "start_time": "2022-11-25T02:44:51.887Z"
   },
   {
    "duration": 4,
    "start_time": "2022-11-25T02:44:51.912Z"
   },
   {
    "duration": 15,
    "start_time": "2022-11-25T02:44:51.918Z"
   },
   {
    "duration": 329,
    "start_time": "2022-11-25T02:44:51.934Z"
   },
   {
    "duration": 353,
    "start_time": "2022-11-25T02:44:52.265Z"
   },
   {
    "duration": 16,
    "start_time": "2022-11-25T02:44:52.620Z"
   },
   {
    "duration": 12,
    "start_time": "2022-11-25T02:44:52.638Z"
   },
   {
    "duration": 14,
    "start_time": "2022-11-25T02:44:52.652Z"
   },
   {
    "duration": 192,
    "start_time": "2022-11-25T02:44:52.667Z"
   },
   {
    "duration": 151,
    "start_time": "2022-11-25T02:44:52.862Z"
   },
   {
    "duration": 297,
    "start_time": "2022-11-25T02:44:53.014Z"
   },
   {
    "duration": 366,
    "start_time": "2022-11-25T02:44:53.313Z"
   },
   {
    "duration": 319,
    "start_time": "2022-11-25T02:44:53.680Z"
   },
   {
    "duration": 339,
    "start_time": "2022-11-25T02:44:54.000Z"
   },
   {
    "duration": 326,
    "start_time": "2022-11-25T02:44:54.341Z"
   },
   {
    "duration": 259,
    "start_time": "2022-11-25T02:44:54.669Z"
   },
   {
    "duration": 256,
    "start_time": "2022-11-25T02:44:54.930Z"
   },
   {
    "duration": 359,
    "start_time": "2022-11-25T02:44:55.187Z"
   },
   {
    "duration": 14,
    "start_time": "2022-11-25T02:44:55.548Z"
   },
   {
    "duration": 16,
    "start_time": "2022-11-25T02:44:55.564Z"
   },
   {
    "duration": 46,
    "start_time": "2022-11-25T13:34:10.066Z"
   },
   {
    "duration": 1296,
    "start_time": "2022-11-25T13:34:13.956Z"
   },
   {
    "duration": 200,
    "start_time": "2022-11-25T13:34:15.254Z"
   },
   {
    "duration": 21,
    "start_time": "2022-11-25T13:34:15.455Z"
   },
   {
    "duration": 4,
    "start_time": "2022-11-25T13:34:15.478Z"
   },
   {
    "duration": 26,
    "start_time": "2022-11-25T13:34:15.484Z"
   },
   {
    "duration": 14,
    "start_time": "2022-11-25T13:34:15.511Z"
   },
   {
    "duration": 11,
    "start_time": "2022-11-25T13:34:15.526Z"
   },
   {
    "duration": 112,
    "start_time": "2022-11-25T13:34:15.539Z"
   },
   {
    "duration": 0,
    "start_time": "2022-11-25T13:34:15.654Z"
   },
   {
    "duration": 0,
    "start_time": "2022-11-25T13:34:15.655Z"
   },
   {
    "duration": 0,
    "start_time": "2022-11-25T13:34:15.656Z"
   },
   {
    "duration": 0,
    "start_time": "2022-11-25T13:34:15.657Z"
   },
   {
    "duration": 0,
    "start_time": "2022-11-25T13:34:15.658Z"
   },
   {
    "duration": 0,
    "start_time": "2022-11-25T13:34:15.658Z"
   },
   {
    "duration": 0,
    "start_time": "2022-11-25T13:34:15.659Z"
   },
   {
    "duration": 0,
    "start_time": "2022-11-25T13:34:15.660Z"
   },
   {
    "duration": 0,
    "start_time": "2022-11-25T13:34:15.661Z"
   },
   {
    "duration": 0,
    "start_time": "2022-11-25T13:34:15.662Z"
   },
   {
    "duration": 0,
    "start_time": "2022-11-25T13:34:15.663Z"
   },
   {
    "duration": 0,
    "start_time": "2022-11-25T13:34:15.664Z"
   },
   {
    "duration": 0,
    "start_time": "2022-11-25T13:34:15.664Z"
   },
   {
    "duration": 0,
    "start_time": "2022-11-25T13:34:15.666Z"
   },
   {
    "duration": 0,
    "start_time": "2022-11-25T13:34:15.666Z"
   },
   {
    "duration": 0,
    "start_time": "2022-11-25T13:34:15.667Z"
   },
   {
    "duration": 0,
    "start_time": "2022-11-25T13:34:15.669Z"
   },
   {
    "duration": 0,
    "start_time": "2022-11-25T13:34:15.670Z"
   },
   {
    "duration": 0,
    "start_time": "2022-11-25T13:34:15.671Z"
   },
   {
    "duration": 0,
    "start_time": "2022-11-25T13:34:15.672Z"
   },
   {
    "duration": 0,
    "start_time": "2022-11-25T13:34:15.673Z"
   },
   {
    "duration": 0,
    "start_time": "2022-11-25T13:34:15.674Z"
   },
   {
    "duration": 0,
    "start_time": "2022-11-25T13:34:15.675Z"
   },
   {
    "duration": 10,
    "start_time": "2022-11-25T13:34:28.704Z"
   },
   {
    "duration": 1225,
    "start_time": "2022-11-25T13:34:46.626Z"
   },
   {
    "duration": 56,
    "start_time": "2022-11-25T13:34:47.853Z"
   },
   {
    "duration": 19,
    "start_time": "2022-11-25T13:34:47.911Z"
   },
   {
    "duration": 4,
    "start_time": "2022-11-25T13:34:47.932Z"
   },
   {
    "duration": 17,
    "start_time": "2022-11-25T13:34:47.938Z"
   },
   {
    "duration": 12,
    "start_time": "2022-11-25T13:34:47.958Z"
   },
   {
    "duration": 9,
    "start_time": "2022-11-25T13:34:47.972Z"
   },
   {
    "duration": 138,
    "start_time": "2022-11-25T13:34:47.983Z"
   },
   {
    "duration": 0,
    "start_time": "2022-11-25T13:34:48.124Z"
   },
   {
    "duration": 0,
    "start_time": "2022-11-25T13:34:48.125Z"
   },
   {
    "duration": 0,
    "start_time": "2022-11-25T13:34:48.127Z"
   },
   {
    "duration": 0,
    "start_time": "2022-11-25T13:34:48.128Z"
   },
   {
    "duration": 0,
    "start_time": "2022-11-25T13:34:48.129Z"
   },
   {
    "duration": 0,
    "start_time": "2022-11-25T13:34:48.137Z"
   },
   {
    "duration": 0,
    "start_time": "2022-11-25T13:34:48.138Z"
   },
   {
    "duration": 0,
    "start_time": "2022-11-25T13:34:48.139Z"
   },
   {
    "duration": 0,
    "start_time": "2022-11-25T13:34:48.140Z"
   },
   {
    "duration": 0,
    "start_time": "2022-11-25T13:34:48.141Z"
   },
   {
    "duration": 0,
    "start_time": "2022-11-25T13:34:48.142Z"
   },
   {
    "duration": 0,
    "start_time": "2022-11-25T13:34:48.143Z"
   },
   {
    "duration": 0,
    "start_time": "2022-11-25T13:34:48.144Z"
   },
   {
    "duration": 0,
    "start_time": "2022-11-25T13:34:48.145Z"
   },
   {
    "duration": 0,
    "start_time": "2022-11-25T13:34:48.146Z"
   },
   {
    "duration": 0,
    "start_time": "2022-11-25T13:34:48.147Z"
   },
   {
    "duration": 0,
    "start_time": "2022-11-25T13:34:48.148Z"
   },
   {
    "duration": 0,
    "start_time": "2022-11-25T13:34:48.149Z"
   },
   {
    "duration": 0,
    "start_time": "2022-11-25T13:34:48.150Z"
   },
   {
    "duration": 0,
    "start_time": "2022-11-25T13:34:48.151Z"
   },
   {
    "duration": 0,
    "start_time": "2022-11-25T13:34:48.152Z"
   },
   {
    "duration": 0,
    "start_time": "2022-11-25T13:34:48.153Z"
   },
   {
    "duration": 0,
    "start_time": "2022-11-25T13:34:48.154Z"
   },
   {
    "duration": 6,
    "start_time": "2022-11-25T13:37:03.266Z"
   },
   {
    "duration": 9,
    "start_time": "2022-11-25T13:37:04.948Z"
   },
   {
    "duration": 7,
    "start_time": "2022-11-25T13:37:06.685Z"
   },
   {
    "duration": 15,
    "start_time": "2022-11-25T13:37:10.586Z"
   },
   {
    "duration": 6,
    "start_time": "2022-11-25T13:37:19.280Z"
   },
   {
    "duration": 6,
    "start_time": "2022-11-25T13:37:26.582Z"
   },
   {
    "duration": 409,
    "start_time": "2022-11-25T13:37:28.738Z"
   },
   {
    "duration": 383,
    "start_time": "2022-11-25T13:38:15.979Z"
   },
   {
    "duration": 22,
    "start_time": "2022-11-25T13:38:36.085Z"
   },
   {
    "duration": 10,
    "start_time": "2022-11-25T13:38:39.481Z"
   },
   {
    "duration": 4,
    "start_time": "2022-11-25T13:38:43.387Z"
   },
   {
    "duration": 203,
    "start_time": "2022-11-25T13:38:45.087Z"
   },
   {
    "duration": 144,
    "start_time": "2022-11-25T13:39:06.978Z"
   },
   {
    "duration": 308,
    "start_time": "2022-11-25T13:39:23.477Z"
   },
   {
    "duration": 331,
    "start_time": "2022-11-25T13:40:55.951Z"
   },
   {
    "duration": 299,
    "start_time": "2022-11-25T13:40:59.024Z"
   },
   {
    "duration": 318,
    "start_time": "2022-11-25T13:41:29.183Z"
   },
   {
    "duration": 330,
    "start_time": "2022-11-25T13:41:31.818Z"
   },
   {
    "duration": 257,
    "start_time": "2022-11-25T13:41:53.942Z"
   },
   {
    "duration": 263,
    "start_time": "2022-11-25T13:42:00.566Z"
   },
   {
    "duration": 352,
    "start_time": "2022-11-25T13:42:10.985Z"
   },
   {
    "duration": 11,
    "start_time": "2022-11-25T13:47:43.036Z"
   },
   {
    "duration": 9,
    "start_time": "2022-11-25T13:47:44.867Z"
   },
   {
    "duration": 13,
    "start_time": "2022-11-25T13:48:05.481Z"
   },
   {
    "duration": 9,
    "start_time": "2022-11-25T13:48:11.192Z"
   },
   {
    "duration": 15,
    "start_time": "2022-11-25T13:48:17.491Z"
   },
   {
    "duration": 14,
    "start_time": "2022-11-25T13:48:19.872Z"
   },
   {
    "duration": 24,
    "start_time": "2022-11-25T13:48:23.890Z"
   },
   {
    "duration": 17,
    "start_time": "2022-11-25T13:52:04.179Z"
   },
   {
    "duration": 14,
    "start_time": "2022-11-25T13:52:13.003Z"
   },
   {
    "duration": 15,
    "start_time": "2022-11-25T13:52:17.984Z"
   },
   {
    "duration": 47,
    "start_time": "2022-11-25T13:52:54.460Z"
   },
   {
    "duration": 14,
    "start_time": "2022-11-25T13:52:57.040Z"
   },
   {
    "duration": 17,
    "start_time": "2022-11-25T13:52:59.708Z"
   },
   {
    "duration": 370,
    "start_time": "2022-11-25T13:56:01.895Z"
   },
   {
    "duration": 13,
    "start_time": "2022-11-25T13:56:07.836Z"
   },
   {
    "duration": 23,
    "start_time": "2022-11-25T13:56:14.584Z"
   },
   {
    "duration": 18,
    "start_time": "2022-11-25T13:56:23.997Z"
   },
   {
    "duration": 318,
    "start_time": "2022-11-25T13:56:31.693Z"
   },
   {
    "duration": 6,
    "start_time": "2022-11-25T13:58:46.514Z"
   },
   {
    "duration": 22,
    "start_time": "2022-11-25T13:59:22.139Z"
   },
   {
    "duration": 9,
    "start_time": "2022-11-25T14:00:26.662Z"
   },
   {
    "duration": 8,
    "start_time": "2022-11-25T14:00:39.968Z"
   },
   {
    "duration": 9,
    "start_time": "2022-11-25T14:02:07.717Z"
   },
   {
    "duration": 1212,
    "start_time": "2022-11-25T14:03:06.850Z"
   },
   {
    "duration": 54,
    "start_time": "2022-11-25T14:03:08.064Z"
   },
   {
    "duration": 18,
    "start_time": "2022-11-25T14:03:08.120Z"
   },
   {
    "duration": 3,
    "start_time": "2022-11-25T14:03:08.140Z"
   },
   {
    "duration": 17,
    "start_time": "2022-11-25T14:03:08.145Z"
   },
   {
    "duration": 50,
    "start_time": "2022-11-25T14:03:08.164Z"
   },
   {
    "duration": 36,
    "start_time": "2022-11-25T14:03:08.216Z"
   },
   {
    "duration": 8,
    "start_time": "2022-11-25T14:03:08.253Z"
   },
   {
    "duration": 116,
    "start_time": "2022-11-25T14:03:08.263Z"
   },
   {
    "duration": 0,
    "start_time": "2022-11-25T14:03:08.381Z"
   },
   {
    "duration": 0,
    "start_time": "2022-11-25T14:03:08.382Z"
   },
   {
    "duration": 0,
    "start_time": "2022-11-25T14:03:08.383Z"
   },
   {
    "duration": 0,
    "start_time": "2022-11-25T14:03:08.384Z"
   },
   {
    "duration": 0,
    "start_time": "2022-11-25T14:03:08.386Z"
   },
   {
    "duration": 0,
    "start_time": "2022-11-25T14:03:08.387Z"
   },
   {
    "duration": 0,
    "start_time": "2022-11-25T14:03:08.389Z"
   },
   {
    "duration": 0,
    "start_time": "2022-11-25T14:03:08.390Z"
   },
   {
    "duration": 0,
    "start_time": "2022-11-25T14:03:08.391Z"
   },
   {
    "duration": 0,
    "start_time": "2022-11-25T14:03:08.392Z"
   },
   {
    "duration": 0,
    "start_time": "2022-11-25T14:03:08.394Z"
   },
   {
    "duration": 0,
    "start_time": "2022-11-25T14:03:08.395Z"
   },
   {
    "duration": 0,
    "start_time": "2022-11-25T14:03:08.396Z"
   },
   {
    "duration": 0,
    "start_time": "2022-11-25T14:03:08.397Z"
   },
   {
    "duration": 0,
    "start_time": "2022-11-25T14:03:08.398Z"
   },
   {
    "duration": 0,
    "start_time": "2022-11-25T14:03:08.399Z"
   },
   {
    "duration": 0,
    "start_time": "2022-11-25T14:03:08.400Z"
   },
   {
    "duration": 0,
    "start_time": "2022-11-25T14:03:08.401Z"
   },
   {
    "duration": 0,
    "start_time": "2022-11-25T14:03:08.402Z"
   },
   {
    "duration": 0,
    "start_time": "2022-11-25T14:03:08.403Z"
   },
   {
    "duration": 0,
    "start_time": "2022-11-25T14:03:08.437Z"
   },
   {
    "duration": 0,
    "start_time": "2022-11-25T14:03:08.438Z"
   },
   {
    "duration": 0,
    "start_time": "2022-11-25T14:03:08.440Z"
   },
   {
    "duration": 0,
    "start_time": "2022-11-25T14:03:08.440Z"
   },
   {
    "duration": 0,
    "start_time": "2022-11-25T14:03:08.441Z"
   },
   {
    "duration": 5,
    "start_time": "2022-11-25T14:03:16.289Z"
   },
   {
    "duration": 11,
    "start_time": "2022-11-25T14:03:16.296Z"
   },
   {
    "duration": 7,
    "start_time": "2022-11-25T14:03:16.309Z"
   },
   {
    "duration": 14,
    "start_time": "2022-11-25T14:03:16.318Z"
   },
   {
    "duration": 4,
    "start_time": "2022-11-25T14:03:16.334Z"
   },
   {
    "duration": 11,
    "start_time": "2022-11-25T14:03:16.339Z"
   },
   {
    "duration": 344,
    "start_time": "2022-11-25T14:03:16.351Z"
   },
   {
    "duration": 8,
    "start_time": "2022-11-25T14:03:16.697Z"
   },
   {
    "duration": 1147,
    "start_time": "2022-11-25T14:03:44.807Z"
   },
   {
    "duration": 54,
    "start_time": "2022-11-25T14:03:45.955Z"
   },
   {
    "duration": 17,
    "start_time": "2022-11-25T14:03:46.011Z"
   },
   {
    "duration": 3,
    "start_time": "2022-11-25T14:03:46.029Z"
   },
   {
    "duration": 18,
    "start_time": "2022-11-25T14:03:46.034Z"
   },
   {
    "duration": 50,
    "start_time": "2022-11-25T14:03:46.054Z"
   },
   {
    "duration": 17,
    "start_time": "2022-11-25T14:03:46.105Z"
   },
   {
    "duration": 22,
    "start_time": "2022-11-25T14:03:46.124Z"
   },
   {
    "duration": 117,
    "start_time": "2022-11-25T14:03:46.148Z"
   },
   {
    "duration": 0,
    "start_time": "2022-11-25T14:03:46.266Z"
   },
   {
    "duration": 0,
    "start_time": "2022-11-25T14:03:46.267Z"
   },
   {
    "duration": 0,
    "start_time": "2022-11-25T14:03:46.268Z"
   },
   {
    "duration": 0,
    "start_time": "2022-11-25T14:03:46.269Z"
   },
   {
    "duration": 0,
    "start_time": "2022-11-25T14:03:46.270Z"
   },
   {
    "duration": 0,
    "start_time": "2022-11-25T14:03:46.271Z"
   },
   {
    "duration": 1,
    "start_time": "2022-11-25T14:03:46.272Z"
   },
   {
    "duration": 0,
    "start_time": "2022-11-25T14:03:46.273Z"
   },
   {
    "duration": 0,
    "start_time": "2022-11-25T14:03:46.274Z"
   },
   {
    "duration": 0,
    "start_time": "2022-11-25T14:03:46.275Z"
   },
   {
    "duration": 0,
    "start_time": "2022-11-25T14:03:46.276Z"
   },
   {
    "duration": 0,
    "start_time": "2022-11-25T14:03:46.277Z"
   },
   {
    "duration": 0,
    "start_time": "2022-11-25T14:03:46.278Z"
   },
   {
    "duration": 0,
    "start_time": "2022-11-25T14:03:46.279Z"
   },
   {
    "duration": 0,
    "start_time": "2022-11-25T14:03:46.280Z"
   },
   {
    "duration": 0,
    "start_time": "2022-11-25T14:03:46.281Z"
   },
   {
    "duration": 0,
    "start_time": "2022-11-25T14:03:46.282Z"
   },
   {
    "duration": 0,
    "start_time": "2022-11-25T14:03:46.283Z"
   },
   {
    "duration": 0,
    "start_time": "2022-11-25T14:03:46.283Z"
   },
   {
    "duration": 0,
    "start_time": "2022-11-25T14:03:46.284Z"
   },
   {
    "duration": 0,
    "start_time": "2022-11-25T14:03:46.285Z"
   },
   {
    "duration": 0,
    "start_time": "2022-11-25T14:03:46.286Z"
   },
   {
    "duration": 0,
    "start_time": "2022-11-25T14:03:46.287Z"
   },
   {
    "duration": 0,
    "start_time": "2022-11-25T14:03:46.287Z"
   },
   {
    "duration": 0,
    "start_time": "2022-11-25T14:03:46.288Z"
   },
   {
    "duration": 0,
    "start_time": "2022-11-25T14:03:46.289Z"
   },
   {
    "duration": 6,
    "start_time": "2022-11-25T14:03:53.470Z"
   },
   {
    "duration": 10,
    "start_time": "2022-11-25T14:03:53.478Z"
   },
   {
    "duration": 7,
    "start_time": "2022-11-25T14:03:53.491Z"
   },
   {
    "duration": 17,
    "start_time": "2022-11-25T14:03:53.500Z"
   },
   {
    "duration": 6,
    "start_time": "2022-11-25T14:03:53.519Z"
   },
   {
    "duration": 7,
    "start_time": "2022-11-25T14:03:53.526Z"
   },
   {
    "duration": 372,
    "start_time": "2022-11-25T14:03:53.538Z"
   },
   {
    "duration": 10,
    "start_time": "2022-11-25T14:03:53.911Z"
   },
   {
    "duration": 35,
    "start_time": "2022-11-25T14:03:53.923Z"
   },
   {
    "duration": 3,
    "start_time": "2022-11-25T14:03:53.960Z"
   },
   {
    "duration": 418,
    "start_time": "2022-11-25T14:03:53.964Z"
   },
   {
    "duration": 19,
    "start_time": "2022-11-25T14:03:54.385Z"
   },
   {
    "duration": 9,
    "start_time": "2022-11-25T14:03:54.407Z"
   },
   {
    "duration": 7,
    "start_time": "2022-11-25T14:03:54.418Z"
   },
   {
    "duration": 180,
    "start_time": "2022-11-25T14:03:54.427Z"
   },
   {
    "duration": 163,
    "start_time": "2022-11-25T14:03:54.609Z"
   },
   {
    "duration": 784,
    "start_time": "2022-11-25T14:03:54.774Z"
   },
   {
    "duration": 583,
    "start_time": "2022-11-25T14:03:55.560Z"
   },
   {
    "duration": 543,
    "start_time": "2022-11-25T14:03:56.145Z"
   },
   {
    "duration": 328,
    "start_time": "2022-11-25T14:03:56.690Z"
   },
   {
    "duration": 367,
    "start_time": "2022-11-25T14:03:57.020Z"
   },
   {
    "duration": 281,
    "start_time": "2022-11-25T14:03:57.388Z"
   },
   {
    "duration": 380,
    "start_time": "2022-11-25T14:03:57.671Z"
   },
   {
    "duration": 285,
    "start_time": "2022-11-25T14:03:58.052Z"
   },
   {
    "duration": 15,
    "start_time": "2022-11-25T14:03:58.339Z"
   },
   {
    "duration": 14,
    "start_time": "2022-11-25T14:03:58.356Z"
   },
   {
    "duration": 25,
    "start_time": "2022-11-25T14:04:07.151Z"
   },
   {
    "duration": 23,
    "start_time": "2022-11-25T14:04:18.019Z"
   },
   {
    "duration": 56741,
    "start_time": "2022-11-25T14:04:36.518Z"
   },
   {
    "duration": 0,
    "start_time": "2022-11-25T14:05:33.264Z"
   },
   {
    "duration": 0,
    "start_time": "2022-11-25T14:05:33.265Z"
   },
   {
    "duration": 10,
    "start_time": "2022-11-25T14:05:40.638Z"
   },
   {
    "duration": 328,
    "start_time": "2022-11-25T14:05:43.060Z"
   },
   {
    "duration": 8,
    "start_time": "2022-11-25T14:06:50.738Z"
   },
   {
    "duration": 71,
    "start_time": "2022-11-25T14:06:55.470Z"
   },
   {
    "duration": 8,
    "start_time": "2022-11-25T14:06:57.352Z"
   },
   {
    "duration": 25,
    "start_time": "2022-11-25T14:07:01.969Z"
   },
   {
    "duration": 17,
    "start_time": "2022-11-25T14:07:20.749Z"
   },
   {
    "duration": 13,
    "start_time": "2022-11-25T14:07:56.719Z"
   },
   {
    "duration": 20,
    "start_time": "2022-11-25T14:07:59.804Z"
   },
   {
    "duration": 76,
    "start_time": "2022-11-25T14:08:28.408Z"
   },
   {
    "duration": 16,
    "start_time": "2022-11-25T14:08:31.257Z"
   },
   {
    "duration": 15,
    "start_time": "2022-11-25T14:08:50.591Z"
   },
   {
    "duration": 12,
    "start_time": "2022-11-25T14:10:18.847Z"
   },
   {
    "duration": 13,
    "start_time": "2022-11-25T14:10:21.268Z"
   },
   {
    "duration": 10,
    "start_time": "2022-11-25T14:10:23.388Z"
   },
   {
    "duration": 14,
    "start_time": "2022-11-25T14:10:30.868Z"
   },
   {
    "duration": 5,
    "start_time": "2022-11-25T14:13:17.430Z"
   },
   {
    "duration": 401,
    "start_time": "2022-11-25T14:13:18.881Z"
   },
   {
    "duration": 8,
    "start_time": "2022-11-25T14:14:07.240Z"
   },
   {
    "duration": 23,
    "start_time": "2022-11-25T14:14:11.826Z"
   },
   {
    "duration": 145,
    "start_time": "2022-11-25T14:14:31.869Z"
   },
   {
    "duration": 281,
    "start_time": "2022-11-25T14:14:39.491Z"
   },
   {
    "duration": 2059,
    "start_time": "2022-11-25T14:14:53.919Z"
   },
   {
    "duration": 302,
    "start_time": "2022-11-25T14:15:06.599Z"
   },
   {
    "duration": 296,
    "start_time": "2022-11-25T14:15:09.368Z"
   },
   {
    "duration": 21,
    "start_time": "2022-11-25T14:17:17.109Z"
   },
   {
    "duration": 221,
    "start_time": "2022-11-25T14:17:47.777Z"
   },
   {
    "duration": 221,
    "start_time": "2022-11-25T14:17:52.631Z"
   },
   {
    "duration": 506,
    "start_time": "2022-11-25T14:18:27.926Z"
   },
   {
    "duration": 11,
    "start_time": "2022-11-25T14:18:41.475Z"
   },
   {
    "duration": 12,
    "start_time": "2022-11-25T14:18:47.897Z"
   },
   {
    "duration": 514,
    "start_time": "2022-11-25T14:18:54.872Z"
   },
   {
    "duration": 10,
    "start_time": "2022-11-25T14:20:48.213Z"
   },
   {
    "duration": 260,
    "start_time": "2022-11-25T14:21:27.987Z"
   },
   {
    "duration": 150,
    "start_time": "2022-11-25T14:22:04.267Z"
   },
   {
    "duration": 79,
    "start_time": "2022-11-25T14:23:17.256Z"
   },
   {
    "duration": 139,
    "start_time": "2022-11-25T14:23:20.703Z"
   },
   {
    "duration": 135,
    "start_time": "2022-11-25T14:23:25.700Z"
   },
   {
    "duration": 159,
    "start_time": "2022-11-25T14:24:22.688Z"
   },
   {
    "duration": 157,
    "start_time": "2022-11-25T14:24:30.920Z"
   },
   {
    "duration": 164,
    "start_time": "2022-11-25T14:26:50.784Z"
   },
   {
    "duration": 167,
    "start_time": "2022-11-25T14:27:01.110Z"
   },
   {
    "duration": 159,
    "start_time": "2022-11-25T14:27:04.268Z"
   },
   {
    "duration": 163,
    "start_time": "2022-11-25T14:27:23.427Z"
   },
   {
    "duration": 165,
    "start_time": "2022-11-25T14:27:26.675Z"
   },
   {
    "duration": 202,
    "start_time": "2022-11-25T14:27:28.877Z"
   },
   {
    "duration": 146,
    "start_time": "2022-11-25T14:27:44.997Z"
   },
   {
    "duration": 161,
    "start_time": "2022-11-25T14:27:59.814Z"
   },
   {
    "duration": 168,
    "start_time": "2022-11-25T14:31:43.854Z"
   },
   {
    "duration": 157,
    "start_time": "2022-11-25T14:31:56.669Z"
   },
   {
    "duration": 171,
    "start_time": "2022-11-25T14:32:21.996Z"
   },
   {
    "duration": 177,
    "start_time": "2022-11-25T14:32:54.626Z"
   },
   {
    "duration": 165,
    "start_time": "2022-11-25T14:32:55.252Z"
   },
   {
    "duration": 168,
    "start_time": "2022-11-25T14:33:27.102Z"
   },
   {
    "duration": 131,
    "start_time": "2022-11-25T14:33:44.973Z"
   },
   {
    "duration": 168,
    "start_time": "2022-11-25T14:33:57.608Z"
   },
   {
    "duration": 181,
    "start_time": "2022-11-25T14:34:25.711Z"
   },
   {
    "duration": 159,
    "start_time": "2022-11-25T14:34:33.380Z"
   },
   {
    "duration": 175,
    "start_time": "2022-11-25T14:34:34.875Z"
   },
   {
    "duration": 162,
    "start_time": "2022-11-25T14:34:48.616Z"
   },
   {
    "duration": 166,
    "start_time": "2022-11-25T14:35:03.517Z"
   },
   {
    "duration": 312,
    "start_time": "2022-11-25T14:40:23.921Z"
   },
   {
    "duration": 275,
    "start_time": "2022-11-25T14:40:40.657Z"
   },
   {
    "duration": 279,
    "start_time": "2022-11-25T14:40:45.901Z"
   },
   {
    "duration": 397,
    "start_time": "2022-11-25T14:42:53.755Z"
   },
   {
    "duration": 562,
    "start_time": "2022-11-25T14:43:40.719Z"
   },
   {
    "duration": 527,
    "start_time": "2022-11-25T14:44:29.390Z"
   },
   {
    "duration": 263,
    "start_time": "2022-11-25T14:45:36.024Z"
   },
   {
    "duration": 298,
    "start_time": "2022-11-25T14:45:53.769Z"
   },
   {
    "duration": 293,
    "start_time": "2022-11-25T14:46:10.552Z"
   },
   {
    "duration": 303,
    "start_time": "2022-11-25T14:48:13.142Z"
   },
   {
    "duration": 339,
    "start_time": "2022-11-25T14:48:21.069Z"
   },
   {
    "duration": 165,
    "start_time": "2022-11-25T14:48:38.574Z"
   },
   {
    "duration": 364,
    "start_time": "2022-11-25T14:49:28.574Z"
   },
   {
    "duration": 294,
    "start_time": "2022-11-25T14:49:36.670Z"
   },
   {
    "duration": 311,
    "start_time": "2022-11-25T14:50:09.550Z"
   },
   {
    "duration": 326,
    "start_time": "2022-11-25T14:50:29.282Z"
   },
   {
    "duration": 18,
    "start_time": "2022-11-25T14:51:26.269Z"
   },
   {
    "duration": 314,
    "start_time": "2022-11-25T14:55:04.600Z"
   },
   {
    "duration": 13,
    "start_time": "2022-11-25T14:55:26.558Z"
   },
   {
    "duration": 16,
    "start_time": "2022-11-25T14:55:50.944Z"
   },
   {
    "duration": 311,
    "start_time": "2022-11-25T14:58:55.742Z"
   },
   {
    "duration": 290,
    "start_time": "2022-11-25T14:59:15.971Z"
   },
   {
    "duration": 291,
    "start_time": "2022-11-25T14:59:28.024Z"
   },
   {
    "duration": 14,
    "start_time": "2022-11-25T15:00:01.037Z"
   },
   {
    "duration": 14,
    "start_time": "2022-11-25T15:00:21.050Z"
   },
   {
    "duration": 14,
    "start_time": "2022-11-25T15:00:40.252Z"
   },
   {
    "duration": 13,
    "start_time": "2022-11-25T15:00:50.199Z"
   },
   {
    "duration": 14,
    "start_time": "2022-11-25T15:01:58.194Z"
   },
   {
    "duration": 14,
    "start_time": "2022-11-25T15:02:53.175Z"
   },
   {
    "duration": 14,
    "start_time": "2022-11-25T15:04:43.894Z"
   },
   {
    "duration": 11,
    "start_time": "2022-11-25T15:04:49.792Z"
   },
   {
    "duration": 282,
    "start_time": "2022-11-25T15:07:25.070Z"
   },
   {
    "duration": 298,
    "start_time": "2022-11-25T15:07:37.826Z"
   },
   {
    "duration": 19,
    "start_time": "2022-11-25T15:07:58.231Z"
   },
   {
    "duration": 18,
    "start_time": "2022-11-25T15:08:39.611Z"
   },
   {
    "duration": 19,
    "start_time": "2022-11-25T15:08:54.513Z"
   },
   {
    "duration": 20,
    "start_time": "2022-11-25T15:08:59.214Z"
   },
   {
    "duration": 378,
    "start_time": "2022-11-25T15:09:07.380Z"
   },
   {
    "duration": 398,
    "start_time": "2022-11-25T15:09:15.621Z"
   },
   {
    "duration": 683,
    "start_time": "2022-11-25T15:09:49.777Z"
   },
   {
    "duration": 676,
    "start_time": "2022-11-25T15:09:56.394Z"
   },
   {
    "duration": 717,
    "start_time": "2022-11-25T15:10:25.792Z"
   },
   {
    "duration": 546,
    "start_time": "2022-11-25T15:10:41.716Z"
   },
   {
    "duration": 521,
    "start_time": "2022-11-25T15:10:52.998Z"
   },
   {
    "duration": 549,
    "start_time": "2022-11-25T15:11:29.292Z"
   },
   {
    "duration": 525,
    "start_time": "2022-11-25T15:11:56.274Z"
   },
   {
    "duration": 233,
    "start_time": "2022-11-25T15:12:47.398Z"
   },
   {
    "duration": 274,
    "start_time": "2022-11-25T15:12:55.655Z"
   },
   {
    "duration": 270,
    "start_time": "2022-11-25T15:12:59.910Z"
   },
   {
    "duration": 297,
    "start_time": "2022-11-25T15:13:03.694Z"
   },
   {
    "duration": 281,
    "start_time": "2022-11-25T15:13:06.639Z"
   },
   {
    "duration": 279,
    "start_time": "2022-11-25T15:13:09.869Z"
   },
   {
    "duration": 293,
    "start_time": "2022-11-25T15:13:13.773Z"
   },
   {
    "duration": 350,
    "start_time": "2022-11-25T15:13:18.753Z"
   },
   {
    "duration": 285,
    "start_time": "2022-11-25T15:13:42.561Z"
   },
   {
    "duration": 277,
    "start_time": "2022-11-25T15:32:49.571Z"
   },
   {
    "duration": 257,
    "start_time": "2022-11-25T15:32:56.128Z"
   },
   {
    "duration": 261,
    "start_time": "2022-11-25T15:32:59.770Z"
   },
   {
    "duration": 243,
    "start_time": "2022-11-25T15:33:03.200Z"
   },
   {
    "duration": 262,
    "start_time": "2022-11-25T15:33:06.858Z"
   },
   {
    "duration": 260,
    "start_time": "2022-11-25T15:33:10.927Z"
   },
   {
    "duration": 2744,
    "start_time": "2022-11-25T15:36:31.042Z"
   },
   {
    "duration": 19,
    "start_time": "2022-11-25T15:37:58.917Z"
   },
   {
    "duration": 22,
    "start_time": "2022-11-25T15:38:57.812Z"
   },
   {
    "duration": 16,
    "start_time": "2022-11-25T15:47:48.618Z"
   },
   {
    "duration": 23,
    "start_time": "2022-11-25T15:48:05.970Z"
   },
   {
    "duration": 17,
    "start_time": "2022-11-25T15:52:16.017Z"
   },
   {
    "duration": 15,
    "start_time": "2022-11-25T15:52:39.771Z"
   },
   {
    "duration": 16,
    "start_time": "2022-11-25T15:53:28.730Z"
   },
   {
    "duration": 1354,
    "start_time": "2022-11-25T16:02:00.424Z"
   },
   {
    "duration": 85,
    "start_time": "2022-11-25T16:02:01.780Z"
   },
   {
    "duration": 71,
    "start_time": "2022-11-25T16:02:01.867Z"
   },
   {
    "duration": 3,
    "start_time": "2022-11-25T16:02:01.941Z"
   },
   {
    "duration": 16,
    "start_time": "2022-11-25T16:02:01.947Z"
   },
   {
    "duration": 108,
    "start_time": "2022-11-25T16:02:01.965Z"
   },
   {
    "duration": 75,
    "start_time": "2022-11-25T16:02:02.074Z"
   },
   {
    "duration": 12,
    "start_time": "2022-11-25T16:02:02.150Z"
   },
   {
    "duration": 8,
    "start_time": "2022-11-25T16:02:02.163Z"
   },
   {
    "duration": 268,
    "start_time": "2022-11-25T16:02:02.173Z"
   },
   {
    "duration": 0,
    "start_time": "2022-11-25T16:02:02.444Z"
   },
   {
    "duration": 0,
    "start_time": "2022-11-25T16:02:02.446Z"
   },
   {
    "duration": 0,
    "start_time": "2022-11-25T16:02:02.446Z"
   },
   {
    "duration": 0,
    "start_time": "2022-11-25T16:02:02.447Z"
   },
   {
    "duration": 0,
    "start_time": "2022-11-25T16:02:02.448Z"
   },
   {
    "duration": 0,
    "start_time": "2022-11-25T16:02:02.450Z"
   },
   {
    "duration": 0,
    "start_time": "2022-11-25T16:02:02.450Z"
   },
   {
    "duration": 0,
    "start_time": "2022-11-25T16:02:02.452Z"
   },
   {
    "duration": 0,
    "start_time": "2022-11-25T16:02:02.453Z"
   },
   {
    "duration": 0,
    "start_time": "2022-11-25T16:02:02.454Z"
   },
   {
    "duration": 0,
    "start_time": "2022-11-25T16:02:02.455Z"
   },
   {
    "duration": 0,
    "start_time": "2022-11-25T16:02:02.456Z"
   },
   {
    "duration": 0,
    "start_time": "2022-11-25T16:02:02.457Z"
   },
   {
    "duration": 0,
    "start_time": "2022-11-25T16:02:02.458Z"
   },
   {
    "duration": 0,
    "start_time": "2022-11-25T16:02:02.459Z"
   },
   {
    "duration": 0,
    "start_time": "2022-11-25T16:02:02.460Z"
   },
   {
    "duration": 0,
    "start_time": "2022-11-25T16:02:02.461Z"
   },
   {
    "duration": 0,
    "start_time": "2022-11-25T16:02:02.462Z"
   },
   {
    "duration": 0,
    "start_time": "2022-11-25T16:02:02.463Z"
   },
   {
    "duration": 0,
    "start_time": "2022-11-25T16:02:02.464Z"
   },
   {
    "duration": 0,
    "start_time": "2022-11-25T16:02:02.465Z"
   },
   {
    "duration": 0,
    "start_time": "2022-11-25T16:02:02.466Z"
   },
   {
    "duration": 0,
    "start_time": "2022-11-25T16:02:02.467Z"
   },
   {
    "duration": 0,
    "start_time": "2022-11-25T16:02:02.469Z"
   },
   {
    "duration": 0,
    "start_time": "2022-11-25T16:02:02.469Z"
   },
   {
    "duration": 0,
    "start_time": "2022-11-25T16:02:02.471Z"
   },
   {
    "duration": 0,
    "start_time": "2022-11-25T16:02:02.472Z"
   },
   {
    "duration": 0,
    "start_time": "2022-11-25T16:02:02.473Z"
   },
   {
    "duration": 0,
    "start_time": "2022-11-25T16:02:02.474Z"
   },
   {
    "duration": 0,
    "start_time": "2022-11-25T16:02:02.475Z"
   },
   {
    "duration": 5,
    "start_time": "2022-11-25T16:02:46.097Z"
   },
   {
    "duration": 14,
    "start_time": "2022-11-25T16:02:46.105Z"
   },
   {
    "duration": 12,
    "start_time": "2022-11-25T16:02:46.121Z"
   },
   {
    "duration": 18,
    "start_time": "2022-11-25T16:02:46.135Z"
   },
   {
    "duration": 4,
    "start_time": "2022-11-25T16:02:46.156Z"
   },
   {
    "duration": 5,
    "start_time": "2022-11-25T16:02:46.162Z"
   },
   {
    "duration": 350,
    "start_time": "2022-11-25T16:02:46.169Z"
   },
   {
    "duration": 18,
    "start_time": "2022-11-25T16:02:46.521Z"
   },
   {
    "duration": 306,
    "start_time": "2022-11-25T16:02:46.541Z"
   },
   {
    "duration": 354,
    "start_time": "2022-11-25T16:02:46.848Z"
   },
   {
    "duration": 18,
    "start_time": "2022-11-25T16:02:47.204Z"
   },
   {
    "duration": 18,
    "start_time": "2022-11-25T16:02:47.224Z"
   },
   {
    "duration": 11,
    "start_time": "2022-11-25T16:02:47.244Z"
   },
   {
    "duration": 174,
    "start_time": "2022-11-25T16:02:47.258Z"
   },
   {
    "duration": 11,
    "start_time": "2022-11-25T16:02:47.437Z"
   },
   {
    "duration": 0,
    "start_time": "2022-11-25T16:02:47.450Z"
   },
   {
    "duration": 1,
    "start_time": "2022-11-25T16:02:47.451Z"
   },
   {
    "duration": 0,
    "start_time": "2022-11-25T16:02:47.453Z"
   },
   {
    "duration": 0,
    "start_time": "2022-11-25T16:02:47.454Z"
   },
   {
    "duration": 0,
    "start_time": "2022-11-25T16:02:47.455Z"
   },
   {
    "duration": 0,
    "start_time": "2022-11-25T16:02:47.456Z"
   },
   {
    "duration": 0,
    "start_time": "2022-11-25T16:02:47.457Z"
   },
   {
    "duration": 0,
    "start_time": "2022-11-25T16:02:47.459Z"
   },
   {
    "duration": 0,
    "start_time": "2022-11-25T16:02:47.459Z"
   },
   {
    "duration": 0,
    "start_time": "2022-11-25T16:02:47.461Z"
   },
   {
    "duration": 0,
    "start_time": "2022-11-25T16:02:47.461Z"
   },
   {
    "duration": 0,
    "start_time": "2022-11-25T16:02:47.462Z"
   },
   {
    "duration": 0,
    "start_time": "2022-11-25T16:02:47.463Z"
   },
   {
    "duration": 0,
    "start_time": "2022-11-25T16:02:47.464Z"
   },
   {
    "duration": 0,
    "start_time": "2022-11-25T16:02:47.465Z"
   },
   {
    "duration": 232,
    "start_time": "2022-11-25T16:05:10.522Z"
   },
   {
    "duration": 192,
    "start_time": "2022-11-25T16:05:25.805Z"
   },
   {
    "duration": 161,
    "start_time": "2022-11-25T16:05:32.698Z"
   },
   {
    "duration": 164,
    "start_time": "2022-11-25T16:05:36.439Z"
   },
   {
    "duration": 150,
    "start_time": "2022-11-25T16:05:40.841Z"
   },
   {
    "duration": 174,
    "start_time": "2022-11-25T16:06:08.152Z"
   },
   {
    "duration": 163,
    "start_time": "2022-11-25T16:06:08.328Z"
   },
   {
    "duration": 301,
    "start_time": "2022-11-25T16:06:08.493Z"
   },
   {
    "duration": 333,
    "start_time": "2022-11-25T16:06:08.797Z"
   },
   {
    "duration": 378,
    "start_time": "2022-11-25T16:06:09.137Z"
   },
   {
    "duration": 553,
    "start_time": "2022-11-25T16:06:09.517Z"
   },
   {
    "duration": 67,
    "start_time": "2022-11-25T16:06:10.071Z"
   },
   {
    "duration": 597,
    "start_time": "2022-11-25T16:06:10.140Z"
   },
   {
    "duration": 12,
    "start_time": "2022-11-25T16:06:10.739Z"
   },
   {
    "duration": 505,
    "start_time": "2022-11-25T16:06:10.754Z"
   },
   {
    "duration": 269,
    "start_time": "2022-11-25T16:06:11.261Z"
   },
   {
    "duration": 378,
    "start_time": "2022-11-25T16:06:11.532Z"
   },
   {
    "duration": 290,
    "start_time": "2022-11-25T16:06:11.912Z"
   },
   {
    "duration": 15,
    "start_time": "2022-11-25T16:06:12.204Z"
   },
   {
    "duration": 28,
    "start_time": "2022-11-25T16:06:12.221Z"
   },
   {
    "duration": 16,
    "start_time": "2022-11-25T16:06:12.251Z"
   },
   {
    "duration": 14,
    "start_time": "2022-11-25T16:06:12.269Z"
   },
   {
    "duration": 164,
    "start_time": "2022-11-25T16:06:57.189Z"
   },
   {
    "duration": 289,
    "start_time": "2022-11-25T16:07:34.805Z"
   },
   {
    "duration": 257,
    "start_time": "2022-11-25T16:07:41.420Z"
   },
   {
    "duration": 1174,
    "start_time": "2022-11-25T16:08:20.369Z"
   },
   {
    "duration": 54,
    "start_time": "2022-11-25T16:08:21.545Z"
   },
   {
    "duration": 18,
    "start_time": "2022-11-25T16:08:21.601Z"
   },
   {
    "duration": 4,
    "start_time": "2022-11-25T16:08:21.620Z"
   },
   {
    "duration": 18,
    "start_time": "2022-11-25T16:08:21.626Z"
   },
   {
    "duration": 51,
    "start_time": "2022-11-25T16:08:21.645Z"
   },
   {
    "duration": 18,
    "start_time": "2022-11-25T16:08:21.698Z"
   },
   {
    "duration": 28,
    "start_time": "2022-11-25T16:08:21.717Z"
   },
   {
    "duration": 10,
    "start_time": "2022-11-25T16:08:21.747Z"
   },
   {
    "duration": 115,
    "start_time": "2022-11-25T16:08:21.758Z"
   },
   {
    "duration": 0,
    "start_time": "2022-11-25T16:08:21.877Z"
   },
   {
    "duration": 0,
    "start_time": "2022-11-25T16:08:21.879Z"
   },
   {
    "duration": 0,
    "start_time": "2022-11-25T16:08:21.880Z"
   },
   {
    "duration": 0,
    "start_time": "2022-11-25T16:08:21.881Z"
   },
   {
    "duration": 0,
    "start_time": "2022-11-25T16:08:21.883Z"
   },
   {
    "duration": 0,
    "start_time": "2022-11-25T16:08:21.884Z"
   },
   {
    "duration": 0,
    "start_time": "2022-11-25T16:08:21.885Z"
   },
   {
    "duration": 0,
    "start_time": "2022-11-25T16:08:21.887Z"
   },
   {
    "duration": 0,
    "start_time": "2022-11-25T16:08:21.888Z"
   },
   {
    "duration": 0,
    "start_time": "2022-11-25T16:08:21.889Z"
   },
   {
    "duration": 0,
    "start_time": "2022-11-25T16:08:21.891Z"
   },
   {
    "duration": 0,
    "start_time": "2022-11-25T16:08:21.892Z"
   },
   {
    "duration": 0,
    "start_time": "2022-11-25T16:08:21.894Z"
   },
   {
    "duration": 0,
    "start_time": "2022-11-25T16:08:21.895Z"
   },
   {
    "duration": 0,
    "start_time": "2022-11-25T16:08:21.896Z"
   },
   {
    "duration": 0,
    "start_time": "2022-11-25T16:08:21.897Z"
   },
   {
    "duration": 0,
    "start_time": "2022-11-25T16:08:21.899Z"
   },
   {
    "duration": 0,
    "start_time": "2022-11-25T16:08:21.938Z"
   },
   {
    "duration": 0,
    "start_time": "2022-11-25T16:08:21.940Z"
   },
   {
    "duration": 0,
    "start_time": "2022-11-25T16:08:21.941Z"
   },
   {
    "duration": 0,
    "start_time": "2022-11-25T16:08:21.942Z"
   },
   {
    "duration": 0,
    "start_time": "2022-11-25T16:08:21.944Z"
   },
   {
    "duration": 0,
    "start_time": "2022-11-25T16:08:21.945Z"
   },
   {
    "duration": 0,
    "start_time": "2022-11-25T16:08:21.946Z"
   },
   {
    "duration": 0,
    "start_time": "2022-11-25T16:08:21.948Z"
   },
   {
    "duration": 0,
    "start_time": "2022-11-25T16:08:21.949Z"
   },
   {
    "duration": 0,
    "start_time": "2022-11-25T16:08:21.950Z"
   },
   {
    "duration": 0,
    "start_time": "2022-11-25T16:08:21.951Z"
   },
   {
    "duration": 0,
    "start_time": "2022-11-25T16:08:21.953Z"
   },
   {
    "duration": 0,
    "start_time": "2022-11-25T16:08:21.954Z"
   },
   {
    "duration": 5,
    "start_time": "2022-11-25T16:08:32.307Z"
   },
   {
    "duration": 13,
    "start_time": "2022-11-25T16:08:32.313Z"
   },
   {
    "duration": 12,
    "start_time": "2022-11-25T16:08:32.328Z"
   },
   {
    "duration": 17,
    "start_time": "2022-11-25T16:08:32.342Z"
   },
   {
    "duration": 5,
    "start_time": "2022-11-25T16:08:32.361Z"
   },
   {
    "duration": 13,
    "start_time": "2022-11-25T16:08:32.368Z"
   },
   {
    "duration": 360,
    "start_time": "2022-11-25T16:08:32.383Z"
   },
   {
    "duration": 10,
    "start_time": "2022-11-25T16:08:32.744Z"
   },
   {
    "duration": 340,
    "start_time": "2022-11-25T16:08:32.757Z"
   },
   {
    "duration": 387,
    "start_time": "2022-11-25T16:08:33.099Z"
   },
   {
    "duration": 18,
    "start_time": "2022-11-25T16:08:33.488Z"
   },
   {
    "duration": 10,
    "start_time": "2022-11-25T16:08:33.507Z"
   },
   {
    "duration": 8,
    "start_time": "2022-11-25T16:08:33.518Z"
   },
   {
    "duration": 185,
    "start_time": "2022-11-25T16:08:33.527Z"
   },
   {
    "duration": 261,
    "start_time": "2022-11-25T16:08:33.714Z"
   },
   {
    "duration": 669,
    "start_time": "2022-11-25T16:08:33.976Z"
   },
   {
    "duration": 591,
    "start_time": "2022-11-25T16:08:34.646Z"
   },
   {
    "duration": 561,
    "start_time": "2022-11-25T16:08:35.239Z"
   },
   {
    "duration": 369,
    "start_time": "2022-11-25T16:08:35.802Z"
   },
   {
    "duration": 13,
    "start_time": "2022-11-25T16:08:36.173Z"
   },
   {
    "duration": 415,
    "start_time": "2022-11-25T16:08:36.188Z"
   },
   {
    "duration": 12,
    "start_time": "2022-11-25T16:08:36.605Z"
   },
   {
    "duration": 400,
    "start_time": "2022-11-25T16:08:36.619Z"
   },
   {
    "duration": 277,
    "start_time": "2022-11-25T16:08:37.022Z"
   },
   {
    "duration": 273,
    "start_time": "2022-11-25T16:08:37.301Z"
   },
   {
    "duration": 288,
    "start_time": "2022-11-25T16:08:37.575Z"
   },
   {
    "duration": 16,
    "start_time": "2022-11-25T16:08:37.865Z"
   },
   {
    "duration": 26,
    "start_time": "2022-11-25T16:08:37.883Z"
   },
   {
    "duration": 29,
    "start_time": "2022-11-25T16:08:37.911Z"
   },
   {
    "duration": 17,
    "start_time": "2022-11-25T16:08:37.942Z"
   },
   {
    "duration": 44,
    "start_time": "2022-11-26T05:11:29.063Z"
   },
   {
    "duration": 1065,
    "start_time": "2022-11-26T05:11:33.436Z"
   },
   {
    "duration": 49,
    "start_time": "2022-11-26T05:11:34.503Z"
   },
   {
    "duration": 16,
    "start_time": "2022-11-26T05:11:34.554Z"
   },
   {
    "duration": 4,
    "start_time": "2022-11-26T05:11:34.572Z"
   },
   {
    "duration": 26,
    "start_time": "2022-11-26T05:11:34.577Z"
   },
   {
    "duration": 53,
    "start_time": "2022-11-26T05:11:34.604Z"
   },
   {
    "duration": 19,
    "start_time": "2022-11-26T05:11:34.659Z"
   },
   {
    "duration": 9,
    "start_time": "2022-11-26T05:11:34.680Z"
   },
   {
    "duration": 30,
    "start_time": "2022-11-26T05:11:34.691Z"
   },
   {
    "duration": 68,
    "start_time": "2022-11-26T05:11:34.724Z"
   },
   {
    "duration": 0,
    "start_time": "2022-11-26T05:11:34.795Z"
   },
   {
    "duration": 0,
    "start_time": "2022-11-26T05:11:34.797Z"
   },
   {
    "duration": 0,
    "start_time": "2022-11-26T05:11:34.798Z"
   },
   {
    "duration": 0,
    "start_time": "2022-11-26T05:11:34.799Z"
   },
   {
    "duration": 0,
    "start_time": "2022-11-26T05:11:34.800Z"
   },
   {
    "duration": 0,
    "start_time": "2022-11-26T05:11:34.802Z"
   },
   {
    "duration": 0,
    "start_time": "2022-11-26T05:11:34.821Z"
   },
   {
    "duration": 0,
    "start_time": "2022-11-26T05:11:34.822Z"
   },
   {
    "duration": 1,
    "start_time": "2022-11-26T05:11:34.823Z"
   },
   {
    "duration": 0,
    "start_time": "2022-11-26T05:11:34.825Z"
   },
   {
    "duration": 0,
    "start_time": "2022-11-26T05:11:34.826Z"
   },
   {
    "duration": 0,
    "start_time": "2022-11-26T05:11:34.828Z"
   },
   {
    "duration": 0,
    "start_time": "2022-11-26T05:11:34.829Z"
   },
   {
    "duration": 0,
    "start_time": "2022-11-26T05:11:34.830Z"
   },
   {
    "duration": 0,
    "start_time": "2022-11-26T05:11:34.831Z"
   },
   {
    "duration": 0,
    "start_time": "2022-11-26T05:11:34.832Z"
   },
   {
    "duration": 0,
    "start_time": "2022-11-26T05:11:34.834Z"
   },
   {
    "duration": 0,
    "start_time": "2022-11-26T05:11:34.835Z"
   },
   {
    "duration": 0,
    "start_time": "2022-11-26T05:11:34.837Z"
   },
   {
    "duration": 0,
    "start_time": "2022-11-26T05:11:34.838Z"
   },
   {
    "duration": 0,
    "start_time": "2022-11-26T05:11:34.839Z"
   },
   {
    "duration": 0,
    "start_time": "2022-11-26T05:11:34.840Z"
   },
   {
    "duration": 0,
    "start_time": "2022-11-26T05:11:34.842Z"
   },
   {
    "duration": 0,
    "start_time": "2022-11-26T05:11:34.843Z"
   },
   {
    "duration": 0,
    "start_time": "2022-11-26T05:11:34.844Z"
   },
   {
    "duration": 0,
    "start_time": "2022-11-26T05:11:34.846Z"
   },
   {
    "duration": 5,
    "start_time": "2022-11-26T05:11:45.861Z"
   },
   {
    "duration": 9,
    "start_time": "2022-11-26T05:11:45.869Z"
   },
   {
    "duration": 7,
    "start_time": "2022-11-26T05:11:45.880Z"
   },
   {
    "duration": 12,
    "start_time": "2022-11-26T05:11:45.889Z"
   },
   {
    "duration": 5,
    "start_time": "2022-11-26T05:11:45.903Z"
   },
   {
    "duration": 9,
    "start_time": "2022-11-26T05:11:45.909Z"
   },
   {
    "duration": 326,
    "start_time": "2022-11-26T05:11:45.920Z"
   },
   {
    "duration": 8,
    "start_time": "2022-11-26T05:11:46.248Z"
   },
   {
    "duration": 290,
    "start_time": "2022-11-26T05:11:46.258Z"
   },
   {
    "duration": 318,
    "start_time": "2022-11-26T05:11:46.550Z"
   },
   {
    "duration": 15,
    "start_time": "2022-11-26T05:11:46.870Z"
   },
   {
    "duration": 9,
    "start_time": "2022-11-26T05:11:46.887Z"
   },
   {
    "duration": 10,
    "start_time": "2022-11-26T05:11:46.897Z"
   },
   {
    "duration": 166,
    "start_time": "2022-11-26T05:11:46.922Z"
   },
   {
    "duration": 225,
    "start_time": "2022-11-26T05:11:47.089Z"
   },
   {
    "duration": 269,
    "start_time": "2022-11-26T05:11:47.320Z"
   },
   {
    "duration": 252,
    "start_time": "2022-11-26T05:11:47.590Z"
   },
   {
    "duration": 279,
    "start_time": "2022-11-26T05:11:47.844Z"
   },
   {
    "duration": 288,
    "start_time": "2022-11-26T05:11:48.125Z"
   },
   {
    "duration": 17,
    "start_time": "2022-11-26T05:11:48.414Z"
   },
   {
    "duration": 291,
    "start_time": "2022-11-26T05:11:48.432Z"
   },
   {
    "duration": 12,
    "start_time": "2022-11-26T05:11:48.724Z"
   },
   {
    "duration": 332,
    "start_time": "2022-11-26T05:11:48.737Z"
   },
   {
    "duration": 263,
    "start_time": "2022-11-26T05:11:49.070Z"
   },
   {
    "duration": 257,
    "start_time": "2022-11-26T05:11:49.335Z"
   },
   {
    "duration": 248,
    "start_time": "2022-11-26T05:11:49.593Z"
   },
   {
    "duration": 15,
    "start_time": "2022-11-26T05:11:53.039Z"
   },
   {
    "duration": 48,
    "start_time": "2022-11-26T09:57:48.439Z"
   },
   {
    "duration": 2133,
    "start_time": "2022-11-26T09:57:55.124Z"
   },
   {
    "duration": 176,
    "start_time": "2022-11-26T09:57:57.259Z"
   },
   {
    "duration": 18,
    "start_time": "2022-11-26T09:57:57.437Z"
   },
   {
    "duration": 8,
    "start_time": "2022-11-26T09:57:57.457Z"
   },
   {
    "duration": 20,
    "start_time": "2022-11-26T09:57:57.467Z"
   },
   {
    "duration": 60,
    "start_time": "2022-11-26T09:57:57.488Z"
   },
   {
    "duration": 20,
    "start_time": "2022-11-26T09:57:57.549Z"
   },
   {
    "duration": 10,
    "start_time": "2022-11-26T09:57:57.571Z"
   },
   {
    "duration": 11,
    "start_time": "2022-11-26T09:57:57.582Z"
   },
   {
    "duration": 120,
    "start_time": "2022-11-26T09:57:57.594Z"
   },
   {
    "duration": 0,
    "start_time": "2022-11-26T09:57:57.722Z"
   },
   {
    "duration": 0,
    "start_time": "2022-11-26T09:57:57.723Z"
   },
   {
    "duration": 0,
    "start_time": "2022-11-26T09:57:57.724Z"
   },
   {
    "duration": 0,
    "start_time": "2022-11-26T09:57:57.725Z"
   },
   {
    "duration": 0,
    "start_time": "2022-11-26T09:57:57.726Z"
   },
   {
    "duration": 0,
    "start_time": "2022-11-26T09:57:57.728Z"
   },
   {
    "duration": 0,
    "start_time": "2022-11-26T09:57:57.728Z"
   },
   {
    "duration": 0,
    "start_time": "2022-11-26T09:57:57.729Z"
   },
   {
    "duration": 0,
    "start_time": "2022-11-26T09:57:57.731Z"
   },
   {
    "duration": 0,
    "start_time": "2022-11-26T09:57:57.732Z"
   },
   {
    "duration": 0,
    "start_time": "2022-11-26T09:57:57.733Z"
   },
   {
    "duration": 0,
    "start_time": "2022-11-26T09:57:57.734Z"
   },
   {
    "duration": 0,
    "start_time": "2022-11-26T09:57:57.735Z"
   },
   {
    "duration": 0,
    "start_time": "2022-11-26T09:57:57.736Z"
   },
   {
    "duration": 0,
    "start_time": "2022-11-26T09:57:57.737Z"
   },
   {
    "duration": 0,
    "start_time": "2022-11-26T09:57:57.739Z"
   },
   {
    "duration": 0,
    "start_time": "2022-11-26T09:57:57.740Z"
   },
   {
    "duration": 0,
    "start_time": "2022-11-26T09:57:57.741Z"
   },
   {
    "duration": 0,
    "start_time": "2022-11-26T09:57:57.742Z"
   },
   {
    "duration": 0,
    "start_time": "2022-11-26T09:57:57.743Z"
   },
   {
    "duration": 0,
    "start_time": "2022-11-26T09:57:57.744Z"
   },
   {
    "duration": 0,
    "start_time": "2022-11-26T09:57:57.746Z"
   },
   {
    "duration": 0,
    "start_time": "2022-11-26T09:57:57.747Z"
   },
   {
    "duration": 0,
    "start_time": "2022-11-26T09:57:57.748Z"
   },
   {
    "duration": 0,
    "start_time": "2022-11-26T09:57:57.749Z"
   },
   {
    "duration": 0,
    "start_time": "2022-11-26T09:57:57.750Z"
   },
   {
    "duration": 0,
    "start_time": "2022-11-26T09:57:57.752Z"
   },
   {
    "duration": 0,
    "start_time": "2022-11-26T09:57:57.753Z"
   },
   {
    "duration": 0,
    "start_time": "2022-11-26T09:57:57.754Z"
   },
   {
    "duration": 5,
    "start_time": "2022-11-26T09:58:10.479Z"
   },
   {
    "duration": 11,
    "start_time": "2022-11-26T09:58:10.485Z"
   },
   {
    "duration": 8,
    "start_time": "2022-11-26T09:58:10.497Z"
   },
   {
    "duration": 15,
    "start_time": "2022-11-26T09:58:10.507Z"
   },
   {
    "duration": 6,
    "start_time": "2022-11-26T09:58:10.524Z"
   },
   {
    "duration": 8,
    "start_time": "2022-11-26T09:58:10.531Z"
   },
   {
    "duration": 368,
    "start_time": "2022-11-26T09:58:10.541Z"
   },
   {
    "duration": 13,
    "start_time": "2022-11-26T09:58:10.911Z"
   },
   {
    "duration": 333,
    "start_time": "2022-11-26T09:58:10.927Z"
   },
   {
    "duration": 382,
    "start_time": "2022-11-26T09:58:11.262Z"
   },
   {
    "duration": 19,
    "start_time": "2022-11-26T09:58:11.646Z"
   },
   {
    "duration": 10,
    "start_time": "2022-11-26T09:58:11.667Z"
   },
   {
    "duration": 5,
    "start_time": "2022-11-26T09:58:11.679Z"
   },
   {
    "duration": 215,
    "start_time": "2022-11-26T09:58:11.686Z"
   },
   {
    "duration": 253,
    "start_time": "2022-11-26T09:58:11.902Z"
   },
   {
    "duration": 669,
    "start_time": "2022-11-26T09:58:12.156Z"
   },
   {
    "duration": 624,
    "start_time": "2022-11-26T09:58:12.828Z"
   },
   {
    "duration": 625,
    "start_time": "2022-11-26T09:58:13.454Z"
   },
   {
    "duration": 395,
    "start_time": "2022-11-26T09:58:14.081Z"
   },
   {
    "duration": 15,
    "start_time": "2022-11-26T09:58:14.478Z"
   },
   {
    "duration": 318,
    "start_time": "2022-11-26T09:58:14.494Z"
   },
   {
    "duration": 19,
    "start_time": "2022-11-26T09:58:14.814Z"
   },
   {
    "duration": 385,
    "start_time": "2022-11-26T09:58:14.834Z"
   },
   {
    "duration": 274,
    "start_time": "2022-11-26T09:58:15.222Z"
   },
   {
    "duration": 272,
    "start_time": "2022-11-26T09:58:15.498Z"
   },
   {
    "duration": 294,
    "start_time": "2022-11-26T09:58:15.772Z"
   },
   {
    "duration": 16,
    "start_time": "2022-11-26T09:58:16.067Z"
   },
   {
    "duration": 19,
    "start_time": "2022-11-26T09:58:16.084Z"
   },
   {
    "duration": 19,
    "start_time": "2022-11-26T09:58:16.121Z"
   },
   {
    "duration": 19,
    "start_time": "2022-11-26T10:02:00.797Z"
   },
   {
    "duration": 1178,
    "start_time": "2022-11-26T10:15:01.345Z"
   },
   {
    "duration": 53,
    "start_time": "2022-11-26T10:15:02.526Z"
   },
   {
    "duration": 18,
    "start_time": "2022-11-26T10:15:02.581Z"
   },
   {
    "duration": 18,
    "start_time": "2022-11-26T10:15:02.600Z"
   },
   {
    "duration": 31,
    "start_time": "2022-11-26T10:15:02.621Z"
   },
   {
    "duration": 70,
    "start_time": "2022-11-26T10:15:02.654Z"
   },
   {
    "duration": 20,
    "start_time": "2022-11-26T10:15:02.726Z"
   },
   {
    "duration": 12,
    "start_time": "2022-11-26T10:15:02.748Z"
   },
   {
    "duration": 14,
    "start_time": "2022-11-26T10:15:02.761Z"
   },
   {
    "duration": 125,
    "start_time": "2022-11-26T10:15:02.777Z"
   },
   {
    "duration": 0,
    "start_time": "2022-11-26T10:15:02.905Z"
   },
   {
    "duration": 0,
    "start_time": "2022-11-26T10:15:02.906Z"
   },
   {
    "duration": 0,
    "start_time": "2022-11-26T10:15:02.907Z"
   },
   {
    "duration": 0,
    "start_time": "2022-11-26T10:15:02.908Z"
   },
   {
    "duration": 0,
    "start_time": "2022-11-26T10:15:02.909Z"
   },
   {
    "duration": 0,
    "start_time": "2022-11-26T10:15:02.910Z"
   },
   {
    "duration": 0,
    "start_time": "2022-11-26T10:15:02.911Z"
   },
   {
    "duration": 0,
    "start_time": "2022-11-26T10:15:02.912Z"
   },
   {
    "duration": 0,
    "start_time": "2022-11-26T10:15:02.912Z"
   },
   {
    "duration": 0,
    "start_time": "2022-11-26T10:15:02.913Z"
   },
   {
    "duration": 0,
    "start_time": "2022-11-26T10:15:02.913Z"
   },
   {
    "duration": 0,
    "start_time": "2022-11-26T10:15:02.913Z"
   },
   {
    "duration": 0,
    "start_time": "2022-11-26T10:15:02.922Z"
   },
   {
    "duration": 0,
    "start_time": "2022-11-26T10:15:02.923Z"
   },
   {
    "duration": 0,
    "start_time": "2022-11-26T10:15:02.924Z"
   },
   {
    "duration": 0,
    "start_time": "2022-11-26T10:15:02.925Z"
   },
   {
    "duration": 0,
    "start_time": "2022-11-26T10:15:02.926Z"
   },
   {
    "duration": 0,
    "start_time": "2022-11-26T10:15:02.927Z"
   },
   {
    "duration": 0,
    "start_time": "2022-11-26T10:15:02.928Z"
   },
   {
    "duration": 0,
    "start_time": "2022-11-26T10:15:02.929Z"
   },
   {
    "duration": 0,
    "start_time": "2022-11-26T10:15:02.930Z"
   },
   {
    "duration": 0,
    "start_time": "2022-11-26T10:15:02.931Z"
   },
   {
    "duration": 0,
    "start_time": "2022-11-26T10:15:02.932Z"
   },
   {
    "duration": 0,
    "start_time": "2022-11-26T10:15:02.933Z"
   },
   {
    "duration": 0,
    "start_time": "2022-11-26T10:15:02.935Z"
   },
   {
    "duration": 0,
    "start_time": "2022-11-26T10:15:02.936Z"
   },
   {
    "duration": 0,
    "start_time": "2022-11-26T10:15:02.937Z"
   },
   {
    "duration": 0,
    "start_time": "2022-11-26T10:15:02.938Z"
   },
   {
    "duration": 7,
    "start_time": "2022-11-26T10:15:18.307Z"
   },
   {
    "duration": 11,
    "start_time": "2022-11-26T10:15:18.317Z"
   },
   {
    "duration": 10,
    "start_time": "2022-11-26T10:15:18.330Z"
   },
   {
    "duration": 23,
    "start_time": "2022-11-26T10:15:18.343Z"
   },
   {
    "duration": 6,
    "start_time": "2022-11-26T10:15:18.369Z"
   },
   {
    "duration": 8,
    "start_time": "2022-11-26T10:15:18.378Z"
   },
   {
    "duration": 372,
    "start_time": "2022-11-26T10:15:18.388Z"
   },
   {
    "duration": 9,
    "start_time": "2022-11-26T10:15:18.761Z"
   },
   {
    "duration": 364,
    "start_time": "2022-11-26T10:15:18.772Z"
   },
   {
    "duration": 414,
    "start_time": "2022-11-26T10:15:19.138Z"
   },
   {
    "duration": 18,
    "start_time": "2022-11-26T10:15:19.553Z"
   },
   {
    "duration": 12,
    "start_time": "2022-11-26T10:15:19.573Z"
   },
   {
    "duration": 8,
    "start_time": "2022-11-26T10:15:19.588Z"
   },
   {
    "duration": 195,
    "start_time": "2022-11-26T10:15:19.597Z"
   },
   {
    "duration": 254,
    "start_time": "2022-11-26T10:15:19.793Z"
   },
   {
    "duration": 319,
    "start_time": "2022-11-26T10:15:20.049Z"
   },
   {
    "duration": 565,
    "start_time": "2022-11-26T10:15:20.370Z"
   },
   {
    "duration": 700,
    "start_time": "2022-11-26T10:15:20.936Z"
   },
   {
    "duration": 651,
    "start_time": "2022-11-26T10:15:21.638Z"
   },
   {
    "duration": 15,
    "start_time": "2022-11-26T10:15:22.322Z"
   },
   {
    "duration": 311,
    "start_time": "2022-11-26T10:15:22.340Z"
   },
   {
    "duration": 14,
    "start_time": "2022-11-26T10:15:22.653Z"
   },
   {
    "duration": 378,
    "start_time": "2022-11-26T10:15:22.669Z"
   },
   {
    "duration": 275,
    "start_time": "2022-11-26T10:15:23.048Z"
   },
   {
    "duration": 272,
    "start_time": "2022-11-26T10:15:23.325Z"
   },
   {
    "duration": 289,
    "start_time": "2022-11-26T10:15:23.599Z"
   },
   {
    "duration": 15,
    "start_time": "2022-11-26T10:15:23.890Z"
   },
   {
    "duration": 25,
    "start_time": "2022-11-26T10:15:23.908Z"
   }
  ],
  "kernelspec": {
   "display_name": "Python 3 (ipykernel)",
   "language": "python",
   "name": "python3"
  },
  "language_info": {
   "codemirror_mode": {
    "name": "ipython",
    "version": 3
   },
   "file_extension": ".py",
   "mimetype": "text/x-python",
   "name": "python",
   "nbconvert_exporter": "python",
   "pygments_lexer": "ipython3",
   "version": "3.9.5"
  },
  "toc": {
   "base_numbering": 1,
   "nav_menu": {},
   "number_sections": true,
   "sideBar": true,
   "skip_h1_title": true,
   "title_cell": "Table of Contents",
   "title_sidebar": "Contents",
   "toc_cell": false,
   "toc_position": {
    "height": "calc(100% - 180px)",
    "left": "10px",
    "top": "150px",
    "width": "165px"
   },
   "toc_section_display": true,
   "toc_window_display": true
  }
 },
 "nbformat": 4,
 "nbformat_minor": 2
}
